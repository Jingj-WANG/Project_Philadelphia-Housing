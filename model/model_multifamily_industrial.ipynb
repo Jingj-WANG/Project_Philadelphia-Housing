{
 "cells": [
  {
   "cell_type": "code",
   "execution_count": 72,
   "metadata": {},
   "outputs": [],
   "source": [
    "# import packages\n",
    "import pandas as pd\n",
    "import numpy as np\n",
    "import matplotlib.pyplot as plt\n",
    "import seaborn as sns\n",
    "\n",
    "from sklearn.linear_model import LinearRegression\n",
    "from sklearn.linear_model import Lasso\n",
    "from sklearn.linear_model import Ridge\n",
    "from sklearn.neighbors import KNeighborsRegressor\n",
    "from sklearn.ensemble import RandomForestRegressor\n",
    "from sklearn.neural_network import MLPRegressor\n",
    "\n",
    "from sklearn.model_selection import PredefinedSplit, RandomizedSearchCV\n",
    "from sklearn.metrics import r2_score, mean_squared_error\n",
    "\n",
    "from scipy.stats import loguniform as sp_loguniform\n",
    "from scipy.stats import randint as sp_randint\n",
    "from scipy.stats import uniform as sp_uniform\n",
    "from sklearn.model_selection import StratifiedKFold\n",
    "import xgboost as xgb\n",
    "\n",
    "import statsmodels.api as sm\n",
    "import statsmodels.formula.api as smf\n",
    "\n",
    "import warnings\n",
    "warnings.filterwarnings('ignore')"
   ]
  },
  {
   "cell_type": "markdown",
   "metadata": {},
   "source": [
    "Load the Training, Validation, and Test datasets for:   \n",
    "\n",
    "1. Multi - family Homes  \n",
    "2. Industrial Type properties   \n",
    "   "
   ]
  },
  {
   "cell_type": "code",
   "execution_count": 8,
   "metadata": {},
   "outputs": [],
   "source": [
    "#MULTIFAMILY get training, validation and test data\n",
    "X_train_mf = pd.read_csv('../processing/X_train_mf.csv')\n",
    "X_train_mf.index = X_train_mf['Unnamed: 0']\n",
    "X_train_mf = X_train_mf.drop(['Unnamed: 0'], axis=1)\n",
    "\n",
    "X_val_mf = pd.read_csv('../processing/X_val_mf.csv')\n",
    "X_val_mf.index = X_val_mf['Unnamed: 0']\n",
    "X_val_mf = X_val_mf.drop(['Unnamed: 0'], axis=1)\n",
    "\n",
    "X_test_mf = pd.read_csv('../processing/X_test_mf.csv')\n",
    "X_test_mf.index = X_test_mf['Unnamed: 0']\n",
    "X_test_mf = X_test_mf.drop(['Unnamed: 0'], axis=1)\n",
    "\n",
    "y_train_mf = pd.read_csv('../processing/y_train_mf.csv')\n",
    "y_train_mf.index = y_train_mf['Unnamed: 0']\n",
    "y_train_mf = y_train_mf.drop(['Unnamed: 0'], axis=1)\n",
    "\n",
    "y_val_mf = pd.read_csv('../processing/y_val_mf.csv')\n",
    "y_val_mf.index = y_val_mf['Unnamed: 0']\n",
    "y_val_mf = y_val_mf.drop(['Unnamed: 0'], axis=1)\n",
    "\n",
    "y_test_mf = pd.read_csv('../processing/y_test_mf.csv')\n",
    "y_test_mf.index = y_test_mf['Unnamed: 0']\n",
    "y_test_mf = y_test_mf.drop(['Unnamed: 0'], axis=1)"
   ]
  },
  {
   "cell_type": "code",
   "execution_count": 3,
   "metadata": {},
   "outputs": [],
   "source": [
    "#INDUSTRIAL get training, validation and test data\n",
    "X_train_id = pd.read_csv('../processing/X_train_id.csv')\n",
    "X_train_id.index = X_train_id['Unnamed: 0']\n",
    "X_train_id = X_train_id.drop(['Unnamed: 0'], axis=1)\n",
    "\n",
    "X_val_id = pd.read_csv('../processing/X_val_id.csv')\n",
    "X_val_id.index = X_val_id['Unnamed: 0']\n",
    "X_val_id = X_val_id.drop(['Unnamed: 0'], axis=1)\n",
    "\n",
    "X_test_id = pd.read_csv('../processing/X_test_id.csv')\n",
    "X_test_id.index = X_test_id['Unnamed: 0']\n",
    "X_test_id = X_test_id.drop(['Unnamed: 0'], axis=1)\n",
    "\n",
    "y_train_id = pd.read_csv('../processing/y_train_id.csv')\n",
    "y_train_id.index = y_train_id['Unnamed: 0']\n",
    "y_train_id = y_train_id.drop(['Unnamed: 0'], axis=1)\n",
    "\n",
    "y_val_id = pd.read_csv('../processing/y_val_id.csv')\n",
    "y_val_id.index = y_val_id['Unnamed: 0']\n",
    "y_val_id = y_val_id.drop(['Unnamed: 0'], axis=1)\n",
    "\n",
    "y_test_id = pd.read_csv('../processing/y_test_id.csv')\n",
    "y_test_id.index = y_test_id['Unnamed: 0']\n",
    "y_test_id = y_test_id.drop(['Unnamed: 0'], axis=1)"
   ]
  },
  {
   "cell_type": "markdown",
   "metadata": {},
   "source": [
    "Create a predefined training plus validation dataset  "
   ]
  },
  {
   "cell_type": "code",
   "execution_count": 9,
   "metadata": {},
   "outputs": [],
   "source": [
    "#Multifamily\n",
    "y_train_plus_val_mf = pd.concat([y_train_mf, y_val_mf])\n",
    "y_train_plus_val_mf_copy = y_train_plus_val_mf.copy()\n",
    "y_train_plus_val_mf_copy.columns = ['train_val_split']\n",
    "y_train_plus_val_mf_copy.loc[y_train_mf.index,'train_val_split'] = -1\n",
    "y_train_plus_val_mf_copy.loc[y_val_mf.index,'train_val_split'] = 0\n",
    "val_fold_mf = np.array(y_train_plus_val_mf_copy)\n",
    "ps_mf = PredefinedSplit(val_fold_mf)\n",
    "\n",
    "# Multifamily training plus validation set\n",
    "X_train_plus_val_mf = pd.concat([X_train_mf, X_val_mf])"
   ]
  },
  {
   "cell_type": "code",
   "execution_count": 55,
   "metadata": {},
   "outputs": [],
   "source": [
    "#Industrial\n",
    "y_train_plus_val_id = pd.concat([y_train_id, y_val_id])\n",
    "y_train_plus_val_id_copy = y_train_plus_val_id.copy()\n",
    "y_train_plus_val_id_copy.columns = ['train_val_split']\n",
    "y_train_plus_val_id_copy.loc[y_train_id.index,'train_val_split'] = -1\n",
    "y_train_plus_val_id_copy.loc[y_val_id.index,'train_val_split'] = 0\n",
    "val_fold_id = np.array(y_train_plus_val_id_copy)\n",
    "ps_id = PredefinedSplit(val_fold_id)\n",
    "\n",
    "# Industrial\n",
    "X_train_plus_val_id = pd.concat([X_train_id, X_val_id])"
   ]
  },
  {
   "cell_type": "markdown",
   "metadata": {},
   "source": [
    "# Multi - Family Home Modeling"
   ]
  },
  {
   "cell_type": "markdown",
   "metadata": {},
   "source": [
    "## Linear Regression"
   ]
  },
  {
   "cell_type": "code",
   "execution_count": 10,
   "metadata": {},
   "outputs": [
    {
     "data": {
      "text/plain": [
       "5414.851988058862"
      ]
     },
     "execution_count": 10,
     "metadata": {},
     "output_type": "execute_result"
    }
   ],
   "source": [
    "lr = LinearRegression().fit(X_train_mf,y_train_mf)\n",
    "lr.score(X_train_mf,y_train_mf)\n",
    "mean_squared_error(y_test_mf, lr.predict(X_test_mf),squared=False)"
   ]
  },
  {
   "cell_type": "markdown",
   "metadata": {},
   "source": [
    "## Linear regression with RandomSearch "
   ]
  },
  {
   "cell_type": "code",
   "execution_count": 31,
   "metadata": {},
   "outputs": [
    {
     "name": "stdout",
     "output_type": "stream",
     "text": [
      "{'normalize': True, 'fit_intercept': False}\n",
      "LinearRegression(fit_intercept=False, normalize=True)\n",
      "MULTIFAMILY Linear min RMSE is: 11493975458447.715\n"
     ]
    }
   ],
   "source": [
    "# random search for linear regression\n",
    "param_lr_mf = {'fit_intercept': [True,False],\n",
    "               'normalize':[True,False]}\n",
    "\n",
    "lr_cv_mf = RandomizedSearchCV(\n",
    "           LinearRegression(),\n",
    "           param_distributions=param_lr_mf,\n",
    "           n_iter=20,\n",
    "           cv=ps_mf,\n",
    "           scoring='neg_root_mean_squared_error', \n",
    "           n_jobs=-1,\n",
    "           random_state=123\n",
    ").fit(X_train_plus_val_mf, np.array(y_train_plus_val_mf).ravel())\n",
    "\n",
    "# find best model hyperparameters \n",
    "print(lr_cv_mf.best_params_)\n",
    "print(lr_cv_mf.best_estimator_)\n",
    "print('MULTIFAMILY Linear min RMSE is: {}'.format(-lr_cv_mf.best_score_))"
   ]
  },
  {
   "cell_type": "code",
   "execution_count": 38,
   "metadata": {},
   "outputs": [
    {
     "name": "stdout",
     "output_type": "stream",
     "text": [
      "0.21042001646250008\n"
     ]
    }
   ],
   "source": [
    "lr_r2_mf = r2_score(y_train_plus_val_mf, \n",
    "                    lr_cv_mf.best_estimator_.predict(X_train_plus_val_mf))\n",
    "print(lr_r2_mf)"
   ]
  },
  {
   "cell_type": "markdown",
   "metadata": {},
   "source": [
    "## LASSO regression "
   ]
  },
  {
   "cell_type": "code",
   "execution_count": 30,
   "metadata": {},
   "outputs": [
    {
     "name": "stdout",
     "output_type": "stream",
     "text": [
      "{'alpha': 69.64701855978616, 'fit_intercept': True, 'normalize': True}\n",
      "Lasso(alpha=69.64701855978616, normalize=True)\n",
      "MULTI FAMILY LASSO min RMSE is: 587.1247692629556\n"
     ]
    }
   ],
   "source": [
    "# random search for lasso\n",
    "param_la_mf = {'alpha': sp_uniform(1e-4,1e2),\n",
    "            'fit_intercept':[True,False],\n",
    "            'normalize':[True,False]}\n",
    "\n",
    "la_cv_mf = RandomizedSearchCV(\n",
    "        Lasso(),\n",
    "        param_distributions=param_la_mf,\n",
    "        n_iter=10,\n",
    "        cv=ps_mf,\n",
    "        scoring='neg_root_mean_squared_error', \n",
    "        n_jobs=-1,\n",
    "        random_state=123\n",
    ").fit(X_train_plus_val_mf, np.array(y_train_plus_val_mf).ravel())\n",
    "\n",
    "# find best model hyperparameters \n",
    "print(la_cv_mf.best_params_)\n",
    "print(la_cv_mf.best_estimator_)\n",
    "print('MULTI FAMILY LASSO min RMSE is: {}'.format(-la_cv_mf.best_score_))"
   ]
  },
  {
   "cell_type": "code",
   "execution_count": 39,
   "metadata": {
    "scrolled": true
   },
   "outputs": [
    {
     "name": "stdout",
     "output_type": "stream",
     "text": [
      "0.0\n"
     ]
    }
   ],
   "source": [
    "la_r2 = r2_score(y_train_plus_val_mf, \n",
    "                 la_cv_mf.best_estimator_.predict(X_train_plus_val_mf))\n",
    "print(la_r2)"
   ]
  },
  {
   "cell_type": "markdown",
   "metadata": {},
   "source": [
    "## Ridge Regression  "
   ]
  },
  {
   "cell_type": "code",
   "execution_count": 29,
   "metadata": {},
   "outputs": [
    {
     "name": "stdout",
     "output_type": "stream",
     "text": [
      "{'alpha': 1.5094374246471327, 'fit_intercept': True, 'normalize': True}\n",
      "Ridge(alpha=1.5094374246471327, normalize=True)\n",
      "MULTIFAMILY RIDGE min RMSE is: 1655.6082440221574\n"
     ]
    }
   ],
   "source": [
    "# random search for ridge\n",
    "param_rd = {'alpha': sp_loguniform(1e-4,1e2),\n",
    "            'fit_intercept':[True,False],\n",
    "            'normalize':[True,False]}\n",
    "\n",
    "rd_cv = RandomizedSearchCV(\n",
    "        Ridge(),\n",
    "        param_distributions=param_rd,\n",
    "        n_iter=10,\n",
    "        cv=ps_mf,\n",
    "        scoring='neg_root_mean_squared_error', \n",
    "        n_jobs=-1,\n",
    "        random_state=123\n",
    ").fit(X_train_plus_val_mf, np.array(y_train_plus_val_mf).ravel())\n",
    "\n",
    "# Find best model hyperparameters \n",
    "print(rd_cv.best_params_)\n",
    "print(rd_cv.best_estimator_)\n",
    "print('MULTIFAMILY RIDGE min RMSE is: {}'.format(-rd_cv.best_score_))"
   ]
  },
  {
   "cell_type": "code",
   "execution_count": 40,
   "metadata": {
    "scrolled": true
   },
   "outputs": [
    {
     "name": "stdout",
     "output_type": "stream",
     "text": [
      "0.15085012723399194\n"
     ]
    }
   ],
   "source": [
    "rd_r2 = r2_score(y_train_plus_val_mf, \n",
    "                 rd_cv.best_estimator_.predict(X_train_plus_val_mf))\n",
    "print(rd_r2)"
   ]
  },
  {
   "cell_type": "markdown",
   "metadata": {},
   "source": [
    "## KNN  Regressor "
   ]
  },
  {
   "cell_type": "code",
   "execution_count": 32,
   "metadata": {},
   "outputs": [
    {
     "name": "stdout",
     "output_type": "stream",
     "text": [
      "{'leaf_size': 3, 'n_neighbors': 7, 'weights': 'distance'}\n",
      "KNeighborsRegressor(leaf_size=3, n_neighbors=7, weights='distance')\n",
      "MULTIFAMILY KNN min RMSE is: 410.45699249138124\n"
     ]
    }
   ],
   "source": [
    "# random search for KNeighborsRegressor\n",
    "param_knn = {'n_neighbors': sp_randint(1,21),\n",
    "             'weights': ['uniform', 'distance'],\n",
    "             'leaf_size': sp_randint(1,21)}\n",
    "\n",
    "knn_cv = RandomizedSearchCV(\n",
    "         KNeighborsRegressor(),\n",
    "         param_distributions=param_knn,\n",
    "         n_iter=10,\n",
    "         cv=ps_mf,\n",
    "         scoring='neg_root_mean_squared_error', \n",
    "         n_jobs=-1,\n",
    "         random_state=123\n",
    ").fit(X_train_plus_val_mf, np.array(y_train_plus_val_mf).ravel())\n",
    "\n",
    "# find best model hyperparameters \n",
    "print(knn_cv.best_params_)\n",
    "print(knn_cv.best_estimator_)\n",
    "print('MULTIFAMILY KNN min RMSE is: {}'.format(-knn_cv.best_score_))"
   ]
  },
  {
   "cell_type": "code",
   "execution_count": 41,
   "metadata": {},
   "outputs": [
    {
     "name": "stdout",
     "output_type": "stream",
     "text": [
      "1.0\n"
     ]
    }
   ],
   "source": [
    "knn_r2 = knn_cv.best_estimator_.score(X_train_plus_val_mf,\n",
    "                                      y_train_plus_val_mf)\n",
    "print(knn_r2)"
   ]
  },
  {
   "cell_type": "markdown",
   "metadata": {},
   "source": [
    "## Random Forest  "
   ]
  },
  {
   "cell_type": "code",
   "execution_count": 34,
   "metadata": {},
   "outputs": [
    {
     "name": "stdout",
     "output_type": "stream",
     "text": [
      "{'n_estimators': 800, 'min_samples_split': 2, 'min_samples_leaf': 5, 'max_features': 'auto', 'max_depth': None}\n",
      "RandomForestRegressor(min_samples_leaf=5, n_estimators=800)\n",
      "RF MULTIFAMILY min RMSE is: 367.1724158866464\n"
     ]
    }
   ],
   "source": [
    "# random search for RandomForestRegressor\n",
    "param_rf = {'n_estimators': [100, 120, 200, 300, 500, 800, 1200],\n",
    "            'max_depth': [None, 5, 8, 15, 25, 30],\n",
    "            'min_samples_split': [1, 2, 5, 10 ,15, 100],\n",
    "            'min_samples_leaf': [1, 2, 5, 10],\n",
    "            'max_features': ['auto', 'sqrt', 'log2']}\n",
    "\n",
    "rf_cv = RandomizedSearchCV(\n",
    "        RandomForestRegressor(),\n",
    "        param_distributions=param_rf,\n",
    "        n_iter=10,\n",
    "        cv=ps_mf,\n",
    "        scoring='neg_root_mean_squared_error', \n",
    "        n_jobs=-1,\n",
    "        random_state=123\n",
    ").fit(X_train_plus_val_mf, np.array(y_train_plus_val_mf).ravel())\n",
    "\n",
    "# find best model hyperparameters \n",
    "print(rf_cv.best_params_)\n",
    "print(rf_cv.best_estimator_)\n",
    "print('RF MULTIFAMILY min RMSE is: {}'.format(-rf_cv.best_score_))"
   ]
  },
  {
   "cell_type": "code",
   "execution_count": 42,
   "metadata": {},
   "outputs": [
    {
     "name": "stdout",
     "output_type": "stream",
     "text": [
      "0.8260040239921591\n"
     ]
    }
   ],
   "source": [
    "rf_r2 = r2_score(y_train_plus_val_mf, \n",
    "                 rf_cv.best_estimator_.predict(X_train_plus_val_mf))\n",
    "print(rf_r2)"
   ]
  },
  {
   "cell_type": "markdown",
   "metadata": {},
   "source": [
    "## MLP Regressor  "
   ]
  },
  {
   "cell_type": "code",
   "execution_count": 36,
   "metadata": {},
   "outputs": [
    {
     "name": "stdout",
     "output_type": "stream",
     "text": [
      "{'alpha': 2.1610275095525036, 'batch_size': 5, 'hidden_layer_sizes': 2, 'learning_rate_init': 0.005784745785308777}\n",
      "MLPRegressor(alpha=2.1610275095525036, batch_size=5, hidden_layer_sizes=2,\n",
      "             learning_rate_init=0.005784745785308777)\n",
      "MLPRegressor MULTIFAMILY min RMSE is: 477.14378094561096\n"
     ]
    }
   ],
   "source": [
    "# random search for MLPRegressor\n",
    "hl = []\n",
    "for i in [1, 2, 3, 4, 5, 10, 15, 25, 30]:\n",
    "    hl.append((i))\n",
    "    hl.append((i,i))\n",
    "\n",
    "param_mlp = {'hidden_layer_sizes': hl,\n",
    "             'learning_rate_init': sp_loguniform(1e-4, 1e2),\n",
    "             'alpha': sp_loguniform(1e-4, 1e2),\n",
    "             'batch_size': [1, 5, 10, 25, 100, 500]}\n",
    "\n",
    "mlp_cv = RandomizedSearchCV(\n",
    "         MLPRegressor(),\n",
    "         param_distributions=param_mlp,\n",
    "         n_iter=10,\n",
    "         cv=ps_mf,\n",
    "         scoring='neg_root_mean_squared_error', \n",
    "         n_jobs=-1,\n",
    "         random_state=123\n",
    ").fit(X_train_plus_val_mf, np.array(y_train_plus_val_mf).ravel())\n",
    "\n",
    "# find best model hyperparameters \n",
    "print(mlp_cv.best_params_)\n",
    "print(mlp_cv.best_estimator_)\n",
    "print('MLPRegressor MULTIFAMILY min RMSE is: {}'.format(-mlp_cv.best_score_))"
   ]
  },
  {
   "cell_type": "code",
   "execution_count": 43,
   "metadata": {
    "scrolled": true
   },
   "outputs": [
    {
     "name": "stdout",
     "output_type": "stream",
     "text": [
      "0.30809743995068795\n"
     ]
    }
   ],
   "source": [
    "mlp_r2 = r2_score(y_train_plus_val_mf, \n",
    "                  mlp_cv.best_estimator_.predict(X_train_plus_val_mf))\n",
    "print(mlp_r2)"
   ]
  },
  {
   "cell_type": "markdown",
   "metadata": {},
   "source": [
    "## XGBoost  "
   ]
  },
  {
   "cell_type": "code",
   "execution_count": 74,
   "metadata": {},
   "outputs": [],
   "source": [
    "xgparams = {\n",
    "    'max_depth': [3, 6, 9],\n",
    "    'min_child_weight': [1, 10, 100]\n",
    "    }\n",
    "\n",
    "# Set up the random search with cross validation\n",
    "random_cv = RandomizedSearchCV(\n",
    "            estimator=xgb.XGBRegressor(nthread=-1),\n",
    "            param_distributions=xgparams,\n",
    "            cv=ps_mf,\n",
    "            n_iter=10,      \n",
    "            random_state= 123, \n",
    "    scoring='neg_mean_squared_error').fit(X_train_plus_val_mf,  np.array(y_train_plus_val_mf).ravel())"
   ]
  },
  {
   "cell_type": "code",
   "execution_count": 75,
   "metadata": {},
   "outputs": [
    {
     "name": "stdout",
     "output_type": "stream",
     "text": [
      "{'min_child_weight': 1, 'max_depth': 9}\n",
      "XGBRegressor(base_score=0.5, booster='gbtree', colsample_bylevel=1,\n",
      "             colsample_bynode=1, colsample_bytree=1, gamma=0, gpu_id=-1,\n",
      "             importance_type='gain', interaction_constraints='',\n",
      "             learning_rate=0.300000012, max_delta_step=0, max_depth=9,\n",
      "             min_child_weight=1, missing=nan, monotone_constraints='()',\n",
      "             n_estimators=100, n_jobs=-1, nthread=-1, num_parallel_tree=1,\n",
      "             random_state=0, reg_alpha=0, reg_lambda=1, scale_pos_weight=1,\n",
      "             subsample=1, tree_method='exact', validate_parameters=1,\n",
      "             verbosity=None)\n",
      "XGBoost MULTIFAMILY min RMSE is: 112775.91881990741\n",
      "0.9953197432865762\n"
     ]
    }
   ],
   "source": [
    "# find best model hyperparameters \n",
    "print(random_cv.best_params_)\n",
    "print(random_cv.best_estimator_)\n",
    "print('XGBoost MULTIFAMILY min RMSE is: {}'.format(-random_cv.best_score_))\n",
    "xg_r2 = r2_score(y_train_plus_val_mf, \n",
    "                  random_cv.best_estimator_.predict(X_train_plus_val_mf))\n",
    "print(xg_r2)"
   ]
  },
  {
   "cell_type": "markdown",
   "metadata": {},
   "source": [
    "\n",
    "# 'Industrial' Modeling\n",
    "\n",
    "We perform the same model fitting process for the \"Industrial\" Property Type.   \n",
    "Note however that the training set has 1002 rows, validation set has 251 rows, and the test set has 128 rows.  \n",
    "Since the data is sparse for the \"Industrial\" property type, we will use a K-fold cross validation where k = 3.  "
   ]
  },
  {
   "cell_type": "markdown",
   "metadata": {},
   "source": [
    "## Industrial: Linear Regression "
   ]
  },
  {
   "cell_type": "code",
   "execution_count": 53,
   "metadata": {},
   "outputs": [
    {
     "data": {
      "text/plain": [
       "1210.0662507998659"
      ]
     },
     "execution_count": 53,
     "metadata": {},
     "output_type": "execute_result"
    }
   ],
   "source": [
    "lr_id = LinearRegression().fit(X_train_id, y_train_id)\n",
    "lr_id.score(X_train_id, y_train_id)\n",
    "mean_squared_error(y_test_id, lr_id.predict(X_test_id),squared=False)"
   ]
  },
  {
   "cell_type": "markdown",
   "metadata": {},
   "source": [
    "## Industrial: Linear Regression with RandomSearch  "
   ]
  },
  {
   "cell_type": "code",
   "execution_count": 67,
   "metadata": {},
   "outputs": [
    {
     "name": "stdout",
     "output_type": "stream",
     "text": [
      "{'normalize': True, 'fit_intercept': False}\n",
      "LinearRegression(fit_intercept=False, normalize=True)\n",
      "INDUSTRIAL Linear min RMSE is: 99659602926215.62\n"
     ]
    }
   ],
   "source": [
    "# random search for linear regression\n",
    "param_lr_id = {'fit_intercept': [True,False],\n",
    "               'normalize':[True,False]}\n",
    "\n",
    "lr_cv_id = RandomizedSearchCV(\n",
    "           LinearRegression(),\n",
    "           param_distributions=param_lr_id,\n",
    "           n_iter=20,\n",
    "           cv=3,\n",
    "           scoring='neg_root_mean_squared_error', \n",
    "           n_jobs=-1,\n",
    "           random_state=123\n",
    ").fit(X_train_plus_val_id, np.array(y_train_plus_val_id).ravel())\n",
    "\n",
    "# find best model hyperparameters \n",
    "print(lr_cv_id.best_params_)\n",
    "print(lr_cv_id.best_estimator_)\n",
    "print('INDUSTRIAL Linear min RMSE is: {}'.format(-lr_cv_id.best_score_))"
   ]
  },
  {
   "cell_type": "code",
   "execution_count": 58,
   "metadata": {},
   "outputs": [
    {
     "name": "stdout",
     "output_type": "stream",
     "text": [
      "0.46799377626407235\n"
     ]
    }
   ],
   "source": [
    "lr_r2_id = r2_score(y_train_plus_val_id, \n",
    "                    lr_cv_id.best_estimator_.predict(X_train_plus_val_id))\n",
    "print(lr_r2_id)"
   ]
  },
  {
   "cell_type": "markdown",
   "metadata": {},
   "source": [
    "## Industrial: LASSO"
   ]
  },
  {
   "cell_type": "code",
   "execution_count": 66,
   "metadata": {},
   "outputs": [
    {
     "name": "stdout",
     "output_type": "stream",
     "text": [
      "{'alpha': 22.68524535642031, 'fit_intercept': True, 'normalize': False}\n",
      "Lasso(alpha=22.68524535642031)\n",
      "INDUSTRIAL LASSO min RMSE is: 734.3963170575006\n"
     ]
    }
   ],
   "source": [
    "# random search for lasso\n",
    "param_la_id = {'alpha': sp_uniform(1e-4,1e2),\n",
    "            'fit_intercept':[True,False],\n",
    "            'normalize':[True,False]}\n",
    "\n",
    "la_cv_id = RandomizedSearchCV(\n",
    "        Lasso(),\n",
    "        param_distributions=param_la_id,\n",
    "        n_iter=10,\n",
    "        cv=3,\n",
    "        scoring='neg_root_mean_squared_error', \n",
    "        n_jobs=-1,\n",
    "        random_state=123\n",
    ").fit(X_train_plus_val_id, np.array(y_train_plus_val_id).ravel())\n",
    "\n",
    "# find best model hyperparameters \n",
    "print(la_cv_id.best_params_)\n",
    "print(la_cv_id.best_estimator_)\n",
    "print('INDUSTRIAL LASSO min RMSE is: {}'.format(-la_cv_id.best_score_))"
   ]
  },
  {
   "cell_type": "code",
   "execution_count": 60,
   "metadata": {},
   "outputs": [
    {
     "name": "stdout",
     "output_type": "stream",
     "text": [
      "0.40048410902029197\n"
     ]
    }
   ],
   "source": [
    "la_r2_id = r2_score(y_train_plus_val_id, \n",
    "                 la_cv_id.best_estimator_.predict(X_train_plus_val_id))\n",
    "print(la_r2_id)"
   ]
  },
  {
   "cell_type": "markdown",
   "metadata": {},
   "source": [
    "## Industrial: Ridge  "
   ]
  },
  {
   "cell_type": "code",
   "execution_count": 65,
   "metadata": {},
   "outputs": [
    {
     "name": "stdout",
     "output_type": "stream",
     "text": [
      "{'alpha': 2.074024196289186, 'fit_intercept': False, 'normalize': False}\n",
      "Ridge(alpha=2.074024196289186, fit_intercept=False)\n",
      "INDUSTRIAL RIDGE min RMSE is: 715.6038223254658\n"
     ]
    }
   ],
   "source": [
    "# random search for ridge\n",
    "param_id = {'alpha': sp_loguniform(1e-4,1e2),\n",
    "            'fit_intercept':[True,False],\n",
    "            'normalize':[True,False]}\n",
    "\n",
    "rd_cv_id = RandomizedSearchCV(\n",
    "        Ridge(),\n",
    "        param_distributions=param_id,\n",
    "        n_iter=10,\n",
    "        cv= 3,\n",
    "        scoring='neg_root_mean_squared_error', \n",
    "        n_jobs=-1,\n",
    "        random_state=123\n",
    ").fit(X_train_plus_val_id, np.array(y_train_plus_val_id).ravel())\n",
    "\n",
    "# Find best model hyperparameters \n",
    "print(rd_cv_id.best_params_)\n",
    "print(rd_cv_id.best_estimator_)\n",
    "print('INDUSTRIAL RIDGE min RMSE is: {}'.format(-rd_cv_id.best_score_))"
   ]
  },
  {
   "cell_type": "code",
   "execution_count": 62,
   "metadata": {},
   "outputs": [
    {
     "name": "stdout",
     "output_type": "stream",
     "text": [
      "0.15085012723399194\n"
     ]
    }
   ],
   "source": [
    "rd_r2_id = r2_score(y_train_plus_val_id, \n",
    "                 rd_cv_id.best_estimator_.predict(X_train_plus_val_id))\n",
    "print(rd_r2)"
   ]
  },
  {
   "cell_type": "markdown",
   "metadata": {},
   "source": [
    "## Industrial: KNN "
   ]
  },
  {
   "cell_type": "code",
   "execution_count": 63,
   "metadata": {},
   "outputs": [
    {
     "name": "stdout",
     "output_type": "stream",
     "text": [
      "{'leaf_size': 3, 'n_neighbors': 7, 'weights': 'distance'}\n",
      "KNeighborsRegressor(leaf_size=3, n_neighbors=7, weights='distance')\n",
      "INDUSTRIAL KNN min RMSE is: 713.66993870114\n"
     ]
    }
   ],
   "source": [
    "# random search for KNeighborsRegressor\n",
    "param_knn_id = {'n_neighbors': sp_randint(1,21),\n",
    "             'weights': ['uniform', 'distance'],\n",
    "             'leaf_size': sp_randint(1,21)}\n",
    "\n",
    "knn_cv_id = RandomizedSearchCV(\n",
    "         KNeighborsRegressor(),\n",
    "         param_distributions=param_knn_id,\n",
    "         n_iter=10,\n",
    "         cv= 3,\n",
    "         scoring='neg_root_mean_squared_error', \n",
    "         n_jobs=-1,\n",
    "         random_state=123\n",
    ").fit(X_train_plus_val_id, np.array(y_train_plus_val_id).ravel())\n",
    "\n",
    "# find best model hyperparameters \n",
    "print(knn_cv_id.best_params_)\n",
    "print(knn_cv_id.best_estimator_)\n",
    "print('INDUSTRIAL KNN min RMSE is: {}'.format(-knn_cv_id.best_score_))"
   ]
  },
  {
   "cell_type": "code",
   "execution_count": 64,
   "metadata": {},
   "outputs": [
    {
     "name": "stdout",
     "output_type": "stream",
     "text": [
      "1.0\n"
     ]
    }
   ],
   "source": [
    "knn_r2_id = knn_cv_id.best_estimator_.score(X_train_plus_val_id,\n",
    "                                      y_train_plus_val_id)\n",
    "print(knn_r2_id)"
   ]
  },
  {
   "cell_type": "markdown",
   "metadata": {},
   "source": [
    "## Industrial: Random Forest  "
   ]
  },
  {
   "cell_type": "code",
   "execution_count": 68,
   "metadata": {},
   "outputs": [
    {
     "name": "stdout",
     "output_type": "stream",
     "text": [
      "{'n_estimators': 800, 'min_samples_split': 2, 'min_samples_leaf': 5, 'max_features': 'auto', 'max_depth': None}\n",
      "RandomForestRegressor(min_samples_leaf=5, n_estimators=800)\n",
      "RF MULTIFAMILY min RMSE is: 641.7616705564853\n"
     ]
    }
   ],
   "source": [
    "# random search for RandomForestRegressor\n",
    "param_rf_id = {'n_estimators': [100, 120, 200, 300, 500, 800, 1200],\n",
    "            'max_depth': [None, 5, 8, 15, 25, 30],\n",
    "            'min_samples_split': [1, 2, 5, 10 ,15, 100],\n",
    "            'min_samples_leaf': [1, 2, 5, 10],\n",
    "            'max_features': ['auto', 'sqrt', 'log2']}\n",
    "\n",
    "rf_cv_id = RandomizedSearchCV(\n",
    "        RandomForestRegressor(),\n",
    "        param_distributions=param_rf_id,\n",
    "        n_iter=10,\n",
    "        cv= 3,\n",
    "        scoring='neg_root_mean_squared_error', \n",
    "        n_jobs=-1,\n",
    "        random_state=123\n",
    ").fit(X_train_plus_val_id, np.array(y_train_plus_val_id).ravel())\n",
    "\n",
    "# find best model hyperparameters \n",
    "print(rf_cv_id.best_params_)\n",
    "print(rf_cv_id.best_estimator_)\n",
    "print('RF MULTIFAMILY min RMSE is: {}'.format(-rf_cv_id.best_score_))"
   ]
  },
  {
   "cell_type": "code",
   "execution_count": 69,
   "metadata": {},
   "outputs": [
    {
     "name": "stdout",
     "output_type": "stream",
     "text": [
      "0.8042309862546281\n"
     ]
    }
   ],
   "source": [
    "rf_r2_id = r2_score(y_train_plus_val_id, \n",
    "                 rf_cv_id.best_estimator_.predict(X_train_plus_val_id))\n",
    "print(rf_r2_id)"
   ]
  },
  {
   "cell_type": "markdown",
   "metadata": {},
   "source": [
    "## Industrial: MLP Regressor  "
   ]
  },
  {
   "cell_type": "code",
   "execution_count": 70,
   "metadata": {},
   "outputs": [
    {
     "name": "stdout",
     "output_type": "stream",
     "text": [
      "{'alpha': 0.02444924947328454, 'batch_size': 100, 'hidden_layer_sizes': (30, 30), 'learning_rate_init': 0.0012443724365791028}\n",
      "MLPRegressor(alpha=0.02444924947328454, batch_size=100,\n",
      "             hidden_layer_sizes=(30, 30),\n",
      "             learning_rate_init=0.0012443724365791028)\n",
      "MLPRegressor INDUSTRIAL min RMSE is: 698.7729699890768\n"
     ]
    }
   ],
   "source": [
    "# random search for MLPRegressor\n",
    "hl = []\n",
    "for i in [1, 2, 3, 4, 5, 10, 15, 25, 30]:\n",
    "    hl.append((i))\n",
    "    hl.append((i,i))\n",
    "\n",
    "param_mlp_id = {'hidden_layer_sizes': hl,\n",
    "             'learning_rate_init': sp_loguniform(1e-4, 1e2),\n",
    "             'alpha': sp_loguniform(1e-4, 1e2),\n",
    "             'batch_size': [1, 5, 10, 25, 100, 500]}\n",
    "\n",
    "mlp_cv_id = RandomizedSearchCV(\n",
    "         MLPRegressor(),\n",
    "         param_distributions=param_mlp_id,\n",
    "         n_iter=10,\n",
    "         cv= 3,\n",
    "         scoring='neg_root_mean_squared_error', \n",
    "         n_jobs=-1,\n",
    "         random_state=123\n",
    ").fit(X_train_plus_val_id, np.array(y_train_plus_val_id).ravel())\n",
    "\n",
    "# find best model hyperparameters \n",
    "print(mlp_cv_id.best_params_)\n",
    "print(mlp_cv_id.best_estimator_)\n",
    "print('MLPRegressor INDUSTRIAL min RMSE is: {}'.format(-mlp_cv_id.best_score_))"
   ]
  },
  {
   "cell_type": "code",
   "execution_count": 71,
   "metadata": {},
   "outputs": [
    {
     "name": "stdout",
     "output_type": "stream",
     "text": [
      "0.5280989761105339\n"
     ]
    }
   ],
   "source": [
    "mlp_r2_id = r2_score(y_train_plus_val_id, \n",
    "                  mlp_cv_id.best_estimator_.predict(X_train_plus_val_id))\n",
    "print(mlp_r2_id)"
   ]
  },
  {
   "cell_type": "markdown",
   "metadata": {},
   "source": [
    "## Industrial: XGBoost  "
   ]
  },
  {
   "cell_type": "code",
   "execution_count": 76,
   "metadata": {},
   "outputs": [],
   "source": [
    "xgparams_id = {\n",
    "    'max_depth': [3, 6, 9],\n",
    "    'min_child_weight': [1, 10, 100]\n",
    "    }\n",
    "\n",
    "# Set up the random search with cross validation\n",
    "xgb_cv_id = RandomizedSearchCV(\n",
    "            estimator=xgb.XGBRegressor(nthread=-1),\n",
    "            param_distributions=xgparams,\n",
    "            cv=3,\n",
    "            n_iter=10,      \n",
    "            random_state= 123, \n",
    "    scoring='neg_mean_squared_error').fit(X_train_plus_val_id,  np.array(y_train_plus_val_id).ravel())"
   ]
  },
  {
   "cell_type": "code",
   "execution_count": 78,
   "metadata": {},
   "outputs": [
    {
     "name": "stdout",
     "output_type": "stream",
     "text": [
      "{'min_child_weight': 100, 'max_depth': 6}\n",
      "XGBRegressor(base_score=0.5, booster='gbtree', colsample_bylevel=1,\n",
      "             colsample_bynode=1, colsample_bytree=1, gamma=0, gpu_id=-1,\n",
      "             importance_type='gain', interaction_constraints='',\n",
      "             learning_rate=0.300000012, max_delta_step=0, max_depth=6,\n",
      "             min_child_weight=100, missing=nan, monotone_constraints='()',\n",
      "             n_estimators=100, n_jobs=-1, nthread=-1, num_parallel_tree=1,\n",
      "             random_state=0, reg_alpha=0, reg_lambda=1, scale_pos_weight=1,\n",
      "             subsample=1, tree_method='exact', validate_parameters=1,\n",
      "             verbosity=None)\n",
      "XGBoost INDUSTRIAL min RMSE is: 414064.07067966106\n",
      "0.8264306759967771\n"
     ]
    }
   ],
   "source": [
    "# find best model hyperparameters \n",
    "print(xgb_cv_id.best_params_)\n",
    "print(xgb_cv_id.best_estimator_)\n",
    "print('XGBoost INDUSTRIAL min RMSE is: {}'.format(-xgb_cv_id.best_score_))\n",
    "xg_r2_id = r2_score(y_train_plus_val_id, \n",
    "                  xgb_cv_id.best_estimator_.predict(X_train_plus_val_id))\n",
    "print(xg_r2_id)"
   ]
  }
 ],
 "metadata": {
  "kernelspec": {
   "display_name": "Python 3",
   "language": "python",
   "name": "python3"
  },
  "language_info": {
   "codemirror_mode": {
    "name": "ipython",
    "version": 3
   },
   "file_extension": ".py",
   "mimetype": "text/x-python",
   "name": "python",
   "nbconvert_exporter": "python",
   "pygments_lexer": "ipython3",
   "version": "3.7.8"
  }
 },
 "nbformat": 4,
 "nbformat_minor": 4
}
