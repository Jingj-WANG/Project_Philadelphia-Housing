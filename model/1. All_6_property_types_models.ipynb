{
 "cells": [
  {
   "cell_type": "code",
   "execution_count": 2,
   "id": "b7faca08",
   "metadata": {},
   "outputs": [],
   "source": [
    "# import packages\n",
    "import pandas as pd\n",
    "import numpy as np\n",
    "import matplotlib.pyplot as plt\n",
    "import seaborn as sns\n",
    "\n",
    "from sklearn.linear_model import LinearRegression\n",
    "from sklearn.linear_model import Lasso\n",
    "from sklearn.linear_model import Ridge\n",
    "from sklearn.neighbors import KNeighborsRegressor\n",
    "from sklearn.ensemble import RandomForestRegressor\n",
    "from sklearn.neural_network import MLPRegressor\n",
    "import xgboost as xgb\n",
    "\n",
    "from sklearn.model_selection import PredefinedSplit, RandomizedSearchCV, KFold, StratifiedKFold\n",
    "from sklearn.metrics import r2_score, mean_squared_error, mean_absolute_error\n",
    "\n",
    "from scipy.stats import loguniform as sp_loguniform\n",
    "from scipy.stats import randint as sp_randint\n",
    "\n",
    "import statsmodels.api as sm\n",
    "import statsmodels.formula.api as smf\n",
    "\n",
    "import warnings\n",
    "warnings.filterwarnings('ignore')"
   ]
  },
  {
   "cell_type": "markdown",
   "id": "3a84c31d",
   "metadata": {},
   "source": [
    "### Experiment on Single Family"
   ]
  },
  {
   "cell_type": "code",
   "execution_count": 3,
   "id": "0a9df04d",
   "metadata": {},
   "outputs": [],
   "source": [
    "# get training, validation and test data for single family\n",
    "X_train_sf = pd.read_csv('X_train_sf.csv')\n",
    "X_train_sf.index = X_train_sf['Unnamed: 0']\n",
    "X_train_sf = X_train_sf.drop(['Unnamed: 0'], axis=1)\n",
    "X_val_sf = pd.read_csv('X_val_sf.csv')\n",
    "X_val_sf.index = X_val_sf['Unnamed: 0']\n",
    "X_val_sf = X_val_sf.drop(['Unnamed: 0'], axis=1)\n",
    "X_test_sf = pd.read_csv('X_test_sf.csv')\n",
    "X_test_sf.index = X_test_sf['Unnamed: 0']\n",
    "X_test_sf = X_test_sf.drop(['Unnamed: 0'], axis=1)\n",
    "y_train_sf = pd.read_csv('y_train_sf.csv')\n",
    "y_train_sf.index = y_train_sf['Unnamed: 0']\n",
    "y_train_sf = y_train_sf.drop(['Unnamed: 0'], axis=1)\n",
    "y_val_sf = pd.read_csv('y_val_sf.csv')\n",
    "y_val_sf.index = y_val_sf['Unnamed: 0']\n",
    "y_val_sf = y_val_sf.drop(['Unnamed: 0'], axis=1)\n",
    "y_test_sf = pd.read_csv('y_test_sf.csv')\n",
    "y_test_sf.index = y_test_sf['Unnamed: 0']\n",
    "y_test_sf = y_test_sf.drop(['Unnamed: 0'], axis=1)"
   ]
  },
  {
   "cell_type": "code",
   "execution_count": 4,
   "id": "f4682f9c",
   "metadata": {},
   "outputs": [],
   "source": [
    "# create a predefined validation set for random search\n",
    "y_train_plus_val_sf = pd.concat([y_train_sf, y_val_sf])\n",
    "y_train_plus_val_sf_copy = y_train_plus_val_sf.copy()\n",
    "y_train_plus_val_sf_copy.columns = ['train_val_split']\n",
    "y_train_plus_val_sf_copy.loc[y_train_sf.index,'train_val_split'] = -1\n",
    "y_train_plus_val_sf_copy.loc[y_val_sf.index,'train_val_split'] = 0\n",
    "val_fold_sf = np.array(y_train_plus_val_sf_copy)\n",
    "ps_sf = PredefinedSplit(val_fold_sf)\n",
    "\n",
    "# get training plus validation set\n",
    "X_train_plus_val_sf = pd.concat([X_train_sf, X_val_sf])"
   ]
  },
  {
   "cell_type": "code",
   "execution_count": 5,
   "id": "3cb51fc1",
   "metadata": {},
   "outputs": [],
   "source": [
    "# create a function to calculate baseline R squared, RMSE and MAE\n",
    "def rmse(l):\n",
    "    return np.sqrt((np.sum((l-np.mean(l))**2))/len(l))\n",
    "def mae(l):\n",
    "    return np.sum(np.abs(l-np.mean(l)))/len(l)"
   ]
  },
  {
   "cell_type": "markdown",
   "id": "70e89724",
   "metadata": {},
   "source": [
    "### Single Family: Linear regression"
   ]
  },
  {
   "cell_type": "code",
   "execution_count": 4,
   "id": "e6a0680a",
   "metadata": {},
   "outputs": [
    {
     "name": "stdout",
     "output_type": "stream",
     "text": [
      "{'normalize': True, 'fit_intercept': False}\n",
      "LinearRegression(fit_intercept=False, normalize=True)\n",
      "Min RMSE for linear regression on Single Family is: 23479006242.85987\n"
     ]
    }
   ],
   "source": [
    "# random search for linear regression\n",
    "param_lr_sf = {'fit_intercept': [True,False],\n",
    "               'normalize':[True,False]}\n",
    "\n",
    "lr_cv_sf = RandomizedSearchCV(\n",
    "           LinearRegression(),\n",
    "           param_distributions=param_lr_sf,\n",
    "           n_iter=10,\n",
    "           cv=ps_sf,\n",
    "           scoring='neg_root_mean_squared_error', \n",
    "           n_jobs=-1,\n",
    "           random_state=123\n",
    ").fit(X_train_plus_val_sf, np.array(y_train_plus_val_sf).ravel())\n",
    "\n",
    "# find best model hyperparameters \n",
    "print(lr_cv_sf.best_params_)\n",
    "print(lr_cv_sf.best_estimator_)\n",
    "print('Min RMSE for linear regression on Single Family is: {}'.format(-lr_cv_sf.best_score_))"
   ]
  },
  {
   "cell_type": "code",
   "execution_count": 211,
   "id": "86222edb",
   "metadata": {},
   "outputs": [
    {
     "name": "stdout",
     "output_type": "stream",
     "text": [
      "106.65993138395191\n",
      "0.3389078027320038\n",
      "sale_price    290.504546\n",
      "dtype: float64\n",
      "sale_price    155.263946\n",
      "dtype: float64\n"
     ]
    }
   ],
   "source": [
    "# R squared, MAE of best model\n",
    "print(mean_absolute_error(y_val_sf, lr_cv_sf.best_estimator_.predict(X_val_sf)))\n",
    "print(lr_cv_sf.best_estimator_.score(X_val_sf, y_val_sf))\n",
    "\n",
    "# R squared, RMSE and MAE of baseline model\n",
    "print(rmse(y_val_sf))\n",
    "print(mae(y_val_sf))"
   ]
  },
  {
   "cell_type": "markdown",
   "id": "454fa40f",
   "metadata": {},
   "source": [
    "### Single Family: Lasso"
   ]
  },
  {
   "cell_type": "code",
   "execution_count": 12,
   "id": "e54ad8b7",
   "metadata": {},
   "outputs": [
    {
     "name": "stdout",
     "output_type": "stream",
     "text": [
      "{'alpha': 0.07684071705306554, 'fit_intercept': False, 'normalize': True}\n",
      "Lasso(alpha=0.07684071705306554, fit_intercept=False, normalize=True)\n",
      "Min RMSE for lasso on Single Family is: 237.02107253707626\n"
     ]
    }
   ],
   "source": [
    "# random search for lasso\n",
    "param_la_sf = {'alpha': sp_loguniform(1e-4,1e2),\n",
    "            'fit_intercept':[True,False],\n",
    "            'normalize':[True,False]}\n",
    "\n",
    "la_cv_sf = RandomizedSearchCV(\n",
    "        Lasso(),\n",
    "        param_distributions=param_la_sf,\n",
    "        n_iter=10,\n",
    "        cv=ps_sf,\n",
    "        scoring='neg_root_mean_squared_error', \n",
    "        n_jobs=-1,\n",
    "        random_state=123\n",
    ").fit(X_train_plus_val_sf, np.array(y_train_plus_val_sf).ravel())\n",
    "\n",
    "# find best model hyperparameters \n",
    "print(la_cv_sf.best_params_)\n",
    "print(la_cv_sf.best_estimator_)\n",
    "print('Min RMSE for lasso on Single Family is: {}'.format(-la_cv_sf.best_score_))"
   ]
  },
  {
   "cell_type": "code",
   "execution_count": 212,
   "id": "496ad813",
   "metadata": {},
   "outputs": [
    {
     "name": "stdout",
     "output_type": "stream",
     "text": [
      "106.50077190341187\n",
      "0.3392291066302373\n",
      "sale_price    290.504546\n",
      "dtype: float64\n",
      "sale_price    155.263946\n",
      "dtype: float64\n"
     ]
    }
   ],
   "source": [
    "# R squared, MAE of best model\n",
    "print(mean_absolute_error(y_val_sf, la_cv_sf.best_estimator_.predict(X_val_sf)))\n",
    "print(la_cv_sf.best_estimator_.score(X_val_sf, y_val_sf))\n",
    "\n",
    "# RMSE and MAE of baseline model\n",
    "print(rmse(y_val_sf))\n",
    "print(mae(y_val_sf))"
   ]
  },
  {
   "cell_type": "markdown",
   "id": "528c6e3f",
   "metadata": {},
   "source": [
    "### Single Family: Ridge"
   ]
  },
  {
   "cell_type": "code",
   "execution_count": 14,
   "id": "ab506be2",
   "metadata": {},
   "outputs": [
    {
     "name": "stdout",
     "output_type": "stream",
     "text": [
      "{'alpha': 76.66289057556017, 'fit_intercept': True, 'normalize': False}\n",
      "Ridge(alpha=76.66289057556017)\n",
      "Min RMSE fort ridge on Single Family is: 236.94456670464658\n"
     ]
    }
   ],
   "source": [
    "# random search for ridge\n",
    "param_rd_sf = {'alpha': sp_loguniform(1e-4,1e2),\n",
    "            'fit_intercept':[True,False],\n",
    "            'normalize':[True,False]}\n",
    "\n",
    "rd_cv_sf = RandomizedSearchCV(\n",
    "        Ridge(),\n",
    "        param_distributions=param_rd_sf,\n",
    "        n_iter=10,\n",
    "        cv=ps_sf,\n",
    "        scoring='neg_root_mean_squared_error', \n",
    "        n_jobs=-1,\n",
    "        random_state=123\n",
    ").fit(X_train_plus_val_sf, np.array(y_train_plus_val_sf).ravel())\n",
    "\n",
    "# Find best model hyperparameters \n",
    "print(rd_cv_sf.best_params_)\n",
    "print(rd_cv_sf.best_estimator_)\n",
    "print('Min RMSE fort ridge on Single Family is: {}'.format(-rd_cv_sf.best_score_))"
   ]
  },
  {
   "cell_type": "code",
   "execution_count": 213,
   "id": "e339d6a2",
   "metadata": {},
   "outputs": [
    {
     "name": "stdout",
     "output_type": "stream",
     "text": [
      "106.58155691099871\n",
      "0.3395546745409962\n",
      "sale_price    290.504546\n",
      "dtype: float64\n",
      "sale_price    155.263946\n",
      "dtype: float64\n"
     ]
    }
   ],
   "source": [
    "# R squared, MAE of best model\n",
    "print(mean_absolute_error(y_val_sf, rd_cv_sf.best_estimator_.predict(X_val_sf)))\n",
    "print(rd_cv_sf.best_estimator_.score(X_val_sf, y_val_sf))\n",
    "\n",
    "# RMSE and MAE of baseline model\n",
    "print(rmse(y_val_sf))\n",
    "print(mae(y_val_sf))"
   ]
  },
  {
   "cell_type": "markdown",
   "id": "0fb13e99",
   "metadata": {},
   "source": [
    "### Single Family: KNeighborsRegressor"
   ]
  },
  {
   "cell_type": "code",
   "execution_count": 16,
   "id": "e8ab1b1d",
   "metadata": {},
   "outputs": [
    {
     "name": "stdout",
     "output_type": "stream",
     "text": [
      "{'leaf_size': 5, 'n_neighbors': 18, 'weights': 'distance'}\n",
      "KNeighborsRegressor(leaf_size=5, n_neighbors=18, weights='distance')\n",
      "Min RMSE for Knn regressor on Single Family is: 170.7286967851921\n"
     ]
    }
   ],
   "source": [
    "# random search for KNeighborsRegressor\n",
    "param_knn_sf = {'n_neighbors': sp_randint(1,21),\n",
    "             'weights': ['uniform', 'distance'],\n",
    "             'leaf_size': sp_randint(1,21)}\n",
    "\n",
    "knn_cv_sf = RandomizedSearchCV(\n",
    "         KNeighborsRegressor(),\n",
    "         param_distributions=param_knn_sf,\n",
    "         n_iter=10,\n",
    "         cv=ps_sf,\n",
    "         scoring='neg_root_mean_squared_error', \n",
    "         n_jobs=-1,\n",
    "         random_state=123\n",
    ").fit(X_train_plus_val_sf, np.array(y_train_plus_val_sf).ravel())\n",
    "\n",
    "# find best model hyperparameters \n",
    "print(knn_cv_sf.best_params_)\n",
    "print(knn_cv_sf.best_estimator_)\n",
    "print('Min RMSE for Knn regressor on Single Family is: {}'.format(-knn_cv_sf.best_score_))"
   ]
  },
  {
   "cell_type": "code",
   "execution_count": 214,
   "id": "c14af42c",
   "metadata": {},
   "outputs": [
    {
     "name": "stdout",
     "output_type": "stream",
     "text": [
      "0.07647382492493975\n",
      "0.9988083233217291\n",
      "sale_price    290.504546\n",
      "dtype: float64\n",
      "sale_price    155.263946\n",
      "dtype: float64\n"
     ]
    }
   ],
   "source": [
    "# R squared, MAE of best model\n",
    "print(mean_absolute_error(y_val_sf, knn_cv_sf.best_estimator_.predict(X_val_sf)))\n",
    "print(knn_cv_sf.best_estimator_.score(X_val_sf, y_val_sf))\n",
    "\n",
    "# RMSE and MAE of baseline model\n",
    "print(rmse(y_val_sf))\n",
    "print(mae(y_val_sf))"
   ]
  },
  {
   "cell_type": "markdown",
   "id": "e736c9f0",
   "metadata": {},
   "source": [
    "### Single Family: RandomForestRegressor"
   ]
  },
  {
   "cell_type": "code",
   "execution_count": 18,
   "id": "bc0c451d",
   "metadata": {},
   "outputs": [
    {
     "name": "stdout",
     "output_type": "stream",
     "text": [
      "{'n_estimators': 800, 'min_samples_split': 2, 'min_samples_leaf': 5, 'max_features': 'auto', 'max_depth': None}\n",
      "RandomForestRegressor(min_samples_leaf=5, n_estimators=800)\n",
      "Min RMSE is for random forest regressor on Single Family is: 136.8469916397392\n"
     ]
    }
   ],
   "source": [
    "# random search for RandomForestRegressor\n",
    "param_rf_sf = {'n_estimators': [100, 120, 200, 300, 500, 800, 1200],\n",
    "            'max_depth': [None, 5, 8, 15, 25, 30],\n",
    "            'min_samples_split': [1, 2, 5, 10 ,15, 100],\n",
    "            'min_samples_leaf': [1, 2, 5, 10],\n",
    "            'max_features': ['auto', 'sqrt', 'log2']}\n",
    "\n",
    "rf_cv_sf = RandomizedSearchCV(\n",
    "        RandomForestRegressor(),\n",
    "        param_distributions=param_rf_sf,\n",
    "        n_iter=10,\n",
    "        cv=ps_sf,\n",
    "        scoring='neg_root_mean_squared_error', \n",
    "        n_jobs=-1,\n",
    "        random_state=123\n",
    ").fit(X_train_plus_val_sf, np.array(y_train_plus_val_sf).ravel())\n",
    "\n",
    "# find best model hyperparameters \n",
    "print(rf_cv_sf.best_params_)\n",
    "print(rf_cv_sf.best_estimator_)\n",
    "print('Min RMSE is for random forest regressor on Single Family is: {}'.format(-rf_cv_sf.best_score_))"
   ]
  },
  {
   "cell_type": "code",
   "execution_count": 215,
   "id": "b36fd48e",
   "metadata": {},
   "outputs": [
    {
     "name": "stdout",
     "output_type": "stream",
     "text": [
      "34.78543529085287\n",
      "0.885310985348233\n",
      "sale_price    290.504546\n",
      "dtype: float64\n",
      "sale_price    155.263946\n",
      "dtype: float64\n"
     ]
    }
   ],
   "source": [
    "# R squared, MAE of best model\n",
    "print(mean_absolute_error(y_val_sf, rf_cv_sf.best_estimator_.predict(X_val_sf)))\n",
    "print(rf_cv_sf.best_estimator_.score(X_val_sf, y_val_sf))\n",
    "\n",
    "# RMSE and MAE of baseline model\n",
    "print(rmse(y_val_sf))\n",
    "print(mae(y_val_sf))"
   ]
  },
  {
   "cell_type": "markdown",
   "id": "2e04ff10",
   "metadata": {},
   "source": [
    "### Single Family: MLPRegressor"
   ]
  },
  {
   "cell_type": "code",
   "execution_count": 20,
   "id": "a09dd3eb",
   "metadata": {},
   "outputs": [
    {
     "name": "stdout",
     "output_type": "stream",
     "text": [
      "{'alpha': 1.8792349823745838, 'batch_size': 500, 'hidden_layer_sizes': 30, 'learning_rate_init': 0.08964140621713512}\n",
      "MLPRegressor(alpha=1.8792349823745838, batch_size=500, hidden_layer_sizes=30,\n",
      "             learning_rate_init=0.08964140621713512)\n",
      "Min RMSE for MLP regressor on Single Family is: 178.02757159982698\n"
     ]
    }
   ],
   "source": [
    "# random search for MLPRegressor\n",
    "hl = []\n",
    "for i in [1, 2, 3, 4, 5, 10, 15, 25, 30]:\n",
    "    hl.append((i))\n",
    "    hl.append((i,i))\n",
    "\n",
    "param_mlp_sf = {'hidden_layer_sizes': hl,\n",
    "             'learning_rate_init': sp_loguniform(1e-4, 1e2),\n",
    "             'alpha': sp_loguniform(1e-4, 1e2),\n",
    "             'batch_size': [1, 3, 5, 10, 20, 50, 100, 250, 500]}\n",
    "\n",
    "mlp_cv_sf = RandomizedSearchCV(\n",
    "         MLPRegressor(),\n",
    "         param_distributions=param_mlp_sf,\n",
    "         n_iter=10,\n",
    "         cv=ps_sf,\n",
    "         scoring='neg_root_mean_squared_error', \n",
    "         n_jobs=-1,\n",
    "         random_state=123\n",
    ").fit(X_train_plus_val_sf, np.array(y_train_plus_val_sf).ravel())\n",
    "\n",
    "# find best model hyperparameters \n",
    "print(mlp_cv_sf.best_params_)\n",
    "print(mlp_cv_sf.best_estimator_)\n",
    "print('Min RMSE for MLP regressor on Single Family is: {}'.format(-mlp_cv_sf.best_score_))"
   ]
  },
  {
   "cell_type": "code",
   "execution_count": 217,
   "id": "80a8809f",
   "metadata": {},
   "outputs": [
    {
     "name": "stdout",
     "output_type": "stream",
     "text": [
      "73.1474578825477\n",
      "0.620135671225518\n",
      "sale_price    290.504546\n",
      "dtype: float64\n",
      "sale_price    155.263946\n",
      "dtype: float64\n"
     ]
    }
   ],
   "source": [
    "# R squared, MAE of best model\n",
    "print(mean_absolute_error(y_val_sf, mlp_cv_sf.best_estimator_.predict(X_val_sf)))\n",
    "print(mlp_cv_sf.best_estimator_.score(X_val_sf, y_val_sf))\n",
    "\n",
    "# RMSE and MAE of baseline model\n",
    "print(rmse(y_val_sf))\n",
    "print(mae(y_val_sf))"
   ]
  },
  {
   "cell_type": "markdown",
   "id": "db8db376",
   "metadata": {},
   "source": [
    "### Single Family: XGBoost"
   ]
  },
  {
   "cell_type": "code",
   "execution_count": 22,
   "id": "ffe97633",
   "metadata": {},
   "outputs": [
    {
     "name": "stdout",
     "output_type": "stream",
     "text": [
      "[09:16:03] WARNING: C:/Users/Administrator/workspace/xgboost-win64_release_1.5.1/src/learner.cc:576: \n",
      "Parameters: { \"learning_rate_init\" } might not be used.\n",
      "\n",
      "  This could be a false alarm, with some parameters getting used by language bindings but\n",
      "  then being mistakenly passed down to XGBoost core, or some parameter actually being used\n",
      "  but getting flagged wrongly here. Please open an issue if you find any such cases.\n",
      "\n",
      "\n",
      "{'learning_rate_init': 0.15522637752063606, 'max_depth': 11, 'min_child_weight': 3, 'n_estimators': 100}\n",
      "XGBRegressor(base_score=0.5, booster='gbtree', colsample_bylevel=1,\n",
      "             colsample_bynode=1, colsample_bytree=1, enable_categorical=False,\n",
      "             gamma=0, gpu_id=-1, importance_type=None,\n",
      "             interaction_constraints='', learning_rate=0.300000012,\n",
      "             learning_rate_init=0.15522637752063606, max_delta_step=0,\n",
      "             max_depth=11, min_child_weight=3, missing=nan,\n",
      "             monotone_constraints='()', n_estimators=100, n_jobs=16, nthread=-1,\n",
      "             num_parallel_tree=1, predictor='auto', random_state=0, reg_alpha=0,\n",
      "             reg_lambda=1, scale_pos_weight=1, subsample=1, tree_method='exact',\n",
      "             validate_parameters=1, verbosity=None)\n",
      "Min RMSE for XGBoost on Single Family is: 131.88880629549743\n"
     ]
    }
   ],
   "source": [
    "# random search for XGBoost\n",
    "param_xg_sf = {'n_estimators':[100, 500 ,1000],\n",
    "               'max_depth': sp_randint(3, 15),\n",
    "               'learning_rate_init': sp_loguniform(1e-4, 1e2),\n",
    "               'min_child_weight': [1, 3, 5, 7]}\n",
    "\n",
    "xg_cv_sf = RandomizedSearchCV(\n",
    "            xgb.XGBRegressor(nthread=-1),\n",
    "            param_distributions=param_xg_sf,\n",
    "            n_iter=10,\n",
    "            cv=ps_sf,\n",
    "            scoring='neg_root_mean_squared_error',\n",
    "            n_jobs=-1,\n",
    "            random_state=123\n",
    ").fit(X_train_plus_val_sf, np.array(y_train_plus_val_sf).ravel())\n",
    "\n",
    "# find best model hyperparameters \n",
    "print(xg_cv_sf.best_params_)\n",
    "print(xg_cv_sf.best_estimator_)\n",
    "print('Min RMSE for XGBoost on Single Family is: {}'.format(-xg_cv_sf.best_score_))"
   ]
  },
  {
   "cell_type": "code",
   "execution_count": 216,
   "id": "098974b2",
   "metadata": {},
   "outputs": [
    {
     "name": "stdout",
     "output_type": "stream",
     "text": [
      "31.23552542508914\n",
      "0.9581277114423088\n",
      "sale_price    290.504546\n",
      "dtype: float64\n",
      "sale_price    155.263946\n",
      "dtype: float64\n"
     ]
    }
   ],
   "source": [
    "# R squared, MAE of best model\n",
    "print(mean_absolute_error(y_val_sf, xg_cv_sf.best_estimator_.predict(X_val_sf)))\n",
    "print(xg_cv_sf.best_estimator_.score(X_val_sf, y_val_sf))\n",
    "\n",
    "# RMSE and MAE of baseline model\n",
    "print(rmse(y_val_sf))\n",
    "print(mae(y_val_sf))"
   ]
  },
  {
   "cell_type": "markdown",
   "id": "e98ca640",
   "metadata": {},
   "source": [
    "### Experiment on Multi Family"
   ]
  },
  {
   "cell_type": "code",
   "execution_count": 6,
   "id": "8b87cc02",
   "metadata": {},
   "outputs": [],
   "source": [
    "# MULTIFAMILY get training, validation and test data\n",
    "X_train_mf = pd.read_csv('X_train_mf.csv')\n",
    "X_train_mf.index = X_train_mf['Unnamed: 0']\n",
    "X_train_mf = X_train_mf.drop(['Unnamed: 0'], axis=1)\n",
    "\n",
    "X_val_mf = pd.read_csv('X_val_mf.csv')\n",
    "X_val_mf.index = X_val_mf['Unnamed: 0']\n",
    "X_val_mf = X_val_mf.drop(['Unnamed: 0'], axis=1)\n",
    "\n",
    "X_test_mf = pd.read_csv('X_test_mf.csv')\n",
    "X_test_mf.index = X_test_mf['Unnamed: 0']\n",
    "X_test_mf = X_test_mf.drop(['Unnamed: 0'], axis=1)\n",
    "\n",
    "y_train_mf = pd.read_csv('y_train_mf.csv')\n",
    "y_train_mf.index = y_train_mf['Unnamed: 0']\n",
    "y_train_mf = y_train_mf.drop(['Unnamed: 0'], axis=1)\n",
    "\n",
    "y_val_mf = pd.read_csv('y_val_mf.csv')\n",
    "y_val_mf.index = y_val_mf['Unnamed: 0']\n",
    "y_val_mf = y_val_mf.drop(['Unnamed: 0'], axis=1)\n",
    "\n",
    "y_test_mf = pd.read_csv('y_test_mf.csv')\n",
    "y_test_mf.index = y_test_mf['Unnamed: 0']\n",
    "y_test_mf = y_test_mf.drop(['Unnamed: 0'], axis=1)"
   ]
  },
  {
   "cell_type": "code",
   "execution_count": 7,
   "id": "849c51db",
   "metadata": {},
   "outputs": [],
   "source": [
    "# Multifamily\n",
    "y_train_plus_val_mf = pd.concat([y_train_mf, y_val_mf])\n",
    "y_train_plus_val_mf_copy = y_train_plus_val_mf.copy()\n",
    "y_train_plus_val_mf_copy.columns = ['train_val_split']\n",
    "y_train_plus_val_mf_copy.loc[y_train_mf.index,'train_val_split'] = -1\n",
    "y_train_plus_val_mf_copy.loc[y_val_mf.index,'train_val_split'] = 0\n",
    "val_fold_mf = np.array(y_train_plus_val_mf_copy)\n",
    "ps_mf = PredefinedSplit(val_fold_mf)\n",
    "\n",
    "# Multifamily training plus validation set\n",
    "X_train_plus_val_mf = pd.concat([X_train_mf, X_val_mf])"
   ]
  },
  {
   "cell_type": "markdown",
   "id": "1bfa17f4",
   "metadata": {},
   "source": [
    "### Multi Family: Linear regression"
   ]
  },
  {
   "cell_type": "code",
   "execution_count": 30,
   "id": "38de77f5",
   "metadata": {},
   "outputs": [
    {
     "name": "stdout",
     "output_type": "stream",
     "text": [
      "{'normalize': True, 'fit_intercept': False}\n",
      "LinearRegression(fit_intercept=False, normalize=True)\n",
      "MULTIFAMILY Linear min RMSE is: 3656416892829.176\n"
     ]
    }
   ],
   "source": [
    "# random search for linear regression\n",
    "param_lr_mf = {'fit_intercept': [True,False],\n",
    "               'normalize':[True,False]}\n",
    "\n",
    "lr_cv_mf = RandomizedSearchCV(\n",
    "           LinearRegression(),\n",
    "           param_distributions=param_lr_mf,\n",
    "           n_iter=20,\n",
    "           cv=ps_mf,\n",
    "           scoring='neg_root_mean_squared_error', \n",
    "           n_jobs=-1,\n",
    "           random_state=123\n",
    ").fit(X_train_plus_val_mf, np.array(y_train_plus_val_mf).ravel())\n",
    "\n",
    "# find best model hyperparameters \n",
    "print(lr_cv_mf.best_params_)\n",
    "print(lr_cv_mf.best_estimator_)\n",
    "print('MULTIFAMILY Linear min RMSE is: {}'.format(-lr_cv_mf.best_score_))"
   ]
  },
  {
   "cell_type": "code",
   "execution_count": 218,
   "id": "84389bf4",
   "metadata": {},
   "outputs": [
    {
     "name": "stdout",
     "output_type": "stream",
     "text": [
      "266.992634992259\n",
      "0.19850866999144323\n",
      "sale_price    587.030511\n",
      "dtype: float64\n",
      "sale_price    313.600881\n",
      "dtype: float64\n"
     ]
    }
   ],
   "source": [
    "# R2, MAE of best model\n",
    "print(mean_absolute_error(y_val_mf, lr_cv_mf.best_estimator_.predict(X_val_mf)))\n",
    "print(lr_cv_mf.best_estimator_.score(X_val_mf, y_val_mf))\n",
    "\n",
    "# RMSE and MAE of baseline model\n",
    "print(rmse(y_val_mf))\n",
    "print(mae(y_val_mf))"
   ]
  },
  {
   "cell_type": "markdown",
   "id": "7e2d49a7",
   "metadata": {},
   "source": [
    "### Multi Family: Lasso"
   ]
  },
  {
   "cell_type": "code",
   "execution_count": 35,
   "id": "f6529c5a",
   "metadata": {},
   "outputs": [
    {
     "name": "stdout",
     "output_type": "stream",
     "text": [
      "{'alpha': 1.5094374246471327, 'fit_intercept': True, 'normalize': True}\n",
      "Lasso(alpha=1.5094374246471327, normalize=True)\n",
      "MULTI FAMILY LASSO min RMSE is: 654.6961994584565\n"
     ]
    }
   ],
   "source": [
    "# random search for lasso\n",
    "param_la_mf = {'alpha': sp_loguniform(1e-4,1e2),\n",
    "            'fit_intercept':[True,False],\n",
    "            'normalize':[True,False]}\n",
    "\n",
    "la_cv_mf = RandomizedSearchCV(\n",
    "        Lasso(),\n",
    "        param_distributions=param_la_mf,\n",
    "        n_iter=10,\n",
    "        cv=ps_mf,\n",
    "        scoring='neg_root_mean_squared_error', \n",
    "        n_jobs=-1,\n",
    "        random_state=123\n",
    ").fit(X_train_plus_val_mf, np.array(y_train_plus_val_mf).ravel())\n",
    "\n",
    "# find best model hyperparameters \n",
    "print(la_cv_mf.best_params_)\n",
    "print(la_cv_mf.best_estimator_)\n",
    "print('MULTI FAMILY LASSO min RMSE is: {}'.format(-la_cv_mf.best_score_))"
   ]
  },
  {
   "cell_type": "code",
   "execution_count": 219,
   "id": "b131151c",
   "metadata": {},
   "outputs": [
    {
     "name": "stdout",
     "output_type": "stream",
     "text": [
      "309.15303303433683\n",
      "-0.00020552166424159246\n",
      "sale_price    587.030511\n",
      "dtype: float64\n",
      "sale_price    313.600881\n",
      "dtype: float64\n"
     ]
    }
   ],
   "source": [
    "# R2, MAE of best model\n",
    "print(mean_absolute_error(y_val_mf, la_cv_mf.best_estimator_.predict(X_val_mf)))\n",
    "print(la_cv_mf.best_estimator_.score(X_val_mf, y_val_mf))\n",
    "\n",
    "# RMSE and MAE of baseline model\n",
    "print(rmse(y_val_mf))\n",
    "print(mae(y_val_mf))"
   ]
  },
  {
   "cell_type": "markdown",
   "id": "5f8de0ad",
   "metadata": {},
   "source": [
    "### Multi Family: Ridge"
   ]
  },
  {
   "cell_type": "code",
   "execution_count": 225,
   "id": "eeeaed51",
   "metadata": {},
   "outputs": [
    {
     "name": "stdout",
     "output_type": "stream",
     "text": [
      "{'alpha': 1.5094374246471327, 'fit_intercept': True, 'normalize': True}\n",
      "Ridge(alpha=1.5094374246471327, normalize=True)\n",
      "MULTIFAMILY RIDGE min RMSE is: 1655.6082440221626\n"
     ]
    }
   ],
   "source": [
    "# random search for ridge\n",
    "param_rd = {'alpha': sp_loguniform(1e-4,1e2),\n",
    "            'fit_intercept':[True,False],\n",
    "            'normalize':[True,False]}\n",
    "\n",
    "rd_cv_mf = RandomizedSearchCV(\n",
    "        Ridge(),\n",
    "        param_distributions=param_rd,\n",
    "        n_iter=10,\n",
    "        cv=ps_mf,\n",
    "        scoring='neg_root_mean_squared_error', \n",
    "        n_jobs=-1,\n",
    "        random_state=123\n",
    ").fit(X_train_plus_val_mf, np.array(y_train_plus_val_mf).ravel())\n",
    "\n",
    "# Find best model hyperparameters \n",
    "print(rd_cv_mf.best_params_)\n",
    "print(rd_cv_mf.best_estimator_)\n",
    "print('MULTIFAMILY RIDGE min RMSE is: {}'.format(-rd_cv_mf.best_score_))"
   ]
  },
  {
   "cell_type": "code",
   "execution_count": 226,
   "id": "43b9df70",
   "metadata": {},
   "outputs": [
    {
     "name": "stdout",
     "output_type": "stream",
     "text": [
      "264.4113647181971\n",
      "0.14286609062361233\n",
      "sale_price    587.030511\n",
      "dtype: float64\n",
      "sale_price    313.600881\n",
      "dtype: float64\n"
     ]
    }
   ],
   "source": [
    "# R2, MAE of best model\n",
    "print(mean_absolute_error(y_val_mf, rd_cv_mf.best_estimator_.predict(X_val_mf)))\n",
    "print(rd_cv_mf.best_estimator_.score(X_val_mf, y_val_mf))\n",
    "\n",
    "# RMSE and MAE of baseline model\n",
    "print(rmse(y_val_mf))\n",
    "print(mae(y_val_mf))"
   ]
  },
  {
   "cell_type": "markdown",
   "id": "47f6549b",
   "metadata": {},
   "source": [
    "### Multi Family: KNN Regressor"
   ]
  },
  {
   "cell_type": "code",
   "execution_count": 227,
   "id": "e77ff218",
   "metadata": {},
   "outputs": [
    {
     "name": "stdout",
     "output_type": "stream",
     "text": [
      "{'leaf_size': 3, 'n_neighbors': 7, 'weights': 'distance'}\n",
      "KNeighborsRegressor(leaf_size=3, n_neighbors=7, weights='distance')\n",
      "MULTIFAMILY KNN min RMSE is: 410.45699249166245\n"
     ]
    }
   ],
   "source": [
    "# random search for KNeighborsRegressor\n",
    "param_knn = {'n_neighbors': sp_randint(1,21),\n",
    "             'weights': ['uniform', 'distance'],\n",
    "             'leaf_size': sp_randint(1,21)}\n",
    "\n",
    "knn_cv_mf = RandomizedSearchCV(\n",
    "         KNeighborsRegressor(),\n",
    "         param_distributions=param_knn,\n",
    "         n_iter=10,\n",
    "         cv=ps_mf,\n",
    "         scoring='neg_root_mean_squared_error', \n",
    "         n_jobs=-1,\n",
    "         random_state=123\n",
    ").fit(X_train_plus_val_mf, np.array(y_train_plus_val_mf).ravel())\n",
    "\n",
    "# find best model hyperparameters \n",
    "print(knn_cv_mf.best_params_)\n",
    "print(knn_cv_mf.best_estimator_)\n",
    "print('MULTIFAMILY KNN min RMSE is: {}'.format(-knn_cv_mf.best_score_))"
   ]
  },
  {
   "cell_type": "code",
   "execution_count": 229,
   "id": "28f1f68d",
   "metadata": {},
   "outputs": [
    {
     "name": "stdout",
     "output_type": "stream",
     "text": [
      "2.771917422644056e-05\n",
      "0.9999999999973338\n",
      "sale_price    587.030511\n",
      "dtype: float64\n",
      "sale_price    313.600881\n",
      "dtype: float64\n"
     ]
    }
   ],
   "source": [
    "# R2, MAE of best model\n",
    "print(mean_absolute_error(y_val_mf, knn_cv_mf.best_estimator_.predict(X_val_mf)))\n",
    "print(knn_cv_mf.best_estimator_.score(X_val_mf, y_val_mf))\n",
    "\n",
    "# RMSE and MAE of baseline model\n",
    "print(rmse(y_val_mf))\n",
    "print(mae(y_val_mf))"
   ]
  },
  {
   "cell_type": "markdown",
   "id": "7b82b0e4",
   "metadata": {},
   "source": [
    "### Multi Family: Random Forest Regressor"
   ]
  },
  {
   "cell_type": "code",
   "execution_count": 232,
   "id": "78f55bdb",
   "metadata": {},
   "outputs": [
    {
     "name": "stdout",
     "output_type": "stream",
     "text": [
      "{'n_estimators': 800, 'min_samples_split': 2, 'min_samples_leaf': 5, 'max_features': 'auto', 'max_depth': None}\n",
      "RandomForestRegressor(min_samples_leaf=5, n_estimators=800)\n",
      "RF MULTIFAMILY min RMSE is: 366.3338564046838\n"
     ]
    }
   ],
   "source": [
    "# random search for RandomForestRegressor\n",
    "param_rf = {'n_estimators': [100, 120, 200, 300, 500, 800, 1200],\n",
    "            'max_depth': [None, 5, 8, 15, 25, 30],\n",
    "            'min_samples_split': [1, 2, 5, 10 ,15, 100],\n",
    "            'min_samples_leaf': [1, 2, 5, 10],\n",
    "            'max_features': ['auto', 'sqrt', 'log2']}\n",
    "\n",
    "rf_cv_mf = RandomizedSearchCV(\n",
    "        RandomForestRegressor(),\n",
    "        param_distributions=param_rf,\n",
    "        n_iter=10,\n",
    "        cv=ps_mf,\n",
    "        scoring='neg_root_mean_squared_error', \n",
    "        n_jobs=-1,\n",
    "        random_state=123\n",
    ").fit(X_train_plus_val_mf, np.array(y_train_plus_val_mf).ravel())\n",
    "\n",
    "# find best model hyperparameters \n",
    "print(rf_cv_mf.best_params_)\n",
    "print(rf_cv_mf.best_estimator_)\n",
    "print('RF MULTIFAMILY min RMSE is: {}'.format(-rf_cv_mf.best_score_))"
   ]
  },
  {
   "cell_type": "code",
   "execution_count": 233,
   "id": "aa9acaf3",
   "metadata": {},
   "outputs": [
    {
     "name": "stdout",
     "output_type": "stream",
     "text": [
      "103.596674462354\n",
      "0.8219045426649344\n",
      "sale_price    587.030511\n",
      "dtype: float64\n",
      "sale_price    313.600881\n",
      "dtype: float64\n"
     ]
    }
   ],
   "source": [
    "# R2, MAE of best model\n",
    "print(mean_absolute_error(y_val_mf, rf_cv_mf.best_estimator_.predict(X_val_mf)))\n",
    "print(rf_cv_mf.best_estimator_.score(X_val_mf, y_val_mf))\n",
    "\n",
    "# RMSE and MAE of baseline model\n",
    "print(rmse(y_val_mf))\n",
    "print(mae(y_val_mf))"
   ]
  },
  {
   "cell_type": "markdown",
   "id": "060ef1b9",
   "metadata": {},
   "source": [
    "### Multi Family: MLP Regressor"
   ]
  },
  {
   "cell_type": "code",
   "execution_count": 234,
   "id": "6803c4ce",
   "metadata": {},
   "outputs": [
    {
     "name": "stdout",
     "output_type": "stream",
     "text": [
      "{'alpha': 2.1610275095525036, 'batch_size': 5, 'hidden_layer_sizes': 2, 'learning_rate_init': 0.005784745785308777}\n",
      "MLPRegressor(alpha=2.1610275095525036, batch_size=5, hidden_layer_sizes=2,\n",
      "             learning_rate_init=0.005784745785308777)\n",
      "MLPRegressor MULTIFAMILY min RMSE is: 587.1315626758294\n"
     ]
    }
   ],
   "source": [
    "# random search for MLPRegressor\n",
    "hl = []\n",
    "for i in [1, 2, 3, 4, 5, 10, 15, 25, 30]:\n",
    "    hl.append((i))\n",
    "    hl.append((i,i))\n",
    "\n",
    "param_mlp = {'hidden_layer_sizes': hl,\n",
    "             'learning_rate_init': sp_loguniform(1e-4, 1e2),\n",
    "             'alpha': sp_loguniform(1e-4, 1e2),\n",
    "             'batch_size': [1, 5, 10, 25, 100, 500]}\n",
    "\n",
    "mlp_cv_mf = RandomizedSearchCV(\n",
    "         MLPRegressor(),\n",
    "         param_distributions=param_mlp,\n",
    "         n_iter=10,\n",
    "         cv=ps_mf,\n",
    "         scoring='neg_root_mean_squared_error', \n",
    "         n_jobs=-1,\n",
    "         random_state=123\n",
    ").fit(X_train_plus_val_mf, np.array(y_train_plus_val_mf).ravel())\n",
    "\n",
    "# find best model hyperparameters \n",
    "print(mlp_cv_mf.best_params_)\n",
    "print(mlp_cv_mf.best_estimator_)\n",
    "print('MLPRegressor MULTIFAMILY min RMSE is: {}'.format(-mlp_cv_mf.best_score_))"
   ]
  },
  {
   "cell_type": "code",
   "execution_count": 236,
   "id": "750179c3",
   "metadata": {},
   "outputs": [
    {
     "name": "stdout",
     "output_type": "stream",
     "text": [
      "239.80926186905052\n",
      "0.23933739132286203\n",
      "sale_price    587.030511\n",
      "dtype: float64\n",
      "sale_price    313.600881\n",
      "dtype: float64\n"
     ]
    }
   ],
   "source": [
    "# R2, MAE of best model\n",
    "print(mean_absolute_error(y_val_mf, mlp_cv_mf.best_estimator_.predict(X_val_mf)))\n",
    "print(mlp_cv_mf.best_estimator_.score(X_val_mf, y_val_mf))\n",
    "\n",
    "# RMSE and MAE of baseline model\n",
    "print(rmse(y_val_mf))\n",
    "print(mae(y_val_mf))"
   ]
  },
  {
   "cell_type": "markdown",
   "id": "302d513e",
   "metadata": {},
   "source": [
    "### Multi Family: XGboost Regressor"
   ]
  },
  {
   "cell_type": "code",
   "execution_count": 238,
   "id": "04cebe5e",
   "metadata": {},
   "outputs": [
    {
     "name": "stdout",
     "output_type": "stream",
     "text": [
      "[21:44:43] WARNING: C:/Users/Administrator/workspace/xgboost-win64_release_1.5.1/src/learner.cc:576: \n",
      "Parameters: { \"learning_rate_init\" } might not be used.\n",
      "\n",
      "  This could be a false alarm, with some parameters getting used by language bindings but\n",
      "  then being mistakenly passed down to XGBoost core, or some parameter actually being used\n",
      "  but getting flagged wrongly here. Please open an issue if you find any such cases.\n",
      "\n",
      "\n",
      "{'learning_rate_init': 2.1610275095525036, 'max_depth': 4, 'min_child_weight': 3, 'n_estimators': 1000}\n",
      "XGBRegressor(base_score=0.5, booster='gbtree', colsample_bylevel=1,\n",
      "             colsample_bynode=1, colsample_bytree=1, enable_categorical=False,\n",
      "             gamma=0, gpu_id=-1, importance_type=None,\n",
      "             interaction_constraints='', learning_rate=0.300000012,\n",
      "             learning_rate_init=2.1610275095525036, max_delta_step=0,\n",
      "             max_depth=4, min_child_weight=3, missing=nan,\n",
      "             monotone_constraints='()', n_estimators=1000, n_jobs=16,\n",
      "             nthread=-1, num_parallel_tree=1, predictor='auto', random_state=0,\n",
      "             reg_alpha=0, reg_lambda=1, scale_pos_weight=1, subsample=1,\n",
      "             tree_method='exact', validate_parameters=1, verbosity=None)\n",
      "Min RMSE for XGBoost on Multi Family is: 339.82813827639325\n"
     ]
    }
   ],
   "source": [
    "# random search for XGBoost\n",
    "param_xg_mf = {'n_estimators':[100, 500 ,1000],\n",
    "               'max_depth': sp_randint(3, 15),\n",
    "               'learning_rate_init': sp_loguniform(1e-4, 1e2),\n",
    "               'min_child_weight': [1, 3, 5, 7]}\n",
    "\n",
    "xg_cv_mf = RandomizedSearchCV(\n",
    "            xgb.XGBRegressor(nthread=-1),\n",
    "            param_distributions=param_xg_mf,\n",
    "            n_iter=10,\n",
    "            cv=ps_mf,\n",
    "            scoring='neg_root_mean_squared_error',\n",
    "            n_jobs=-1,\n",
    "            random_state=123\n",
    ").fit(X_train_plus_val_mf, np.array(y_train_plus_val_mf).ravel())\n",
    "\n",
    "# find best model hyperparameters \n",
    "print(xg_cv_mf.best_params_)\n",
    "print(xg_cv_mf.best_estimator_)\n",
    "print('Min RMSE for XGBoost on Multi Family is: {}'.format(-xg_cv_mf.best_score_))"
   ]
  },
  {
   "cell_type": "code",
   "execution_count": 239,
   "id": "0b0d08a3",
   "metadata": {},
   "outputs": [
    {
     "name": "stdout",
     "output_type": "stream",
     "text": [
      "44.782822914829595\n",
      "0.9866987343552989\n",
      "sale_price    587.030511\n",
      "dtype: float64\n",
      "sale_price    313.600881\n",
      "dtype: float64\n"
     ]
    }
   ],
   "source": [
    "# R2, MAE of best model\n",
    "print(mean_absolute_error(y_val_mf, xg_cv_mf.best_estimator_.predict(X_val_mf)))\n",
    "print(xg_cv_mf.best_estimator_.score(X_val_mf, y_val_mf))\n",
    "\n",
    "# RMSE and MAE of baseline model\n",
    "print(rmse(y_val_mf))\n",
    "print(mae(y_val_mf))"
   ]
  },
  {
   "cell_type": "markdown",
   "id": "823d91e8",
   "metadata": {},
   "source": [
    "### Experiment on Commercial"
   ]
  },
  {
   "cell_type": "code",
   "execution_count": 8,
   "id": "2872eed4",
   "metadata": {},
   "outputs": [],
   "source": [
    "# Commercial-- training, validation and test data\n",
    "X_train_cm = pd.read_csv('X_train_cm.csv')\n",
    "X_train_cm.index = X_train_cm['Unnamed: 0']\n",
    "X_train_cm = X_train_cm.drop(['Unnamed: 0'], axis=1)\n",
    "\n",
    "X_val_cm = pd.read_csv('X_val_cm.csv')\n",
    "X_val_cm.index = X_val_cm['Unnamed: 0']\n",
    "X_val_cm = X_val_cm.drop(['Unnamed: 0'], axis=1)\n",
    "\n",
    "X_test_cm = pd.read_csv('X_test_cm.csv')\n",
    "X_test_cm.index = X_test_cm['Unnamed: 0']\n",
    "X_test_cm = X_test_cm.drop(['Unnamed: 0'], axis=1)\n",
    "\n",
    "y_train_cm = pd.read_csv('y_train_cm.csv')\n",
    "y_train_cm.index = y_train_cm['Unnamed: 0']\n",
    "y_train_cm = y_train_cm.drop(['Unnamed: 0'], axis=1)\n",
    "\n",
    "y_val_cm = pd.read_csv('y_val_cm.csv')\n",
    "y_val_cm.index = y_val_cm['Unnamed: 0']\n",
    "y_val_cm = y_val_cm.drop(['Unnamed: 0'], axis=1)\n",
    "\n",
    "y_test_cm = pd.read_csv('y_test_cm.csv')\n",
    "y_test_cm.index = y_test_cm['Unnamed: 0']\n",
    "y_test_cm = y_test_cm.drop(['Unnamed: 0'], axis=1)"
   ]
  },
  {
   "cell_type": "code",
   "execution_count": 9,
   "id": "cfc48eb7",
   "metadata": {},
   "outputs": [],
   "source": [
    "# Commercial Y train+val,--concate and prepare for \"PredefinedSplit\"\n",
    "y_train_plus_val_cm = pd.concat([y_train_cm, y_val_cm])\n",
    "y_train_plus_val_cm_copy = y_train_plus_val_cm.copy()\n",
    "y_train_plus_val_cm_copy.columns = ['train_val_split']\n",
    "y_train_plus_val_cm_copy.loc[y_train_cm.index,'train_val_split'] = -1\n",
    "y_train_plus_val_cm_copy.loc[y_val_cm.index,'train_val_split'] = 0\n",
    "val_fold_cm = np.array(y_train_plus_val_cm_copy)\n",
    "ps_cm = PredefinedSplit(val_fold_cm)\n",
    "\n",
    "# Commercial X train+val\n",
    "X_train_plus_val_cm = pd.concat([X_train_cm, X_val_cm])"
   ]
  },
  {
   "cell_type": "markdown",
   "id": "d4950992",
   "metadata": {},
   "source": [
    "### Commercial: Linear Regression"
   ]
  },
  {
   "cell_type": "code",
   "execution_count": 52,
   "id": "fb88a55c",
   "metadata": {},
   "outputs": [
    {
     "name": "stdout",
     "output_type": "stream",
     "text": [
      "{'normalize': False, 'fit_intercept': True}\n",
      "LinearRegression()\n",
      "Commercial Linear min RMSE is: 766.4339369144163\n"
     ]
    }
   ],
   "source": [
    "# random search for linear regression\n",
    "param_lr_cm = {'fit_intercept': [True,False],\n",
    "               'normalize':[True,False]}\n",
    "\n",
    "lr_cv_cm = RandomizedSearchCV(\n",
    "           LinearRegression(),\n",
    "           param_distributions=param_lr_cm,\n",
    "           n_iter=20,\n",
    "           cv=ps_cm,\n",
    "           scoring='neg_root_mean_squared_error', \n",
    "           n_jobs=-1,\n",
    "           random_state=123\n",
    ").fit(X_train_plus_val_cm, np.array(y_train_plus_val_cm).ravel())\n",
    "\n",
    "# find best model hyperparameters \n",
    "print(lr_cv_cm.best_params_)\n",
    "print(lr_cv_cm.best_estimator_)\n",
    "print('Commercial Linear min RMSE is: {}'.format(-lr_cv_cm.best_score_))"
   ]
  },
  {
   "cell_type": "code",
   "execution_count": 240,
   "id": "55722ce5",
   "metadata": {},
   "outputs": [
    {
     "name": "stdout",
     "output_type": "stream",
     "text": [
      "489.94002500000005\n",
      "0.21716019679148635\n",
      "sale_price    844.097943\n",
      "dtype: float64\n",
      "sale_price    555.724382\n",
      "dtype: float64\n"
     ]
    }
   ],
   "source": [
    "# R2, MAE of best model\n",
    "print(mean_absolute_error(y_val_cm, lr_cv_cm.best_estimator_.predict(X_val_cm)))\n",
    "print(lr_cv_cm.best_estimator_.score(X_val_cm, y_val_cm))\n",
    "\n",
    "# RMSE and MAE of baseline model\n",
    "print(rmse(y_val_cm))\n",
    "print(mae(y_val_cm))"
   ]
  },
  {
   "cell_type": "markdown",
   "id": "2555ec22",
   "metadata": {},
   "source": [
    "### Commercial: Lasso"
   ]
  },
  {
   "cell_type": "code",
   "execution_count": 103,
   "id": "6aeafe0e",
   "metadata": {},
   "outputs": [
    {
     "name": "stdout",
     "output_type": "stream",
     "text": [
      "{'alpha': 0.15463515822289586, 'fit_intercept': True, 'normalize': False}\n",
      "Lasso(alpha=0.15463515822289586)\n",
      "Commercial LASSO min RMSE is: 763.8345863711204\n"
     ]
    }
   ],
   "source": [
    "# random search for lasso\n",
    "param_la_cm = {'alpha': sp_loguniform(1e-4,1e2),\n",
    "            'fit_intercept':[True,False],\n",
    "            'normalize':[True,False]}\n",
    "\n",
    "la_cv_cm = RandomizedSearchCV(\n",
    "        Lasso(),\n",
    "        param_distributions=param_la_cm,\n",
    "        n_iter=10,\n",
    "        cv=ps_cm,\n",
    "        scoring='neg_root_mean_squared_error', \n",
    "        n_jobs=-1,\n",
    "        random_state=123\n",
    ").fit(X_train_plus_val_cm, np.array(y_train_plus_val_cm).ravel())\n",
    "\n",
    "# find best model hyperparameters \n",
    "print(la_cv_cm.best_params_)\n",
    "print(la_cv_cm.best_estimator_)\n",
    "print('Commercial LASSO min RMSE is: {}'.format(-la_cv_cm.best_score_))"
   ]
  },
  {
   "cell_type": "code",
   "execution_count": 241,
   "id": "2bbc5cbd",
   "metadata": {},
   "outputs": [
    {
     "name": "stdout",
     "output_type": "stream",
     "text": [
      "485.474126120736\n",
      "0.22080804536397258\n",
      "sale_price    844.097943\n",
      "dtype: float64\n",
      "sale_price    555.724382\n",
      "dtype: float64\n"
     ]
    }
   ],
   "source": [
    "# R2, MAE of best model\n",
    "print(mean_absolute_error(y_val_cm, la_cv_cm.best_estimator_.predict(X_val_cm)))\n",
    "print(la_cv_cm.best_estimator_.score(X_val_cm, y_val_cm))\n",
    "\n",
    "# RMSE and MAE of baseline model\n",
    "print(rmse(y_val_cm))\n",
    "print(mae(y_val_cm))"
   ]
  },
  {
   "cell_type": "markdown",
   "id": "b5293469",
   "metadata": {},
   "source": [
    "### Commercial: Ridge"
   ]
  },
  {
   "cell_type": "code",
   "execution_count": 244,
   "id": "fa8580ad",
   "metadata": {},
   "outputs": [
    {
     "name": "stdout",
     "output_type": "stream",
     "text": [
      "{'alpha': 2.074024196289186, 'fit_intercept': False, 'normalize': False}\n",
      "Ridge(alpha=2.074024196289186, fit_intercept=False)\n",
      "Commercial RIDGE min RMSE is: 763.6040526368225\n"
     ]
    }
   ],
   "source": [
    "# random search for ridge\n",
    "param_rd = {'alpha': sp_loguniform(1e-4,1e2),\n",
    "            'fit_intercept':[True,False],\n",
    "            'normalize':[True,False]}\n",
    "\n",
    "rd_cv_cm = RandomizedSearchCV(\n",
    "        Ridge(),\n",
    "        param_distributions=param_rd,\n",
    "        n_iter=10,\n",
    "        cv=ps_cm,\n",
    "        scoring='neg_root_mean_squared_error', \n",
    "        n_jobs=-1,\n",
    "        random_state=123\n",
    ").fit(X_train_plus_val_cm, np.array(y_train_plus_val_cm).ravel())\n",
    "\n",
    "# Find best model hyperparameters \n",
    "print(rd_cv_cm.best_params_)\n",
    "print(rd_cv_cm.best_estimator_)\n",
    "print('Commercial RIDGE min RMSE is: {}'.format(-rd_cv_cm.best_score_))"
   ]
  },
  {
   "cell_type": "code",
   "execution_count": 245,
   "id": "3aad427a",
   "metadata": {},
   "outputs": [
    {
     "name": "stdout",
     "output_type": "stream",
     "text": [
      "485.9283472196909\n",
      "0.2195952755094519\n",
      "sale_price    844.097943\n",
      "dtype: float64\n",
      "sale_price    555.724382\n",
      "dtype: float64\n"
     ]
    }
   ],
   "source": [
    "# R2, MAE of best model\n",
    "print(mean_absolute_error(y_val_cm, rd_cv_cm.best_estimator_.predict(X_val_cm)))\n",
    "print(rd_cv_cm.best_estimator_.score(X_val_cm, y_val_cm))\n",
    "\n",
    "# RMSE and MAE of baseline model\n",
    "print(rmse(y_val_cm))\n",
    "print(mae(y_val_cm))"
   ]
  },
  {
   "cell_type": "markdown",
   "id": "87066720",
   "metadata": {},
   "source": [
    "### Commercial: KNN Regressor"
   ]
  },
  {
   "cell_type": "code",
   "execution_count": 247,
   "id": "cdd4d62e",
   "metadata": {},
   "outputs": [
    {
     "name": "stdout",
     "output_type": "stream",
     "text": [
      "{'leaf_size': 5, 'n_neighbors': 18, 'weights': 'distance'}\n",
      "KNeighborsRegressor(leaf_size=5, n_neighbors=18, weights='distance')\n",
      "Commercial KNN min RMSE is: 693.8594700478346\n"
     ]
    }
   ],
   "source": [
    "# random search for KNeighborsRegressor\n",
    "param_knn = {'n_neighbors': sp_randint(1,21),\n",
    "             'weights': ['uniform', 'distance'],\n",
    "             'leaf_size': sp_randint(1,21)}\n",
    "\n",
    "knn_cv_cm = RandomizedSearchCV(\n",
    "         KNeighborsRegressor(),\n",
    "         param_distributions=param_knn,\n",
    "         n_iter=10,\n",
    "         cv=ps_cm,\n",
    "         scoring='neg_root_mean_squared_error', \n",
    "         n_jobs=-1,\n",
    "         random_state=123\n",
    ").fit(X_train_plus_val_cm, np.array(y_train_plus_val_cm).ravel())\n",
    "\n",
    "# find best model hyperparameters \n",
    "print(knn_cv_cm.best_params_)\n",
    "print(knn_cv_cm.best_estimator_)\n",
    "print('Commercial KNN min RMSE is: {}'.format(-knn_cv_cm.best_score_))"
   ]
  },
  {
   "cell_type": "code",
   "execution_count": 248,
   "id": "0e351d52",
   "metadata": {},
   "outputs": [
    {
     "name": "stdout",
     "output_type": "stream",
     "text": [
      "3.070960508813651e-05\n",
      "0.999999999999969\n",
      "sale_price    844.097943\n",
      "dtype: float64\n",
      "sale_price    555.724382\n",
      "dtype: float64\n"
     ]
    }
   ],
   "source": [
    "# R2, MAE of best model\n",
    "print(mean_absolute_error(y_val_cm, knn_cv_cm.best_estimator_.predict(X_val_cm)))\n",
    "print(knn_cv_cm.best_estimator_.score(X_val_cm, y_val_cm))\n",
    "\n",
    "# RMSE and MAE of baseline model\n",
    "print(rmse(y_val_cm))\n",
    "print(mae(y_val_cm))"
   ]
  },
  {
   "cell_type": "markdown",
   "id": "52baa779",
   "metadata": {},
   "source": [
    "### Commercial: Random Forest Regressor"
   ]
  },
  {
   "cell_type": "code",
   "execution_count": 250,
   "id": "fb986c85",
   "metadata": {},
   "outputs": [
    {
     "name": "stdout",
     "output_type": "stream",
     "text": [
      "{'n_estimators': 800, 'min_samples_split': 2, 'min_samples_leaf': 5, 'max_features': 'auto', 'max_depth': None}\n",
      "RandomForestRegressor(min_samples_leaf=5, n_estimators=800)\n",
      "RF Commercial min RMSE is: 607.2888451618489\n"
     ]
    }
   ],
   "source": [
    "# random search for RandomForestRegressor\n",
    "param_rf = {'n_estimators': [100, 120, 200, 300, 500, 800, 1200],\n",
    "            'max_depth': [None, 5, 8, 15, 25, 30],\n",
    "            'min_samples_split': [1, 2, 5, 10 ,15, 100],\n",
    "            'min_samples_leaf': [1, 2, 5, 10],\n",
    "            'max_features': ['auto', 'sqrt', 'log2']}\n",
    "\n",
    "rf_cv_cm = RandomizedSearchCV(\n",
    "        RandomForestRegressor(),\n",
    "        param_distributions=param_rf,\n",
    "        n_iter=10,\n",
    "        cv=ps_cm,\n",
    "        scoring='neg_root_mean_squared_error', \n",
    "        n_jobs=-1,\n",
    "        random_state=123\n",
    ").fit(X_train_plus_val_cm, np.array(y_train_plus_val_cm).ravel())\n",
    "\n",
    "# find best model hyperparameters \n",
    "print(rf_cv_cm.best_params_)\n",
    "print(rf_cv_cm.best_estimator_)\n",
    "print('RF Commercial min RMSE is: {}'.format(-rf_cv_cm.best_score_))"
   ]
  },
  {
   "cell_type": "code",
   "execution_count": 251,
   "id": "7da48c02",
   "metadata": {},
   "outputs": [
    {
     "name": "stdout",
     "output_type": "stream",
     "text": [
      "221.43018079552252\n",
      "0.7726925875474369\n",
      "sale_price    844.097943\n",
      "dtype: float64\n",
      "sale_price    555.724382\n",
      "dtype: float64\n"
     ]
    }
   ],
   "source": [
    "# R2, MAE of best model\n",
    "print(mean_absolute_error(y_val_cm, rf_cv_cm.best_estimator_.predict(X_val_cm)))\n",
    "print(rf_cv_cm.best_estimator_.score(X_val_cm, y_val_cm))\n",
    "\n",
    "# RMSE and MAE of baseline model\n",
    "print(rmse(y_val_cm))\n",
    "print(mae(y_val_cm))"
   ]
  },
  {
   "cell_type": "markdown",
   "id": "978cde17",
   "metadata": {},
   "source": [
    "### Commercial: MLP Regressor"
   ]
  },
  {
   "cell_type": "code",
   "execution_count": 252,
   "id": "177d29a0",
   "metadata": {},
   "outputs": [
    {
     "name": "stdout",
     "output_type": "stream",
     "text": [
      "{'alpha': 0.03847481851752228, 'batch_size': 10, 'hidden_layer_sizes': (15, 15), 'learning_rate_init': 0.0002900807334178909}\n",
      "MLPRegressor(alpha=0.03847481851752228, batch_size=10,\n",
      "             hidden_layer_sizes=(15, 15),\n",
      "             learning_rate_init=0.0002900807334178909)\n",
      "MLPRegressor Commercial min RMSE is: 693.0975825470381\n"
     ]
    }
   ],
   "source": [
    "# random search for MLPRegressor\n",
    "hl = []\n",
    "for i in [1, 2, 3, 4, 5, 10, 15, 25, 30]:\n",
    "    hl.append((i))\n",
    "    hl.append((i,i))\n",
    "\n",
    "param_mlp = {'hidden_layer_sizes': hl,\n",
    "             'learning_rate_init': sp_loguniform(1e-4, 1e2),\n",
    "             'alpha': sp_loguniform(1e-4, 1e2),\n",
    "             'batch_size': [1, 5, 10, 25, 100, 500]}\n",
    "\n",
    "mlp_cv_cm = RandomizedSearchCV(\n",
    "         MLPRegressor(),\n",
    "         param_distributions=param_mlp,\n",
    "         n_iter=10,\n",
    "         cv=ps_cm,\n",
    "         scoring='neg_root_mean_squared_error', \n",
    "         n_jobs=-1,\n",
    "         random_state=123\n",
    ").fit(X_train_plus_val_cm, np.array(y_train_plus_val_cm).ravel())\n",
    "\n",
    "# find best model hyperparameters \n",
    "print(mlp_cv_cm.best_params_)\n",
    "print(mlp_cv_cm.best_estimator_)\n",
    "print('MLPRegressor Commercial min RMSE is: {}'.format(-mlp_cv_cm.best_score_))"
   ]
  },
  {
   "cell_type": "code",
   "execution_count": 253,
   "id": "1bcb3b31",
   "metadata": {},
   "outputs": [
    {
     "name": "stdout",
     "output_type": "stream",
     "text": [
      "449.60815793890663\n",
      "0.26514292279413565\n",
      "sale_price    844.097943\n",
      "dtype: float64\n",
      "sale_price    555.724382\n",
      "dtype: float64\n"
     ]
    }
   ],
   "source": [
    "# R2, MAE of best model\n",
    "print(mean_absolute_error(y_val_cm, mlp_cv_cm.best_estimator_.predict(X_val_cm)))\n",
    "print(mlp_cv_cm.best_estimator_.score(X_val_cm, y_val_cm))\n",
    "\n",
    "# RMSE and MAE of baseline model\n",
    "print(rmse(y_val_cm))\n",
    "print(mae(y_val_cm))"
   ]
  },
  {
   "cell_type": "markdown",
   "id": "a1abc2c3",
   "metadata": {},
   "source": [
    "### Commercial: XGBoost"
   ]
  },
  {
   "cell_type": "code",
   "execution_count": 64,
   "id": "118b2287",
   "metadata": {},
   "outputs": [
    {
     "name": "stdout",
     "output_type": "stream",
     "text": [
      "[11:28:23] WARNING: C:/Users/Administrator/workspace/xgboost-win64_release_1.5.1/src/learner.cc:576: \n",
      "Parameters: { \"learning_rate_init\" } might not be used.\n",
      "\n",
      "  This could be a false alarm, with some parameters getting used by language bindings but\n",
      "  then being mistakenly passed down to XGBoost core, or some parameter actually being used\n",
      "  but getting flagged wrongly here. Please open an issue if you find any such cases.\n",
      "\n",
      "\n",
      "{'learning_rate_init': 1.474113973879948, 'max_depth': 3, 'min_child_weight': 1, 'n_estimators': 500}\n",
      "XGBRegressor(base_score=0.5, booster='gbtree', colsample_bylevel=1,\n",
      "             colsample_bynode=1, colsample_bytree=1, enable_categorical=False,\n",
      "             gamma=0, gpu_id=-1, importance_type=None,\n",
      "             interaction_constraints='', learning_rate=0.300000012,\n",
      "             learning_rate_init=1.474113973879948, max_delta_step=0,\n",
      "             max_depth=3, min_child_weight=1, missing=nan,\n",
      "             monotone_constraints='()', n_estimators=500, n_jobs=16, nthread=-1,\n",
      "             num_parallel_tree=1, predictor='auto', random_state=0, reg_alpha=0,\n",
      "             reg_lambda=1, scale_pos_weight=1, subsample=1, tree_method='exact',\n",
      "             validate_parameters=1, verbosity=None)\n",
      "Min RMSE for XGBoost on Commercial is: 602.6503459301813\n"
     ]
    }
   ],
   "source": [
    "# random search for XGBoost\n",
    "param_xg_cm = {'n_estimators':[100, 500 ,1000],\n",
    "               'max_depth': sp_randint(3, 15),\n",
    "               'learning_rate_init': sp_loguniform(1e-4, 1e2),\n",
    "               'min_child_weight': [1, 3, 5, 7]}\n",
    "\n",
    "xg_cv_cm = RandomizedSearchCV(\n",
    "            xgb.XGBRegressor(nthread=-1),\n",
    "            param_distributions=param_xg_cm,\n",
    "            n_iter=10,\n",
    "            cv=ps_cm,\n",
    "            scoring='neg_root_mean_squared_error',\n",
    "            n_jobs=-1,\n",
    "            random_state=123\n",
    ").fit(X_train_plus_val_cm, np.array(y_train_plus_val_cm).ravel())\n",
    "\n",
    "# find best model hyperparameters \n",
    "print(xg_cv_cm.best_params_)\n",
    "print(xg_cv_cm.best_estimator_)\n",
    "print('Min RMSE for XGBoost on Commercial is: {}'.format(-xg_cv_cm.best_score_))"
   ]
  },
  {
   "cell_type": "code",
   "execution_count": 254,
   "id": "a6e0c27e",
   "metadata": {},
   "outputs": [
    {
     "name": "stdout",
     "output_type": "stream",
     "text": [
      "112.68372798265496\n",
      "0.9660649607132512\n",
      "sale_price    844.097943\n",
      "dtype: float64\n",
      "sale_price    555.724382\n",
      "dtype: float64\n"
     ]
    }
   ],
   "source": [
    "# R2, MAE of best model\n",
    "print(mean_absolute_error(y_val_cm, xg_cv_cm.best_estimator_.predict(X_val_cm)))\n",
    "print(xg_cv_cm.best_estimator_.score(X_val_cm, y_val_cm))\n",
    "\n",
    "# RMSE and MAE of baseline model\n",
    "print(rmse(y_val_cm))\n",
    "print(mae(y_val_cm))"
   ]
  },
  {
   "cell_type": "markdown",
   "id": "1542049b",
   "metadata": {},
   "source": [
    "### Experiment on Industrial"
   ]
  },
  {
   "cell_type": "code",
   "execution_count": 10,
   "id": "e1d30e2f",
   "metadata": {},
   "outputs": [],
   "source": [
    "#INDUSTRIAL get training, validation and test data\n",
    "X_train_id = pd.read_csv('X_train_id.csv')\n",
    "X_train_id.index = X_train_id['Unnamed: 0']\n",
    "X_train_id = X_train_id.drop(['Unnamed: 0'], axis=1)\n",
    "\n",
    "X_val_id = pd.read_csv('X_val_id.csv')\n",
    "X_val_id.index = X_val_id['Unnamed: 0']\n",
    "X_val_id = X_val_id.drop(['Unnamed: 0'], axis=1)\n",
    "\n",
    "X_test_id = pd.read_csv('X_test_id.csv')\n",
    "X_test_id.index = X_test_id['Unnamed: 0']\n",
    "X_test_id = X_test_id.drop(['Unnamed: 0'], axis=1)\n",
    "\n",
    "y_train_id = pd.read_csv('y_train_id.csv')\n",
    "y_train_id.index = y_train_id['Unnamed: 0']\n",
    "y_train_id = y_train_id.drop(['Unnamed: 0'], axis=1)\n",
    "\n",
    "y_val_id = pd.read_csv('y_val_id.csv')\n",
    "y_val_id.index = y_val_id['Unnamed: 0']\n",
    "y_val_id = y_val_id.drop(['Unnamed: 0'], axis=1)\n",
    "\n",
    "y_test_id = pd.read_csv('y_test_id.csv')\n",
    "y_test_id.index = y_test_id['Unnamed: 0']\n",
    "y_test_id = y_test_id.drop(['Unnamed: 0'], axis=1)"
   ]
  },
  {
   "cell_type": "code",
   "execution_count": 11,
   "id": "8b34aa36",
   "metadata": {},
   "outputs": [],
   "source": [
    "#Industrial\n",
    "y_train_plus_val_id = pd.concat([y_train_id, y_val_id])\n",
    "y_train_plus_val_id_copy = y_train_plus_val_id.copy()\n",
    "y_train_plus_val_id_copy.columns = ['train_val_split']\n",
    "y_train_plus_val_id_copy.loc[y_train_id.index,'train_val_split'] = -1\n",
    "y_train_plus_val_id_copy.loc[y_val_id.index,'train_val_split'] = 0\n",
    "val_fold_id = np.array(y_train_plus_val_id_copy)\n",
    "ps_id = PredefinedSplit(val_fold_id)\n",
    "\n",
    "# Industrial\n",
    "X_train_plus_val_id = pd.concat([X_train_id, X_val_id])"
   ]
  },
  {
   "cell_type": "markdown",
   "id": "dbc4c019",
   "metadata": {},
   "source": [
    "### Industrial: Linear regression"
   ]
  },
  {
   "cell_type": "code",
   "execution_count": 68,
   "id": "11ab2a54",
   "metadata": {},
   "outputs": [
    {
     "name": "stdout",
     "output_type": "stream",
     "text": [
      "{'normalize': True, 'fit_intercept': False}\n",
      "LinearRegression(fit_intercept=False, normalize=True)\n",
      "INDUSTRIAL Linear min RMSE is: 136392782443401.25\n"
     ]
    }
   ],
   "source": [
    "# random search for linear regression\n",
    "param_lr_id = {'fit_intercept': [True,False],\n",
    "               'normalize':[True,False]}\n",
    "\n",
    "lr_cv_id = RandomizedSearchCV(\n",
    "           LinearRegression(),\n",
    "           param_distributions=param_lr_id,\n",
    "           n_iter=20,\n",
    "           cv=3,\n",
    "           scoring='neg_root_mean_squared_error', \n",
    "           n_jobs=-1,\n",
    "           random_state=123\n",
    ").fit(X_train_plus_val_id, np.array(y_train_plus_val_id).ravel())\n",
    "\n",
    "# find best model hyperparameters \n",
    "print(lr_cv_id.best_params_)\n",
    "print(lr_cv_id.best_estimator_)\n",
    "print('INDUSTRIAL Linear min RMSE is: {}'.format(-lr_cv_id.best_score_))"
   ]
  },
  {
   "cell_type": "code",
   "execution_count": 255,
   "id": "ca4f2760",
   "metadata": {},
   "outputs": [
    {
     "name": "stdout",
     "output_type": "stream",
     "text": [
      "450.9776948362564\n",
      "0.24756535504214017\n",
      "sale_price    898.514899\n",
      "dtype: float64\n",
      "sale_price    613.953988\n",
      "dtype: float64\n"
     ]
    }
   ],
   "source": [
    "# R2, MAE of best model\n",
    "print(mean_absolute_error(y_val_id, lr_cv_id.best_estimator_.predict(X_val_id)))\n",
    "print(lr_cv_id.best_estimator_.score(X_val_id, y_val_id))\n",
    "\n",
    "# RMSE and MAE of baseline model\n",
    "print(rmse(y_val_id))\n",
    "print(mae(y_val_id))"
   ]
  },
  {
   "cell_type": "markdown",
   "id": "03f7d88f",
   "metadata": {},
   "source": [
    "### Industrial: Lasso"
   ]
  },
  {
   "cell_type": "code",
   "execution_count": 73,
   "id": "672b1b05",
   "metadata": {},
   "outputs": [
    {
     "name": "stdout",
     "output_type": "stream",
     "text": [
      "{'alpha': 0.15463515822289586, 'fit_intercept': True, 'normalize': False}\n",
      "Lasso(alpha=0.15463515822289586)\n",
      "INDUSTRIAL LASSO min RMSE is: 715.861996559595\n"
     ]
    }
   ],
   "source": [
    "# random search for lasso\n",
    "param_la_id = {'alpha': sp_loguniform(1e-4,1e2),\n",
    "            'fit_intercept':[True,False],\n",
    "            'normalize':[True,False]}\n",
    "\n",
    "la_cv_id = RandomizedSearchCV(\n",
    "        Lasso(),\n",
    "        param_distributions=param_la_id,\n",
    "        n_iter=10,\n",
    "        cv=3,\n",
    "        scoring='neg_root_mean_squared_error', \n",
    "        n_jobs=-1,\n",
    "        random_state=123\n",
    ").fit(X_train_plus_val_id, np.array(y_train_plus_val_id).ravel())\n",
    "\n",
    "# find best model hyperparameters \n",
    "print(la_cv_id.best_params_)\n",
    "print(la_cv_id.best_estimator_)\n",
    "print('INDUSTRIAL LASSO min RMSE is: {}'.format(-la_cv_id.best_score_))"
   ]
  },
  {
   "cell_type": "code",
   "execution_count": 256,
   "id": "267fbf1d",
   "metadata": {},
   "outputs": [
    {
     "name": "stdout",
     "output_type": "stream",
     "text": [
      "470.55275997428225\n",
      "0.27768140280979503\n",
      "sale_price    898.514899\n",
      "dtype: float64\n",
      "sale_price    613.953988\n",
      "dtype: float64\n"
     ]
    }
   ],
   "source": [
    "# R2, MAE of best model\n",
    "print(mean_absolute_error(y_val_id, la_cv_id.best_estimator_.predict(X_val_id)))\n",
    "print(la_cv_id.best_estimator_.score(X_val_id, y_val_id))\n",
    "\n",
    "# RMSE and MAE of baseline model\n",
    "print(rmse(y_val_id))\n",
    "print(mae(y_val_id))"
   ]
  },
  {
   "cell_type": "markdown",
   "id": "e8658853",
   "metadata": {},
   "source": [
    "### Industrial: Ridge"
   ]
  },
  {
   "cell_type": "code",
   "execution_count": 75,
   "id": "7c9f1c4a",
   "metadata": {},
   "outputs": [
    {
     "name": "stdout",
     "output_type": "stream",
     "text": [
      "{'alpha': 2.074024196289186, 'fit_intercept': False, 'normalize': False}\n",
      "Ridge(alpha=2.074024196289186, fit_intercept=False)\n",
      "INDUSTRIAL RIDGE min RMSE is: 715.6038223254677\n"
     ]
    }
   ],
   "source": [
    "# random search for ridge\n",
    "param_id = {'alpha': sp_loguniform(1e-4,1e2),\n",
    "            'fit_intercept':[True,False],\n",
    "            'normalize':[True,False]}\n",
    "\n",
    "rd_cv_id = RandomizedSearchCV(\n",
    "        Ridge(),\n",
    "        param_distributions=param_id,\n",
    "        n_iter=10,\n",
    "        cv= 3,\n",
    "        scoring='neg_root_mean_squared_error', \n",
    "        n_jobs=-1,\n",
    "        random_state=123\n",
    ").fit(X_train_plus_val_id, np.array(y_train_plus_val_id).ravel())\n",
    "\n",
    "# Find best model hyperparameters \n",
    "print(rd_cv_id.best_params_)\n",
    "print(rd_cv_id.best_estimator_)\n",
    "print('INDUSTRIAL RIDGE min RMSE is: {}'.format(-rd_cv_id.best_score_))"
   ]
  },
  {
   "cell_type": "code",
   "execution_count": 257,
   "id": "849c9f6d",
   "metadata": {},
   "outputs": [
    {
     "name": "stdout",
     "output_type": "stream",
     "text": [
      "474.56352066651135\n",
      "0.27959024969941126\n",
      "sale_price    898.514899\n",
      "dtype: float64\n",
      "sale_price    613.953988\n",
      "dtype: float64\n"
     ]
    }
   ],
   "source": [
    "# R2, MAE of best model\n",
    "print(mean_absolute_error(y_val_id, rd_cv_id.best_estimator_.predict(X_val_id)))\n",
    "print(rd_cv_id.best_estimator_.score(X_val_id, y_val_id))\n",
    "\n",
    "# RMSE and MAE of baseline model\n",
    "print(rmse(y_val_id))\n",
    "print(mae(y_val_id))"
   ]
  },
  {
   "cell_type": "markdown",
   "id": "ff569d2e",
   "metadata": {},
   "source": [
    "### Industria: KNN"
   ]
  },
  {
   "cell_type": "code",
   "execution_count": 77,
   "id": "760963ca",
   "metadata": {},
   "outputs": [
    {
     "name": "stdout",
     "output_type": "stream",
     "text": [
      "{'leaf_size': 3, 'n_neighbors': 7, 'weights': 'distance'}\n",
      "KNeighborsRegressor(leaf_size=3, n_neighbors=7, weights='distance')\n",
      "INDUSTRIAL KNN min RMSE is: 713.6699387011404\n"
     ]
    }
   ],
   "source": [
    "# random search for KNeighborsRegressor\n",
    "param_knn_id = {'n_neighbors': sp_randint(1,21),\n",
    "             'weights': ['uniform', 'distance'],\n",
    "             'leaf_size': sp_randint(1,21)}\n",
    "\n",
    "knn_cv_id = RandomizedSearchCV(\n",
    "         KNeighborsRegressor(),\n",
    "         param_distributions=param_knn_id,\n",
    "         n_iter=10,\n",
    "         cv= 3,\n",
    "         scoring='neg_root_mean_squared_error', \n",
    "         n_jobs=-1,\n",
    "         random_state=123\n",
    ").fit(X_train_plus_val_id, np.array(y_train_plus_val_id).ravel())\n",
    "\n",
    "# find best model hyperparameters \n",
    "print(knn_cv_id.best_params_)\n",
    "print(knn_cv_id.best_estimator_)\n",
    "print('INDUSTRIAL KNN min RMSE is: {}'.format(-knn_cv_id.best_score_))"
   ]
  },
  {
   "cell_type": "code",
   "execution_count": 258,
   "id": "1f3f3aa9",
   "metadata": {},
   "outputs": [
    {
     "name": "stdout",
     "output_type": "stream",
     "text": [
      "2.8646295403808134e-06\n",
      "0.9999999999999997\n",
      "sale_price    898.514899\n",
      "dtype: float64\n",
      "sale_price    613.953988\n",
      "dtype: float64\n"
     ]
    }
   ],
   "source": [
    "# R2, MAE of best model\n",
    "print(mean_absolute_error(y_val_id, knn_cv_id.best_estimator_.predict(X_val_id)))\n",
    "print(knn_cv_id.best_estimator_.score(X_val_id, y_val_id))\n",
    "\n",
    "# RMSE and MAE of baseline model\n",
    "print(rmse(y_val_id))\n",
    "print(mae(y_val_id))"
   ]
  },
  {
   "cell_type": "markdown",
   "id": "97bfdcdd",
   "metadata": {},
   "source": [
    "### Industrial: Random Forest"
   ]
  },
  {
   "cell_type": "code",
   "execution_count": 79,
   "id": "3764a675",
   "metadata": {},
   "outputs": [
    {
     "name": "stdout",
     "output_type": "stream",
     "text": [
      "{'n_estimators': 800, 'min_samples_split': 2, 'min_samples_leaf': 5, 'max_features': 'auto', 'max_depth': None}\n",
      "RandomForestRegressor(min_samples_leaf=5, n_estimators=800)\n",
      "RF MULTIFAMILY min RMSE is: 639.9228466424411\n"
     ]
    }
   ],
   "source": [
    "# random search for RandomForestRegressor\n",
    "param_rf_id = {'n_estimators': [100, 120, 200, 300, 500, 800, 1200],\n",
    "            'max_depth': [None, 5, 8, 15, 25, 30],\n",
    "            'min_samples_split': [1, 2, 5, 10 ,15, 100],\n",
    "            'min_samples_leaf': [1, 2, 5, 10],\n",
    "            'max_features': ['auto', 'sqrt', 'log2']}\n",
    "\n",
    "rf_cv_id = RandomizedSearchCV(\n",
    "        RandomForestRegressor(),\n",
    "        param_distributions=param_rf_id,\n",
    "        n_iter=10,\n",
    "        cv= 3,\n",
    "        scoring='neg_root_mean_squared_error', \n",
    "        n_jobs=-1,\n",
    "        random_state=123\n",
    ").fit(X_train_plus_val_id, np.array(y_train_plus_val_id).ravel())\n",
    "\n",
    "# find best model hyperparameters \n",
    "print(rf_cv_id.best_params_)\n",
    "print(rf_cv_id.best_estimator_)\n",
    "print('RF MULTIFAMILY min RMSE is: {}'.format(-rf_cv_id.best_score_))"
   ]
  },
  {
   "cell_type": "code",
   "execution_count": 259,
   "id": "0a1ac8dd",
   "metadata": {},
   "outputs": [
    {
     "name": "stdout",
     "output_type": "stream",
     "text": [
      "251.95317001457693\n",
      "0.7381088168799455\n",
      "sale_price    898.514899\n",
      "dtype: float64\n",
      "sale_price    613.953988\n",
      "dtype: float64\n"
     ]
    }
   ],
   "source": [
    "# R2, MAE of best model\n",
    "print(mean_absolute_error(y_val_id, rf_cv_id.best_estimator_.predict(X_val_id)))\n",
    "print(rf_cv_id.best_estimator_.score(X_val_id, y_val_id))\n",
    "\n",
    "# RMSE and MAE of baseline model\n",
    "print(rmse(y_val_id))\n",
    "print(mae(y_val_id))"
   ]
  },
  {
   "cell_type": "markdown",
   "id": "0a6d103d",
   "metadata": {},
   "source": [
    "### Industrial: MLP Regressor"
   ]
  },
  {
   "cell_type": "code",
   "execution_count": 81,
   "id": "0595e45f",
   "metadata": {},
   "outputs": [
    {
     "name": "stdout",
     "output_type": "stream",
     "text": [
      "{'alpha': 2.1610275095525036, 'batch_size': 5, 'hidden_layer_sizes': 2, 'learning_rate_init': 0.005784745785308777}\n",
      "MLPRegressor(alpha=2.1610275095525036, batch_size=5, hidden_layer_sizes=2,\n",
      "             learning_rate_init=0.005784745785308777)\n",
      "MLPRegressor INDUSTRIAL min RMSE is: 692.1191846844391\n"
     ]
    }
   ],
   "source": [
    "# random search for MLPRegressor\n",
    "hl = []\n",
    "for i in [1, 2, 3, 4, 5, 10, 15, 25, 30]:\n",
    "    hl.append((i))\n",
    "    hl.append((i,i))\n",
    "\n",
    "param_mlp_id = {'hidden_layer_sizes': hl,\n",
    "             'learning_rate_init': sp_loguniform(1e-4, 1e2),\n",
    "             'alpha': sp_loguniform(1e-4, 1e2),\n",
    "             'batch_size': [1, 5, 10, 25, 100, 500]}\n",
    "\n",
    "mlp_cv_id = RandomizedSearchCV(\n",
    "         MLPRegressor(),\n",
    "         param_distributions=param_mlp_id,\n",
    "         n_iter=10,\n",
    "         cv= 3,\n",
    "         scoring='neg_root_mean_squared_error', \n",
    "         n_jobs=-1,\n",
    "         random_state=123\n",
    ").fit(X_train_plus_val_id, np.array(y_train_plus_val_id).ravel())\n",
    "\n",
    "# find best model hyperparameters \n",
    "print(mlp_cv_id.best_params_)\n",
    "print(mlp_cv_id.best_estimator_)\n",
    "print('MLPRegressor INDUSTRIAL min RMSE is: {}'.format(-mlp_cv_id.best_score_))"
   ]
  },
  {
   "cell_type": "code",
   "execution_count": 260,
   "id": "1156e339",
   "metadata": {},
   "outputs": [
    {
     "name": "stdout",
     "output_type": "stream",
     "text": [
      "444.42761757600897\n",
      "0.38659829095330733\n",
      "sale_price    898.514899\n",
      "dtype: float64\n",
      "sale_price    613.953988\n",
      "dtype: float64\n"
     ]
    }
   ],
   "source": [
    "# R2, MAE of best model\n",
    "print(mean_absolute_error(y_val_id, mlp_cv_id.best_estimator_.predict(X_val_id)))\n",
    "print(mlp_cv_id.best_estimator_.score(X_val_id, y_val_id))\n",
    "\n",
    "# RMSE and MAE of baseline model\n",
    "print(rmse(y_val_id))\n",
    "print(mae(y_val_id))"
   ]
  },
  {
   "cell_type": "markdown",
   "id": "88a8f872",
   "metadata": {},
   "source": [
    "### Industrial: XGBoost"
   ]
  },
  {
   "cell_type": "code",
   "execution_count": 83,
   "id": "a92e81a0",
   "metadata": {},
   "outputs": [
    {
     "name": "stdout",
     "output_type": "stream",
     "text": [
      "[11:29:57] WARNING: C:/Users/Administrator/workspace/xgboost-win64_release_1.5.1/src/learner.cc:576: \n",
      "Parameters: { \"learning_rate_init\" } might not be used.\n",
      "\n",
      "  This could be a false alarm, with some parameters getting used by language bindings but\n",
      "  then being mistakenly passed down to XGBoost core, or some parameter actually being used\n",
      "  but getting flagged wrongly here. Please open an issue if you find any such cases.\n",
      "\n",
      "\n",
      "{'learning_rate_init': 1.5094374246471327, 'max_depth': 5, 'min_child_weight': 1, 'n_estimators': 1000}\n",
      "XGBRegressor(base_score=0.5, booster='gbtree', colsample_bylevel=1,\n",
      "             colsample_bynode=1, colsample_bytree=1, enable_categorical=False,\n",
      "             gamma=0, gpu_id=-1, importance_type=None,\n",
      "             interaction_constraints='', learning_rate=0.300000012,\n",
      "             learning_rate_init=1.5094374246471327, max_delta_step=0,\n",
      "             max_depth=5, min_child_weight=1, missing=nan,\n",
      "             monotone_constraints='()', n_estimators=1000, n_jobs=16,\n",
      "             nthread=-1, num_parallel_tree=1, predictor='auto', random_state=0,\n",
      "             reg_alpha=0, reg_lambda=1, scale_pos_weight=1, subsample=1,\n",
      "             tree_method='exact', validate_parameters=1, verbosity=None)\n",
      "Min RMSE for XGBoost on Industral is: 651.899891599262\n"
     ]
    }
   ],
   "source": [
    "# random search for XGBoost\n",
    "param_xg_id = {'n_estimators':[100, 500 ,1000],\n",
    "               'max_depth': sp_randint(3, 15),\n",
    "               'learning_rate_init': sp_loguniform(1e-4, 1e2),\n",
    "               'min_child_weight': [1, 3, 5, 7]}\n",
    "\n",
    "xg_cv_id = RandomizedSearchCV(\n",
    "            xgb.XGBRegressor(nthread=-1),\n",
    "            param_distributions=param_xg_id,\n",
    "            n_iter=10,\n",
    "            cv=3,\n",
    "            scoring='neg_root_mean_squared_error',\n",
    "            n_jobs=-1,\n",
    "            random_state=123\n",
    ").fit(X_train_plus_val_id, np.array(y_train_plus_val_id).ravel())\n",
    "\n",
    "# find best model hyperparameters \n",
    "print(xg_cv_id.best_params_)\n",
    "print(xg_cv_id.best_estimator_)\n",
    "print('Min RMSE for XGBoost on Industral is: {}'.format(-xg_cv_id.best_score_))"
   ]
  },
  {
   "cell_type": "code",
   "execution_count": 261,
   "id": "93bb409e",
   "metadata": {},
   "outputs": [
    {
     "name": "stdout",
     "output_type": "stream",
     "text": [
      "0.0016676647596619296\n",
      "0.9999999999922164\n",
      "sale_price    898.514899\n",
      "dtype: float64\n",
      "sale_price    613.953988\n",
      "dtype: float64\n"
     ]
    }
   ],
   "source": [
    "# R2, MAE of best model\n",
    "print(mean_absolute_error(y_val_id, xg_cv_id.best_estimator_.predict(X_val_id)))\n",
    "print(xg_cv_id.best_estimator_.score(X_val_id, y_val_id))\n",
    "\n",
    "# RMSE and MAE of baseline model\n",
    "print(rmse(y_val_id))\n",
    "print(mae(y_val_id))"
   ]
  },
  {
   "cell_type": "markdown",
   "id": "ccf2501b",
   "metadata": {},
   "source": [
    "### Experiment on Mixed Use"
   ]
  },
  {
   "cell_type": "code",
   "execution_count": 12,
   "id": "55dae339",
   "metadata": {},
   "outputs": [],
   "source": [
    "# get training, validation and test data for mixed use\n",
    "X_train_mx = pd.read_csv('X_train_mx.csv')\n",
    "X_train_mx.index = X_train_mx['Unnamed: 0']\n",
    "X_train_mx = X_train_mx.drop(['Unnamed: 0'], axis=1)\n",
    "X_val_mx = pd.read_csv('X_val_mx.csv')\n",
    "X_val_mx.index = X_val_mx['Unnamed: 0']\n",
    "X_val_mx = X_val_mx.drop(['Unnamed: 0'], axis=1)\n",
    "X_test_mx = pd.read_csv('X_test_mx.csv')\n",
    "X_test_mx.index = X_test_mx['Unnamed: 0']\n",
    "X_test_mx = X_test_mx.drop(['Unnamed: 0'], axis=1)\n",
    "y_train_mx = pd.read_csv('y_train_mx.csv')\n",
    "y_train_mx.index = y_train_mx['Unnamed: 0']\n",
    "y_train_mx = y_train_mx.drop(['Unnamed: 0'], axis=1)\n",
    "y_val_mx = pd.read_csv('y_val_mx.csv')\n",
    "y_val_mx.index = y_val_mx['Unnamed: 0']\n",
    "y_val_mx = y_val_mx.drop(['Unnamed: 0'], axis=1)\n",
    "y_test_mx = pd.read_csv('y_test_mx.csv')\n",
    "y_test_mx.index = y_test_mx['Unnamed: 0']\n",
    "y_test_mx = y_test_mx.drop(['Unnamed: 0'], axis=1)"
   ]
  },
  {
   "cell_type": "code",
   "execution_count": 13,
   "id": "fa856a4c",
   "metadata": {},
   "outputs": [],
   "source": [
    "# get training plus validation set\n",
    "X_train_plus_val_mx = pd.concat([X_train_mx, X_val_mx])\n",
    "y_train_plus_val_mx = pd.concat([y_train_mx, y_val_mx])"
   ]
  },
  {
   "cell_type": "markdown",
   "id": "927bf064",
   "metadata": {},
   "source": [
    "### Mixed Use: Linear regression"
   ]
  },
  {
   "cell_type": "code",
   "execution_count": 111,
   "id": "a26e4141",
   "metadata": {},
   "outputs": [
    {
     "name": "stdout",
     "output_type": "stream",
     "text": [
      "{'normalize': True, 'fit_intercept': False}\n",
      "LinearRegression(fit_intercept=False, normalize=True)\n",
      "Min RMSE for linear regression is: 10122191127754.484\n"
     ]
    }
   ],
   "source": [
    "# random search for linear regression\n",
    "param_lr_mx = {'fit_intercept': [True,False],\n",
    "               'normalize':[True,False]}\n",
    "\n",
    "lr_cv_mx = RandomizedSearchCV(\n",
    "           LinearRegression(),\n",
    "           param_distributions=param_lr_mx,\n",
    "           n_iter=10,\n",
    "           cv=5,\n",
    "           scoring='neg_root_mean_squared_error', \n",
    "           n_jobs=-1,\n",
    "           random_state=123\n",
    ").fit(X_train_plus_val_mx, np.array(y_train_plus_val_mx).ravel())\n",
    "\n",
    "# find best model hyperparameters \n",
    "print(lr_cv_mx.best_params_)\n",
    "print(lr_cv_mx.best_estimator_)\n",
    "print('Min RMSE for linear regression is: {}'.format(-lr_cv_mx.best_score_))"
   ]
  },
  {
   "cell_type": "code",
   "execution_count": 262,
   "id": "b08f7f82",
   "metadata": {},
   "outputs": [
    {
     "name": "stdout",
     "output_type": "stream",
     "text": [
      "166.25926778386443\n",
      "0.37279578013247006\n",
      "sale_price    329.708793\n",
      "dtype: float64\n",
      "sale_price    205.839057\n",
      "dtype: float64\n"
     ]
    }
   ],
   "source": [
    "# R2, MAE of best model\n",
    "print(mean_absolute_error(y_val_mx, lr_cv_mx.best_estimator_.predict(X_val_mx)))\n",
    "print(lr_cv_mx.best_estimator_.score(X_val_mx, y_val_mx))\n",
    "\n",
    "# RMSE and MAE of baseline model\n",
    "print(rmse(y_val_mx))\n",
    "print(mae(y_val_mx))"
   ]
  },
  {
   "cell_type": "markdown",
   "id": "6d84e511",
   "metadata": {},
   "source": [
    "### Mixed Use: Lasso"
   ]
  },
  {
   "cell_type": "code",
   "execution_count": 113,
   "id": "104076e9",
   "metadata": {},
   "outputs": [
    {
     "name": "stdout",
     "output_type": "stream",
     "text": [
      "{'alpha': 0.15463515822289586, 'fit_intercept': True, 'normalize': False}\n",
      "Lasso(alpha=0.15463515822289586)\n",
      "Min RMSE for lasso fro Mixed Use is: 261.77672139034263\n"
     ]
    }
   ],
   "source": [
    "# random search for lasso\n",
    "param_la_mx = {'alpha': sp_loguniform(1e-4,1e2),\n",
    "            'fit_intercept':[True,False],\n",
    "            'normalize':[True,False]}\n",
    "\n",
    "la_cv_mx = RandomizedSearchCV(\n",
    "        Lasso(),\n",
    "        param_distributions=param_la_mx,\n",
    "        n_iter=10,\n",
    "        cv=5,\n",
    "        scoring='neg_root_mean_squared_error', \n",
    "        n_jobs=-1,\n",
    "        random_state=123\n",
    ").fit(X_train_plus_val_mx, np.array(y_train_plus_val_mx).ravel())\n",
    "\n",
    "# find best model hyperparameters \n",
    "print(la_cv_mx.best_params_)\n",
    "print(la_cv_mx.best_estimator_)\n",
    "print('Min RMSE for lasso fro Mixed Use is: {}'.format(-la_cv_mx.best_score_))"
   ]
  },
  {
   "cell_type": "code",
   "execution_count": 269,
   "id": "6a64c275",
   "metadata": {},
   "outputs": [
    {
     "name": "stdout",
     "output_type": "stream",
     "text": [
      "166.23560605571157\n",
      "0.37279578013247006\n",
      "sale_price    329.708793\n",
      "dtype: float64\n",
      "sale_price    205.839057\n",
      "dtype: float64\n"
     ]
    }
   ],
   "source": [
    "# R2, MAE of best model\n",
    "print(mean_absolute_error(y_val_mx, la_cv_mx.best_estimator_.predict(X_val_mx)))\n",
    "print(lr_cv_mx.best_estimator_.score(X_val_mx, y_val_mx))\n",
    "\n",
    "# RMSE and MAE of baseline model\n",
    "print(rmse(y_val_mx))\n",
    "print(mae(y_val_mx))"
   ]
  },
  {
   "cell_type": "markdown",
   "id": "59c2b737",
   "metadata": {},
   "source": [
    "### Mixed Use: Ridge"
   ]
  },
  {
   "cell_type": "code",
   "execution_count": 91,
   "id": "10519400",
   "metadata": {},
   "outputs": [
    {
     "name": "stdout",
     "output_type": "stream",
     "text": [
      "{'alpha': 76.66289057556017, 'fit_intercept': True, 'normalize': False}\n",
      "Ridge(alpha=76.66289057556017)\n",
      "Min RMSE for ridge on Mixed Use is: 261.77449765235895\n"
     ]
    }
   ],
   "source": [
    "# random search for ridge\n",
    "param_rd_mx = {'alpha': sp_loguniform(1e-4,1e2),\n",
    "            'fit_intercept':[True,False],\n",
    "            'normalize':[True,False]}\n",
    "\n",
    "rd_cv_mx = RandomizedSearchCV(\n",
    "        Ridge(),\n",
    "        param_distributions=param_rd_mx,\n",
    "        n_iter=10,\n",
    "        cv=5,\n",
    "        scoring='neg_root_mean_squared_error', \n",
    "        n_jobs=-1,\n",
    "        random_state=123\n",
    ").fit(X_train_plus_val_mx, np.array(y_train_plus_val_mx).ravel())\n",
    "\n",
    "# Find best model hyperparameters \n",
    "print(rd_cv_mx.best_params_)\n",
    "print(rd_cv_mx.best_estimator_)\n",
    "print('Min RMSE for ridge on Mixed Use is: {}'.format(-rd_cv_mx.best_score_))"
   ]
  },
  {
   "cell_type": "code",
   "execution_count": 270,
   "id": "61698bbb",
   "metadata": {},
   "outputs": [
    {
     "name": "stdout",
     "output_type": "stream",
     "text": [
      "165.30173216469058\n",
      "0.37078952054923975\n",
      "sale_price    329.708793\n",
      "dtype: float64\n",
      "sale_price    205.839057\n",
      "dtype: float64\n"
     ]
    }
   ],
   "source": [
    "# R2, MAE of best model\n",
    "print(mean_absolute_error(y_val_mx, rd_cv_mx.best_estimator_.predict(X_val_mx)))\n",
    "print(rd_cv_mx.best_estimator_.score(X_val_mx, y_val_mx))\n",
    "\n",
    "# RMSE and MAE of baseline model\n",
    "print(rmse(y_val_mx))\n",
    "print(mae(y_val_mx))"
   ]
  },
  {
   "cell_type": "markdown",
   "id": "790337d3",
   "metadata": {},
   "source": [
    "### Mixed Use: KNeighborsRegressor"
   ]
  },
  {
   "cell_type": "code",
   "execution_count": 115,
   "id": "631420e2",
   "metadata": {},
   "outputs": [
    {
     "name": "stdout",
     "output_type": "stream",
     "text": [
      "{'leaf_size': 20, 'n_neighbors': 11, 'weights': 'distance'}\n",
      "KNeighborsRegressor(leaf_size=20, n_neighbors=11, weights='distance')\n",
      "Min RMSE for Knn regressor on Mixed Use is: 240.56197162525683\n"
     ]
    }
   ],
   "source": [
    "# random search for KNeighborsRegressor\n",
    "param_knn_mx = {'n_neighbors': sp_randint(1,21),\n",
    "             'weights': ['uniform', 'distance'],\n",
    "             'leaf_size': sp_randint(1,21)}\n",
    "\n",
    "knn_cv_mx = RandomizedSearchCV(\n",
    "         KNeighborsRegressor(),\n",
    "         param_distributions=param_knn_mx,\n",
    "         n_iter=10,\n",
    "         cv=5,\n",
    "         scoring='neg_root_mean_squared_error', \n",
    "         n_jobs=-1,\n",
    "         random_state=123\n",
    ").fit(X_train_plus_val_mx, np.array(y_train_plus_val_mx).ravel())\n",
    "\n",
    "# find best model hyperparameters \n",
    "print(knn_cv_mx.best_params_)\n",
    "print(knn_cv_mx.best_estimator_)\n",
    "print('Min RMSE for Knn regressor on Mixed Use is: {}'.format(-knn_cv_mx.best_score_))"
   ]
  },
  {
   "cell_type": "code",
   "execution_count": 271,
   "id": "de925e3f",
   "metadata": {},
   "outputs": [
    {
     "name": "stdout",
     "output_type": "stream",
     "text": [
      "3.2142814392896205e-06\n",
      "0.9999999999999951\n",
      "sale_price    329.708793\n",
      "dtype: float64\n",
      "sale_price    205.839057\n",
      "dtype: float64\n"
     ]
    }
   ],
   "source": [
    "# R2, MAE of best model\n",
    "print(mean_absolute_error(y_val_mx, knn_cv_mx.best_estimator_.predict(X_val_mx)))\n",
    "print(knn_cv_mx.best_estimator_.score(X_val_mx, y_val_mx))\n",
    "\n",
    "# RMSE and MAE of baseline model\n",
    "print(rmse(y_val_mx))\n",
    "print(mae(y_val_mx))"
   ]
  },
  {
   "cell_type": "markdown",
   "id": "49ddb9b9",
   "metadata": {},
   "source": [
    "### Mixed Use: RandomForestRegressor"
   ]
  },
  {
   "cell_type": "code",
   "execution_count": 95,
   "id": "ffd72c50",
   "metadata": {},
   "outputs": [
    {
     "name": "stdout",
     "output_type": "stream",
     "text": [
      "{'n_estimators': 800, 'min_samples_split': 2, 'min_samples_leaf': 5, 'max_features': 'auto', 'max_depth': None}\n",
      "RandomForestRegressor(min_samples_leaf=5, n_estimators=800)\n",
      "Min RMSE is for random forest regressor on Mixed Use is: 207.72343038919698\n"
     ]
    }
   ],
   "source": [
    "# random search for RandomForestRegressor\n",
    "param_rf_mx = {'n_estimators': [100, 120, 200, 300, 500, 800, 1200],\n",
    "            'max_depth': [None, 5, 8, 15, 25, 30],\n",
    "            'min_samples_split': [1, 2, 5, 10 ,15, 100],\n",
    "            'min_samples_leaf': [1, 2, 5, 10],\n",
    "            'max_features': ['auto', 'sqrt', 'log2']}\n",
    "\n",
    "rf_cv_mx = RandomizedSearchCV(\n",
    "        RandomForestRegressor(),\n",
    "        param_distributions=param_rf_mx,\n",
    "        n_iter=10,\n",
    "        cv=5,\n",
    "        scoring='neg_root_mean_squared_error', \n",
    "        n_jobs=-1,\n",
    "        random_state=123\n",
    ").fit(X_train_plus_val_mx, np.array(y_train_plus_val_mx).ravel())\n",
    "\n",
    "# find best model hyperparameters \n",
    "print(rf_cv_mx.best_params_)\n",
    "print(rf_cv_mx.best_estimator_)\n",
    "print('Min RMSE is for random forest regressor on Mixed Use is: {}'.format(-rf_cv_mx.best_score_))"
   ]
  },
  {
   "cell_type": "code",
   "execution_count": 272,
   "id": "ef983b87",
   "metadata": {},
   "outputs": [
    {
     "name": "stdout",
     "output_type": "stream",
     "text": [
      "73.97172490228284\n",
      "0.7960058326802726\n",
      "sale_price    329.708793\n",
      "dtype: float64\n",
      "sale_price    205.839057\n",
      "dtype: float64\n"
     ]
    }
   ],
   "source": [
    "# R2, MAE of best model\n",
    "print(mean_absolute_error(y_val_mx, rf_cv_mx.best_estimator_.predict(X_val_mx)))\n",
    "print(rf_cv_mx.best_estimator_.score(X_val_mx, y_val_mx))\n",
    "\n",
    "# RMSE and MAE of baseline model\n",
    "print(rmse(y_val_mx))\n",
    "print(mae(y_val_mx))"
   ]
  },
  {
   "cell_type": "markdown",
   "id": "14668a69",
   "metadata": {},
   "source": [
    "### Mixed Use: MLPRegressor"
   ]
  },
  {
   "cell_type": "code",
   "execution_count": 97,
   "id": "8ac92283",
   "metadata": {},
   "outputs": [
    {
     "name": "stdout",
     "output_type": "stream",
     "text": [
      "{'alpha': 2.765529811671396, 'batch_size': 20, 'hidden_layer_sizes': 4, 'learning_rate_init': 0.008664699052148592}\n",
      "MLPRegressor(alpha=2.765529811671396, batch_size=20, hidden_layer_sizes=4,\n",
      "             learning_rate_init=0.008664699052148592)\n",
      "Min RMSE for MLP regressor on Mixed Use is: 236.55352605521776\n"
     ]
    }
   ],
   "source": [
    "# random search for MLPRegressor\n",
    "hl = []\n",
    "for i in [1, 2, 3, 4, 5, 10, 15, 25, 30]:\n",
    "    hl.append((i))\n",
    "    hl.append((i,i))\n",
    "\n",
    "param_mlp_mx = {'hidden_layer_sizes': hl,\n",
    "             'learning_rate_init': sp_loguniform(1e-4, 1e2),\n",
    "             'alpha': sp_loguniform(1e-4, 1e2),\n",
    "             'batch_size': [1, 3, 5, 10, 20, 50, 100, 250, 500]}\n",
    "\n",
    "mlp_cv_mx = RandomizedSearchCV(\n",
    "         MLPRegressor(),\n",
    "         param_distributions=param_mlp_mx,\n",
    "         n_iter=10,\n",
    "         cv=5,\n",
    "         scoring='neg_root_mean_squared_error', \n",
    "         n_jobs=-1,\n",
    "         random_state=123\n",
    ").fit(X_train_plus_val_mx, np.array(y_train_plus_val_mx).ravel())\n",
    "\n",
    "# find best model hyperparameters \n",
    "print(mlp_cv_mx.best_params_)\n",
    "print(mlp_cv_mx.best_estimator_)\n",
    "print('Min RMSE for MLP regressor on Mixed Use is: {}'.format(-mlp_cv_mx.best_score_))"
   ]
  },
  {
   "cell_type": "code",
   "execution_count": 273,
   "id": "d7c64d7e",
   "metadata": {},
   "outputs": [
    {
     "name": "stdout",
     "output_type": "stream",
     "text": [
      "136.4327826735772\n",
      "0.5068681123950971\n",
      "sale_price    329.708793\n",
      "dtype: float64\n",
      "sale_price    205.839057\n",
      "dtype: float64\n"
     ]
    }
   ],
   "source": [
    "# R2, MAE of best model\n",
    "print(mean_absolute_error(y_val_mx, mlp_cv_mx.best_estimator_.predict(X_val_mx)))\n",
    "print(mlp_cv_mx.best_estimator_.score(X_val_mx, y_val_mx))\n",
    "\n",
    "# RMSE and MAE of baseline model\n",
    "print(rmse(y_val_mx))\n",
    "print(mae(y_val_mx))"
   ]
  },
  {
   "cell_type": "markdown",
   "id": "64c0ebb4",
   "metadata": {},
   "source": [
    "### Mixed Use: XGBoost"
   ]
  },
  {
   "cell_type": "code",
   "execution_count": 99,
   "id": "99e829bd",
   "metadata": {},
   "outputs": [
    {
     "name": "stdout",
     "output_type": "stream",
     "text": [
      "[11:35:01] WARNING: C:/Users/Administrator/workspace/xgboost-win64_release_1.5.1/src/learner.cc:576: \n",
      "Parameters: { \"learning_rate_init\" } might not be used.\n",
      "\n",
      "  This could be a false alarm, with some parameters getting used by language bindings but\n",
      "  then being mistakenly passed down to XGBoost core, or some parameter actually being used\n",
      "  but getting flagged wrongly here. Please open an issue if you find any such cases.\n",
      "\n",
      "\n",
      "{'learning_rate_init': 0.20318358298265976, 'max_depth': 6, 'min_child_weight': 5, 'n_estimators': 500}\n",
      "XGBRegressor(base_score=0.5, booster='gbtree', colsample_bylevel=1,\n",
      "             colsample_bynode=1, colsample_bytree=1, enable_categorical=False,\n",
      "             gamma=0, gpu_id=-1, importance_type=None,\n",
      "             interaction_constraints='', learning_rate=0.300000012,\n",
      "             learning_rate_init=0.20318358298265976, max_delta_step=0,\n",
      "             max_depth=6, min_child_weight=5, missing=nan,\n",
      "             monotone_constraints='()', n_estimators=500, n_jobs=16, nthread=-1,\n",
      "             num_parallel_tree=1, predictor='auto', random_state=0, reg_alpha=0,\n",
      "             reg_lambda=1, scale_pos_weight=1, subsample=1, tree_method='exact',\n",
      "             validate_parameters=1, verbosity=None)\n",
      "Min RMSE for XGBoost on Mixed Use is: 213.94762819826306\n"
     ]
    }
   ],
   "source": [
    "# random search for XGBoost\n",
    "param_xg_mx = {'n_estimators':[100, 500 ,1000],\n",
    "               'max_depth': sp_randint(3, 15),\n",
    "               'learning_rate_init': sp_loguniform(1e-4, 1e2),\n",
    "               'min_child_weight': [1, 3, 5, 7]}\n",
    "\n",
    "xg_cv_mx = RandomizedSearchCV(\n",
    "            xgb.XGBRegressor(nthread=-1),\n",
    "            param_distributions=param_xg_mx,\n",
    "            n_iter=10,\n",
    "            cv=5,\n",
    "            scoring='neg_root_mean_squared_error',\n",
    "            n_jobs=-1,\n",
    "            random_state=123\n",
    ").fit(X_train_plus_val_mx, np.array(y_train_plus_val_mx).ravel())\n",
    "\n",
    "# find best model hyperparameters \n",
    "print(xg_cv_mx.best_params_)\n",
    "print(xg_cv_mx.best_estimator_)\n",
    "print('Min RMSE for XGBoost on Mixed Use is: {}'.format(-xg_cv_mx.best_score_))"
   ]
  },
  {
   "cell_type": "code",
   "execution_count": 274,
   "id": "4762d999",
   "metadata": {},
   "outputs": [
    {
     "name": "stdout",
     "output_type": "stream",
     "text": [
      "4.2681320396697835\n",
      "0.9996029786738734\n",
      "sale_price    329.708793\n",
      "dtype: float64\n",
      "sale_price    205.839057\n",
      "dtype: float64\n"
     ]
    }
   ],
   "source": [
    "# R2, MAE of best model\n",
    "print(mean_absolute_error(y_val_mx, xg_cv_mx.best_estimator_.predict(X_val_mx)))\n",
    "print(xg_cv_mx.best_estimator_.score(X_val_mx, y_val_mx))\n",
    "\n",
    "# RMSE and MAE of baseline model\n",
    "print(rmse(y_val_mx))\n",
    "print(mae(y_val_mx))"
   ]
  },
  {
   "cell_type": "markdown",
   "id": "33400573",
   "metadata": {},
   "source": [
    "### Experiment on Vacant Land"
   ]
  },
  {
   "cell_type": "code",
   "execution_count": 14,
   "id": "a5cc0c3c",
   "metadata": {},
   "outputs": [],
   "source": [
    "# vacant-- training, validation and test data\n",
    "X_train_va = pd.read_csv('X_train_va.csv')\n",
    "X_train_va.index = X_train_va['Unnamed: 0']\n",
    "X_train_va = X_train_va.drop(['Unnamed: 0'], axis=1)\n",
    "\n",
    "X_val_va = pd.read_csv('X_val_va.csv')\n",
    "X_val_va.index = X_val_va['Unnamed: 0']\n",
    "X_val_va = X_val_va.drop(['Unnamed: 0'], axis=1)\n",
    "\n",
    "X_test_va = pd.read_csv('X_test_va.csv')\n",
    "X_test_va.index = X_test_va['Unnamed: 0']\n",
    "X_test_va = X_test_va.drop(['Unnamed: 0'], axis=1)\n",
    "\n",
    "y_train_va = pd.read_csv('y_train_va.csv')\n",
    "y_train_va.index = y_train_va['Unnamed: 0']\n",
    "y_train_va = y_train_va.drop(['Unnamed: 0'], axis=1)\n",
    "\n",
    "y_val_va = pd.read_csv('y_val_va.csv')\n",
    "y_val_va.index = y_val_va['Unnamed: 0']\n",
    "y_val_va = y_val_va.drop(['Unnamed: 0'], axis=1)\n",
    "\n",
    "y_test_va = pd.read_csv('y_test_va.csv')\n",
    "y_test_va.index = y_test_va['Unnamed: 0']\n",
    "y_test_va = y_test_va.drop(['Unnamed: 0'], axis=1)"
   ]
  },
  {
   "cell_type": "code",
   "execution_count": 15,
   "id": "2c7737c0",
   "metadata": {},
   "outputs": [],
   "source": [
    "# Vacant Y train+val,--concate and prepare for \"PredefinedSplit\"\n",
    "y_train_plus_val_va = pd.concat([y_train_va, y_val_va])\n",
    "y_train_plus_val_va_copy = y_train_plus_val_va.copy()\n",
    "y_train_plus_val_va_copy.columns = ['train_val_split']\n",
    "y_train_plus_val_va_copy.loc[y_train_va.index,'train_val_split'] = -1\n",
    "y_train_plus_val_va_copy.loc[y_val_va.index,'train_val_split'] = 0\n",
    "val_fold_va = np.array(y_train_plus_val_va_copy)\n",
    "ps_va = PredefinedSplit(val_fold_va)\n",
    "\n",
    "# Vacant X train+val\n",
    "X_train_plus_val_va = pd.concat([X_train_va, X_val_va])"
   ]
  },
  {
   "cell_type": "markdown",
   "id": "c8a028ae",
   "metadata": {},
   "source": [
    "### Vacant Land: Linear regression"
   ]
  },
  {
   "cell_type": "code",
   "execution_count": 119,
   "id": "79bc892e",
   "metadata": {},
   "outputs": [
    {
     "name": "stdout",
     "output_type": "stream",
     "text": [
      "{'normalize': True, 'fit_intercept': False}\n",
      "LinearRegression(fit_intercept=False, normalize=True)\n",
      "Min RMSE for linear regression is: 10051643301709.084\n"
     ]
    }
   ],
   "source": [
    "# random search for linear regression\n",
    "param_lr_va = {'fit_intercept': [True,False],\n",
    "               'normalize':[True,False]}\n",
    "\n",
    "lr_cv_va = RandomizedSearchCV(\n",
    "           LinearRegression(),\n",
    "           param_distributions=param_lr_va,\n",
    "           n_iter=10,\n",
    "           cv=5,\n",
    "           scoring='neg_root_mean_squared_error', \n",
    "           n_jobs=-1,\n",
    "           random_state=123\n",
    ").fit(X_train_plus_val_va, np.array(y_train_plus_val_va).ravel())\n",
    "\n",
    "# find best model hyperparameters \n",
    "print(lr_cv_va.best_params_)\n",
    "print(lr_cv_va.best_estimator_)\n",
    "print('Min RMSE for linear regression is: {}'.format(-lr_cv_va.best_score_))"
   ]
  },
  {
   "cell_type": "code",
   "execution_count": 276,
   "id": "204ba2b9",
   "metadata": {},
   "outputs": [
    {
     "name": "stdout",
     "output_type": "stream",
     "text": [
      "156.21638625937769\n",
      "0.09859158429206194\n",
      "sale_price    329.708793\n",
      "dtype: float64\n",
      "sale_price    205.839057\n",
      "dtype: float64\n"
     ]
    }
   ],
   "source": [
    "# R2, MAE of best model\n",
    "print(mean_absolute_error(y_val_va, lr_cv_va.best_estimator_.predict(X_val_va)))\n",
    "print(lr_cv_va.best_estimator_.score(X_val_va, y_val_va))\n",
    "\n",
    "# RMSE and MAE of baseline model\n",
    "print(rmse(y_val_mx))\n",
    "print(mae(y_val_mx))"
   ]
  },
  {
   "cell_type": "markdown",
   "id": "2522d7dd",
   "metadata": {},
   "source": [
    "### Vacant Land: Lasso"
   ]
  },
  {
   "cell_type": "code",
   "execution_count": 121,
   "id": "998473e1",
   "metadata": {},
   "outputs": [
    {
     "name": "stdout",
     "output_type": "stream",
     "text": [
      "{'alpha': 0.07684071705306554, 'fit_intercept': False, 'normalize': True}\n",
      "Lasso(alpha=0.07684071705306554, fit_intercept=False, normalize=True)\n",
      "Min RMSE for lasso fro Mixed Use is: 331.1095738473251\n"
     ]
    }
   ],
   "source": [
    "# random search for lasso\n",
    "param_la_va = {'alpha': sp_loguniform(1e-4,1e2),\n",
    "            'fit_intercept':[True,False],\n",
    "            'normalize':[True,False]}\n",
    "\n",
    "la_cv_va = RandomizedSearchCV(\n",
    "        Lasso(),\n",
    "        param_distributions=param_la_va,\n",
    "        n_iter=10,\n",
    "        cv=5,\n",
    "        scoring='neg_root_mean_squared_error', \n",
    "        n_jobs=-1,\n",
    "        random_state=123\n",
    ").fit(X_train_plus_val_va, np.array(y_train_plus_val_va).ravel())\n",
    "\n",
    "# find best model hyperparameters \n",
    "print(la_cv_va.best_params_)\n",
    "print(la_cv_va.best_estimator_)\n",
    "print('Min RMSE for lasso fro Mixed Use is: {}'.format(-la_cv_va.best_score_))"
   ]
  },
  {
   "cell_type": "code",
   "execution_count": 277,
   "id": "bdd9ab99",
   "metadata": {},
   "outputs": [
    {
     "name": "stdout",
     "output_type": "stream",
     "text": [
      "155.89813219865084\n",
      "0.09730745187488532\n",
      "sale_price    366.61416\n",
      "dtype: float64\n",
      "sale_price    170.903947\n",
      "dtype: float64\n"
     ]
    }
   ],
   "source": [
    "# R2, MAE of best model\n",
    "print(mean_absolute_error(y_val_va, la_cv_va.best_estimator_.predict(X_val_va)))\n",
    "print(la_cv_va.best_estimator_.score(X_val_va, y_val_va))\n",
    "\n",
    "# RMSE and MAE of baseline model\n",
    "print(rmse(y_val_va))\n",
    "print(mae(y_val_va))"
   ]
  },
  {
   "cell_type": "markdown",
   "id": "ee79a49e",
   "metadata": {},
   "source": [
    "### Vacant Land: Ridge"
   ]
  },
  {
   "cell_type": "code",
   "execution_count": 123,
   "id": "fe6b26bc",
   "metadata": {},
   "outputs": [
    {
     "name": "stdout",
     "output_type": "stream",
     "text": [
      "{'alpha': 1.5094374246471327, 'fit_intercept': True, 'normalize': True}\n",
      "Ridge(alpha=1.5094374246471327, normalize=True)\n",
      "Min RMSE for ridge on Vacant Land is: 329.3994836555059\n"
     ]
    }
   ],
   "source": [
    "# random search for ridge\n",
    "param_rd_va = {'alpha': sp_loguniform(1e-4,1e2),\n",
    "            'fit_intercept':[True,False],\n",
    "            'normalize':[True,False]}\n",
    "\n",
    "rd_cv_va = RandomizedSearchCV(\n",
    "        Ridge(),\n",
    "        param_distributions=param_rd_va,\n",
    "        n_iter=10,\n",
    "        cv=5,\n",
    "        scoring='neg_root_mean_squared_error', \n",
    "        n_jobs=-1,\n",
    "        random_state=123\n",
    ").fit(X_train_plus_val_va, np.array(y_train_plus_val_va).ravel())\n",
    "\n",
    "# Find best model hyperparameters \n",
    "print(rd_cv_va.best_params_)\n",
    "print(rd_cv_va.best_estimator_)\n",
    "print('Min RMSE for ridge on Vacant Land is: {}'.format(-rd_cv_va.best_score_))"
   ]
  },
  {
   "cell_type": "code",
   "execution_count": 278,
   "id": "976c83aa",
   "metadata": {},
   "outputs": [
    {
     "name": "stdout",
     "output_type": "stream",
     "text": [
      "160.61124378646315\n",
      "0.05043984161035908\n",
      "sale_price    366.61416\n",
      "dtype: float64\n",
      "sale_price    170.903947\n",
      "dtype: float64\n"
     ]
    }
   ],
   "source": [
    "# R2, MAE of best model\n",
    "print(mean_absolute_error(y_val_va, rd_cv_va.best_estimator_.predict(X_val_va)))\n",
    "print(rd_cv_va.best_estimator_.score(X_val_va, y_val_va))\n",
    "\n",
    "# RMSE and MAE of baseline model\n",
    "print(rmse(y_val_va))\n",
    "print(mae(y_val_va))"
   ]
  },
  {
   "cell_type": "markdown",
   "id": "2a9dc2ac",
   "metadata": {},
   "source": [
    "### Vacant Land: KNN Regressor"
   ]
  },
  {
   "cell_type": "code",
   "execution_count": 125,
   "id": "e8e53679",
   "metadata": {},
   "outputs": [
    {
     "name": "stdout",
     "output_type": "stream",
     "text": [
      "{'leaf_size': 20, 'n_neighbors': 15, 'weights': 'distance'}\n",
      "KNeighborsRegressor(leaf_size=20, n_neighbors=15, weights='distance')\n",
      "Min RMSE for Knn regressor on Mixed Use is: 267.6925559640128\n"
     ]
    }
   ],
   "source": [
    "# random search for KNeighborsRegressor\n",
    "param_knn_va = {'n_neighbors': sp_randint(1,21),\n",
    "             'weights': ['uniform', 'distance'],\n",
    "             'leaf_size': sp_randint(1,21)}\n",
    "\n",
    "knn_cv_va = RandomizedSearchCV(\n",
    "         KNeighborsRegressor(),\n",
    "         param_distributions=param_knn_va,\n",
    "         n_iter=10,\n",
    "         cv=5,\n",
    "         scoring='neg_root_mean_squared_error', \n",
    "         n_jobs=-1,\n",
    "         random_state=123\n",
    ").fit(X_train_plus_val_va, np.array(y_train_plus_val_va).ravel())\n",
    "\n",
    "# find best model hyperparameters \n",
    "print(knn_cv_va.best_params_)\n",
    "print(knn_cv_va.best_estimator_)\n",
    "print('Min RMSE for Knn regressor on Mixed Use is: {}'.format(-knn_cv_va.best_score_))"
   ]
  },
  {
   "cell_type": "code",
   "execution_count": 279,
   "id": "d108e3e0",
   "metadata": {},
   "outputs": [
    {
     "name": "stdout",
     "output_type": "stream",
     "text": [
      "1.4553803074263698e-05\n",
      "0.9999999999999154\n",
      "sale_price    366.61416\n",
      "dtype: float64\n",
      "sale_price    170.903947\n",
      "dtype: float64\n"
     ]
    }
   ],
   "source": [
    "# R2, MAE of best model\n",
    "print(mean_absolute_error(y_val_va, knn_cv_va.best_estimator_.predict(X_val_va)))\n",
    "print(knn_cv_va.best_estimator_.score(X_val_va, y_val_va))\n",
    "\n",
    "# RMSE and MAE of baseline model\n",
    "print(rmse(y_val_va))\n",
    "print(mae(y_val_va))"
   ]
  },
  {
   "cell_type": "markdown",
   "id": "1043bbfd",
   "metadata": {},
   "source": [
    "### Vacant Land: Random Forest Regressor"
   ]
  },
  {
   "cell_type": "code",
   "execution_count": 127,
   "id": "245571e4",
   "metadata": {},
   "outputs": [
    {
     "name": "stdout",
     "output_type": "stream",
     "text": [
      "{'n_estimators': 800, 'min_samples_split': 2, 'min_samples_leaf': 5, 'max_features': 'auto', 'max_depth': None}\n",
      "RandomForestRegressor(min_samples_leaf=5, n_estimators=800)\n",
      "Min RMSE is for random forest regressor on Mixed Use is: 253.87659968943603\n"
     ]
    }
   ],
   "source": [
    "# random search for RandomForestRegressor\n",
    "param_rf_va = {'n_estimators': [100, 120, 200, 300, 500, 800, 1200],\n",
    "            'max_depth': [None, 5, 8, 15, 25, 30],\n",
    "            'min_samples_split': [1, 2, 5, 10 ,15, 100],\n",
    "            'min_samples_leaf': [1, 2, 5, 10],\n",
    "            'max_features': ['auto', 'sqrt', 'log2']}\n",
    "\n",
    "rf_cv_va = RandomizedSearchCV(\n",
    "        RandomForestRegressor(),\n",
    "        param_distributions=param_rf_va,\n",
    "        n_iter=10,\n",
    "        cv=5,\n",
    "        scoring='neg_root_mean_squared_error', \n",
    "        n_jobs=-1,\n",
    "        random_state=123\n",
    ").fit(X_train_plus_val_va, np.array(y_train_plus_val_va).ravel())\n",
    "\n",
    "# find best model hyperparameters \n",
    "print(rf_cv_va.best_params_)\n",
    "print(rf_cv_va.best_estimator_)\n",
    "print('Min RMSE is for random forest regressor on Mixed Use is: {}'.format(-rf_cv_va.best_score_))"
   ]
  },
  {
   "cell_type": "code",
   "execution_count": 280,
   "id": "0f9ad84d",
   "metadata": {},
   "outputs": [
    {
     "name": "stdout",
     "output_type": "stream",
     "text": [
      "68.28386125058998\n",
      "0.6509289778863712\n",
      "sale_price    366.61416\n",
      "dtype: float64\n",
      "sale_price    170.903947\n",
      "dtype: float64\n"
     ]
    }
   ],
   "source": [
    "# R2, MAE of best model\n",
    "print(mean_absolute_error(y_val_va, rf_cv_va.best_estimator_.predict(X_val_va)))\n",
    "print(rf_cv_va.best_estimator_.score(X_val_va, y_val_va))\n",
    "\n",
    "# RMSE and MAE of baseline model\n",
    "print(rmse(y_val_va))\n",
    "print(mae(y_val_va))"
   ]
  },
  {
   "cell_type": "markdown",
   "id": "161a685d",
   "metadata": {},
   "source": [
    "### Vacant Land: MLP Regressor"
   ]
  },
  {
   "cell_type": "code",
   "execution_count": 129,
   "id": "1bd2764a",
   "metadata": {},
   "outputs": [
    {
     "name": "stdout",
     "output_type": "stream",
     "text": [
      "{'alpha': 0.0011051954732269518, 'batch_size': 100, 'hidden_layer_sizes': (15, 15), 'learning_rate_init': 0.0002900807334178909}\n",
      "MLPRegressor(alpha=0.0011051954732269518, batch_size=100,\n",
      "             hidden_layer_sizes=(15, 15),\n",
      "             learning_rate_init=0.0002900807334178909)\n",
      "Min RMSE for MLP regressor on Mixed Use is: 317.7144101127273\n"
     ]
    }
   ],
   "source": [
    "# random search for MLPRegressor\n",
    "hl = []\n",
    "for i in [1, 2, 3, 4, 5, 10, 15, 25, 30]:\n",
    "    hl.append((i))\n",
    "    hl.append((i,i))\n",
    "\n",
    "param_mlp_va = {'hidden_layer_sizes': hl,\n",
    "             'learning_rate_init': sp_loguniform(1e-4, 1e2),\n",
    "             'alpha': sp_loguniform(1e-4, 1e2),\n",
    "             'batch_size': [1, 3, 5, 10, 20, 50, 100, 250, 500]}\n",
    "\n",
    "mlp_cv_va = RandomizedSearchCV(\n",
    "         MLPRegressor(),\n",
    "         param_distributions=param_mlp_mx,\n",
    "         n_iter=10,\n",
    "         cv=5,\n",
    "         scoring='neg_root_mean_squared_error', \n",
    "         n_jobs=-1,\n",
    "         random_state=123\n",
    ").fit(X_train_plus_val_va, np.array(y_train_plus_val_va).ravel())\n",
    "\n",
    "# find best model hyperparameters \n",
    "print(mlp_cv_va.best_params_)\n",
    "print(mlp_cv_va.best_estimator_)\n",
    "print('Min RMSE for MLP regressor on Mixed Use is: {}'.format(-mlp_cv_va.best_score_))"
   ]
  },
  {
   "cell_type": "code",
   "execution_count": 281,
   "id": "38be78c1",
   "metadata": {},
   "outputs": [
    {
     "name": "stdout",
     "output_type": "stream",
     "text": [
      "128.59049613054012\n",
      "0.23827270262750644\n",
      "sale_price    366.61416\n",
      "dtype: float64\n",
      "sale_price    170.903947\n",
      "dtype: float64\n"
     ]
    }
   ],
   "source": [
    "# R2, MAE of best model\n",
    "print(mean_absolute_error(y_val_va, mlp_cv_va.best_estimator_.predict(X_val_va)))\n",
    "print(mlp_cv_va.best_estimator_.score(X_val_va, y_val_va))\n",
    "\n",
    "# RMSE and MAE of baseline model\n",
    "print(rmse(y_val_va))\n",
    "print(mae(y_val_va))"
   ]
  },
  {
   "cell_type": "markdown",
   "id": "f25f74e0",
   "metadata": {},
   "source": [
    "### Vacant Land: XGBoost"
   ]
  },
  {
   "cell_type": "code",
   "execution_count": 131,
   "id": "a1ceb7ae",
   "metadata": {},
   "outputs": [
    {
     "name": "stdout",
     "output_type": "stream",
     "text": [
      "[12:02:10] WARNING: C:/Users/Administrator/workspace/xgboost-win64_release_1.5.1/src/learner.cc:576: \n",
      "Parameters: { \"learning_rate_init\" } might not be used.\n",
      "\n",
      "  This could be a false alarm, with some parameters getting used by language bindings but\n",
      "  then being mistakenly passed down to XGBoost core, or some parameter actually being used\n",
      "  but getting flagged wrongly here. Please open an issue if you find any such cases.\n",
      "\n",
      "\n",
      "{'learning_rate_init': 1.5094374246471327, 'max_depth': 5, 'min_child_weight': 1, 'n_estimators': 1000}\n",
      "XGBRegressor(base_score=0.5, booster='gbtree', colsample_bylevel=1,\n",
      "             colsample_bynode=1, colsample_bytree=1, enable_categorical=False,\n",
      "             gamma=0, gpu_id=-1, importance_type=None,\n",
      "             interaction_constraints='', learning_rate=0.300000012,\n",
      "             learning_rate_init=1.5094374246471327, max_delta_step=0,\n",
      "             max_depth=5, min_child_weight=1, missing=nan,\n",
      "             monotone_constraints='()', n_estimators=1000, n_jobs=16,\n",
      "             nthread=-1, num_parallel_tree=1, predictor='auto', random_state=0,\n",
      "             reg_alpha=0, reg_lambda=1, scale_pos_weight=1, subsample=1,\n",
      "             tree_method='exact', validate_parameters=1, verbosity=None)\n",
      "Min RMSE for XGBoost on Mixed Use is: 253.55777906733934\n"
     ]
    }
   ],
   "source": [
    "# random search for XGBoost\n",
    "param_xg_va = {'n_estimators':[100, 500 ,1000],\n",
    "               'max_depth': sp_randint(3, 15),\n",
    "               'learning_rate_init': sp_loguniform(1e-4, 1e2),\n",
    "               'min_child_weight': [1, 3, 5, 7]}\n",
    "\n",
    "xg_cv_va = RandomizedSearchCV(\n",
    "            xgb.XGBRegressor(nthread=-1),\n",
    "            param_distributions=param_xg_mx,\n",
    "            n_iter=10,\n",
    "            cv=5,\n",
    "            scoring='neg_root_mean_squared_error',\n",
    "            n_jobs=-1,\n",
    "            random_state=123\n",
    ").fit(X_train_plus_val_va, np.array(y_train_plus_val_va).ravel())\n",
    "\n",
    "# find best model hyperparameters \n",
    "print(xg_cv_va.best_params_)\n",
    "print(xg_cv_va.best_estimator_)\n",
    "print('Min RMSE for XGBoost on Mixed Use is: {}'.format(-xg_cv_va.best_score_))"
   ]
  },
  {
   "cell_type": "code",
   "execution_count": 282,
   "id": "5d2c1c21",
   "metadata": {},
   "outputs": [
    {
     "name": "stdout",
     "output_type": "stream",
     "text": [
      "10.912587082613774\n",
      "0.9980158591177141\n",
      "sale_price    366.61416\n",
      "dtype: float64\n",
      "sale_price    170.903947\n",
      "dtype: float64\n"
     ]
    }
   ],
   "source": [
    "# R2, MAE of best model\n",
    "print(mean_absolute_error(y_val_va, xg_cv_va.best_estimator_.predict(X_val_va)))\n",
    "print(xg_cv_va.best_estimator_.score(X_val_va, y_val_va))\n",
    "\n",
    "# RMSE and MAE of baseline model\n",
    "print(rmse(y_val_va))\n",
    "print(mae(y_val_va))"
   ]
  },
  {
   "cell_type": "markdown",
   "id": "1a659a93",
   "metadata": {},
   "source": [
    "### Best model retraining and testing"
   ]
  },
  {
   "cell_type": "markdown",
   "id": "cf0f9dcf",
   "metadata": {},
   "source": [
    "### Single Family"
   ]
  },
  {
   "cell_type": "code",
   "execution_count": 287,
   "id": "1a889025",
   "metadata": {},
   "outputs": [
    {
     "name": "stdout",
     "output_type": "stream",
     "text": [
      "[22:19:57] WARNING: C:/Users/Administrator/workspace/xgboost-win64_release_1.5.1/src/learner.cc:576: \n",
      "Parameters: { \"learning_rate_init\" } might not be used.\n",
      "\n",
      "  This could be a false alarm, with some parameters getting used by language bindings but\n",
      "  then being mistakenly passed down to XGBoost core, or some parameter actually being used\n",
      "  but getting flagged wrongly here. Please open an issue if you find any such cases.\n",
      "\n",
      "\n",
      "266.5430907257662\n",
      "95.60268747334048\n"
     ]
    }
   ],
   "source": [
    "# retrain and compute r2, rmse and mae\n",
    "best_sf = xg_cv_sf.best_estimator_.fit(X_train_plus_val_sf, y_train_plus_val_sf)\n",
    "print(mean_squared_error(y_test_sf, best_sf.predict(X_test_sf), squared=False))\n",
    "print(mean_absolute_error(y_test_sf, best_sf.predict(X_test_sf)))"
   ]
  },
  {
   "cell_type": "markdown",
   "id": "59639935",
   "metadata": {},
   "source": [
    "### Multi Family"
   ]
  },
  {
   "cell_type": "code",
   "execution_count": 286,
   "id": "f4f8422a",
   "metadata": {},
   "outputs": [
    {
     "name": "stdout",
     "output_type": "stream",
     "text": [
      "[22:19:49] WARNING: C:/Users/Administrator/workspace/xgboost-win64_release_1.5.1/src/learner.cc:576: \n",
      "Parameters: { \"learning_rate_init\" } might not be used.\n",
      "\n",
      "  This could be a false alarm, with some parameters getting used by language bindings but\n",
      "  then being mistakenly passed down to XGBoost core, or some parameter actually being used\n",
      "  but getting flagged wrongly here. Please open an issue if you find any such cases.\n",
      "\n",
      "\n",
      "360.5010708535746\n",
      "167.06683443636098\n"
     ]
    }
   ],
   "source": [
    "# retrain and compute rmse and mae\n",
    "best_mf = xg_cv_mf.best_estimator_.fit(X_train_plus_val_mf, y_train_plus_val_mf)\n",
    "print(mean_squared_error(y_test_mf, best_mf.predict(X_test_mf), squared=False))\n",
    "print(mean_absolute_error(y_test_mf, best_mf.predict(X_test_mf)))"
   ]
  },
  {
   "cell_type": "markdown",
   "id": "0dec11fa",
   "metadata": {},
   "source": [
    "### Commercial"
   ]
  },
  {
   "cell_type": "code",
   "execution_count": 294,
   "id": "f2255efb",
   "metadata": {},
   "outputs": [
    {
     "name": "stdout",
     "output_type": "stream",
     "text": [
      "[22:35:39] WARNING: C:/Users/Administrator/workspace/xgboost-win64_release_1.5.1/src/learner.cc:576: \n",
      "Parameters: { \"learning_rate_init\" } might not be used.\n",
      "\n",
      "  This could be a false alarm, with some parameters getting used by language bindings but\n",
      "  then being mistakenly passed down to XGBoost core, or some parameter actually being used\n",
      "  but getting flagged wrongly here. Please open an issue if you find any such cases.\n",
      "\n",
      "\n",
      "692.8512568351597\n",
      "416.4571727100758\n"
     ]
    }
   ],
   "source": [
    "# retrain and compute rmse and mae\n",
    "best_cm = xg_cv_cm.best_estimator_.fit(X_train_plus_val_cm, y_train_plus_val_cm)\n",
    "\n",
    "print(mean_squared_error(y_test_cm, best_cm.predict(X_test_cm),squared=False))\n",
    "print(mean_absolute_error(y_test_cm, best_cm.predict(X_test_cm)))"
   ]
  },
  {
   "cell_type": "markdown",
   "id": "0272d7f0",
   "metadata": {},
   "source": [
    "### Industrial"
   ]
  },
  {
   "cell_type": "code",
   "execution_count": 293,
   "id": "ffaaa475",
   "metadata": {},
   "outputs": [
    {
     "name": "stdout",
     "output_type": "stream",
     "text": [
      "649.6924673878802\n",
      "404.5770816435752\n"
     ]
    }
   ],
   "source": [
    "# retrain and compute rmse and mae\n",
    "best_id = rf_cv_id.best_estimator_.fit(X_train_plus_val_id, y_train_plus_val_id)\n",
    "print(mean_squared_error(y_test_id, best_id.predict(X_test_id),squared=False))\n",
    "print(mean_absolute_error(y_test_id, best_id.predict(X_test_id)))"
   ]
  },
  {
   "cell_type": "markdown",
   "id": "f7d34210",
   "metadata": {},
   "source": [
    "### Mixed Use"
   ]
  },
  {
   "cell_type": "code",
   "execution_count": 289,
   "id": "40eab7bc",
   "metadata": {},
   "outputs": [
    {
     "name": "stdout",
     "output_type": "stream",
     "text": [
      "0.5879191185749639\n",
      "210.38400528985744\n",
      "101.5975210098866\n"
     ]
    }
   ],
   "source": [
    "# retrain and compute rmse and mae\n",
    "best_mx = rf_cv_mx.best_estimator_.fit(X_train_plus_val_mx, y_train_plus_val_mx)\n",
    "print(r2_score(y_test_mx, best_mx.predict(X_test_mx)))\n",
    "print(mean_squared_error(y_test_mx, best_mx.predict(X_test_mx),squared=False))\n",
    "print(mean_absolute_error(y_test_mx, best_mx.predict(X_test_mx)))"
   ]
  },
  {
   "cell_type": "markdown",
   "id": "889090fb",
   "metadata": {},
   "source": [
    "### Vacant Land"
   ]
  },
  {
   "cell_type": "code",
   "execution_count": 292,
   "id": "c18fc614",
   "metadata": {},
   "outputs": [
    {
     "name": "stdout",
     "output_type": "stream",
     "text": [
      "[22:35:25] WARNING: C:/Users/Administrator/workspace/xgboost-win64_release_1.5.1/src/learner.cc:576: \n",
      "Parameters: { \"learning_rate_init\" } might not be used.\n",
      "\n",
      "  This could be a false alarm, with some parameters getting used by language bindings but\n",
      "  then being mistakenly passed down to XGBoost core, or some parameter actually being used\n",
      "  but getting flagged wrongly here. Please open an issue if you find any such cases.\n",
      "\n",
      "\n",
      "295.2098092945048\n",
      "139.06310158084332\n"
     ]
    }
   ],
   "source": [
    "# retrain and compute rmse and mae\n",
    "best_va = xg_cv_va.best_estimator_.fit(X_train_plus_val_va, y_train_plus_val_va)\n",
    "print(mean_squared_error(y_test_va, best_va.predict(X_test_va),squared=False))\n",
    "print(mean_absolute_error(y_test_va, best_va.predict(X_test_va)))"
   ]
  },
  {
   "cell_type": "code",
   "execution_count": 206,
   "id": "7c9ed33c",
   "metadata": {},
   "outputs": [],
   "source": [
    "# pickle best model out\n",
    "import pickle\n",
    "with open('best_sf.pickle', 'wb') as file:\n",
    "    pickle.dump(best_sf, file)\n",
    "with open('best_mf.pickle','wb') as file:\n",
    "    pickle.dump(best_mf, file)\n",
    "with open('best_cm.pickle','wb') as file:\n",
    "    pickle.dump(best_cm, file)\n",
    "with open('best_id.pickle','wb') as file:\n",
    "    pickle.dump(best_id, file)\n",
    "with open('best_mx.pickle','wb') as file:\n",
    "    pickle.dump(best_mx, file)\n",
    "with open('best_va.pickle','wb') as file:\n",
    "    pickle.dump(best_va, file)                "
   ]
  }
 ],
 "metadata": {
  "kernelspec": {
   "display_name": "Python 3",
   "language": "python",
   "name": "python3"
  },
  "language_info": {
   "codemirror_mode": {
    "name": "ipython",
    "version": 3
   },
   "file_extension": ".py",
   "mimetype": "text/x-python",
   "name": "python",
   "nbconvert_exporter": "python",
   "pygments_lexer": "ipython3",
   "version": "3.8.8"
  }
 },
 "nbformat": 4,
 "nbformat_minor": 5
}
