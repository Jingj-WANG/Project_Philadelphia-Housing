{
 "cells": [
  {
   "cell_type": "code",
   "execution_count": 1,
   "id": "7c159517",
   "metadata": {},
   "outputs": [],
   "source": [
    "# import packages\n",
    "import pandas as pd\n",
    "import numpy as np\n",
    "import matplotlib.pyplot as plt\n",
    "import seaborn as sns\n",
    "\n",
    "from sklearn.linear_model import LinearRegression\n",
    "from sklearn.linear_model import Lasso\n",
    "from sklearn.linear_model import Ridge\n",
    "from sklearn.neighbors import KNeighborsRegressor\n",
    "from sklearn.ensemble import RandomForestRegressor\n",
    "from sklearn.neural_network import MLPRegressor\n",
    "import xgboost as xgb\n",
    "\n",
    "from sklearn.model_selection import PredefinedSplit, RandomizedSearchCV, KFold, StratifiedKFold\n",
    "from sklearn.metrics import r2_score, mean_squared_error, mean_absolute_error\n",
    "\n",
    "from scipy.stats import loguniform as sp_loguniform\n",
    "from scipy.stats import randint as sp_randint\n",
    "\n",
    "import statsmodels.api as sm\n",
    "import statsmodels.formula.api as smf\n",
    "\n",
    "import warnings\n",
    "warnings.filterwarnings('ignore')"
   ]
  },
  {
   "cell_type": "code",
   "execution_count": 2,
   "id": "1697c0f9",
   "metadata": {},
   "outputs": [],
   "source": [
    "# get training, validation and test data for single family\n",
    "X_train_sf = pd.read_csv('X_train_sf.csv')\n",
    "X_train_sf.index = X_train_sf['Unnamed: 0']\n",
    "X_train_sf = X_train_sf.drop(['Unnamed: 0'], axis=1)\n",
    "X_val_sf = pd.read_csv('X_val_sf.csv')\n",
    "X_val_sf.index = X_val_sf['Unnamed: 0']\n",
    "X_val_sf = X_val_sf.drop(['Unnamed: 0'], axis=1)\n",
    "X_test_sf = pd.read_csv('X_test_sf.csv')\n",
    "X_test_sf.index = X_test_sf['Unnamed: 0']\n",
    "X_test_sf = X_test_sf.drop(['Unnamed: 0'], axis=1)\n",
    "y_train_sf = pd.read_csv('y_train_sf.csv')\n",
    "y_train_sf.index = y_train_sf['Unnamed: 0']\n",
    "y_train_sf = y_train_sf.drop(['Unnamed: 0'], axis=1)\n",
    "y_val_sf = pd.read_csv('y_val_sf.csv')\n",
    "y_val_sf.index = y_val_sf['Unnamed: 0']\n",
    "y_val_sf = y_val_sf.drop(['Unnamed: 0'], axis=1)\n",
    "y_test_sf = pd.read_csv('y_test_sf.csv')\n",
    "y_test_sf.index = y_test_sf['Unnamed: 0']\n",
    "y_test_sf = y_test_sf.drop(['Unnamed: 0'], axis=1)"
   ]
  },
  {
   "cell_type": "code",
   "execution_count": 3,
   "id": "115f30c7",
   "metadata": {},
   "outputs": [],
   "source": [
    "# MULTIFAMILY get training, validation and test data\n",
    "X_train_mf = pd.read_csv('X_train_mf.csv')\n",
    "X_train_mf.index = X_train_mf['Unnamed: 0']\n",
    "X_train_mf = X_train_mf.drop(['Unnamed: 0'], axis=1)\n",
    "\n",
    "X_val_mf = pd.read_csv('X_val_mf.csv')\n",
    "X_val_mf.index = X_val_mf['Unnamed: 0']\n",
    "X_val_mf = X_val_mf.drop(['Unnamed: 0'], axis=1)\n",
    "\n",
    "X_test_mf = pd.read_csv('X_test_mf.csv')\n",
    "X_test_mf.index = X_test_mf['Unnamed: 0']\n",
    "X_test_mf = X_test_mf.drop(['Unnamed: 0'], axis=1)\n",
    "\n",
    "y_train_mf = pd.read_csv('y_train_mf.csv')\n",
    "y_train_mf.index = y_train_mf['Unnamed: 0']\n",
    "y_train_mf = y_train_mf.drop(['Unnamed: 0'], axis=1)\n",
    "\n",
    "y_val_mf = pd.read_csv('y_val_mf.csv')\n",
    "y_val_mf.index = y_val_mf['Unnamed: 0']\n",
    "y_val_mf = y_val_mf.drop(['Unnamed: 0'], axis=1)\n",
    "\n",
    "y_test_mf = pd.read_csv('y_test_mf.csv')\n",
    "y_test_mf.index = y_test_mf['Unnamed: 0']\n",
    "y_test_mf = y_test_mf.drop(['Unnamed: 0'], axis=1)"
   ]
  },
  {
   "cell_type": "code",
   "execution_count": 4,
   "id": "56d1794c",
   "metadata": {},
   "outputs": [],
   "source": [
    "# Commercial-- training, validation and test data\n",
    "X_train_cm = pd.read_csv('X_train_cm.csv')\n",
    "X_train_cm.index = X_train_cm['Unnamed: 0']\n",
    "X_train_cm = X_train_cm.drop(['Unnamed: 0'], axis=1)\n",
    "\n",
    "X_val_cm = pd.read_csv('X_val_cm.csv')\n",
    "X_val_cm.index = X_val_cm['Unnamed: 0']\n",
    "X_val_cm = X_val_cm.drop(['Unnamed: 0'], axis=1)\n",
    "\n",
    "X_test_cm = pd.read_csv('X_test_cm.csv')\n",
    "X_test_cm.index = X_test_cm['Unnamed: 0']\n",
    "X_test_cm = X_test_cm.drop(['Unnamed: 0'], axis=1)\n",
    "\n",
    "y_train_cm = pd.read_csv('y_train_cm.csv')\n",
    "y_train_cm.index = y_train_cm['Unnamed: 0']\n",
    "y_train_cm = y_train_cm.drop(['Unnamed: 0'], axis=1)\n",
    "\n",
    "y_val_cm = pd.read_csv('y_val_cm.csv')\n",
    "y_val_cm.index = y_val_cm['Unnamed: 0']\n",
    "y_val_cm = y_val_cm.drop(['Unnamed: 0'], axis=1)\n",
    "\n",
    "y_test_cm = pd.read_csv('y_test_cm.csv')\n",
    "y_test_cm.index = y_test_cm['Unnamed: 0']\n",
    "y_test_cm = y_test_cm.drop(['Unnamed: 0'], axis=1)"
   ]
  },
  {
   "cell_type": "code",
   "execution_count": 5,
   "id": "912ae7b7",
   "metadata": {},
   "outputs": [],
   "source": [
    "#INDUSTRIAL get training, validation and test data\n",
    "X_train_id = pd.read_csv('X_train_id.csv')\n",
    "X_train_id.index = X_train_id['Unnamed: 0']\n",
    "X_train_id = X_train_id.drop(['Unnamed: 0'], axis=1)\n",
    "\n",
    "X_val_id = pd.read_csv('X_val_id.csv')\n",
    "X_val_id.index = X_val_id['Unnamed: 0']\n",
    "X_val_id = X_val_id.drop(['Unnamed: 0'], axis=1)\n",
    "\n",
    "X_test_id = pd.read_csv('X_test_id.csv')\n",
    "X_test_id.index = X_test_id['Unnamed: 0']\n",
    "X_test_id = X_test_id.drop(['Unnamed: 0'], axis=1)\n",
    "\n",
    "y_train_id = pd.read_csv('y_train_id.csv')\n",
    "y_train_id.index = y_train_id['Unnamed: 0']\n",
    "y_train_id = y_train_id.drop(['Unnamed: 0'], axis=1)\n",
    "\n",
    "y_val_id = pd.read_csv('y_val_id.csv')\n",
    "y_val_id.index = y_val_id['Unnamed: 0']\n",
    "y_val_id = y_val_id.drop(['Unnamed: 0'], axis=1)\n",
    "\n",
    "y_test_id = pd.read_csv('y_test_id.csv')\n",
    "y_test_id.index = y_test_id['Unnamed: 0']\n",
    "y_test_id = y_test_id.drop(['Unnamed: 0'], axis=1)"
   ]
  },
  {
   "cell_type": "code",
   "execution_count": 6,
   "id": "5b0f82b8",
   "metadata": {},
   "outputs": [],
   "source": [
    "# get training, validation and test data for mixed use\n",
    "X_train_mx = pd.read_csv('X_train_mx.csv')\n",
    "X_train_mx.index = X_train_mx['Unnamed: 0']\n",
    "X_train_mx = X_train_mx.drop(['Unnamed: 0'], axis=1)\n",
    "X_val_mx = pd.read_csv('X_val_mx.csv')\n",
    "X_val_mx.index = X_val_mx['Unnamed: 0']\n",
    "X_val_mx = X_val_mx.drop(['Unnamed: 0'], axis=1)\n",
    "X_test_mx = pd.read_csv('X_test_mx.csv')\n",
    "X_test_mx.index = X_test_mx['Unnamed: 0']\n",
    "X_test_mx = X_test_mx.drop(['Unnamed: 0'], axis=1)\n",
    "y_train_mx = pd.read_csv('y_train_mx.csv')\n",
    "y_train_mx.index = y_train_mx['Unnamed: 0']\n",
    "y_train_mx = y_train_mx.drop(['Unnamed: 0'], axis=1)\n",
    "y_val_mx = pd.read_csv('y_val_mx.csv')\n",
    "y_val_mx.index = y_val_mx['Unnamed: 0']\n",
    "y_val_mx = y_val_mx.drop(['Unnamed: 0'], axis=1)\n",
    "y_test_mx = pd.read_csv('y_test_mx.csv')\n",
    "y_test_mx.index = y_test_mx['Unnamed: 0']\n",
    "y_test_mx = y_test_mx.drop(['Unnamed: 0'], axis=1)"
   ]
  },
  {
   "cell_type": "code",
   "execution_count": 7,
   "id": "1a50045a",
   "metadata": {},
   "outputs": [],
   "source": [
    "# vacant-- training, validation and test data\n",
    "X_train_va = pd.read_csv('X_train_va.csv')\n",
    "X_train_va.index = X_train_va['Unnamed: 0']\n",
    "X_train_va = X_train_va.drop(['Unnamed: 0'], axis=1)\n",
    "\n",
    "X_val_va = pd.read_csv('X_val_va.csv')\n",
    "X_val_va.index = X_val_va['Unnamed: 0']\n",
    "X_val_va = X_val_va.drop(['Unnamed: 0'], axis=1)\n",
    "\n",
    "X_test_va = pd.read_csv('X_test_va.csv')\n",
    "X_test_va.index = X_test_va['Unnamed: 0']\n",
    "X_test_va = X_test_va.drop(['Unnamed: 0'], axis=1)\n",
    "\n",
    "y_train_va = pd.read_csv('y_train_va.csv')\n",
    "y_train_va.index = y_train_va['Unnamed: 0']\n",
    "y_train_va = y_train_va.drop(['Unnamed: 0'], axis=1)\n",
    "\n",
    "y_val_va = pd.read_csv('y_val_va.csv')\n",
    "y_val_va.index = y_val_va['Unnamed: 0']\n",
    "y_val_va = y_val_va.drop(['Unnamed: 0'], axis=1)\n",
    "\n",
    "y_test_va = pd.read_csv('y_test_va.csv')\n",
    "y_test_va.index = y_test_va['Unnamed: 0']\n",
    "y_test_va = y_test_va.drop(['Unnamed: 0'], axis=1)"
   ]
  },
  {
   "cell_type": "code",
   "execution_count": 8,
   "id": "9b505a70",
   "metadata": {},
   "outputs": [],
   "source": [
    "# training plus val data\n",
    "X_train_plus_val_sf = pd.concat([X_train_sf, X_val_sf])\n",
    "y_train_plus_val_sf = pd.concat([y_train_sf, y_val_sf])\n",
    "X_train_plus_val_mf = pd.concat([X_train_mf, X_val_mf])\n",
    "y_train_plus_val_mf = pd.concat([y_train_mf, y_val_mf])\n",
    "X_train_plus_val_cm = pd.concat([X_train_sf, X_val_cm])\n",
    "y_train_plus_val_cm = pd.concat([y_train_cm, y_val_cm])\n",
    "X_train_plus_val_id = pd.concat([X_train_id, X_val_id])\n",
    "y_train_plus_val_id = pd.concat([y_train_id, y_val_id])\n",
    "X_train_plus_val_mx = pd.concat([X_train_mx, X_val_mx])\n",
    "y_train_plus_val_mx = pd.concat([y_train_mx, y_val_mx])\n",
    "X_train_plus_val_va = pd.concat([X_train_va, X_val_va])\n",
    "y_train_plus_val_va = pd.concat([y_train_va, y_val_va])"
   ]
  },
  {
   "cell_type": "code",
   "execution_count": 40,
   "id": "a6aa7fdf",
   "metadata": {},
   "outputs": [],
   "source": [
    "# define function to calculate baseline r2, rmse and mae\n",
    "def baseline(pre, l):\n",
    "    r2 = 1-np.sum((pre-l)**2)/np.sum((np.mean(l)-l)**2)\n",
    "    rmse = np.sqrt(np.sum((pre-l)**2)/len(l))\n",
    "    mae = (np.sum(np.abs(pre-l)))/len(l)\n",
    "    return r2, rmse, mae"
   ]
  },
  {
   "cell_type": "code",
   "execution_count": 44,
   "id": "c03640de",
   "metadata": {},
   "outputs": [
    {
     "name": "stdout",
     "output_type": "stream",
     "text": [
      "(sale_price   -0.000021\n",
      "dtype: float64, sale_price    290.507662\n",
      "dtype: float64, sale_price    155.754805\n",
      "dtype: float64)\n",
      "(sale_price   -0.029653\n",
      "dtype: float64, sale_price    312.628615\n",
      "dtype: float64, sale_price    150.877797\n",
      "dtype: float64)\n"
     ]
    }
   ],
   "source": [
    "# compute baseline r2, rmse and mae on val and test data\n",
    "# single family baseline for val and test\n",
    "print(baseline(np.mean(y_train_sf), y_val_sf))\n",
    "print(baseline(np.mean(y_train_plus_val_sf), y_test_sf))"
   ]
  },
  {
   "cell_type": "code",
   "execution_count": 47,
   "id": "bae2dd44",
   "metadata": {},
   "outputs": [
    {
     "name": "stdout",
     "output_type": "stream",
     "text": [
      "(sale_price   -0.000321\n",
      "dtype: float64, sale_price    587.124769\n",
      "dtype: float64, sale_price    308.049347\n",
      "dtype: float64)\n",
      "(sale_price   -0.003041\n",
      "dtype: float64, sale_price    501.711842\n",
      "dtype: float64, sale_price    243.959655\n",
      "dtype: float64)\n"
     ]
    }
   ],
   "source": [
    "# multi family baseline for val and test\n",
    "print(baseline(np.mean(y_train_mf), y_val_mf))\n",
    "print(baseline(np.mean(y_train_plus_val_mf), y_test_mf))"
   ]
  },
  {
   "cell_type": "code",
   "execution_count": 48,
   "id": "3d0b43c3",
   "metadata": {},
   "outputs": [
    {
     "name": "stdout",
     "output_type": "stream",
     "text": [
      "(sale_price   -0.006\n",
      "dtype: float64, sale_price    846.626526\n",
      "dtype: float64, sale_price    587.716804\n",
      "dtype: float64)\n",
      "(sale_price   -0.003774\n",
      "dtype: float64, sale_price    916.282516\n",
      "dtype: float64, sale_price    596.427803\n",
      "dtype: float64)\n"
     ]
    }
   ],
   "source": [
    "# commercial baseline for val and test\n",
    "print(baseline(np.mean(y_train_cm), y_val_cm))\n",
    "print(baseline(np.mean(y_train_plus_val_cm), y_test_cm))"
   ]
  },
  {
   "cell_type": "code",
   "execution_count": 49,
   "id": "9c19608d",
   "metadata": {},
   "outputs": [
    {
     "name": "stdout",
     "output_type": "stream",
     "text": [
      "(sale_price   -0.000263\n",
      "dtype: float64, sale_price    898.633108\n",
      "dtype: float64, sale_price    620.167356\n",
      "dtype: float64)\n",
      "(sale_price   -0.042391\n",
      "dtype: float64, sale_price    1026.3886\n",
      "dtype: float64, sale_price    713.971641\n",
      "dtype: float64)\n"
     ]
    }
   ],
   "source": [
    "# industrial baseline for val and test\n",
    "print(baseline(np.mean(y_train_id), y_val_id))\n",
    "print(baseline(np.mean(y_train_plus_val_id), y_test_id))"
   ]
  },
  {
   "cell_type": "code",
   "execution_count": 50,
   "id": "e4f92f31",
   "metadata": {},
   "outputs": [
    {
     "name": "stdout",
     "output_type": "stream",
     "text": [
      "(sale_price   -8.186383e-09\n",
      "dtype: float64, sale_price    329.708794\n",
      "dtype: float64, sale_price    205.827053\n",
      "dtype: float64)\n",
      "(sale_price   -0.009273\n",
      "dtype: float64, sale_price    329.24996\n",
      "dtype: float64, sale_price    177.989375\n",
      "dtype: float64)\n"
     ]
    }
   ],
   "source": [
    "# mixed use baseline for val and test\n",
    "print(baseline(np.mean(y_train_mx), y_val_mx))\n",
    "print(baseline(np.mean(y_train_plus_val_mx), y_test_mx))"
   ]
  },
  {
   "cell_type": "code",
   "execution_count": 51,
   "id": "79d20a43",
   "metadata": {},
   "outputs": [
    {
     "name": "stdout",
     "output_type": "stream",
     "text": [
      "(sale_price   -0.000397\n",
      "dtype: float64, sale_price    366.686874\n",
      "dtype: float64, sale_price    166.425429\n",
      "dtype: float64)\n",
      "(sale_price   -0.038991\n",
      "dtype: float64, sale_price    388.409471\n",
      "dtype: float64, sale_price    188.229455\n",
      "dtype: float64)\n"
     ]
    }
   ],
   "source": [
    "# vacant land baseline for val and test\n",
    "print(baseline(np.mean(y_train_va), y_val_va))\n",
    "print(baseline(np.mean(y_train_plus_val_va), y_test_va))"
   ]
  },
  {
   "cell_type": "code",
   "execution_count": null,
   "id": "9317ca5c",
   "metadata": {},
   "outputs": [],
   "source": []
  }
 ],
 "metadata": {
  "kernelspec": {
   "display_name": "Python 3",
   "language": "python",
   "name": "python3"
  },
  "language_info": {
   "codemirror_mode": {
    "name": "ipython",
    "version": 3
   },
   "file_extension": ".py",
   "mimetype": "text/x-python",
   "name": "python",
   "nbconvert_exporter": "python",
   "pygments_lexer": "ipython3",
   "version": "3.8.8"
  }
 },
 "nbformat": 4,
 "nbformat_minor": 5
}
