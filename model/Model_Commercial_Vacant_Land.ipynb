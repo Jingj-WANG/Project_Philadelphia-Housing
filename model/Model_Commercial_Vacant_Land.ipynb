{
 "cells": [
  {
   "cell_type": "code",
   "execution_count": 1,
   "id": "f60b2241",
   "metadata": {},
   "outputs": [],
   "source": [
    "# import packages\n",
    "import pandas as pd\n",
    "import numpy as np\n",
    "import matplotlib.pyplot as plt\n",
    "import seaborn as sns\n",
    "\n",
    "from sklearn.linear_model import LinearRegression\n",
    "from sklearn.linear_model import Lasso\n",
    "from sklearn.linear_model import Ridge\n",
    "from sklearn.neighbors import KNeighborsRegressor\n",
    "from sklearn.ensemble import RandomForestRegressor\n",
    "from sklearn.neural_network import MLPRegressor\n",
    "\n",
    "from sklearn.model_selection import PredefinedSplit, RandomizedSearchCV\n",
    "from sklearn.metrics import r2_score, mean_squared_error\n",
    "\n",
    "from scipy.stats import loguniform as sp_loguniform\n",
    "from scipy.stats import randint as sp_randint\n",
    "\n",
    "import statsmodels.api as sm\n",
    "import statsmodels.formula.api as smf\n",
    "\n",
    "import warnings\n",
    "warnings.filterwarnings('ignore')"
   ]
  },
  {
   "cell_type": "markdown",
   "id": "e58a744e",
   "metadata": {},
   "source": [
    "Load the Training, Validation, and Test datasets for:\n",
    "\n",
    "- Commercial type properties\n",
    "- Vacant Land type properties"
   ]
  },
  {
   "cell_type": "code",
   "execution_count": 2,
   "id": "9e0a3994",
   "metadata": {},
   "outputs": [],
   "source": [
    "# Commercial-- training, validation and test data\n",
    "X_train_cm = pd.read_csv('../processing/X_train_cm.csv')\n",
    "X_train_cm.index = X_train_cm['Unnamed: 0']\n",
    "X_train_cm = X_train_cm.drop(['Unnamed: 0'], axis=1)\n",
    "\n",
    "X_val_cm = pd.read_csv('../processing/X_val_cm.csv')\n",
    "X_val_cm.index = X_val_cm['Unnamed: 0']\n",
    "X_val_cm = X_val_cm.drop(['Unnamed: 0'], axis=1)\n",
    "\n",
    "X_test_cm = pd.read_csv('../processing/X_test_cm.csv')\n",
    "X_test_cm.index = X_test_cm['Unnamed: 0']\n",
    "X_test_cm = X_test_cm.drop(['Unnamed: 0'], axis=1)\n",
    "\n",
    "y_train_cm = pd.read_csv('../processing/y_train_cm.csv')\n",
    "y_train_cm.index = y_train_cm['Unnamed: 0']\n",
    "y_train_cm = y_train_cm.drop(['Unnamed: 0'], axis=1)\n",
    "\n",
    "y_val_cm = pd.read_csv('../processing/y_val_cm.csv')\n",
    "y_val_cm.index = y_val_cm['Unnamed: 0']\n",
    "y_val_cm = y_val_cm.drop(['Unnamed: 0'], axis=1)\n",
    "\n",
    "y_test_cm = pd.read_csv('../processing/y_test_cm.csv')\n",
    "y_test_cm.index = y_test_cm['Unnamed: 0']\n",
    "y_test_cm = y_test_cm.drop(['Unnamed: 0'], axis=1)"
   ]
  },
  {
   "cell_type": "code",
   "execution_count": 3,
   "id": "4ae9f708",
   "metadata": {},
   "outputs": [],
   "source": [
    "# vacant-- training, validation and test data\n",
    "X_train_va = pd.read_csv('../processing/X_train_va.csv')\n",
    "X_train_va.index = X_train_va['Unnamed: 0']\n",
    "X_train_va = X_train_va.drop(['Unnamed: 0'], axis=1)\n",
    "\n",
    "X_val_va = pd.read_csv('../processing/X_val_va.csv')\n",
    "X_val_va.index = X_val_va['Unnamed: 0']\n",
    "X_val_va = X_val_va.drop(['Unnamed: 0'], axis=1)\n",
    "\n",
    "X_test_va = pd.read_csv('../processing/X_test_va.csv')\n",
    "X_test_va.index = X_test_va['Unnamed: 0']\n",
    "X_test_va = X_test_va.drop(['Unnamed: 0'], axis=1)\n",
    "\n",
    "y_train_va = pd.read_csv('../processing/y_train_va.csv')\n",
    "y_train_va.index = y_train_va['Unnamed: 0']\n",
    "y_train_va = y_train_va.drop(['Unnamed: 0'], axis=1)\n",
    "\n",
    "y_val_va = pd.read_csv('../processing/y_val_va.csv')\n",
    "y_val_va.index = y_val_va['Unnamed: 0']\n",
    "y_val_va = y_val_va.drop(['Unnamed: 0'], axis=1)\n",
    "\n",
    "y_test_va = pd.read_csv('../processing/y_test_va.csv')\n",
    "y_test_va.index = y_test_va['Unnamed: 0']\n",
    "y_test_va = y_test_va.drop(['Unnamed: 0'], axis=1)"
   ]
  },
  {
   "cell_type": "markdown",
   "id": "b95fc295",
   "metadata": {},
   "source": [
    "Create a predefined train+val dataset"
   ]
  },
  {
   "cell_type": "code",
   "execution_count": 4,
   "id": "28d0372b",
   "metadata": {},
   "outputs": [],
   "source": [
    "# Commercial Y train+val,--concate and prepare for \"PredefinedSplit\"\n",
    "y_train_plus_val_cm = pd.concat([y_train_cm, y_val_cm])\n",
    "y_train_plus_val_cm_copy = y_train_plus_val_cm.copy()\n",
    "y_train_plus_val_cm_copy.columns = ['train_val_split']\n",
    "y_train_plus_val_cm_copy.loc[y_train_cm.index,'train_val_split'] = -1\n",
    "y_train_plus_val_cm_copy.loc[y_val_cm.index,'train_val_split'] = 0\n",
    "val_fold_cm = np.array(y_train_plus_val_cm_copy)\n",
    "ps_cm = PredefinedSplit(val_fold_cm)\n",
    "\n",
    "# Commercial X train+val\n",
    "X_train_plus_val_cm = pd.concat([X_train_cm, X_val_cm])"
   ]
  },
  {
   "cell_type": "code",
   "execution_count": 5,
   "id": "f01f8577",
   "metadata": {},
   "outputs": [],
   "source": [
    "# Vacant Y train+val,--concate and prepare for \"PredefinedSplit\"\n",
    "y_train_plus_val_va = pd.concat([y_train_va, y_val_va])\n",
    "y_train_plus_val_va_copy = y_train_plus_val_va.copy()\n",
    "y_train_plus_val_va_copy.columns = ['train_val_split']\n",
    "y_train_plus_val_va_copy.loc[y_train_va.index,'train_val_split'] = -1\n",
    "y_train_plus_val_va_copy.loc[y_val_va.index,'train_val_split'] = 0\n",
    "val_fold_va = np.array(y_train_plus_val_va_copy)\n",
    "ps_va = PredefinedSplit(val_fold_va)\n",
    "\n",
    "# Vacant X train+val\n",
    "X_train_plus_val_va = pd.concat([X_train_va, X_val_va])"
   ]
  },
  {
   "cell_type": "markdown",
   "id": "017319d0",
   "metadata": {},
   "source": [
    "## Commercial type properties"
   ]
  },
  {
   "cell_type": "markdown",
   "id": "ecf6da4e",
   "metadata": {},
   "source": [
    "### 1. model selection "
   ]
  },
  {
   "cell_type": "code",
   "execution_count": 6,
   "id": "301d764d",
   "metadata": {},
   "outputs": [
    {
     "name": "stdout",
     "output_type": "stream",
     "text": [
      "---------------------------------\n",
      "LinearRegression()\n",
      "R^2 for this classifier is 0.10553552910780706\n",
      "---------------------------------\n",
      "Lasso()\n",
      "R^2 for this classifier is 0.11723603678544847\n",
      "---------------------------------\n",
      "Ridge()\n",
      "R^2 for this classifier is 0.11288263975414259\n",
      "---------------------------------\n",
      "KNeighborsRegressor()\n",
      "R^2 for this classifier is 0.23762580878510853\n",
      "---------------------------------\n",
      "RandomForestRegressor()\n",
      "R^2 for this classifier is 0.4627189142187813\n",
      "---------------------------------\n",
      "MLPRegressor()\n",
      "R^2 for this classifier is 0.16323282230382097\n",
      "---------------------------------\n",
      "XGBRegressor(base_score=0.5, booster='gbtree', colsample_bylevel=1,\n",
      "             colsample_bynode=1, colsample_bytree=1, enable_categorical=False,\n",
      "             gamma=0, gpu_id=-1, importance_type=None,\n",
      "             interaction_constraints='', learning_rate=0.300000012,\n",
      "             max_delta_step=0, max_depth=6, min_child_weight=1, missing=nan,\n",
      "             monotone_constraints='()', n_estimators=100, n_jobs=8,\n",
      "             num_parallel_tree=1, predictor='auto', random_state=0, reg_alpha=0,\n",
      "             reg_lambda=1, scale_pos_weight=1, subsample=1, tree_method='exact',\n",
      "             validate_parameters=1, verbosity=None)\n",
      "R^2 for this classifier is 0.46542813168049046\n",
      "---------------------------------\n",
      "ElasticNet()\n",
      "R^2 for this classifier is 0.09043870435146484\n",
      "---------------------------------\n",
      "GradientBoostingRegressor()\n",
      "R^2 for this classifier is 0.4037595647603154\n"
     ]
    }
   ],
   "source": [
    "from sklearn.model_selection import train_test_split\n",
    "from sklearn.model_selection import cross_validate, cross_val_score\n",
    "\n",
    "from sklearn.linear_model import LinearRegression\n",
    "from sklearn.linear_model import Lasso\n",
    "from sklearn.linear_model import Ridge\n",
    "from sklearn.linear_model import ElasticNet\n",
    "from sklearn.tree import DecisionTreeRegressor\n",
    "from sklearn.ensemble import RandomForestRegressor\n",
    "from sklearn.neighbors import KNeighborsRegressor\n",
    "from sklearn.ensemble import GradientBoostingRegressor\n",
    "from sklearn.neural_network import MLPRegressor\n",
    "import xgboost as xgb\n",
    "\n",
    "clfs = []\n",
    "clfs.append(LinearRegression())\n",
    "clfs.append(Lasso())\n",
    "clfs.append(Ridge())\n",
    "clfs.append(KNeighborsRegressor())\n",
    "clfs.append(RandomForestRegressor())\n",
    "clfs.append(MLPRegressor())\n",
    "clfs.append(xgb.XGBRegressor())\n",
    "clfs.append(ElasticNet())\n",
    "clfs.append(GradientBoostingRegressor())\n",
    "\n",
    "\n",
    "for model in clfs:\n",
    "    # cross-val_score on X_train, y_train\n",
    "    model.fit(X_train_cm, y_train_cm)    \n",
    "    val_preds = model.predict(X_val_cm)\n",
    "    r2 = r2_score(y_val_cm,val_preds)\n",
    "\n",
    "    print('---------------------------------')\n",
    "    print(str(model))\n",
    "    print('R^2 for this classifier is', r2)"
   ]
  },
  {
   "cell_type": "markdown",
   "id": "740193ae",
   "metadata": {},
   "source": [
    "### 2. Grid search for two best model: \n",
    "- RandomForestRegressor()\n",
    "- XGBRegressor()"
   ]
  },
  {
   "cell_type": "markdown",
   "id": "cd3edfc8",
   "metadata": {},
   "source": [
    "#### 2.1 Random Forest "
   ]
  },
  {
   "cell_type": "code",
   "execution_count": 7,
   "id": "b987c861",
   "metadata": {},
   "outputs": [
    {
     "name": "stdout",
     "output_type": "stream",
     "text": [
      "{'n_estimators': 100, 'max_depth': 30}\n",
      "RandomForestRegressor(max_depth=30)\n",
      "RF Commercial Average RMSE is: 684.3245946356279\n"
     ]
    }
   ],
   "source": [
    "# random search for RandomForestRegressor\n",
    "param_rf = {'n_estimators': [100, 120, 200, 300, 500, 800, 1200],\n",
    "            'max_depth': [None, 5, 8, 15, 25, 30]}\n",
    "\n",
    "rf_cv = RandomizedSearchCV(\n",
    "        RandomForestRegressor(),\n",
    "        param_distributions=param_rf,\n",
    "        n_iter=10,\n",
    "        cv=ps_cm,\n",
    "        scoring='neg_root_mean_squared_error', \n",
    "        n_jobs=-1,\n",
    "        random_state=123\n",
    ").fit(X_train_plus_val_cm, np.array(y_train_plus_val_cm).ravel())\n",
    "\n",
    "# find best model hyperparameters \n",
    "print(rf_cv.best_params_)\n",
    "print(rf_cv.best_estimator_)\n",
    "print('RF Commercial Average RMSE is: {}'.format(-rf_cv.best_score_))"
   ]
  },
  {
   "cell_type": "code",
   "execution_count": 8,
   "id": "85ec5f51",
   "metadata": {},
   "outputs": [
    {
     "name": "stdout",
     "output_type": "stream",
     "text": [
      "0.9305405843936732\n"
     ]
    }
   ],
   "source": [
    "rf_r2 = r2_score(y_train_plus_val_cm, \n",
    "                 rf_cv.best_estimator_.predict(X_train_plus_val_cm))\n",
    "print(rf_r2)"
   ]
  },
  {
   "cell_type": "markdown",
   "id": "407f6995",
   "metadata": {},
   "source": [
    "#### 2.2 XGBoost"
   ]
  },
  {
   "cell_type": "code",
   "execution_count": 9,
   "id": "50cb6b07",
   "metadata": {},
   "outputs": [],
   "source": [
    "xgparams = {\n",
    "    'max_depth': [2, 3, 5, 10, 15],\n",
    "    'min_child_weight': [1,3,5,10,15,20,50,100],\n",
    "    'n_estimators': [100, 500, 900, 1100, 1500]\n",
    "    }\n",
    "\n",
    "# Set up the random search with cross validation\n",
    "random_cv = RandomizedSearchCV(\n",
    "            estimator=xgb.XGBRegressor(eval_metric='mlogloss',nthread=-1),\n",
    "            param_distributions=xgparams,\n",
    "            cv=ps_cm,\n",
    "            n_iter=10,      \n",
    "            random_state= 123, \n",
    "    scoring='neg_root_mean_squared_error').fit(X_train_plus_val_cm,  np.array(y_train_plus_val_cm).ravel())\n",
    "\n"
   ]
  },
  {
   "cell_type": "code",
   "execution_count": 10,
   "id": "5c5f1e93",
   "metadata": {},
   "outputs": [
    {
     "name": "stdout",
     "output_type": "stream",
     "text": [
      "{'n_estimators': 1500, 'min_child_weight': 20, 'max_depth': 10}\n",
      "XGBRegressor(base_score=0.5, booster='gbtree', colsample_bylevel=1,\n",
      "             colsample_bynode=1, colsample_bytree=1, enable_categorical=False,\n",
      "             eval_metric='mlogloss', gamma=0, gpu_id=-1, importance_type=None,\n",
      "             interaction_constraints='', learning_rate=0.300000012,\n",
      "             max_delta_step=0, max_depth=10, min_child_weight=20, missing=nan,\n",
      "             monotone_constraints='()', n_estimators=1500, n_jobs=8, nthread=-1,\n",
      "             num_parallel_tree=1, predictor='auto', random_state=0, reg_alpha=0,\n",
      "             reg_lambda=1, scale_pos_weight=1, subsample=1, tree_method='exact',\n",
      "             validate_parameters=1, verbosity=None)\n",
      "XGBoost Commercial Average RMSE is: 715.3305032930913\n",
      "0.9999999570754688\n"
     ]
    }
   ],
   "source": [
    "# find best model hyperparameters \n",
    "print(random_cv.best_params_)\n",
    "print(random_cv.best_estimator_)\n",
    "print('XGBoost Commercial Average RMSE is: {}'.format(-random_cv.best_score_))\n",
    "xg_r2 = r2_score(y_train_plus_val_cm, \n",
    "                  random_cv.best_estimator_.predict(X_train_plus_val_cm))\n",
    "print(xg_r2)"
   ]
  },
  {
   "cell_type": "markdown",
   "id": "814a7923",
   "metadata": {},
   "source": [
    "## Vacant Land type properties"
   ]
  },
  {
   "cell_type": "markdown",
   "id": "299da031",
   "metadata": {},
   "source": [
    "### 1. Model Selection"
   ]
  },
  {
   "cell_type": "code",
   "execution_count": 11,
   "id": "471abd7f",
   "metadata": {},
   "outputs": [
    {
     "name": "stdout",
     "output_type": "stream",
     "text": [
      "---------------------------------\n",
      "LinearRegression()\n",
      "R^2 for this classifier is -4.767804061799426e+23\n",
      "---------------------------------\n",
      "Lasso()\n",
      "R^2 for this classifier is 0.024161640983541323\n",
      "---------------------------------\n",
      "Ridge()\n",
      "R^2 for this classifier is 0.017336158154493873\n",
      "---------------------------------\n",
      "KNeighborsRegressor()\n",
      "R^2 for this classifier is 0.22322883022117157\n",
      "---------------------------------\n",
      "RandomForestRegressor()\n",
      "R^2 for this classifier is 0.470265913397545\n",
      "---------------------------------\n",
      "MLPRegressor()\n",
      "R^2 for this classifier is 0.15264625976176135\n",
      "---------------------------------\n",
      "XGBRegressor(base_score=0.5, booster='gbtree', colsample_bylevel=1,\n",
      "             colsample_bynode=1, colsample_bytree=1, enable_categorical=False,\n",
      "             gamma=0, gpu_id=-1, importance_type=None,\n",
      "             interaction_constraints='', learning_rate=0.300000012,\n",
      "             max_delta_step=0, max_depth=6, min_child_weight=1, missing=nan,\n",
      "             monotone_constraints='()', n_estimators=100, n_jobs=8,\n",
      "             num_parallel_tree=1, predictor='auto', random_state=0, reg_alpha=0,\n",
      "             reg_lambda=1, scale_pos_weight=1, subsample=1, tree_method='exact',\n",
      "             validate_parameters=1, verbosity=None)\n",
      "R^2 for this classifier is 0.40722756529466864\n",
      "---------------------------------\n",
      "ElasticNet()\n",
      "R^2 for this classifier is 0.04922264588299603\n",
      "---------------------------------\n",
      "GradientBoostingRegressor()\n",
      "R^2 for this classifier is 0.3327062313429438\n"
     ]
    }
   ],
   "source": [
    "clfs2 = []\n",
    "clfs2.append(LinearRegression())\n",
    "clfs2.append(Lasso())\n",
    "clfs2.append(Ridge())\n",
    "clfs2.append(KNeighborsRegressor())\n",
    "clfs2.append(RandomForestRegressor())\n",
    "clfs2.append(MLPRegressor())\n",
    "clfs2.append(xgb.XGBRegressor())\n",
    "clfs2.append(ElasticNet())\n",
    "clfs2.append(GradientBoostingRegressor())\n",
    "\n",
    "\n",
    "for model in clfs2:\n",
    "    # cross-val_score on X_train, y_train\n",
    "    model.fit(X_train_va, y_train_va)    \n",
    "#     val_preds_va = model.predict(X_val_va)\n",
    "#     r2 = r2_score(y_val_va,val_preds_va)\n",
    "    \n",
    "    cv_r2 = cross_val_score(model, X_train_va, y_train_va, \n",
    "                                 cv=5, scoring='r2')\n",
    "\n",
    "    print('---------------------------------')\n",
    "    print(str(model))\n",
    "    print('R^2 for this classifier is', cv_r2.mean())"
   ]
  },
  {
   "cell_type": "markdown",
   "id": "2a4c16bb",
   "metadata": {},
   "source": [
    "### 2. Grid search for two best model:\n",
    "- RandomForestRegressor()\n",
    "- XGBRegressor()"
   ]
  },
  {
   "cell_type": "markdown",
   "id": "18cee35a",
   "metadata": {},
   "source": [
    "#### 2.1 Random Forest"
   ]
  },
  {
   "cell_type": "code",
   "execution_count": 12,
   "id": "4e245d14",
   "metadata": {},
   "outputs": [
    {
     "name": "stdout",
     "output_type": "stream",
     "text": [
      "{'n_estimators': 120, 'max_depth': None}\n",
      "RandomForestRegressor(n_estimators=120)\n",
      "RF Vacant_Land min RMSE is: 264.4754479446253\n"
     ]
    }
   ],
   "source": [
    "# random search for RandomForestRegressor\n",
    "param_rf = {'n_estimators': [100, 120, 200, 300, 500, 800, 1200],\n",
    "            'max_depth': [None, 5, 8, 15, 25, 30]}\n",
    "\n",
    "rf_cv = RandomizedSearchCV(\n",
    "        RandomForestRegressor(),\n",
    "        param_distributions=param_rf,\n",
    "        n_iter=10,\n",
    "        cv=ps_va,\n",
    "        scoring='neg_root_mean_squared_error', \n",
    "        n_jobs=-1,\n",
    "        random_state=123\n",
    ").fit(X_train_plus_val_va, np.array(y_train_plus_val_va).ravel())\n",
    "\n",
    "# find best model hyperparameters \n",
    "print(rf_cv.best_params_)\n",
    "print(rf_cv.best_estimator_)\n",
    "print('RF Vacant_Land min RMSE is: {}'.format(-rf_cv.best_score_))"
   ]
  },
  {
   "cell_type": "code",
   "execution_count": 13,
   "id": "736014fd",
   "metadata": {},
   "outputs": [
    {
     "name": "stdout",
     "output_type": "stream",
     "text": [
      "0.9314018597250768\n"
     ]
    }
   ],
   "source": [
    "rf_r2 = r2_score(y_train_plus_val_va, \n",
    "                 rf_cv.best_estimator_.predict(X_train_plus_val_va))\n",
    "print(rf_r2)"
   ]
  },
  {
   "cell_type": "markdown",
   "id": "a96e55dc",
   "metadata": {},
   "source": [
    "#### 2.2 XGBoost"
   ]
  },
  {
   "cell_type": "code",
   "execution_count": 14,
   "id": "ebe0aa4b",
   "metadata": {},
   "outputs": [],
   "source": [
    "xgparams = {\n",
    "    'max_depth': [2, 3, 5, 10, 15],\n",
    "    'min_child_weight': [1,3,5,10,15,20,50,100],\n",
    "    'n_estimators': [100, 500, 900, 1100, 1500]\n",
    "    }\n",
    "\n",
    "# Set up the random search with cross validation\n",
    "random_cv = RandomizedSearchCV(\n",
    "            estimator=xgb.XGBRegressor(eval_metric='mlogloss',nthread=-1),\n",
    "            param_distributions=xgparams,\n",
    "            cv=ps_va,\n",
    "            n_iter=10,      \n",
    "            random_state= 123, \n",
    "    scoring='neg_root_mean_squared_error').fit(X_train_plus_val_va,  np.array(y_train_plus_val_va).ravel())\n",
    "\n"
   ]
  },
  {
   "cell_type": "code",
   "execution_count": 15,
   "id": "1fa181aa",
   "metadata": {},
   "outputs": [
    {
     "name": "stdout",
     "output_type": "stream",
     "text": [
      "{'n_estimators': 1500, 'min_child_weight': 15, 'max_depth': 5}\n",
      "XGBRegressor(base_score=0.5, booster='gbtree', colsample_bylevel=1,\n",
      "             colsample_bynode=1, colsample_bytree=1, enable_categorical=False,\n",
      "             eval_metric='mlogloss', gamma=0, gpu_id=-1, importance_type=None,\n",
      "             interaction_constraints='', learning_rate=0.300000012,\n",
      "             max_delta_step=0, max_depth=5, min_child_weight=15, missing=nan,\n",
      "             monotone_constraints='()', n_estimators=1500, n_jobs=8, nthread=-1,\n",
      "             num_parallel_tree=1, predictor='auto', random_state=0, reg_alpha=0,\n",
      "             reg_lambda=1, scale_pos_weight=1, subsample=1, tree_method='exact',\n",
      "             validate_parameters=1, verbosity=None)\n",
      "XGBoost Vacant_Land min RMSE is: 268.51915569656876\n",
      "0.9917361983904\n"
     ]
    }
   ],
   "source": [
    "# find best model hyperparameters \n",
    "print(random_cv.best_params_)\n",
    "print(random_cv.best_estimator_)\n",
    "print('XGBoost Vacant_Land min RMSE is: {}'.format(-random_cv.best_score_))\n",
    "xg_r2 = r2_score(y_train_plus_val_va, \n",
    "                  random_cv.best_estimator_.predict(X_train_plus_val_va))\n",
    "print(xg_r2)\n"
   ]
  },
  {
   "cell_type": "code",
   "execution_count": null,
   "id": "6beddb9f",
   "metadata": {},
   "outputs": [],
   "source": []
  }
 ],
 "metadata": {
  "kernelspec": {
   "display_name": "Python 3 (ipykernel)",
   "language": "python",
   "name": "python3"
  },
  "language_info": {
   "codemirror_mode": {
    "name": "ipython",
    "version": 3
   },
   "file_extension": ".py",
   "mimetype": "text/x-python",
   "name": "python",
   "nbconvert_exporter": "python",
   "pygments_lexer": "ipython3",
   "version": "3.9.7"
  }
 },
 "nbformat": 4,
 "nbformat_minor": 5
}
