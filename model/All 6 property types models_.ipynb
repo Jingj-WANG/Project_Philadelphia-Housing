{
 "cells": [
  {
   "cell_type": "code",
   "execution_count": 1,
   "id": "b7faca08",
   "metadata": {},
   "outputs": [],
   "source": [
    "# import packages\n",
    "import pandas as pd\n",
    "import numpy as np\n",
    "import matplotlib.pyplot as plt\n",
    "import seaborn as sns\n",
    "\n",
    "from sklearn.linear_model import LinearRegression\n",
    "from sklearn.linear_model import Lasso\n",
    "from sklearn.linear_model import Ridge\n",
    "from sklearn.neighbors import KNeighborsRegressor\n",
    "from sklearn.ensemble import RandomForestRegressor\n",
    "from sklearn.neural_network import MLPRegressor\n",
    "import xgboost as xgb\n",
    "\n",
    "from sklearn.model_selection import PredefinedSplit, RandomizedSearchCV, KFold, StratifiedKFold\n",
    "from sklearn.metrics import r2_score, mean_squared_error, mean_absolute_error\n",
    "\n",
    "from scipy.stats import loguniform as sp_loguniform\n",
    "from scipy.stats import randint as sp_randint\n",
    "\n",
    "import statsmodels.api as sm\n",
    "import statsmodels.formula.api as smf\n",
    "\n",
    "import warnings\n",
    "warnings.filterwarnings('ignore')"
   ]
  },
  {
   "cell_type": "markdown",
   "id": "3a84c31d",
   "metadata": {},
   "source": [
    "### Experiment on Single Family"
   ]
  },
  {
   "cell_type": "code",
   "execution_count": 2,
   "id": "0a9df04d",
   "metadata": {},
   "outputs": [],
   "source": [
    "# get training, validation and test data for single family\n",
    "X_train_sf = pd.read_csv('X_train_sf.csv')\n",
    "X_train_sf.index = X_train_sf['Unnamed: 0']\n",
    "X_train_sf = X_train_sf.drop(['Unnamed: 0'], axis=1)\n",
    "X_val_sf = pd.read_csv('X_val_sf.csv')\n",
    "X_val_sf.index = X_val_sf['Unnamed: 0']\n",
    "X_val_sf = X_val_sf.drop(['Unnamed: 0'], axis=1)\n",
    "X_test_sf = pd.read_csv('X_test_sf.csv')\n",
    "X_test_sf.index = X_test_sf['Unnamed: 0']\n",
    "X_test_sf = X_test_sf.drop(['Unnamed: 0'], axis=1)\n",
    "y_train_sf = pd.read_csv('y_train_sf.csv')\n",
    "y_train_sf.index = y_train_sf['Unnamed: 0']\n",
    "y_train_sf = y_train_sf.drop(['Unnamed: 0'], axis=1)\n",
    "y_val_sf = pd.read_csv('y_val_sf.csv')\n",
    "y_val_sf.index = y_val_sf['Unnamed: 0']\n",
    "y_val_sf = y_val_sf.drop(['Unnamed: 0'], axis=1)\n",
    "y_test_sf = pd.read_csv('y_test_sf.csv')\n",
    "y_test_sf.index = y_test_sf['Unnamed: 0']\n",
    "y_test_sf = y_test_sf.drop(['Unnamed: 0'], axis=1)"
   ]
  },
  {
   "cell_type": "code",
   "execution_count": 3,
   "id": "f4682f9c",
   "metadata": {},
   "outputs": [],
   "source": [
    "# create a predefined validation set for random search\n",
    "y_train_plus_val_sf = pd.concat([y_train_sf, y_val_sf])\n",
    "y_train_plus_val_sf_copy = y_train_plus_val_sf.copy()\n",
    "y_train_plus_val_sf_copy.columns = ['train_val_split']\n",
    "y_train_plus_val_sf_copy.loc[y_train_sf.index,'train_val_split'] = -1\n",
    "y_train_plus_val_sf_copy.loc[y_val_sf.index,'train_val_split'] = 0\n",
    "val_fold_sf = np.array(y_train_plus_val_sf_copy)\n",
    "ps_sf = PredefinedSplit(val_fold_sf)\n",
    "\n",
    "# get training plus validation set\n",
    "X_train_plus_val_sf = pd.concat([X_train_sf, X_val_sf])"
   ]
  },
  {
   "cell_type": "code",
   "execution_count": 10,
   "id": "916965c4",
   "metadata": {},
   "outputs": [],
   "source": [
    "# create a function to calculate baseline RMSE and MAE\n",
    "def rmse(l):\n",
    "    return np.sqrt((np.sum((l-np.mean(l))**2))/len(l))\n",
    "def mae(l):\n",
    "    return np.sum(np.abs(l-np.mean(l)))/len(l)"
   ]
  },
  {
   "cell_type": "markdown",
   "id": "70e89724",
   "metadata": {},
   "source": [
    "### Single Family: Linear regression"
   ]
  },
  {
   "cell_type": "code",
   "execution_count": 4,
   "id": "e6a0680a",
   "metadata": {},
   "outputs": [
    {
     "name": "stdout",
     "output_type": "stream",
     "text": [
      "{'normalize': True, 'fit_intercept': False}\n",
      "LinearRegression(fit_intercept=False, normalize=True)\n",
      "Min RMSE for linear regression on Single Family is: 23479006242.85987\n"
     ]
    }
   ],
   "source": [
    "# random search for linear regression\n",
    "param_lr_sf = {'fit_intercept': [True,False],\n",
    "               'normalize':[True,False]}\n",
    "\n",
    "lr_cv_sf = RandomizedSearchCV(\n",
    "           LinearRegression(),\n",
    "           param_distributions=param_lr_sf,\n",
    "           n_iter=10,\n",
    "           cv=ps_sf,\n",
    "           scoring='neg_root_mean_squared_error', \n",
    "           n_jobs=-1,\n",
    "           random_state=123\n",
    ").fit(X_train_plus_val_sf, np.array(y_train_plus_val_sf).ravel())\n",
    "\n",
    "# find best model hyperparameters \n",
    "print(lr_cv_sf.best_params_)\n",
    "print(lr_cv_sf.best_estimator_)\n",
    "print('Min RMSE for linear regression on Single Family is: {}'.format(-lr_cv_sf.best_score_))"
   ]
  },
  {
   "cell_type": "code",
   "execution_count": 11,
   "id": "86222edb",
   "metadata": {},
   "outputs": [
    {
     "name": "stdout",
     "output_type": "stream",
     "text": [
      "106.65993138395191\n",
      "sale_price    290.504546\n",
      "dtype: float64\n",
      "sale_price    155.263946\n",
      "dtype: float64\n"
     ]
    }
   ],
   "source": [
    "# MAE of best model\n",
    "print(mean_absolute_error(y_val_sf, lr_cv_sf.best_estimator_.predict(X_val_sf)))\n",
    "\n",
    "# RMSE and MAE of baseline model\n",
    "print(rmse(y_val_sf))\n",
    "print(mae(y_val_sf))"
   ]
  },
  {
   "cell_type": "markdown",
   "id": "454fa40f",
   "metadata": {},
   "source": [
    "### Single Family: Lasso"
   ]
  },
  {
   "cell_type": "code",
   "execution_count": 12,
   "id": "e54ad8b7",
   "metadata": {},
   "outputs": [
    {
     "name": "stdout",
     "output_type": "stream",
     "text": [
      "{'alpha': 0.07684071705306554, 'fit_intercept': False, 'normalize': True}\n",
      "Lasso(alpha=0.07684071705306554, fit_intercept=False, normalize=True)\n",
      "Min RMSE for lasso on Single Family is: 237.02107253707626\n"
     ]
    }
   ],
   "source": [
    "# random search for lasso\n",
    "param_la_sf = {'alpha': sp_loguniform(1e-4,1e2),\n",
    "            'fit_intercept':[True,False],\n",
    "            'normalize':[True,False]}\n",
    "\n",
    "la_cv_sf = RandomizedSearchCV(\n",
    "        Lasso(),\n",
    "        param_distributions=param_la_sf,\n",
    "        n_iter=10,\n",
    "        cv=ps_sf,\n",
    "        scoring='neg_root_mean_squared_error', \n",
    "        n_jobs=-1,\n",
    "        random_state=123\n",
    ").fit(X_train_plus_val_sf, np.array(y_train_plus_val_sf).ravel())\n",
    "\n",
    "# find best model hyperparameters \n",
    "print(la_cv_sf.best_params_)\n",
    "print(la_cv_sf.best_estimator_)\n",
    "print('Min RMSE for lasso on Single Family is: {}'.format(-la_cv_sf.best_score_))"
   ]
  },
  {
   "cell_type": "code",
   "execution_count": 13,
   "id": "496ad813",
   "metadata": {},
   "outputs": [
    {
     "name": "stdout",
     "output_type": "stream",
     "text": [
      "106.50077190341187\n",
      "sale_price    290.504546\n",
      "dtype: float64\n",
      "sale_price    155.263946\n",
      "dtype: float64\n"
     ]
    }
   ],
   "source": [
    "# MAE of best model\n",
    "print(mean_absolute_error(y_val_sf, la_cv_sf.best_estimator_.predict(X_val_sf)))\n",
    "\n",
    "# RMSE and MAE of baseline model\n",
    "print(rmse(y_val_sf))\n",
    "print(mae(y_val_sf))"
   ]
  },
  {
   "cell_type": "markdown",
   "id": "528c6e3f",
   "metadata": {},
   "source": [
    "### Single Family: Ridge"
   ]
  },
  {
   "cell_type": "code",
   "execution_count": 14,
   "id": "ab506be2",
   "metadata": {},
   "outputs": [
    {
     "name": "stdout",
     "output_type": "stream",
     "text": [
      "{'alpha': 76.66289057556017, 'fit_intercept': True, 'normalize': False}\n",
      "Ridge(alpha=76.66289057556017)\n",
      "Min RMSE fort ridge on Single Family is: 236.94456670464658\n"
     ]
    }
   ],
   "source": [
    "# random search for ridge\n",
    "param_rd_sf = {'alpha': sp_loguniform(1e-4,1e2),\n",
    "            'fit_intercept':[True,False],\n",
    "            'normalize':[True,False]}\n",
    "\n",
    "rd_cv_sf = RandomizedSearchCV(\n",
    "        Ridge(),\n",
    "        param_distributions=param_rd_sf,\n",
    "        n_iter=10,\n",
    "        cv=ps_sf,\n",
    "        scoring='neg_root_mean_squared_error', \n",
    "        n_jobs=-1,\n",
    "        random_state=123\n",
    ").fit(X_train_plus_val_sf, np.array(y_train_plus_val_sf).ravel())\n",
    "\n",
    "# Find best model hyperparameters \n",
    "print(rd_cv_sf.best_params_)\n",
    "print(rd_cv_sf.best_estimator_)\n",
    "print('Min RMSE fort ridge on Single Family is: {}'.format(-rd_cv_sf.best_score_))"
   ]
  },
  {
   "cell_type": "code",
   "execution_count": 15,
   "id": "31f39ff8",
   "metadata": {},
   "outputs": [
    {
     "name": "stdout",
     "output_type": "stream",
     "text": [
      "106.58155691099871\n",
      "sale_price    290.504546\n",
      "dtype: float64\n",
      "sale_price    155.263946\n",
      "dtype: float64\n"
     ]
    }
   ],
   "source": [
    "# MAE of best model\n",
    "print(mean_absolute_error(y_val_sf, rd_cv_sf.best_estimator_.predict(X_val_sf)))\n",
    "\n",
    "# RMSE and MAE of baseline model\n",
    "print(rmse(y_val_sf))\n",
    "print(mae(y_val_sf))"
   ]
  },
  {
   "cell_type": "markdown",
   "id": "0fb13e99",
   "metadata": {},
   "source": [
    "### Single Family: KNeighborsRegressor"
   ]
  },
  {
   "cell_type": "code",
   "execution_count": 16,
   "id": "e8ab1b1d",
   "metadata": {},
   "outputs": [
    {
     "name": "stdout",
     "output_type": "stream",
     "text": [
      "{'leaf_size': 5, 'n_neighbors': 18, 'weights': 'distance'}\n",
      "KNeighborsRegressor(leaf_size=5, n_neighbors=18, weights='distance')\n",
      "Min RMSE for Knn regressor on Single Family is: 170.7286967851921\n"
     ]
    }
   ],
   "source": [
    "# random search for KNeighborsRegressor\n",
    "param_knn_sf = {'n_neighbors': sp_randint(1,21),\n",
    "             'weights': ['uniform', 'distance'],\n",
    "             'leaf_size': sp_randint(1,21)}\n",
    "\n",
    "knn_cv_sf = RandomizedSearchCV(\n",
    "         KNeighborsRegressor(),\n",
    "         param_distributions=param_knn_sf,\n",
    "         n_iter=10,\n",
    "         cv=ps_sf,\n",
    "         scoring='neg_root_mean_squared_error', \n",
    "         n_jobs=-1,\n",
    "         random_state=123\n",
    ").fit(X_train_plus_val_sf, np.array(y_train_plus_val_sf).ravel())\n",
    "\n",
    "# find best model hyperparameters \n",
    "print(knn_cv_sf.best_params_)\n",
    "print(knn_cv_sf.best_estimator_)\n",
    "print('Min RMSE for Knn regressor on Single Family is: {}'.format(-knn_cv_sf.best_score_))"
   ]
  },
  {
   "cell_type": "code",
   "execution_count": 17,
   "id": "8e71f9f3",
   "metadata": {},
   "outputs": [
    {
     "name": "stdout",
     "output_type": "stream",
     "text": [
      "0.07647382492493975\n",
      "sale_price    290.504546\n",
      "dtype: float64\n",
      "sale_price    155.263946\n",
      "dtype: float64\n"
     ]
    }
   ],
   "source": [
    "# MAE of best model\n",
    "print(mean_absolute_error(y_val_sf, knn_cv_sf.best_estimator_.predict(X_val_sf)))\n",
    "\n",
    "# RMSE and MAE of baseline model\n",
    "print(rmse(y_val_sf))\n",
    "print(mae(y_val_sf))"
   ]
  },
  {
   "cell_type": "markdown",
   "id": "e736c9f0",
   "metadata": {},
   "source": [
    "### Single Family: RandomForestRegressor"
   ]
  },
  {
   "cell_type": "code",
   "execution_count": 18,
   "id": "bc0c451d",
   "metadata": {},
   "outputs": [
    {
     "name": "stdout",
     "output_type": "stream",
     "text": [
      "{'n_estimators': 800, 'min_samples_split': 2, 'min_samples_leaf': 5, 'max_features': 'auto', 'max_depth': None}\n",
      "RandomForestRegressor(min_samples_leaf=5, n_estimators=800)\n",
      "Min RMSE is for random forest regressor on Single Family is: 136.8469916397392\n"
     ]
    }
   ],
   "source": [
    "# random search for RandomForestRegressor\n",
    "param_rf_sf = {'n_estimators': [100, 120, 200, 300, 500, 800, 1200],\n",
    "            'max_depth': [None, 5, 8, 15, 25, 30],\n",
    "            'min_samples_split': [1, 2, 5, 10 ,15, 100],\n",
    "            'min_samples_leaf': [1, 2, 5, 10],\n",
    "            'max_features': ['auto', 'sqrt', 'log2']}\n",
    "\n",
    "rf_cv_sf = RandomizedSearchCV(\n",
    "        RandomForestRegressor(),\n",
    "        param_distributions=param_rf_sf,\n",
    "        n_iter=10,\n",
    "        cv=ps_sf,\n",
    "        scoring='neg_root_mean_squared_error', \n",
    "        n_jobs=-1,\n",
    "        random_state=123\n",
    ").fit(X_train_plus_val_sf, np.array(y_train_plus_val_sf).ravel())\n",
    "\n",
    "# find best model hyperparameters \n",
    "print(rf_cv_sf.best_params_)\n",
    "print(rf_cv_sf.best_estimator_)\n",
    "print('Min RMSE is for random forest regressor on Single Family is: {}'.format(-rf_cv_sf.best_score_))"
   ]
  },
  {
   "cell_type": "code",
   "execution_count": 19,
   "id": "de8e28b0",
   "metadata": {},
   "outputs": [
    {
     "name": "stdout",
     "output_type": "stream",
     "text": [
      "34.78543529085287\n",
      "sale_price    290.504546\n",
      "dtype: float64\n",
      "sale_price    155.263946\n",
      "dtype: float64\n"
     ]
    }
   ],
   "source": [
    "# MAE of best model\n",
    "print(mean_absolute_error(y_val_sf, rf_cv_sf.best_estimator_.predict(X_val_sf)))\n",
    "\n",
    "# RMSE and MAE of baseline model\n",
    "print(rmse(y_val_sf))\n",
    "print(mae(y_val_sf))"
   ]
  },
  {
   "cell_type": "markdown",
   "id": "2e04ff10",
   "metadata": {},
   "source": [
    "### Single Family: MLPRegressor"
   ]
  },
  {
   "cell_type": "code",
   "execution_count": 20,
   "id": "a09dd3eb",
   "metadata": {},
   "outputs": [
    {
     "name": "stdout",
     "output_type": "stream",
     "text": [
      "{'alpha': 1.8792349823745838, 'batch_size': 500, 'hidden_layer_sizes': 30, 'learning_rate_init': 0.08964140621713512}\n",
      "MLPRegressor(alpha=1.8792349823745838, batch_size=500, hidden_layer_sizes=30,\n",
      "             learning_rate_init=0.08964140621713512)\n",
      "Min RMSE for MLP regressor on Single Family is: 178.02757159982698\n"
     ]
    }
   ],
   "source": [
    "# random search for MLPRegressor\n",
    "hl = []\n",
    "for i in [1, 2, 3, 4, 5, 10, 15, 25, 30]:\n",
    "    hl.append((i))\n",
    "    hl.append((i,i))\n",
    "\n",
    "param_mlp_sf = {'hidden_layer_sizes': hl,\n",
    "             'learning_rate_init': sp_loguniform(1e-4, 1e2),\n",
    "             'alpha': sp_loguniform(1e-4, 1e2),\n",
    "             'batch_size': [1, 3, 5, 10, 20, 50, 100, 250, 500]}\n",
    "\n",
    "mlp_cv_sf = RandomizedSearchCV(\n",
    "         MLPRegressor(),\n",
    "         param_distributions=param_mlp_sf,\n",
    "         n_iter=10,\n",
    "         cv=ps_sf,\n",
    "         scoring='neg_root_mean_squared_error', \n",
    "         n_jobs=-1,\n",
    "         random_state=123\n",
    ").fit(X_train_plus_val_sf, np.array(y_train_plus_val_sf).ravel())\n",
    "\n",
    "# find best model hyperparameters \n",
    "print(mlp_cv_sf.best_params_)\n",
    "print(mlp_cv_sf.best_estimator_)\n",
    "print('Min RMSE for MLP regressor on Single Family is: {}'.format(-mlp_cv_sf.best_score_))"
   ]
  },
  {
   "cell_type": "code",
   "execution_count": 21,
   "id": "2004b3f2",
   "metadata": {},
   "outputs": [
    {
     "name": "stdout",
     "output_type": "stream",
     "text": [
      "73.1474578825477\n",
      "sale_price    290.504546\n",
      "dtype: float64\n",
      "sale_price    155.263946\n",
      "dtype: float64\n"
     ]
    }
   ],
   "source": [
    "# MAE of best model\n",
    "print(mean_absolute_error(y_val_sf, mlp_cv_sf.best_estimator_.predict(X_val_sf)))\n",
    "\n",
    "# RMSE and MAE of baseline model\n",
    "print(rmse(y_val_sf))\n",
    "print(mae(y_val_sf))"
   ]
  },
  {
   "cell_type": "markdown",
   "id": "db8db376",
   "metadata": {},
   "source": [
    "### Single Family: XGBoost"
   ]
  },
  {
   "cell_type": "code",
   "execution_count": 22,
   "id": "ffe97633",
   "metadata": {},
   "outputs": [
    {
     "name": "stdout",
     "output_type": "stream",
     "text": [
      "[09:16:03] WARNING: C:/Users/Administrator/workspace/xgboost-win64_release_1.5.1/src/learner.cc:576: \n",
      "Parameters: { \"learning_rate_init\" } might not be used.\n",
      "\n",
      "  This could be a false alarm, with some parameters getting used by language bindings but\n",
      "  then being mistakenly passed down to XGBoost core, or some parameter actually being used\n",
      "  but getting flagged wrongly here. Please open an issue if you find any such cases.\n",
      "\n",
      "\n",
      "{'learning_rate_init': 0.15522637752063606, 'max_depth': 11, 'min_child_weight': 3, 'n_estimators': 100}\n",
      "XGBRegressor(base_score=0.5, booster='gbtree', colsample_bylevel=1,\n",
      "             colsample_bynode=1, colsample_bytree=1, enable_categorical=False,\n",
      "             gamma=0, gpu_id=-1, importance_type=None,\n",
      "             interaction_constraints='', learning_rate=0.300000012,\n",
      "             learning_rate_init=0.15522637752063606, max_delta_step=0,\n",
      "             max_depth=11, min_child_weight=3, missing=nan,\n",
      "             monotone_constraints='()', n_estimators=100, n_jobs=16, nthread=-1,\n",
      "             num_parallel_tree=1, predictor='auto', random_state=0, reg_alpha=0,\n",
      "             reg_lambda=1, scale_pos_weight=1, subsample=1, tree_method='exact',\n",
      "             validate_parameters=1, verbosity=None)\n",
      "Min RMSE for XGBoost on Single Family is: 131.88880629549743\n"
     ]
    }
   ],
   "source": [
    "# random search for XGBoost\n",
    "param_xg_sf = {'n_estimators':[100, 500 ,1000],\n",
    "               'max_depth': sp_randint(3, 15),\n",
    "               'learning_rate_init': sp_loguniform(1e-4, 1e2),\n",
    "               'min_child_weight': [1, 3, 5, 7]}\n",
    "\n",
    "xg_cv_sf = RandomizedSearchCV(\n",
    "            xgb.XGBRegressor(nthread=-1),\n",
    "            param_distributions=param_xg_sf,\n",
    "            n_iter=10,\n",
    "            cv=ps_sf,\n",
    "            scoring='neg_root_mean_squared_error',\n",
    "            n_jobs=-1,\n",
    "            random_state=123\n",
    ").fit(X_train_plus_val_sf, np.array(y_train_plus_val_sf).ravel())\n",
    "\n",
    "# find best model hyperparameters \n",
    "print(xg_cv_sf.best_params_)\n",
    "print(xg_cv_sf.best_estimator_)\n",
    "print('Min RMSE for XGBoost on Single Family is: {}'.format(-xg_cv_sf.best_score_))"
   ]
  },
  {
   "cell_type": "code",
   "execution_count": 23,
   "id": "f77ac832",
   "metadata": {},
   "outputs": [
    {
     "name": "stdout",
     "output_type": "stream",
     "text": [
      "31.23552542508914\n",
      "sale_price    290.504546\n",
      "dtype: float64\n",
      "sale_price    155.263946\n",
      "dtype: float64\n"
     ]
    }
   ],
   "source": [
    "# MAE of best model\n",
    "print(mean_absolute_error(y_val_sf, xg_cv_sf.best_estimator_.predict(X_val_sf)))\n",
    "\n",
    "# RMSE and MAE of baseline model\n",
    "print(rmse(y_val_sf))\n",
    "print(mae(y_val_sf))"
   ]
  },
  {
   "cell_type": "markdown",
   "id": "65a66e3f",
   "metadata": {},
   "source": [
    "### Experiment on Multi Family"
   ]
  },
  {
   "cell_type": "code",
   "execution_count": null,
   "id": "ad9c02ed",
   "metadata": {},
   "outputs": [],
   "source": [
    "# MULTIFAMILY get training, validation and test data\n",
    "X_train_mf = pd.read_csv('X_train_mf.csv')\n",
    "X_train_mf.index = X_train_mf['Unnamed: 0']\n",
    "X_train_mf = X_train_mf.drop(['Unnamed: 0'], axis=1)\n",
    "\n",
    "X_val_mf = pd.read_csv('X_val_mf.csv')\n",
    "X_val_mf.index = X_val_mf['Unnamed: 0']\n",
    "X_val_mf = X_val_mf.drop(['Unnamed: 0'], axis=1)\n",
    "\n",
    "X_test_mf = pd.read_csv('X_test_mf.csv')\n",
    "X_test_mf.index = X_test_mf['Unnamed: 0']\n",
    "X_test_mf = X_test_mf.drop(['Unnamed: 0'], axis=1)\n",
    "\n",
    "y_train_mf = pd.read_csv('y_train_mf.csv')\n",
    "y_train_mf.index = y_train_mf['Unnamed: 0']\n",
    "y_train_mf = y_train_mf.drop(['Unnamed: 0'], axis=1)\n",
    "\n",
    "y_val_mf = pd.read_csv('y_val_mf.csv')\n",
    "y_val_mf.index = y_val_mf['Unnamed: 0']\n",
    "y_val_mf = y_val_mf.drop(['Unnamed: 0'], axis=1)\n",
    "\n",
    "y_test_mf = pd.read_csv('y_test_mf.csv')\n",
    "y_test_mf.index = y_test_mf['Unnamed: 0']\n",
    "y_test_mf = y_test_mf.drop(['Unnamed: 0'], axis=1)"
   ]
  },
  {
   "cell_type": "code",
   "execution_count": null,
   "id": "9a3b9120",
   "metadata": {},
   "outputs": [],
   "source": [
    "# Multifamily\n",
    "y_train_plus_val_mf = pd.concat([y_train_mf, y_val_mf])\n",
    "y_train_plus_val_mf_copy = y_train_plus_val_mf.copy()\n",
    "y_train_plus_val_mf_copy.columns = ['train_val_split']\n",
    "y_train_plus_val_mf_copy.loc[y_train_mf.index,'train_val_split'] = -1\n",
    "y_train_plus_val_mf_copy.loc[y_val_mf.index,'train_val_split'] = 0\n",
    "val_fold_mf = np.array(y_train_plus_val_mf_copy)\n",
    "ps_mf = PredefinedSplit(val_fold_mf)\n",
    "\n",
    "# Multifamily training plus validation set\n",
    "X_train_plus_val_mf = pd.concat([X_train_mf, X_val_mf])"
   ]
  },
  {
   "cell_type": "markdown",
   "id": "54971cc7",
   "metadata": {},
   "source": [
    "### Multi Family: Linear regression"
   ]
  },
  {
   "cell_type": "code",
   "execution_count": null,
   "id": "7afce3ef",
   "metadata": {},
   "outputs": [],
   "source": [
    "# random search for linear regression\n",
    "param_lr_mf = {'fit_intercept': [True,False],\n",
    "               'normalize':[True,False]}\n",
    "\n",
    "lr_cv_mf = RandomizedSearchCV(\n",
    "           LinearRegression(),\n",
    "           param_distributions=param_lr_mf,\n",
    "           n_iter=20,\n",
    "           cv=ps_mf,\n",
    "           scoring='neg_root_mean_squared_error', \n",
    "           n_jobs=-1,\n",
    "           random_state=123\n",
    ").fit(X_train_plus_val_mf, np.array(y_train_plus_val_mf).ravel())\n",
    "\n",
    "# find best model hyperparameters \n",
    "print(lr_cv_mf.best_params_)\n",
    "print(lr_cv_mf.best_estimator_)\n",
    "print('MULTIFAMILY Linear min RMSE is: {}'.format(-lr_cv_mf.best_score_))"
   ]
  },
  {
   "cell_type": "code",
   "execution_count": null,
   "id": "70776dbb",
   "metadata": {},
   "outputs": [],
   "source": [
    "# MAE of best model\n",
    "print(mean_absolute_error(y_val_mf, lr_cv_mf.best_estimator_.predict(X_val_mf)))\n",
    "\n",
    "# RMSE and MAE of baseline model\n",
    "print(rmse(y_val_mf))\n",
    "print(mae(y_val_mf))"
   ]
  },
  {
   "cell_type": "markdown",
   "id": "fa9f9351",
   "metadata": {},
   "source": [
    "### Multi Family: Lasso"
   ]
  },
  {
   "cell_type": "code",
   "execution_count": null,
   "id": "584e12be",
   "metadata": {},
   "outputs": [],
   "source": [
    "# random search for lasso\n",
    "param_la_mf = {'alpha': sp_uniform(1e-4,1e2),\n",
    "            'fit_intercept':[True,False],\n",
    "            'normalize':[True,False]}\n",
    "\n",
    "la_cv_mf = RandomizedSearchCV(\n",
    "        Lasso(),\n",
    "        param_distributions=param_la_mf,\n",
    "        n_iter=10,\n",
    "        cv=ps_mf,\n",
    "        scoring='neg_root_mean_squared_error', \n",
    "        n_jobs=-1,\n",
    "        random_state=123\n",
    ").fit(X_train_plus_val_mf, np.array(y_train_plus_val_mf).ravel())\n",
    "\n",
    "# find best model hyperparameters \n",
    "print(la_cv_mf.best_params_)\n",
    "print(la_cv_mf.best_estimator_)\n",
    "print('MULTI FAMILY LASSO min RMSE is: {}'.format(-la_cv_mf.best_score_))"
   ]
  },
  {
   "cell_type": "code",
   "execution_count": null,
   "id": "143c6f61",
   "metadata": {},
   "outputs": [],
   "source": [
    "# MAE of best model\n",
    "print(mean_absolute_error(y_val_mf, la_cv_mf.best_estimator_.predict(X_val_mf)))\n",
    "\n",
    "# RMSE and MAE of baseline model\n",
    "print(rmse(y_val_mf))\n",
    "print(mae(y_val_mf))"
   ]
  },
  {
   "cell_type": "markdown",
   "id": "91093415",
   "metadata": {},
   "source": [
    "### Multi Family: Ridge"
   ]
  },
  {
   "cell_type": "code",
   "execution_count": null,
   "id": "d5e10a43",
   "metadata": {},
   "outputs": [],
   "source": [
    "# random search for ridge\n",
    "param_rd = {'alpha': sp_loguniform(1e-4,1e2),\n",
    "            'fit_intercept':[True,False],\n",
    "            'normalize':[True,False]}\n",
    "\n",
    "rd_cv = RandomizedSearchCV(\n",
    "        Ridge(),\n",
    "        param_distributions=param_rd,\n",
    "        n_iter=10,\n",
    "        cv=ps_mf,\n",
    "        scoring='neg_root_mean_squared_error', \n",
    "        n_jobs=-1,\n",
    "        random_state=123\n",
    ").fit(X_train_plus_val_mf, np.array(y_train_plus_val_mf).ravel())\n",
    "\n",
    "# Find best model hyperparameters \n",
    "print(rd_cv.best_params_)\n",
    "print(rd_cv.best_estimator_)\n",
    "print('MULTIFAMILY RIDGE min RMSE is: {}'.format(-rd_cv.best_score_))"
   ]
  },
  {
   "cell_type": "code",
   "execution_count": null,
   "id": "c893b5b9",
   "metadata": {},
   "outputs": [],
   "source": [
    "# MAE of best model\n",
    "print(mean_absolute_error(y_val_mf, rd_cv_mf.best_estimator_.predict(X_val_mf)))\n",
    "\n",
    "# RMSE and MAE of baseline model\n",
    "print(rmse(y_val_mf))\n",
    "print(mae(y_val_mf))"
   ]
  },
  {
   "cell_type": "markdown",
   "id": "87fa0278",
   "metadata": {},
   "source": [
    "### Multi Family: KNN Regressor"
   ]
  },
  {
   "cell_type": "code",
   "execution_count": null,
   "id": "30000b3c",
   "metadata": {},
   "outputs": [],
   "source": [
    "# random search for KNeighborsRegressor\n",
    "param_knn = {'n_neighbors': sp_randint(1,21),\n",
    "             'weights': ['uniform', 'distance'],\n",
    "             'leaf_size': sp_randint(1,21)}\n",
    "\n",
    "knn_cv = RandomizedSearchCV(\n",
    "         KNeighborsRegressor(),\n",
    "         param_distributions=param_knn,\n",
    "         n_iter=10,\n",
    "         cv=ps_mf,\n",
    "         scoring='neg_root_mean_squared_error', \n",
    "         n_jobs=-1,\n",
    "         random_state=123\n",
    ").fit(X_train_plus_val_mf, np.array(y_train_plus_val_mf).ravel())\n",
    "\n",
    "# find best model hyperparameters \n",
    "print(knn_cv.best_params_)\n",
    "print(knn_cv.best_estimator_)\n",
    "print('MULTIFAMILY KNN min RMSE is: {}'.format(-knn_cv.best_score_))"
   ]
  },
  {
   "cell_type": "code",
   "execution_count": null,
   "id": "a1b67de6",
   "metadata": {},
   "outputs": [],
   "source": [
    "# MAE of best model\n",
    "print(mean_absolute_error(y_val_mf, knn_cv_mf.best_estimator_.predict(X_val_mf)))\n",
    "\n",
    "# RMSE and MAE of baseline model\n",
    "print(rmse(y_val_mf))\n",
    "print(mae(y_val_mf))"
   ]
  },
  {
   "cell_type": "markdown",
   "id": "36207c1d",
   "metadata": {},
   "source": [
    "### Multi Family: Random Forest Regressor"
   ]
  },
  {
   "cell_type": "code",
   "execution_count": null,
   "id": "37fc3bfe",
   "metadata": {},
   "outputs": [],
   "source": [
    "# random search for RandomForestRegressor\n",
    "param_rf = {'n_estimators': [100, 120, 200, 300, 500, 800, 1200],\n",
    "            'max_depth': [None, 5, 8, 15, 25, 30],\n",
    "            'min_samples_split': [1, 2, 5, 10 ,15, 100],\n",
    "            'min_samples_leaf': [1, 2, 5, 10],\n",
    "            'max_features': ['auto', 'sqrt', 'log2']}\n",
    "\n",
    "rf_cv = RandomizedSearchCV(\n",
    "        RandomForestRegressor(),\n",
    "        param_distributions=param_rf,\n",
    "        n_iter=10,\n",
    "        cv=ps_mf,\n",
    "        scoring='neg_root_mean_squared_error', \n",
    "        n_jobs=-1,\n",
    "        random_state=123\n",
    ").fit(X_train_plus_val_mf, np.array(y_train_plus_val_mf).ravel())\n",
    "\n",
    "# find best model hyperparameters \n",
    "print(rf_cv.best_params_)\n",
    "print(rf_cv.best_estimator_)\n",
    "print('RF MULTIFAMILY min RMSE is: {}'.format(-rf_cv.best_score_))"
   ]
  },
  {
   "cell_type": "code",
   "execution_count": null,
   "id": "3f44c0be",
   "metadata": {},
   "outputs": [],
   "source": [
    "# MAE of best model\n",
    "print(mean_absolute_error(y_val_mf, rf_cv_mf.best_estimator_.predict(X_val_mf)))\n",
    "\n",
    "# RMSE and MAE of baseline model\n",
    "print(rmse(y_val_mf))\n",
    "print(mae(y_val_mf))"
   ]
  },
  {
   "cell_type": "markdown",
   "id": "c0d80cfa",
   "metadata": {},
   "source": [
    "### Multi Family: MLP Regressor"
   ]
  },
  {
   "cell_type": "code",
   "execution_count": null,
   "id": "c17455e0",
   "metadata": {},
   "outputs": [],
   "source": [
    "# random search for MLPRegressor\n",
    "hl = []\n",
    "for i in [1, 2, 3, 4, 5, 10, 15, 25, 30]:\n",
    "    hl.append((i))\n",
    "    hl.append((i,i))\n",
    "\n",
    "param_mlp = {'hidden_layer_sizes': hl,\n",
    "             'learning_rate_init': sp_loguniform(1e-4, 1e2),\n",
    "             'alpha': sp_loguniform(1e-4, 1e2),\n",
    "             'batch_size': [1, 5, 10, 25, 100, 500]}\n",
    "\n",
    "mlp_cv = RandomizedSearchCV(\n",
    "         MLPRegressor(),\n",
    "         param_distributions=param_mlp,\n",
    "         n_iter=10,\n",
    "         cv=ps_mf,\n",
    "         scoring='neg_root_mean_squared_error', \n",
    "         n_jobs=-1,\n",
    "         random_state=123\n",
    ").fit(X_train_plus_val_mf, np.array(y_train_plus_val_mf).ravel())\n",
    "\n",
    "# find best model hyperparameters \n",
    "print(mlp_cv.best_params_)\n",
    "print(mlp_cv.best_estimator_)\n",
    "print('MLPRegressor MULTIFAMILY min RMSE is: {}'.format(-mlp_cv.best_score_))"
   ]
  },
  {
   "cell_type": "code",
   "execution_count": null,
   "id": "fe8f13ff",
   "metadata": {},
   "outputs": [],
   "source": [
    "# MAE of best model\n",
    "print(mean_absolute_error(y_val_mf, mlp_cv_mf.best_estimator_.predict(X_val_mf)))\n",
    "\n",
    "# RMSE and MAE of baseline model\n",
    "print(rmse(y_val_mf))\n",
    "print(mae(y_val_mf))"
   ]
  },
  {
   "cell_type": "markdown",
   "id": "4bfae2b9",
   "metadata": {},
   "source": [
    "### Multi Family: XGboost Regressor"
   ]
  },
  {
   "cell_type": "code",
   "execution_count": null,
   "id": "7ee107f5",
   "metadata": {},
   "outputs": [],
   "source": [
    "# random search for XGBoost\n",
    "param_xg_mf = {'n_estimators':[100, 500 ,1000],\n",
    "               'max_depth': sp_randint(3, 15),\n",
    "               'learning_rate_init': sp_loguniform(1e-4, 1e2),\n",
    "               'min_child_weight': [1, 3, 5, 7]}\n",
    "\n",
    "xg_cv_mf = RandomizedSearchCV(\n",
    "            xgb.XGBRegressor(nthread=-1),\n",
    "            param_distributions=param_xg_mf,\n",
    "            n_iter=10,\n",
    "            cv=ps_sf,\n",
    "            scoring='neg_root_mean_squared_error',\n",
    "            n_jobs=-1,\n",
    "            random_state=123\n",
    ").fit(X_train_plus_val_mf, np.array(y_train_plus_val_mf).ravel())\n",
    "\n",
    "# find best model hyperparameters \n",
    "print(xg_cv_mf.best_params_)\n",
    "print(xg_cv_mf.best_estimator_)\n",
    "print('Min RMSE for XGBoost on Multi Family is: {}'.format(-xg_cv_mf.best_score_))"
   ]
  },
  {
   "cell_type": "code",
   "execution_count": null,
   "id": "19ffbcff",
   "metadata": {},
   "outputs": [],
   "source": [
    "# MAE of best model\n",
    "print(mean_absolute_error(y_val_mf, xg_cv_mf.best_estimator_.predict(X_val_mf)))\n",
    "\n",
    "# RMSE and MAE of baseline model\n",
    "print(rmse(y_val_mf))\n",
    "print(mae(y_val_mf))"
   ]
  },
  {
   "cell_type": "markdown",
   "id": "64ee2c18",
   "metadata": {},
   "source": [
    "### Experiment on Commercial"
   ]
  },
  {
   "cell_type": "code",
   "execution_count": null,
   "id": "9dc93228",
   "metadata": {},
   "outputs": [],
   "source": [
    "# Commercial-- training, validation and test data\n",
    "X_train_cm = pd.read_csv('X_train_cm.csv')\n",
    "X_train_cm.index = X_train_cm['Unnamed: 0']\n",
    "X_train_cm = X_train_cm.drop(['Unnamed: 0'], axis=1)\n",
    "\n",
    "X_val_cm = pd.read_csv('X_val_cm.csv')\n",
    "X_val_cm.index = X_val_cm['Unnamed: 0']\n",
    "X_val_cm = X_val_cm.drop(['Unnamed: 0'], axis=1)\n",
    "\n",
    "X_test_cm = pd.read_csv('X_test_cm.csv')\n",
    "X_test_cm.index = X_test_cm['Unnamed: 0']\n",
    "X_test_cm = X_test_cm.drop(['Unnamed: 0'], axis=1)\n",
    "\n",
    "y_train_cm = pd.read_csv('y_train_cm.csv')\n",
    "y_train_cm.index = y_train_cm['Unnamed: 0']\n",
    "y_train_cm = y_train_cm.drop(['Unnamed: 0'], axis=1)\n",
    "\n",
    "y_val_cm = pd.read_csv('y_val_cm.csv')\n",
    "y_val_cm.index = y_val_cm['Unnamed: 0']\n",
    "y_val_cm = y_val_cm.drop(['Unnamed: 0'], axis=1)\n",
    "\n",
    "y_test_cm = pd.read_csv('y_test_cm.csv')\n",
    "y_test_cm.index = y_test_cm['Unnamed: 0']\n",
    "y_test_cm = y_test_cm.drop(['Unnamed: 0'], axis=1)"
   ]
  },
  {
   "cell_type": "code",
   "execution_count": null,
   "id": "d21ae9d0",
   "metadata": {},
   "outputs": [],
   "source": [
    "# Commercial Y train+val,--concate and prepare for \"PredefinedSplit\"\n",
    "y_train_plus_val_cm = pd.concat([y_train_cm, y_val_cm])\n",
    "y_train_plus_val_cm_copy = y_train_plus_val_cm.copy()\n",
    "y_train_plus_val_cm_copy.columns = ['train_val_split']\n",
    "y_train_plus_val_cm_copy.loc[y_train_cm.index,'train_val_split'] = -1\n",
    "y_train_plus_val_cm_copy.loc[y_val_cm.index,'train_val_split'] = 0\n",
    "val_fold_cm = np.array(y_train_plus_val_cm_copy)\n",
    "ps_cm = PredefinedSplit(val_fold_cm)\n",
    "\n",
    "# Commercial X train+val\n",
    "X_train_plus_val_cm = pd.concat([X_train_cm, X_val_cm])"
   ]
  },
  {
   "cell_type": "markdown",
   "id": "ad3e173b",
   "metadata": {},
   "source": [
    "### Commercial: Linear Regression"
   ]
  },
  {
   "cell_type": "code",
   "execution_count": null,
   "id": "677f6fe7",
   "metadata": {},
   "outputs": [],
   "source": [
    "# random search for linear regression\n",
    "param_lr_cm = {'fit_intercept': [True,False],\n",
    "               'normalize':[True,False]}\n",
    "\n",
    "lr_cv_cm = RandomizedSearchCV(\n",
    "           LinearRegression(),\n",
    "           param_distributions=param_lr_cm,\n",
    "           n_iter=20,\n",
    "           cv=ps_cm,\n",
    "           scoring='neg_root_mean_squared_error', \n",
    "           n_jobs=-1,\n",
    "           random_state=123\n",
    ").fit(X_train_plus_val_cm, np.array(y_train_plus_val_cm).ravel())\n",
    "\n",
    "# find best model hyperparameters \n",
    "print(lr_cv_cm.best_params_)\n",
    "print(lr_cv_cm.best_estimator_)\n",
    "print('Commercial Linear min RMSE is: {}'.format(-lr_cv_cm.best_score_))"
   ]
  },
  {
   "cell_type": "code",
   "execution_count": null,
   "id": "3995df60",
   "metadata": {},
   "outputs": [],
   "source": [
    "# MAE of best model\n",
    "print(mean_absolute_error(y_val_cm, lr_cv_cm.best_estimator_.predict(X_val_cm)))\n",
    "\n",
    "# RMSE and MAE of baseline model\n",
    "print(rmse(y_val_cm))\n",
    "print(mae(y_val_cm))"
   ]
  },
  {
   "cell_type": "markdown",
   "id": "47d73a31",
   "metadata": {},
   "source": [
    "### Commercial: Lasso"
   ]
  },
  {
   "cell_type": "code",
   "execution_count": null,
   "id": "2fc61b5b",
   "metadata": {},
   "outputs": [],
   "source": [
    "# random search for lasso\n",
    "param_la_cm = {'alpha': sp_uniform(1e-4,1e2),\n",
    "            'fit_intercept':[True,False],\n",
    "            'normalize':[True,False]}\n",
    "\n",
    "la_cv_cm = RandomizedSearchCV(\n",
    "        Lasso(),\n",
    "        param_distributions=param_la_cm,\n",
    "        n_iter=10,\n",
    "        cv=ps_cm,\n",
    "        scoring='neg_root_mean_squared_error', \n",
    "        n_jobs=-1,\n",
    "        random_state=123\n",
    ").fit(X_train_plus_val_cm, np.array(y_train_plus_val_cm).ravel())\n",
    "\n",
    "# find best model hyperparameters \n",
    "print(la_cv_cm.best_params_)\n",
    "print(la_cv_cm.best_estimator_)\n",
    "print('Commercial LASSO min RMSE is: {}'.format(-la_cv_cm.best_score_))"
   ]
  },
  {
   "cell_type": "code",
   "execution_count": null,
   "id": "d63df9cf",
   "metadata": {},
   "outputs": [],
   "source": [
    "# MAE of best model\n",
    "print(mean_absolute_error(y_val_cm, la_cv_cm.best_estimator_.predict(X_val_cm)))\n",
    "\n",
    "# RMSE and MAE of baseline model\n",
    "print(rmse(y_val_cm))\n",
    "print(mae(y_val_cm))"
   ]
  },
  {
   "cell_type": "markdown",
   "id": "1d1a29f9",
   "metadata": {},
   "source": [
    "### Commercial: Ridge"
   ]
  },
  {
   "cell_type": "code",
   "execution_count": null,
   "id": "d5aa676a",
   "metadata": {},
   "outputs": [],
   "source": [
    "# random search for ridge\n",
    "param_rd = {'alpha': sp_loguniform(1e-4,1e2),\n",
    "            'fit_intercept':[True,False],\n",
    "            'normalize':[True,False]}\n",
    "\n",
    "rd_cv = RandomizedSearchCV(\n",
    "        Ridge(),\n",
    "        param_distributions=param_rd,\n",
    "        n_iter=10,\n",
    "        cv=ps_cm,\n",
    "        scoring='neg_root_mean_squared_error', \n",
    "        n_jobs=-1,\n",
    "        random_state=123\n",
    ").fit(X_train_plus_val_cm, np.array(y_train_plus_val_cm).ravel())\n",
    "\n",
    "# Find best model hyperparameters \n",
    "print(rd_cv.best_params_)\n",
    "print(rd_cv.best_estimator_)\n",
    "print('Commercial RIDGE min RMSE is: {}'.format(-rd_cv.best_score_))"
   ]
  },
  {
   "cell_type": "code",
   "execution_count": null,
   "id": "5b0ca973",
   "metadata": {},
   "outputs": [],
   "source": [
    "# MAE of best model\n",
    "print(mean_absolute_error(y_val_cm, rd_cv_cm.best_estimator_.predict(X_val_cm)))\n",
    "\n",
    "# RMSE and MAE of baseline model\n",
    "print(rmse(y_val_cm))\n",
    "print(mae(y_val_cm))"
   ]
  },
  {
   "cell_type": "markdown",
   "id": "1d948fd5",
   "metadata": {},
   "source": [
    "### Commercial: KNN Regressor"
   ]
  },
  {
   "cell_type": "code",
   "execution_count": null,
   "id": "2f2fa0e0",
   "metadata": {},
   "outputs": [],
   "source": [
    "# random search for KNeighborsRegressor\n",
    "param_knn = {'n_neighbors': sp_randint(1,21),\n",
    "             'weights': ['uniform', 'distance'],\n",
    "             'leaf_size': sp_randint(1,21)}\n",
    "\n",
    "knn_cv = RandomizedSearchCV(\n",
    "         KNeighborsRegressor(),\n",
    "         param_distributions=param_knn,\n",
    "         n_iter=10,\n",
    "         cv=ps_cm,\n",
    "         scoring='neg_root_mean_squared_error', \n",
    "         n_jobs=-1,\n",
    "         random_state=123\n",
    ").fit(X_train_plus_val_cm, np.array(y_train_plus_val_cm).ravel())\n",
    "\n",
    "# find best model hyperparameters \n",
    "print(knn_cv.best_params_)\n",
    "print(knn_cv.best_estimator_)\n",
    "print('Commercial KNN min RMSE is: {}'.format(-knn_cv.best_score_))"
   ]
  },
  {
   "cell_type": "code",
   "execution_count": null,
   "id": "42a3bdd2",
   "metadata": {},
   "outputs": [],
   "source": [
    "# MAE of best model\n",
    "print(mean_absolute_error(y_val_cm, knn_cv_cm.best_estimator_.predict(X_val_cm)))\n",
    "\n",
    "# RMSE and MAE of baseline model\n",
    "print(rmse(y_val_cm))\n",
    "print(mae(y_val_cm))"
   ]
  },
  {
   "cell_type": "markdown",
   "id": "23ff4ef9",
   "metadata": {},
   "source": [
    "### Commercial: Random Forest Regressor"
   ]
  },
  {
   "cell_type": "code",
   "execution_count": null,
   "id": "3d04bfb2",
   "metadata": {},
   "outputs": [],
   "source": [
    "# random search for RandomForestRegressor\n",
    "param_rf = {'n_estimators': [100, 120, 200, 300, 500, 800, 1200],\n",
    "            'max_depth': [None, 5, 8, 15, 25, 30],\n",
    "            'min_samples_split': [1, 2, 5, 10 ,15, 100],\n",
    "            'min_samples_leaf': [1, 2, 5, 10],\n",
    "            'max_features': ['auto', 'sqrt', 'log2']}\n",
    "\n",
    "rf_cv = RandomizedSearchCV(\n",
    "        RandomForestRegressor(),\n",
    "        param_distributions=param_rf,\n",
    "        n_iter=10,\n",
    "        cv=ps_cm,\n",
    "        scoring='neg_root_mean_squared_error', \n",
    "        n_jobs=-1,\n",
    "        random_state=123\n",
    ").fit(X_train_plus_val_cm, np.array(y_train_plus_val_cm).ravel())\n",
    "\n",
    "# find best model hyperparameters \n",
    "print(rf_cv.best_params_)\n",
    "print(rf_cv.best_estimator_)\n",
    "print('RF Commercial min RMSE is: {}'.format(-rf_cv.best_score_))"
   ]
  },
  {
   "cell_type": "code",
   "execution_count": null,
   "id": "1d5ea42c",
   "metadata": {},
   "outputs": [],
   "source": [
    "# MAE of best model\n",
    "print(mean_absolute_error(y_val_cm, rf_cv_cm.best_estimator_.predict(X_val_cm)))\n",
    "\n",
    "# RMSE and MAE of baseline model\n",
    "print(rmse(y_val_cm))\n",
    "print(mae(y_val_cm))"
   ]
  },
  {
   "cell_type": "markdown",
   "id": "4501e0cf",
   "metadata": {},
   "source": [
    "### Commercial: MLP Regressor"
   ]
  },
  {
   "cell_type": "code",
   "execution_count": null,
   "id": "1a2aa8f8",
   "metadata": {},
   "outputs": [],
   "source": [
    "# random search for MLPRegressor\n",
    "hl = []\n",
    "for i in [1, 2, 3, 4, 5, 10, 15, 25, 30]:\n",
    "    hl.append((i))\n",
    "    hl.append((i,i))\n",
    "\n",
    "param_mlp = {'hidden_layer_sizes': hl,\n",
    "             'learning_rate_init': sp_loguniform(1e-4, 1e2),\n",
    "             'alpha': sp_loguniform(1e-4, 1e2),\n",
    "             'batch_size': [1, 5, 10, 25, 100, 500]}\n",
    "\n",
    "mlp_cv = RandomizedSearchCV(\n",
    "         MLPRegressor(),\n",
    "         param_distributions=param_mlp,\n",
    "         n_iter=10,\n",
    "         cv=ps_cm,\n",
    "         scoring='neg_root_mean_squared_error', \n",
    "         n_jobs=-1,\n",
    "         random_state=123\n",
    ").fit(X_train_plus_val_cm, np.array(y_train_plus_val_cm).ravel())\n",
    "\n",
    "# find best model hyperparameters \n",
    "print(mlp_cv.best_params_)\n",
    "print(mlp_cv.best_estimator_)\n",
    "print('MLPRegressor Commercial min RMSE is: {}'.format(-mlp_cv.best_score_))"
   ]
  },
  {
   "cell_type": "code",
   "execution_count": null,
   "id": "b94bf8c6",
   "metadata": {},
   "outputs": [],
   "source": [
    "# MAE of best model\n",
    "print(mean_absolute_error(y_val_cm, mlp_cv_cm.best_estimator_.predict(X_val_cm)))\n",
    "\n",
    "# RMSE and MAE of baseline model\n",
    "print(rmse(y_val_cm))\n",
    "print(mae(y_val_cm))"
   ]
  },
  {
   "cell_type": "markdown",
   "id": "b4ec8e04",
   "metadata": {},
   "source": [
    "### Commercial: XGBoost"
   ]
  },
  {
   "cell_type": "code",
   "execution_count": null,
   "id": "32329176",
   "metadata": {},
   "outputs": [],
   "source": [
    "# random search for XGBoost\n",
    "param_xg_cm = {'n_estimators':[100, 500 ,1000],\n",
    "               'max_depth': sp_randint(3, 15),\n",
    "               'learning_rate_init': sp_loguniform(1e-4, 1e2),\n",
    "               'min_child_weight': [1, 3, 5, 7]}\n",
    "\n",
    "xg_cv_mf = RandomizedSearchCV(\n",
    "            xgb.XGBRegressor(nthread=-1),\n",
    "            param_distributions=param_xg_cm,\n",
    "            n_iter=10,\n",
    "            cv=ps_cm,\n",
    "            scoring='neg_root_mean_squared_error',\n",
    "            n_jobs=-1,\n",
    "            random_state=123\n",
    ").fit(X_train_plus_val_cm, np.array(y_train_plus_val_cm).ravel())\n",
    "\n",
    "# find best model hyperparameters \n",
    "print(xg_cv_cm.best_params_)\n",
    "print(xg_cv_cm.best_estimator_)\n",
    "print('Min RMSE for XGBoost on Commercial is: {}'.format(-xg_cv_cm.best_score_))"
   ]
  },
  {
   "cell_type": "code",
   "execution_count": null,
   "id": "19473146",
   "metadata": {},
   "outputs": [],
   "source": [
    "# MAE of best model\n",
    "print(mean_absolute_error(y_val_cm, xg_cv_cm.best_estimator_.predict(X_val_cm)))\n",
    "\n",
    "# RMSE and MAE of baseline model\n",
    "print(rmse(y_val_cm))\n",
    "print(mae(y_val_cm))"
   ]
  },
  {
   "cell_type": "markdown",
   "id": "e1c32756",
   "metadata": {},
   "source": [
    "### Experiment on Industrial"
   ]
  },
  {
   "cell_type": "code",
   "execution_count": null,
   "id": "e1ac3e5f",
   "metadata": {},
   "outputs": [],
   "source": [
    "#INDUSTRIAL get training, validation and test data\n",
    "X_train_id = pd.read_csv('X_train_id.csv')\n",
    "X_train_id.index = X_train_id['Unnamed: 0']\n",
    "X_train_id = X_train_id.drop(['Unnamed: 0'], axis=1)\n",
    "\n",
    "X_val_id = pd.read_csv('X_val_id.csv')\n",
    "X_val_id.index = X_val_id['Unnamed: 0']\n",
    "X_val_id = X_val_id.drop(['Unnamed: 0'], axis=1)\n",
    "\n",
    "X_test_id = pd.read_csv('X_test_id.csv')\n",
    "X_test_id.index = X_test_id['Unnamed: 0']\n",
    "X_test_id = X_test_id.drop(['Unnamed: 0'], axis=1)\n",
    "\n",
    "y_train_id = pd.read_csv('y_train_id.csv')\n",
    "y_train_id.index = y_train_id['Unnamed: 0']\n",
    "y_train_id = y_train_id.drop(['Unnamed: 0'], axis=1)\n",
    "\n",
    "y_val_id = pd.read_csv('y_val_id.csv')\n",
    "y_val_id.index = y_val_id['Unnamed: 0']\n",
    "y_val_id = y_val_id.drop(['Unnamed: 0'], axis=1)\n",
    "\n",
    "y_test_id = pd.read_csv('y_test_id.csv')\n",
    "y_test_id.index = y_test_id['Unnamed: 0']\n",
    "y_test_id = y_test_id.drop(['Unnamed: 0'], axis=1)"
   ]
  },
  {
   "cell_type": "code",
   "execution_count": null,
   "id": "cf4034fc",
   "metadata": {},
   "outputs": [],
   "source": [
    "#Industrial\n",
    "y_train_plus_val_id = pd.concat([y_train_id, y_val_id])\n",
    "y_train_plus_val_id_copy = y_train_plus_val_id.copy()\n",
    "y_train_plus_val_id_copy.columns = ['train_val_split']\n",
    "y_train_plus_val_id_copy.loc[y_train_id.index,'train_val_split'] = -1\n",
    "y_train_plus_val_id_copy.loc[y_val_id.index,'train_val_split'] = 0\n",
    "val_fold_id = np.array(y_train_plus_val_id_copy)\n",
    "ps_id = PredefinedSplit(val_fold_id)\n",
    "\n",
    "# Industrial\n",
    "X_train_plus_val_id = pd.concat([X_train_id, X_val_id])"
   ]
  },
  {
   "cell_type": "markdown",
   "id": "fa6f467c",
   "metadata": {},
   "source": [
    "### Industrial: Linear regression"
   ]
  },
  {
   "cell_type": "code",
   "execution_count": null,
   "id": "e38f827f",
   "metadata": {},
   "outputs": [],
   "source": [
    "# random search for linear regression\n",
    "param_lr_id = {'fit_intercept': [True,False],\n",
    "               'normalize':[True,False]}\n",
    "\n",
    "lr_cv_id = RandomizedSearchCV(\n",
    "           LinearRegression(),\n",
    "           param_distributions=param_lr_id,\n",
    "           n_iter=20,\n",
    "           cv=3,\n",
    "           scoring='neg_root_mean_squared_error', \n",
    "           n_jobs=-1,\n",
    "           random_state=123\n",
    ").fit(X_train_plus_val_id, np.array(y_train_plus_val_id).ravel())\n",
    "\n",
    "# find best model hyperparameters \n",
    "print(lr_cv_id.best_params_)\n",
    "print(lr_cv_id.best_estimator_)\n",
    "print('INDUSTRIAL Linear min RMSE is: {}'.format(-lr_cv_id.best_score_))"
   ]
  },
  {
   "cell_type": "code",
   "execution_count": null,
   "id": "0f979133",
   "metadata": {},
   "outputs": [],
   "source": [
    "# MAE of best model\n",
    "print(mean_absolute_error(y_val_id, lr_cv_id.best_estimator_.predict(X_val_id)))\n",
    "\n",
    "# RMSE and MAE of baseline model\n",
    "print(rmse(y_val_id))\n",
    "print(mae(y_val_id))"
   ]
  },
  {
   "cell_type": "markdown",
   "id": "0eb9fe89",
   "metadata": {},
   "source": [
    "### Industrial: Lasso"
   ]
  },
  {
   "cell_type": "code",
   "execution_count": null,
   "id": "4725ff77",
   "metadata": {},
   "outputs": [],
   "source": [
    "# random search for lasso\n",
    "param_la_id = {'alpha': sp_uniform(1e-4,1e2),\n",
    "            'fit_intercept':[True,False],\n",
    "            'normalize':[True,False]}\n",
    "\n",
    "la_cv_id = RandomizedSearchCV(\n",
    "        Lasso(),\n",
    "        param_distributions=param_la_id,\n",
    "        n_iter=10,\n",
    "        cv=3,\n",
    "        scoring='neg_root_mean_squared_error', \n",
    "        n_jobs=-1,\n",
    "        random_state=123\n",
    ").fit(X_train_plus_val_id, np.array(y_train_plus_val_id).ravel())\n",
    "\n",
    "# find best model hyperparameters \n",
    "print(la_cv_id.best_params_)\n",
    "print(la_cv_id.best_estimator_)\n",
    "print('INDUSTRIAL LASSO min RMSE is: {}'.format(-la_cv_id.best_score_))"
   ]
  },
  {
   "cell_type": "code",
   "execution_count": null,
   "id": "6c1fbb62",
   "metadata": {},
   "outputs": [],
   "source": [
    "# MAE of best model\n",
    "print(mean_absolute_error(y_val_id, la_cv_id.best_estimator_.predict(X_val_id)))\n",
    "\n",
    "# RMSE and MAE of baseline model\n",
    "print(rmse(y_val_id))\n",
    "print(mae(y_val_id))"
   ]
  },
  {
   "cell_type": "markdown",
   "id": "23e0c562",
   "metadata": {},
   "source": [
    "### Industrial: Ridge"
   ]
  },
  {
   "cell_type": "code",
   "execution_count": null,
   "id": "4d1e332e",
   "metadata": {},
   "outputs": [],
   "source": [
    "# random search for ridge\n",
    "param_id = {'alpha': sp_loguniform(1e-4,1e2),\n",
    "            'fit_intercept':[True,False],\n",
    "            'normalize':[True,False]}\n",
    "\n",
    "rd_cv_id = RandomizedSearchCV(\n",
    "        Ridge(),\n",
    "        param_distributions=param_id,\n",
    "        n_iter=10,\n",
    "        cv= 3,\n",
    "        scoring='neg_root_mean_squared_error', \n",
    "        n_jobs=-1,\n",
    "        random_state=123\n",
    ").fit(X_train_plus_val_id, np.array(y_train_plus_val_id).ravel())\n",
    "\n",
    "# Find best model hyperparameters \n",
    "print(rd_cv_id.best_params_)\n",
    "print(rd_cv_id.best_estimator_)\n",
    "print('INDUSTRIAL RIDGE min RMSE is: {}'.format(-rd_cv_id.best_score_))"
   ]
  },
  {
   "cell_type": "code",
   "execution_count": null,
   "id": "40e0cbce",
   "metadata": {},
   "outputs": [],
   "source": [
    "# MAE of best model\n",
    "print(mean_absolute_error(y_val_id, rd_cv_id.best_estimator_.predict(X_val_id)))\n",
    "\n",
    "# RMSE and MAE of baseline model\n",
    "print(rmse(y_val_id))\n",
    "print(mae(y_val_id))"
   ]
  },
  {
   "cell_type": "markdown",
   "id": "6901926a",
   "metadata": {},
   "source": [
    "### Industria: KNN"
   ]
  },
  {
   "cell_type": "code",
   "execution_count": null,
   "id": "6c4cc326",
   "metadata": {},
   "outputs": [],
   "source": [
    "# random search for KNeighborsRegressor\n",
    "param_knn_id = {'n_neighbors': sp_randint(1,21),\n",
    "             'weights': ['uniform', 'distance'],\n",
    "             'leaf_size': sp_randint(1,21)}\n",
    "\n",
    "knn_cv_id = RandomizedSearchCV(\n",
    "         KNeighborsRegressor(),\n",
    "         param_distributions=param_knn_id,\n",
    "         n_iter=10,\n",
    "         cv= 3,\n",
    "         scoring='neg_root_mean_squared_error', \n",
    "         n_jobs=-1,\n",
    "         random_state=123\n",
    ").fit(X_train_plus_val_id, np.array(y_train_plus_val_id).ravel())\n",
    "\n",
    "# find best model hyperparameters \n",
    "print(knn_cv_id.best_params_)\n",
    "print(knn_cv_id.best_estimator_)\n",
    "print('INDUSTRIAL KNN min RMSE is: {}'.format(-knn_cv_id.best_score_))"
   ]
  },
  {
   "cell_type": "code",
   "execution_count": null,
   "id": "7ecf3e8c",
   "metadata": {},
   "outputs": [],
   "source": [
    "# MAE of best model\n",
    "print(mean_absolute_error(y_val_id, knn_cv_id.best_estimator_.predict(X_val_id)))\n",
    "\n",
    "# RMSE and MAE of baseline model\n",
    "print(rmse(y_val_id))\n",
    "print(mae(y_val_id))"
   ]
  },
  {
   "cell_type": "markdown",
   "id": "5b6db47a",
   "metadata": {},
   "source": [
    "### Industrial: Random Forest"
   ]
  },
  {
   "cell_type": "code",
   "execution_count": null,
   "id": "b2dbefe2",
   "metadata": {},
   "outputs": [],
   "source": [
    "# random search for RandomForestRegressor\n",
    "param_rf_id = {'n_estimators': [100, 120, 200, 300, 500, 800, 1200],\n",
    "            'max_depth': [None, 5, 8, 15, 25, 30],\n",
    "            'min_samples_split': [1, 2, 5, 10 ,15, 100],\n",
    "            'min_samples_leaf': [1, 2, 5, 10],\n",
    "            'max_features': ['auto', 'sqrt', 'log2']}\n",
    "\n",
    "rf_cv_id = RandomizedSearchCV(\n",
    "        RandomForestRegressor(),\n",
    "        param_distributions=param_rf_id,\n",
    "        n_iter=10,\n",
    "        cv= 3,\n",
    "        scoring='neg_root_mean_squared_error', \n",
    "        n_jobs=-1,\n",
    "        random_state=123\n",
    ").fit(X_train_plus_val_id, np.array(y_train_plus_val_id).ravel())\n",
    "\n",
    "# find best model hyperparameters \n",
    "print(rf_cv_id.best_params_)\n",
    "print(rf_cv_id.best_estimator_)\n",
    "print('RF MULTIFAMILY min RMSE is: {}'.format(-rf_cv_id.best_score_))"
   ]
  },
  {
   "cell_type": "code",
   "execution_count": null,
   "id": "952137d3",
   "metadata": {},
   "outputs": [],
   "source": [
    "# MAE of best model\n",
    "print(mean_absolute_error(y_val_id, rf_cv_id.best_estimator_.predict(X_val_id)))\n",
    "\n",
    "# RMSE and MAE of baseline model\n",
    "print(rmse(y_val_id))\n",
    "print(mae(y_val_id))"
   ]
  },
  {
   "cell_type": "markdown",
   "id": "67a15707",
   "metadata": {},
   "source": [
    "### Industrial: MLP Regressor"
   ]
  },
  {
   "cell_type": "code",
   "execution_count": null,
   "id": "6af8fdbd",
   "metadata": {},
   "outputs": [],
   "source": [
    "# random search for MLPRegressor\n",
    "hl = []\n",
    "for i in [1, 2, 3, 4, 5, 10, 15, 25, 30]:\n",
    "    hl.append((i))\n",
    "    hl.append((i,i))\n",
    "\n",
    "param_mlp_id = {'hidden_layer_sizes': hl,\n",
    "             'learning_rate_init': sp_loguniform(1e-4, 1e2),\n",
    "             'alpha': sp_loguniform(1e-4, 1e2),\n",
    "             'batch_size': [1, 5, 10, 25, 100, 500]}\n",
    "\n",
    "mlp_cv_id = RandomizedSearchCV(\n",
    "         MLPRegressor(),\n",
    "         param_distributions=param_mlp_id,\n",
    "         n_iter=10,\n",
    "         cv= 3,\n",
    "         scoring='neg_root_mean_squared_error', \n",
    "         n_jobs=-1,\n",
    "         random_state=123\n",
    ").fit(X_train_plus_val_id, np.array(y_train_plus_val_id).ravel())\n",
    "\n",
    "# find best model hyperparameters \n",
    "print(mlp_cv_id.best_params_)\n",
    "print(mlp_cv_id.best_estimator_)\n",
    "print('MLPRegressor INDUSTRIAL min RMSE is: {}'.format(-mlp_cv_id.best_score_))"
   ]
  },
  {
   "cell_type": "code",
   "execution_count": null,
   "id": "a57c6609",
   "metadata": {},
   "outputs": [],
   "source": [
    "# MAE of best model\n",
    "print(mean_absolute_error(y_val_id, mlp_cv_id.best_estimator_.predict(X_val_id)))\n",
    "\n",
    "# RMSE and MAE of baseline model\n",
    "print(rmse(y_val_id))\n",
    "print(mae(y_val_id))"
   ]
  },
  {
   "cell_type": "markdown",
   "id": "96357482",
   "metadata": {},
   "source": [
    "### Industrial: XGBoost"
   ]
  },
  {
   "cell_type": "code",
   "execution_count": null,
   "id": "e29dc8fd",
   "metadata": {},
   "outputs": [],
   "source": [
    "# random search for XGBoost\n",
    "param_xg_id = {'n_estimators':[100, 500 ,1000],\n",
    "               'max_depth': sp_randint(3, 15),\n",
    "               'learning_rate_init': sp_loguniform(1e-4, 1e2),\n",
    "               'min_child_weight': [1, 3, 5, 7]}\n",
    "\n",
    "xg_cv_id = RandomizedSearchCV(\n",
    "            xgb.XGBRegressor(nthread=-1),\n",
    "            param_distributions=param_xg_id,\n",
    "            n_iter=10,\n",
    "            cv=3,\n",
    "            scoring='neg_root_mean_squared_error',\n",
    "            n_jobs=-1,\n",
    "            random_state=123\n",
    ").fit(X_train_plus_val_id, np.array(y_train_plus_val_id).ravel())\n",
    "\n",
    "# find best model hyperparameters \n",
    "print(xg_cv_id.best_params_)\n",
    "print(xg_cv_id.best_estimator_)\n",
    "print('Min RMSE for XGBoost on Industral is: {}'.format(-xg_cv_id.best_score_))"
   ]
  },
  {
   "cell_type": "code",
   "execution_count": null,
   "id": "928cec00",
   "metadata": {},
   "outputs": [],
   "source": [
    "# MAE of best model\n",
    "print(mean_absolute_error(y_val_id, xg_cv_id.best_estimator_.predict(X_val_id)))\n",
    "\n",
    "# RMSE and MAE of baseline model\n",
    "print(rmse(y_val_id))\n",
    "print(mae(y_val_id))"
   ]
  },
  {
   "cell_type": "markdown",
   "id": "c443577a",
   "metadata": {},
   "source": [
    "### Experiment on Mixed Use"
   ]
  },
  {
   "cell_type": "code",
   "execution_count": 12,
   "id": "55dae339",
   "metadata": {},
   "outputs": [],
   "source": [
    "# get training, validation and test data for mixed use\n",
    "X_train_mx = pd.read_csv('X_train_mx.csv')\n",
    "X_train_mx.index = X_train_mx['Unnamed: 0']\n",
    "X_train_mx = X_train_mx.drop(['Unnamed: 0'], axis=1)\n",
    "X_val_mx = pd.read_csv('X_val_mx.csv')\n",
    "X_val_mx.index = X_val_mx['Unnamed: 0']\n",
    "X_val_mx = X_val_mx.drop(['Unnamed: 0'], axis=1)\n",
    "X_test_mx = pd.read_csv('X_test_mx.csv')\n",
    "X_test_mx.index = X_test_mx['Unnamed: 0']\n",
    "X_test_mx = X_test_mx.drop(['Unnamed: 0'], axis=1)\n",
    "y_train_mx = pd.read_csv('y_train_mx.csv')\n",
    "y_train_mx.index = y_train_mx['Unnamed: 0']\n",
    "y_train_mx = y_train_mx.drop(['Unnamed: 0'], axis=1)\n",
    "y_val_mx = pd.read_csv('y_val_mx.csv')\n",
    "y_val_mx.index = y_val_mx['Unnamed: 0']\n",
    "y_val_mx = y_val_mx.drop(['Unnamed: 0'], axis=1)\n",
    "y_test_mx = pd.read_csv('y_test_mx.csv')\n",
    "y_test_mx.index = y_test_mx['Unnamed: 0']\n",
    "y_test_mx = y_test_mx.drop(['Unnamed: 0'], axis=1)"
   ]
  },
  {
   "cell_type": "code",
   "execution_count": 13,
   "id": "fa856a4c",
   "metadata": {},
   "outputs": [],
   "source": [
    "# get training plus validation set\n",
    "X_train_plus_val_mx = pd.concat([X_train_mx, X_val_mx])\n",
    "y_train_plus_val_mx = pd.concat([y_train_mx, y_val_mx])"
   ]
  },
  {
   "cell_type": "markdown",
   "id": "927bf064",
   "metadata": {},
   "source": [
    "### Mixed Use: Linear regression"
   ]
  },
  {
   "cell_type": "code",
   "execution_count": 14,
   "id": "a26e4141",
   "metadata": {},
   "outputs": [
    {
     "name": "stdout",
     "output_type": "stream",
     "text": [
      "{'normalize': True, 'fit_intercept': False}\n",
      "LinearRegression(fit_intercept=False, normalize=True)\n",
      "Min RMSE for linear regression is: 10122191127754.484\n"
     ]
    }
   ],
   "source": [
    "# random search for linear regression\n",
    "param_lr_mx = {'fit_intercept': [True,False],\n",
    "               'normalize':[True,False]}\n",
    "\n",
    "lr_cv_mx = RandomizedSearchCV(\n",
    "           LinearRegression(),\n",
    "           param_distributions=param_lr_mx,\n",
    "           n_iter=10,\n",
    "           cv=5,\n",
    "           scoring='neg_root_mean_squared_error', \n",
    "           n_jobs=-1,\n",
    "           random_state=123\n",
    ").fit(X_train_plus_val_mx, np.array(y_train_plus_val_mx).ravel())\n",
    "\n",
    "# find best model hyperparameters \n",
    "print(lr_cv_mx.best_params_)\n",
    "print(lr_cv_mx.best_estimator_)\n",
    "print('Min RMSE for linear regression is: {}'.format(-lr_cv_mx.best_score_))"
   ]
  },
  {
   "cell_type": "code",
   "execution_count": null,
   "id": "ec354975",
   "metadata": {},
   "outputs": [],
   "source": [
    "# MAE of best model\n",
    "print(mean_absolute_error(y_val_mx, lr_cv_mx.best_estimator_.predict(X_val_mx)))\n",
    "\n",
    "# RMSE and MAE of baseline model\n",
    "print(rmse(y_val_mx))\n",
    "print(mae(y_val_mx))"
   ]
  },
  {
   "cell_type": "markdown",
   "id": "6d84e511",
   "metadata": {},
   "source": [
    "### Mixed Use: Lasso"
   ]
  },
  {
   "cell_type": "code",
   "execution_count": 15,
   "id": "104076e9",
   "metadata": {},
   "outputs": [
    {
     "name": "stdout",
     "output_type": "stream",
     "text": [
      "{'alpha': 0.15463515822289586, 'fit_intercept': True, 'normalize': False}\n",
      "Lasso(alpha=0.15463515822289586)\n",
      "Min RMSE for lasso fro Mixed Use is: 261.77672139034263\n"
     ]
    }
   ],
   "source": [
    "# random search for lasso\n",
    "param_la_mx = {'alpha': sp_loguniform(1e-4,1e2),\n",
    "            'fit_intercept':[True,False],\n",
    "            'normalize':[True,False]}\n",
    "\n",
    "la_cv_mx = RandomizedSearchCV(\n",
    "        Lasso(),\n",
    "        param_distributions=param_la_mx,\n",
    "        n_iter=10,\n",
    "        cv=5,\n",
    "        scoring='neg_root_mean_squared_error', \n",
    "        n_jobs=-1,\n",
    "        random_state=123\n",
    ").fit(X_train_plus_val_mx, np.array(y_train_plus_val_mx).ravel())\n",
    "\n",
    "# find best model hyperparameters \n",
    "print(la_cv_mx.best_params_)\n",
    "print(la_cv_mx.best_estimator_)\n",
    "print('Min RMSE for lasso fro Mixed Use is: {}'.format(-la_cv_mx.best_score_))"
   ]
  },
  {
   "cell_type": "code",
   "execution_count": null,
   "id": "284bd2ae",
   "metadata": {},
   "outputs": [],
   "source": [
    "# MAE of best model\n",
    "print(mean_absolute_error(y_val_mx, la_cv_mx.best_estimator_.predict(X_val_mx)))\n",
    "\n",
    "# RMSE and MAE of baseline model\n",
    "print(rmse(y_val_mx))\n",
    "print(mae(y_val_mx))"
   ]
  },
  {
   "cell_type": "markdown",
   "id": "59c2b737",
   "metadata": {},
   "source": [
    "### Mixed Use: Ridge"
   ]
  },
  {
   "cell_type": "code",
   "execution_count": 16,
   "id": "10519400",
   "metadata": {},
   "outputs": [
    {
     "name": "stdout",
     "output_type": "stream",
     "text": [
      "{'alpha': 76.66289057556017, 'fit_intercept': True, 'normalize': False}\n",
      "Ridge(alpha=76.66289057556017)\n",
      "Min RMSE for ridge on Mixed Use is: 261.77449765235895\n"
     ]
    }
   ],
   "source": [
    "# random search for ridge\n",
    "param_rd_mx = {'alpha': sp_loguniform(1e-4,1e2),\n",
    "            'fit_intercept':[True,False],\n",
    "            'normalize':[True,False]}\n",
    "\n",
    "rd_cv_mx = RandomizedSearchCV(\n",
    "        Ridge(),\n",
    "        param_distributions=param_rd_mx,\n",
    "        n_iter=10,\n",
    "        cv=5,\n",
    "        scoring='neg_root_mean_squared_error', \n",
    "        n_jobs=-1,\n",
    "        random_state=123\n",
    ").fit(X_train_plus_val_mx, np.array(y_train_plus_val_mx).ravel())\n",
    "\n",
    "# Find best model hyperparameters \n",
    "print(rd_cv_mx.best_params_)\n",
    "print(rd_cv_mx.best_estimator_)\n",
    "print('Min RMSE for ridge on Mixed Use is: {}'.format(-rd_cv_mx.best_score_))"
   ]
  },
  {
   "cell_type": "code",
   "execution_count": null,
   "id": "e2c77a95",
   "metadata": {},
   "outputs": [],
   "source": [
    "# MAE of best model\n",
    "print(mean_absolute_error(y_val_mx, rd_cv_mx.best_estimator_.predict(X_val_mx)))\n",
    "\n",
    "# RMSE and MAE of baseline model\n",
    "print(rmse(y_val_mx))\n",
    "print(mae(y_val_mx))"
   ]
  },
  {
   "cell_type": "markdown",
   "id": "790337d3",
   "metadata": {},
   "source": [
    "### Mixed Use: KNeighborsRegressor"
   ]
  },
  {
   "cell_type": "code",
   "execution_count": 17,
   "id": "631420e2",
   "metadata": {},
   "outputs": [
    {
     "name": "stdout",
     "output_type": "stream",
     "text": [
      "{'leaf_size': 20, 'n_neighbors': 11, 'weights': 'distance'}\n",
      "KNeighborsRegressor(leaf_size=20, n_neighbors=11, weights='distance')\n",
      "Min RMSE for Knn regressor on Mixed Use is: 240.56197162525683\n"
     ]
    }
   ],
   "source": [
    "# random search for KNeighborsRegressor\n",
    "param_knn_mx = {'n_neighbors': sp_randint(1,21),\n",
    "             'weights': ['uniform', 'distance'],\n",
    "             'leaf_size': sp_randint(1,21)}\n",
    "\n",
    "knn_cv_mx = RandomizedSearchCV(\n",
    "         KNeighborsRegressor(),\n",
    "         param_distributions=param_knn_mx,\n",
    "         n_iter=10,\n",
    "         cv=5,\n",
    "         scoring='neg_root_mean_squared_error', \n",
    "         n_jobs=-1,\n",
    "         random_state=123\n",
    ").fit(X_train_plus_val_mx, np.array(y_train_plus_val_mx).ravel())\n",
    "\n",
    "# find best model hyperparameters \n",
    "print(knn_cv_mx.best_params_)\n",
    "print(knn_cv_mx.best_estimator_)\n",
    "print('Min RMSE for Knn regressor on Mixed Use is: {}'.format(-knn_cv_mx.best_score_))"
   ]
  },
  {
   "cell_type": "code",
   "execution_count": null,
   "id": "af0b5216",
   "metadata": {},
   "outputs": [],
   "source": [
    "# MAE of best model\n",
    "print(mean_absolute_error(y_val_mx, knn_cv_mx.best_estimator_.predict(X_val_mx)))\n",
    "\n",
    "# RMSE and MAE of baseline model\n",
    "print(rmse(y_val_mx))\n",
    "print(mae(y_val_mx))"
   ]
  },
  {
   "cell_type": "markdown",
   "id": "49ddb9b9",
   "metadata": {},
   "source": [
    "### Mixed Use: RandomForestRegressor"
   ]
  },
  {
   "cell_type": "code",
   "execution_count": 18,
   "id": "ffd72c50",
   "metadata": {},
   "outputs": [
    {
     "name": "stdout",
     "output_type": "stream",
     "text": [
      "{'n_estimators': 800, 'min_samples_split': 2, 'min_samples_leaf': 5, 'max_features': 'auto', 'max_depth': None}\n",
      "RandomForestRegressor(min_samples_leaf=5, n_estimators=800)\n",
      "Min RMSE is for random forest regressor on Mixed Use is: 207.44661783558658\n"
     ]
    }
   ],
   "source": [
    "# random search for RandomForestRegressor\n",
    "param_rf_mx = {'n_estimators': [100, 120, 200, 300, 500, 800, 1200],\n",
    "            'max_depth': [None, 5, 8, 15, 25, 30],\n",
    "            'min_samples_split': [1, 2, 5, 10 ,15, 100],\n",
    "            'min_samples_leaf': [1, 2, 5, 10],\n",
    "            'max_features': ['auto', 'sqrt', 'log2']}\n",
    "\n",
    "rf_cv_mx = RandomizedSearchCV(\n",
    "        RandomForestRegressor(),\n",
    "        param_distributions=param_rf_mx,\n",
    "        n_iter=10,\n",
    "        cv=5,\n",
    "        scoring='neg_root_mean_squared_error', \n",
    "        n_jobs=-1,\n",
    "        random_state=123\n",
    ").fit(X_train_plus_val_mx, np.array(y_train_plus_val_mx).ravel())\n",
    "\n",
    "# find best model hyperparameters \n",
    "print(rf_cv_mx.best_params_)\n",
    "print(rf_cv_mx.best_estimator_)\n",
    "print('Min RMSE is for random forest regressor on Mixed Use is: {}'.format(-rf_cv_mx.best_score_))"
   ]
  },
  {
   "cell_type": "code",
   "execution_count": null,
   "id": "e362ca0c",
   "metadata": {},
   "outputs": [],
   "source": [
    "# MAE of best model\n",
    "print(mean_absolute_error(y_val_mx, rf_cv_mx.best_estimator_.predict(X_val_mx)))\n",
    "\n",
    "# RMSE and MAE of baseline model\n",
    "print(rmse(y_val_mx))\n",
    "print(mae(y_val_mx))"
   ]
  },
  {
   "cell_type": "markdown",
   "id": "14668a69",
   "metadata": {},
   "source": [
    "### Mixed Use: MLPRegressor"
   ]
  },
  {
   "cell_type": "code",
   "execution_count": 19,
   "id": "8ac92283",
   "metadata": {},
   "outputs": [
    {
     "name": "stdout",
     "output_type": "stream",
     "text": [
      "{'alpha': 2.765529811671396, 'batch_size': 20, 'hidden_layer_sizes': 4, 'learning_rate_init': 0.008664699052148592}\n",
      "MLPRegressor(alpha=2.765529811671396, batch_size=20, hidden_layer_sizes=4,\n",
      "             learning_rate_init=0.008664699052148592)\n",
      "Min RMSE for MLP regressor on Mixed Use is: 235.52184352925582\n"
     ]
    }
   ],
   "source": [
    "# random search for MLPRegressor\n",
    "hl = []\n",
    "for i in [1, 2, 3, 4, 5, 10, 15, 25, 30]:\n",
    "    hl.append((i))\n",
    "    hl.append((i,i))\n",
    "\n",
    "param_mlp_mx = {'hidden_layer_sizes': hl,\n",
    "             'learning_rate_init': sp_loguniform(1e-4, 1e2),\n",
    "             'alpha': sp_loguniform(1e-4, 1e2),\n",
    "             'batch_size': [1, 3, 5, 10, 20, 50, 100, 250, 500]}\n",
    "\n",
    "mlp_cv_mx = RandomizedSearchCV(\n",
    "         MLPRegressor(),\n",
    "         param_distributions=param_mlp_mx,\n",
    "         n_iter=10,\n",
    "         cv=5,\n",
    "         scoring='neg_root_mean_squared_error', \n",
    "         n_jobs=-1,\n",
    "         random_state=123\n",
    ").fit(X_train_plus_val_mx, np.array(y_train_plus_val_mx).ravel())\n",
    "\n",
    "# find best model hyperparameters \n",
    "print(mlp_cv_mx.best_params_)\n",
    "print(mlp_cv_mx.best_estimator_)\n",
    "print('Min RMSE for MLP regressor on Mixed Use is: {}'.format(-mlp_cv_mx.best_score_))"
   ]
  },
  {
   "cell_type": "code",
   "execution_count": null,
   "id": "80feab35",
   "metadata": {},
   "outputs": [],
   "source": [
    "# MAE of best model\n",
    "print(mean_absolute_error(y_val_mx, mlp_cv_mx.best_estimator_.predict(X_val_mx)))\n",
    "\n",
    "# RMSE and MAE of baseline model\n",
    "print(rmse(y_val_mx))\n",
    "print(mae(y_val_mx))"
   ]
  },
  {
   "cell_type": "markdown",
   "id": "64c0ebb4",
   "metadata": {},
   "source": [
    "### Mixed Use: XGBoost"
   ]
  },
  {
   "cell_type": "code",
   "execution_count": 20,
   "id": "99e829bd",
   "metadata": {},
   "outputs": [
    {
     "name": "stdout",
     "output_type": "stream",
     "text": [
      "[20:53:26] WARNING: C:/Users/Administrator/workspace/xgboost-win64_release_1.5.1/src/learner.cc:576: \n",
      "Parameters: { \"learning_rate_init\" } might not be used.\n",
      "\n",
      "  This could be a false alarm, with some parameters getting used by language bindings but\n",
      "  then being mistakenly passed down to XGBoost core, or some parameter actually being used\n",
      "  but getting flagged wrongly here. Please open an issue if you find any such cases.\n",
      "\n",
      "\n",
      "{'learning_rate_init': 0.20318358298265976, 'max_depth': 6, 'min_child_weight': 5, 'n_estimators': 500}\n",
      "XGBRegressor(base_score=0.5, booster='gbtree', colsample_bylevel=1,\n",
      "             colsample_bynode=1, colsample_bytree=1, enable_categorical=False,\n",
      "             gamma=0, gpu_id=-1, importance_type=None,\n",
      "             interaction_constraints='', learning_rate=0.300000012,\n",
      "             learning_rate_init=0.20318358298265976, max_delta_step=0,\n",
      "             max_depth=6, min_child_weight=5, missing=nan,\n",
      "             monotone_constraints='()', n_estimators=500, n_jobs=16, nthread=-1,\n",
      "             num_parallel_tree=1, predictor='auto', random_state=0, reg_alpha=0,\n",
      "             reg_lambda=1, scale_pos_weight=1, subsample=1, tree_method='exact',\n",
      "             validate_parameters=1, verbosity=None)\n",
      "Min RMSE for XGBoost on Mixed Use is: 213.94762819826306\n"
     ]
    }
   ],
   "source": [
    "# random search for XGBoost\n",
    "param_xg_mx = {'n_estimators':[100, 500 ,1000],\n",
    "               'max_depth': sp_randint(3, 15),\n",
    "               'learning_rate_init': sp_loguniform(1e-4, 1e2),\n",
    "               'min_child_weight': [1, 3, 5, 7]}\n",
    "\n",
    "xg_cv_mx = RandomizedSearchCV(\n",
    "            xgb.XGBRegressor(nthread=-1),\n",
    "            param_distributions=param_xg_mx,\n",
    "            n_iter=10,\n",
    "            cv=5,\n",
    "            scoring='neg_root_mean_squared_error',\n",
    "            n_jobs=-1,\n",
    "            random_state=123\n",
    ").fit(X_train_plus_val_mx, np.array(y_train_plus_val_mx).ravel())\n",
    "\n",
    "# find best model hyperparameters \n",
    "print(xg_cv_mx.best_params_)\n",
    "print(xg_cv_mx.best_estimator_)\n",
    "print('Min RMSE for XGBoost on Mixed Use is: {}'.format(-xg_cv_mx.best_score_))"
   ]
  },
  {
   "cell_type": "code",
   "execution_count": 22,
   "id": "4762d999",
   "metadata": {
    "collapsed": true
   },
   "outputs": [
    {
     "ename": "NameError",
     "evalue": "name 'X_train_va' is not defined",
     "output_type": "error",
     "traceback": [
      "\u001b[1;31m---------------------------------------------------------------------------\u001b[0m",
      "\u001b[1;31mNameError\u001b[0m                                 Traceback (most recent call last)",
      "\u001b[1;32m<ipython-input-22-27c777c2683f>\u001b[0m in \u001b[0;36m<module>\u001b[1;34m\u001b[0m\n\u001b[0;32m      1\u001b[0m \u001b[0mlr\u001b[0m \u001b[1;33m=\u001b[0m \u001b[0mLinearRegression\u001b[0m\u001b[1;33m(\u001b[0m\u001b[1;33m)\u001b[0m\u001b[1;33m.\u001b[0m\u001b[0mfit\u001b[0m\u001b[1;33m(\u001b[0m\u001b[0mX_train_sf\u001b[0m\u001b[1;33m,\u001b[0m \u001b[0my_train_sf\u001b[0m\u001b[1;33m)\u001b[0m\u001b[1;33m\u001b[0m\u001b[1;33m\u001b[0m\u001b[0m\n\u001b[1;32m----> 2\u001b[1;33m \u001b[0mlr\u001b[0m\u001b[1;33m.\u001b[0m\u001b[0mscore\u001b[0m\u001b[1;33m(\u001b[0m\u001b[0mX_train_va\u001b[0m\u001b[1;33m,\u001b[0m \u001b[0my_train_va\u001b[0m\u001b[1;33m)\u001b[0m\u001b[1;33m\u001b[0m\u001b[1;33m\u001b[0m\u001b[0m\n\u001b[0m",
      "\u001b[1;31mNameError\u001b[0m: name 'X_train_va' is not defined"
     ]
    }
   ],
   "source": [
    "# MAE of best model\n",
    "print(mean_absolute_error(y_val_mx, xg_cv_mx.best_estimator_.predict(X_val_mx)))\n",
    "\n",
    "# RMSE and MAE of baseline model\n",
    "print(rmse(y_val_mx))\n",
    "print(mae(y_val_mx))"
   ]
  },
  {
   "cell_type": "markdown",
   "id": "e4eb9f0d",
   "metadata": {},
   "source": [
    "### Experiment on Vacant Land"
   ]
  },
  {
   "cell_type": "code",
   "execution_count": null,
   "id": "cb189553",
   "metadata": {},
   "outputs": [],
   "source": [
    "# vacant-- training, validation and test data\n",
    "X_train_va = pd.read_csv('X_train_va.csv')\n",
    "X_train_va.index = X_train_va['Unnamed: 0']\n",
    "X_train_va = X_train_va.drop(['Unnamed: 0'], axis=1)\n",
    "\n",
    "X_val_va = pd.read_csv('X_val_va.csv')\n",
    "X_val_va.index = X_val_va['Unnamed: 0']\n",
    "X_val_va = X_val_va.drop(['Unnamed: 0'], axis=1)\n",
    "\n",
    "X_test_va = pd.read_csv('X_test_va.csv')\n",
    "X_test_va.index = X_test_va['Unnamed: 0']\n",
    "X_test_va = X_test_va.drop(['Unnamed: 0'], axis=1)\n",
    "\n",
    "y_train_va = pd.read_csv('y_train_va.csv')\n",
    "y_train_va.index = y_train_va['Unnamed: 0']\n",
    "y_train_va = y_train_va.drop(['Unnamed: 0'], axis=1)\n",
    "\n",
    "y_val_va = pd.read_csv('y_val_va.csv')\n",
    "y_val_va.index = y_val_va['Unnamed: 0']\n",
    "y_val_va = y_val_va.drop(['Unnamed: 0'], axis=1)\n",
    "\n",
    "y_test_va = pd.read_csv('y_test_va.csv')\n",
    "y_test_va.index = y_test_va['Unnamed: 0']\n",
    "y_test_va = y_test_va.drop(['Unnamed: 0'], axis=1)"
   ]
  },
  {
   "cell_type": "code",
   "execution_count": null,
   "id": "7b5e11dd",
   "metadata": {},
   "outputs": [],
   "source": [
    "# Vacant Y train+val,--concate and prepare for \"PredefinedSplit\"\n",
    "y_train_plus_val_va = pd.concat([y_train_va, y_val_va])\n",
    "y_train_plus_val_va_copy = y_train_plus_val_va.copy()\n",
    "y_train_plus_val_va_copy.columns = ['train_val_split']\n",
    "y_train_plus_val_va_copy.loc[y_train_va.index,'train_val_split'] = -1\n",
    "y_train_plus_val_va_copy.loc[y_val_va.index,'train_val_split'] = 0\n",
    "val_fold_va = np.array(y_train_plus_val_va_copy)\n",
    "ps_va = PredefinedSplit(val_fold_va)\n",
    "\n",
    "# Vacant X train+val\n",
    "X_train_plus_val_va = pd.concat([X_train_va, X_val_va])"
   ]
  },
  {
   "cell_type": "markdown",
   "id": "582fba37",
   "metadata": {},
   "source": [
    "### Vacant Land: Linear regression"
   ]
  },
  {
   "cell_type": "code",
   "execution_count": null,
   "id": "826c3dc3",
   "metadata": {},
   "outputs": [],
   "source": [
    "# random search for linear regression\n",
    "param_lr_va = {'fit_intercept': [True,False],\n",
    "               'normalize':[True,False]}\n",
    "\n",
    "lr_cv_va = RandomizedSearchCV(\n",
    "           LinearRegression(),\n",
    "           param_distributions=param_lr_va,\n",
    "           n_iter=10,\n",
    "           cv=5,\n",
    "           scoring='neg_root_mean_squared_error', \n",
    "           n_jobs=-1,\n",
    "           random_state=123\n",
    ").fit(X_train_plus_val_va, np.array(y_train_plus_val_va).ravel())\n",
    "\n",
    "# find best model hyperparameters \n",
    "print(lr_cv_va.best_params_)\n",
    "print(lr_cv_va.best_estimator_)\n",
    "print('Min RMSE for linear regression is: {}'.format(-lr_cv_va.best_score_))"
   ]
  },
  {
   "cell_type": "code",
   "execution_count": null,
   "id": "72b914b2",
   "metadata": {},
   "outputs": [],
   "source": [
    "# MAE of best model\n",
    "print(mean_absolute_error(y_val_mx, xg_cv_mx.best_estimator_.predict(X_val_mx)))\n",
    "\n",
    "# RMSE and MAE of baseline model\n",
    "print(rmse(y_val_mx))\n",
    "print(mae(y_val_mx))"
   ]
  },
  {
   "cell_type": "markdown",
   "id": "cc6ccb4f",
   "metadata": {},
   "source": [
    "### Vacant Land: Lasso"
   ]
  },
  {
   "cell_type": "code",
   "execution_count": null,
   "id": "688b7e88",
   "metadata": {},
   "outputs": [],
   "source": [
    "# random search for lasso\n",
    "param_la_va = {'alpha': sp_loguniform(1e-4,1e2),\n",
    "            'fit_intercept':[True,False],\n",
    "            'normalize':[True,False]}\n",
    "\n",
    "la_cv_va = RandomizedSearchCV(\n",
    "        Lasso(),\n",
    "        param_distributions=param_la_va,\n",
    "        n_iter=10,\n",
    "        cv=5,\n",
    "        scoring='neg_root_mean_squared_error', \n",
    "        n_jobs=-1,\n",
    "        random_state=123\n",
    ").fit(X_train_plus_val_va, np.array(y_train_plus_val_va).ravel())\n",
    "\n",
    "# find best model hyperparameters \n",
    "print(la_cv_va.best_params_)\n",
    "print(la_cv_va.best_estimator_)\n",
    "print('Min RMSE for lasso fro Mixed Use is: {}'.format(-la_cv_va.best_score_))"
   ]
  },
  {
   "cell_type": "code",
   "execution_count": null,
   "id": "a3b14113",
   "metadata": {},
   "outputs": [],
   "source": [
    "# MAE of best model\n",
    "print(mean_absolute_error(y_val_va, la_cv_va.best_estimator_.predict(X_val_va)))\n",
    "\n",
    "# RMSE and MAE of baseline model\n",
    "print(rmse(y_val_va))\n",
    "print(mae(y_val_va))"
   ]
  },
  {
   "cell_type": "markdown",
   "id": "370809d3",
   "metadata": {},
   "source": [
    "### Vacant Land: Ridge"
   ]
  },
  {
   "cell_type": "code",
   "execution_count": null,
   "id": "de34989f",
   "metadata": {},
   "outputs": [],
   "source": [
    "# random search for ridge\n",
    "param_rd_va = {'alpha': sp_loguniform(1e-4,1e2),\n",
    "            'fit_intercept':[True,False],\n",
    "            'normalize':[True,False]}\n",
    "\n",
    "rd_cv_va = RandomizedSearchCV(\n",
    "        Ridge(),\n",
    "        param_distributions=param_rd_va,\n",
    "        n_iter=10,\n",
    "        cv=5,\n",
    "        scoring='neg_root_mean_squared_error', \n",
    "        n_jobs=-1,\n",
    "        random_state=123\n",
    ").fit(X_train_plus_val_va, np.array(y_train_plus_val_va).ravel())\n",
    "\n",
    "# Find best model hyperparameters \n",
    "print(rd_cv_va.best_params_)\n",
    "print(rd_cv_va.best_estimator_)\n",
    "print('Min RMSE for ridge on Vacant Land is: {}'.format(-rd_cv_va.best_score_))"
   ]
  },
  {
   "cell_type": "code",
   "execution_count": null,
   "id": "b2308e8d",
   "metadata": {},
   "outputs": [],
   "source": [
    "# MAE of best model\n",
    "print(mean_absolute_error(y_val_va, rd_cv_va.best_estimator_.predict(X_val_va)))\n",
    "\n",
    "# RMSE and MAE of baseline model\n",
    "print(rmse(y_val_va))\n",
    "print(mae(y_val_va))"
   ]
  },
  {
   "cell_type": "markdown",
   "id": "72cc4cf5",
   "metadata": {},
   "source": [
    "### Vacant Land: KNN Regressor"
   ]
  },
  {
   "cell_type": "code",
   "execution_count": null,
   "id": "3e53005f",
   "metadata": {},
   "outputs": [],
   "source": [
    "# random search for KNeighborsRegressor\n",
    "param_knn_va = {'n_neighbors': sp_randint(1,21),\n",
    "             'weights': ['uniform', 'distance'],\n",
    "             'leaf_size': sp_randint(1,21)}\n",
    "\n",
    "knn_cv_va = RandomizedSearchCV(\n",
    "         KNeighborsRegressor(),\n",
    "         param_distributions=param_knn_va,\n",
    "         n_iter=10,\n",
    "         cv=5,\n",
    "         scoring='neg_root_mean_squared_error', \n",
    "         n_jobs=-1,\n",
    "         random_state=123\n",
    ").fit(X_train_plus_val_va, np.array(y_train_plus_val_va).ravel())\n",
    "\n",
    "# find best model hyperparameters \n",
    "print(knn_cv_va.best_params_)\n",
    "print(knn_cv_va.best_estimator_)\n",
    "print('Min RMSE for Knn regressor on Mixed Use is: {}'.format(-knn_cv_va.best_score_))"
   ]
  },
  {
   "cell_type": "code",
   "execution_count": null,
   "id": "38ded346",
   "metadata": {},
   "outputs": [],
   "source": [
    "# MAE of best model\n",
    "print(mean_absolute_error(y_val_va, knn_cv_va.best_estimator_.predict(X_val_va)))\n",
    "\n",
    "# RMSE and MAE of baseline model\n",
    "print(rmse(y_val_va))\n",
    "print(mae(y_val_va))"
   ]
  },
  {
   "cell_type": "markdown",
   "id": "6dd8b2f6",
   "metadata": {},
   "source": [
    "### Vacant Land: Random Forest Regressor"
   ]
  },
  {
   "cell_type": "code",
   "execution_count": null,
   "id": "9e7a0e1e",
   "metadata": {},
   "outputs": [],
   "source": [
    "# random search for RandomForestRegressor\n",
    "param_rf_va = {'n_estimators': [100, 120, 200, 300, 500, 800, 1200],\n",
    "            'max_depth': [None, 5, 8, 15, 25, 30],\n",
    "            'min_samples_split': [1, 2, 5, 10 ,15, 100],\n",
    "            'min_samples_leaf': [1, 2, 5, 10],\n",
    "            'max_features': ['auto', 'sqrt', 'log2']}\n",
    "\n",
    "rf_cv_va = RandomizedSearchCV(\n",
    "        RandomForestRegressor(),\n",
    "        param_distributions=param_rf_va,\n",
    "        n_iter=10,\n",
    "        cv=5,\n",
    "        scoring='neg_root_mean_squared_error', \n",
    "        n_jobs=-1,\n",
    "        random_state=123\n",
    ").fit(X_train_plus_val_va, np.array(y_train_plus_val_va).ravel())\n",
    "\n",
    "# find best model hyperparameters \n",
    "print(rf_cv_va.best_params_)\n",
    "print(rf_cv_va.best_estimator_)\n",
    "print('Min RMSE is for random forest regressor on Mixed Use is: {}'.format(-rf_cv_va.best_score_))"
   ]
  },
  {
   "cell_type": "code",
   "execution_count": null,
   "id": "d4ad3f35",
   "metadata": {},
   "outputs": [],
   "source": [
    "# MAE of best model\n",
    "print(mean_absolute_error(y_val_va, rf_cv_va.best_estimator_.predict(X_val_va)))\n",
    "\n",
    "# RMSE and MAE of baseline model\n",
    "print(rmse(y_val_va))\n",
    "print(mae(y_val_va))"
   ]
  },
  {
   "cell_type": "markdown",
   "id": "8e133fa1",
   "metadata": {},
   "source": [
    "### Vacant Land: MLP Regressor"
   ]
  },
  {
   "cell_type": "code",
   "execution_count": null,
   "id": "2bd0b33c",
   "metadata": {},
   "outputs": [],
   "source": [
    "# random search for MLPRegressor\n",
    "hl = []\n",
    "for i in [1, 2, 3, 4, 5, 10, 15, 25, 30]:\n",
    "    hl.append((i))\n",
    "    hl.append((i,i))\n",
    "\n",
    "param_mlp_va = {'hidden_layer_sizes': hl,\n",
    "             'learning_rate_init': sp_loguniform(1e-4, 1e2),\n",
    "             'alpha': sp_loguniform(1e-4, 1e2),\n",
    "             'batch_size': [1, 3, 5, 10, 20, 50, 100, 250, 500]}\n",
    "\n",
    "mlp_cv_va = RandomizedSearchCV(\n",
    "         MLPRegressor(),\n",
    "         param_distributions=param_mlp_mx,\n",
    "         n_iter=10,\n",
    "         cv=5,\n",
    "         scoring='neg_root_mean_squared_error', \n",
    "         n_jobs=-1,\n",
    "         random_state=123\n",
    ").fit(X_train_plus_val_va, np.array(y_train_plus_val_va).ravel())\n",
    "\n",
    "# find best model hyperparameters \n",
    "print(mlp_cv_va.best_params_)\n",
    "print(mlp_cv_va.best_estimator_)\n",
    "print('Min RMSE for MLP regressor on Mixed Use is: {}'.format(-mlp_cv_va.best_score_))"
   ]
  },
  {
   "cell_type": "code",
   "execution_count": null,
   "id": "21df1114",
   "metadata": {},
   "outputs": [],
   "source": [
    "# MAE of best model\n",
    "print(mean_absolute_error(y_val_va, mlp_cv_va.best_estimator_.predict(X_val_va)))\n",
    "\n",
    "# RMSE and MAE of baseline model\n",
    "print(rmse(y_val_va))\n",
    "print(mae(y_val_va))"
   ]
  },
  {
   "cell_type": "markdown",
   "id": "81ce3179",
   "metadata": {},
   "source": [
    "### Vacant Land: XGBoost"
   ]
  },
  {
   "cell_type": "code",
   "execution_count": null,
   "id": "f530e5f7",
   "metadata": {},
   "outputs": [],
   "source": [
    "# random search for XGBoost\n",
    "param_xg_va = {'n_estimators':[100, 500 ,1000],\n",
    "               'max_depth': sp_randint(3, 15),\n",
    "               'learning_rate_init': sp_loguniform(1e-4, 1e2),\n",
    "               'min_child_weight': [1, 3, 5, 7]}\n",
    "\n",
    "xg_cv_va = RandomizedSearchCV(\n",
    "            xgb.XGBRegressor(nthread=-1),\n",
    "            param_distributions=param_xg_mx,\n",
    "            n_iter=10,\n",
    "            cv=5,\n",
    "            scoring='neg_root_mean_squared_error',\n",
    "            n_jobs=-1,\n",
    "            random_state=123\n",
    ").fit(X_train_plus_val_va, np.array(y_train_plus_val_va).ravel())\n",
    "\n",
    "# find best model hyperparameters \n",
    "print(xg_cv_va.best_params_)\n",
    "print(xg_cv_va.best_estimator_)\n",
    "print('Min RMSE for XGBoost on Mixed Use is: {}'.format(-xg_cv_va.best_score_))"
   ]
  },
  {
   "cell_type": "code",
   "execution_count": null,
   "id": "7ad7bbb8",
   "metadata": {},
   "outputs": [],
   "source": [
    "# MAE of best model\n",
    "print(mean_absolute_error(y_val_va, xg_cv_va.best_estimator_.predict(X_val_va)))\n",
    "\n",
    "# RMSE and MAE of baseline model\n",
    "print(rmse(y_val_va))\n",
    "print(mae(y_val_va))"
   ]
  }
 ],
 "metadata": {
  "kernelspec": {
   "display_name": "Python 3",
   "language": "python",
   "name": "python3"
  },
  "language_info": {
   "codemirror_mode": {
    "name": "ipython",
    "version": 3
   },
   "file_extension": ".py",
   "mimetype": "text/x-python",
   "name": "python",
   "nbconvert_exporter": "python",
   "pygments_lexer": "ipython3",
   "version": "3.8.8"
  }
 },
 "nbformat": 4,
 "nbformat_minor": 5
}
