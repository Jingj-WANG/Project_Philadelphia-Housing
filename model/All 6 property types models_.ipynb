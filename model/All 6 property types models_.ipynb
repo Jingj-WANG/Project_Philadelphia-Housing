{
 "cells": [
  {
   "cell_type": "code",
   "execution_count": 1,
   "id": "b7faca08",
   "metadata": {},
   "outputs": [],
   "source": [
    "# import packages\n",
    "import pandas as pd\n",
    "import numpy as np\n",
    "import matplotlib.pyplot as plt\n",
    "import seaborn as sns\n",
    "\n",
    "from sklearn.linear_model import LinearRegression\n",
    "from sklearn.linear_model import Lasso\n",
    "from sklearn.linear_model import Ridge\n",
    "from sklearn.neighbors import KNeighborsRegressor\n",
    "from sklearn.ensemble import RandomForestRegressor\n",
    "from sklearn.neural_network import MLPRegressor\n",
    "import xgboost as xgb\n",
    "\n",
    "from sklearn.model_selection import PredefinedSplit, RandomizedSearchCV, KFold, StratifiedKFold\n",
    "from sklearn.metrics import r2_score, mean_squared_error, mean_absolute_error\n",
    "\n",
    "from scipy.stats import loguniform as sp_loguniform\n",
    "from scipy.stats import randint as sp_randint\n",
    "\n",
    "import statsmodels.api as sm\n",
    "import statsmodels.formula.api as smf\n",
    "\n",
    "import warnings\n",
    "warnings.filterwarnings('ignore')"
   ]
  },
  {
   "cell_type": "markdown",
   "id": "3a84c31d",
   "metadata": {},
   "source": [
    "### Experiment on Single Family"
   ]
  },
  {
   "cell_type": "code",
   "execution_count": 2,
   "id": "0a9df04d",
   "metadata": {},
   "outputs": [],
   "source": [
    "# get training, validation and test data for single family\n",
    "X_train_sf = pd.read_csv('X_train_sf.csv')\n",
    "X_train_sf.index = X_train_sf['Unnamed: 0']\n",
    "X_train_sf = X_train_sf.drop(['Unnamed: 0'], axis=1)\n",
    "X_val_sf = pd.read_csv('X_val_sf.csv')\n",
    "X_val_sf.index = X_val_sf['Unnamed: 0']\n",
    "X_val_sf = X_val_sf.drop(['Unnamed: 0'], axis=1)\n",
    "X_test_sf = pd.read_csv('X_test_sf.csv')\n",
    "X_test_sf.index = X_test_sf['Unnamed: 0']\n",
    "X_test_sf = X_test_sf.drop(['Unnamed: 0'], axis=1)\n",
    "y_train_sf = pd.read_csv('y_train_sf.csv')\n",
    "y_train_sf.index = y_train_sf['Unnamed: 0']\n",
    "y_train_sf = y_train_sf.drop(['Unnamed: 0'], axis=1)\n",
    "y_val_sf = pd.read_csv('y_val_sf.csv')\n",
    "y_val_sf.index = y_val_sf['Unnamed: 0']\n",
    "y_val_sf = y_val_sf.drop(['Unnamed: 0'], axis=1)\n",
    "y_test_sf = pd.read_csv('y_test_sf.csv')\n",
    "y_test_sf.index = y_test_sf['Unnamed: 0']\n",
    "y_test_sf = y_test_sf.drop(['Unnamed: 0'], axis=1)"
   ]
  },
  {
   "cell_type": "code",
   "execution_count": 3,
   "id": "f4682f9c",
   "metadata": {},
   "outputs": [],
   "source": [
    "# create a predefined validation set for random search\n",
    "y_train_plus_val_sf = pd.concat([y_train_sf, y_val_sf])\n",
    "y_train_plus_val_sf_copy = y_train_plus_val_sf.copy()\n",
    "y_train_plus_val_sf_copy.columns = ['train_val_split']\n",
    "y_train_plus_val_sf_copy.loc[y_train_sf.index,'train_val_split'] = -1\n",
    "y_train_plus_val_sf_copy.loc[y_val_sf.index,'train_val_split'] = 0\n",
    "val_fold_sf = np.array(y_train_plus_val_sf_copy)\n",
    "ps_sf = PredefinedSplit(val_fold_sf)\n",
    "\n",
    "# get training plus validation set\n",
    "X_train_plus_val_sf = pd.concat([X_train_sf, X_val_sf])"
   ]
  },
  {
   "cell_type": "code",
   "execution_count": 10,
   "id": "5faddfd8",
   "metadata": {},
   "outputs": [],
   "source": [
    "# create a function to calculate baseline RMSE and MAE\n",
    "def rmse(l):\n",
    "    return np.sqrt((np.sum((l-np.mean(l))**2))/len(l))\n",
    "def mae(l):\n",
    "    return np.sum(np.abs(l-np.mean(l)))/len(l)"
   ]
  },
  {
   "cell_type": "markdown",
   "id": "70e89724",
   "metadata": {},
   "source": [
    "### Single Family: Linear regression"
   ]
  },
  {
   "cell_type": "code",
   "execution_count": 4,
   "id": "e6a0680a",
   "metadata": {},
   "outputs": [
    {
     "name": "stdout",
     "output_type": "stream",
     "text": [
      "{'normalize': True, 'fit_intercept': False}\n",
      "LinearRegression(fit_intercept=False, normalize=True)\n",
      "Min RMSE for linear regression on Single Family is: 23479006242.85987\n"
     ]
    }
   ],
   "source": [
    "# random search for linear regression\n",
    "param_lr_sf = {'fit_intercept': [True,False],\n",
    "               'normalize':[True,False]}\n",
    "\n",
    "lr_cv_sf = RandomizedSearchCV(\n",
    "           LinearRegression(),\n",
    "           param_distributions=param_lr_sf,\n",
    "           n_iter=10,\n",
    "           cv=ps_sf,\n",
    "           scoring='neg_root_mean_squared_error', \n",
    "           n_jobs=-1,\n",
    "           random_state=123\n",
    ").fit(X_train_plus_val_sf, np.array(y_train_plus_val_sf).ravel())\n",
    "\n",
    "# find best model hyperparameters \n",
    "print(lr_cv_sf.best_params_)\n",
    "print(lr_cv_sf.best_estimator_)\n",
    "print('Min RMSE for linear regression on Single Family is: {}'.format(-lr_cv_sf.best_score_))"
   ]
  },
  {
   "cell_type": "code",
   "execution_count": 11,
   "id": "86222edb",
   "metadata": {},
   "outputs": [
    {
     "name": "stdout",
     "output_type": "stream",
     "text": [
      "106.65993138395191\n",
      "sale_price    290.504546\n",
      "dtype: float64\n",
      "sale_price    155.263946\n",
      "dtype: float64\n"
     ]
    }
   ],
   "source": [
    "# MAE of best model\n",
    "print(mean_absolute_error(y_val_sf, lr_cv_sf.best_estimator_.predict(X_val_sf)))\n",
    "\n",
    "# RMSE and MAE of baseline model\n",
    "print(rmse(y_val_sf))\n",
    "print(mae(y_val_sf))"
   ]
  },
  {
   "cell_type": "markdown",
   "id": "454fa40f",
   "metadata": {},
   "source": [
    "### Single Family: Lasso"
   ]
  },
  {
   "cell_type": "code",
   "execution_count": 12,
   "id": "e54ad8b7",
   "metadata": {},
   "outputs": [
    {
     "name": "stdout",
     "output_type": "stream",
     "text": [
      "{'alpha': 0.07684071705306554, 'fit_intercept': False, 'normalize': True}\n",
      "Lasso(alpha=0.07684071705306554, fit_intercept=False, normalize=True)\n",
      "Min RMSE for lasso on Single Family is: 237.02107253707626\n"
     ]
    }
   ],
   "source": [
    "# random search for lasso\n",
    "param_la_sf = {'alpha': sp_loguniform(1e-4,1e2),\n",
    "            'fit_intercept':[True,False],\n",
    "            'normalize':[True,False]}\n",
    "\n",
    "la_cv_sf = RandomizedSearchCV(\n",
    "        Lasso(),\n",
    "        param_distributions=param_la_sf,\n",
    "        n_iter=10,\n",
    "        cv=ps_sf,\n",
    "        scoring='neg_root_mean_squared_error', \n",
    "        n_jobs=-1,\n",
    "        random_state=123\n",
    ").fit(X_train_plus_val_sf, np.array(y_train_plus_val_sf).ravel())\n",
    "\n",
    "# find best model hyperparameters \n",
    "print(la_cv_sf.best_params_)\n",
    "print(la_cv_sf.best_estimator_)\n",
    "print('Min RMSE for lasso on Single Family is: {}'.format(-la_cv_sf.best_score_))"
   ]
  },
  {
   "cell_type": "code",
   "execution_count": 13,
   "id": "496ad813",
   "metadata": {},
   "outputs": [
    {
     "name": "stdout",
     "output_type": "stream",
     "text": [
      "106.50077190341187\n",
      "sale_price    290.504546\n",
      "dtype: float64\n",
      "sale_price    155.263946\n",
      "dtype: float64\n"
     ]
    }
   ],
   "source": [
    "# MAE of best model\n",
    "print(mean_absolute_error(y_val_sf, la_cv_sf.best_estimator_.predict(X_val_sf)))\n",
    "\n",
    "# RMSE and MAE of baseline model\n",
    "print(rmse(y_val_sf))\n",
    "print(mae(y_val_sf))"
   ]
  },
  {
   "cell_type": "markdown",
   "id": "528c6e3f",
   "metadata": {},
   "source": [
    "### Single Family: Ridge"
   ]
  },
  {
   "cell_type": "code",
   "execution_count": 14,
   "id": "ab506be2",
   "metadata": {},
   "outputs": [
    {
     "name": "stdout",
     "output_type": "stream",
     "text": [
      "{'alpha': 76.66289057556017, 'fit_intercept': True, 'normalize': False}\n",
      "Ridge(alpha=76.66289057556017)\n",
      "Min RMSE fort ridge on Single Family is: 236.94456670464658\n"
     ]
    }
   ],
   "source": [
    "# random search for ridge\n",
    "param_rd_sf = {'alpha': sp_loguniform(1e-4,1e2),\n",
    "            'fit_intercept':[True,False],\n",
    "            'normalize':[True,False]}\n",
    "\n",
    "rd_cv_sf = RandomizedSearchCV(\n",
    "        Ridge(),\n",
    "        param_distributions=param_rd_sf,\n",
    "        n_iter=10,\n",
    "        cv=ps_sf,\n",
    "        scoring='neg_root_mean_squared_error', \n",
    "        n_jobs=-1,\n",
    "        random_state=123\n",
    ").fit(X_train_plus_val_sf, np.array(y_train_plus_val_sf).ravel())\n",
    "\n",
    "# Find best model hyperparameters \n",
    "print(rd_cv_sf.best_params_)\n",
    "print(rd_cv_sf.best_estimator_)\n",
    "print('Min RMSE fort ridge on Single Family is: {}'.format(-rd_cv_sf.best_score_))"
   ]
  },
  {
   "cell_type": "code",
   "execution_count": 15,
   "id": "81f4b1eb",
   "metadata": {},
   "outputs": [
    {
     "name": "stdout",
     "output_type": "stream",
     "text": [
      "106.58155691099871\n",
      "sale_price    290.504546\n",
      "dtype: float64\n",
      "sale_price    155.263946\n",
      "dtype: float64\n"
     ]
    }
   ],
   "source": [
    "# MAE of best model\n",
    "print(mean_absolute_error(y_val_sf, rd_cv_sf.best_estimator_.predict(X_val_sf)))\n",
    "\n",
    "# RMSE and MAE of baseline model\n",
    "print(rmse(y_val_sf))\n",
    "print(mae(y_val_sf))"
   ]
  },
  {
   "cell_type": "markdown",
   "id": "0fb13e99",
   "metadata": {},
   "source": [
    "### Single Family: KNeighborsRegressor"
   ]
  },
  {
   "cell_type": "code",
   "execution_count": 16,
   "id": "e8ab1b1d",
   "metadata": {},
   "outputs": [
    {
     "name": "stdout",
     "output_type": "stream",
     "text": [
      "{'leaf_size': 5, 'n_neighbors': 18, 'weights': 'distance'}\n",
      "KNeighborsRegressor(leaf_size=5, n_neighbors=18, weights='distance')\n",
      "Min RMSE for Knn regressor on Single Family is: 170.7286967851921\n"
     ]
    }
   ],
   "source": [
    "# random search for KNeighborsRegressor\n",
    "param_knn_sf = {'n_neighbors': sp_randint(1,21),\n",
    "             'weights': ['uniform', 'distance'],\n",
    "             'leaf_size': sp_randint(1,21)}\n",
    "\n",
    "knn_cv_sf = RandomizedSearchCV(\n",
    "         KNeighborsRegressor(),\n",
    "         param_distributions=param_knn_sf,\n",
    "         n_iter=10,\n",
    "         cv=ps_sf,\n",
    "         scoring='neg_root_mean_squared_error', \n",
    "         n_jobs=-1,\n",
    "         random_state=123\n",
    ").fit(X_train_plus_val_sf, np.array(y_train_plus_val_sf).ravel())\n",
    "\n",
    "# find best model hyperparameters \n",
    "print(knn_cv_sf.best_params_)\n",
    "print(knn_cv_sf.best_estimator_)\n",
    "print('Min RMSE for Knn regressor on Single Family is: {}'.format(-knn_cv_sf.best_score_))"
   ]
  },
  {
   "cell_type": "code",
   "execution_count": 17,
   "id": "5889ed27",
   "metadata": {},
   "outputs": [
    {
     "name": "stdout",
     "output_type": "stream",
     "text": [
      "0.07647382492493975\n",
      "sale_price    290.504546\n",
      "dtype: float64\n",
      "sale_price    155.263946\n",
      "dtype: float64\n"
     ]
    }
   ],
   "source": [
    "# MAE of best model\n",
    "print(mean_absolute_error(y_val_sf, knn_cv_sf.best_estimator_.predict(X_val_sf)))\n",
    "\n",
    "# RMSE and MAE of baseline model\n",
    "print(rmse(y_val_sf))\n",
    "print(mae(y_val_sf))"
   ]
  },
  {
   "cell_type": "markdown",
   "id": "e736c9f0",
   "metadata": {},
   "source": [
    "### Single Family: RandomForestRegressor"
   ]
  },
  {
   "cell_type": "code",
   "execution_count": 18,
   "id": "bc0c451d",
   "metadata": {},
   "outputs": [
    {
     "name": "stdout",
     "output_type": "stream",
     "text": [
      "{'n_estimators': 800, 'min_samples_split': 2, 'min_samples_leaf': 5, 'max_features': 'auto', 'max_depth': None}\n",
      "RandomForestRegressor(min_samples_leaf=5, n_estimators=800)\n",
      "Min RMSE is for random forest regressor on Single Family is: 136.8469916397392\n"
     ]
    }
   ],
   "source": [
    "# random search for RandomForestRegressor\n",
    "param_rf_sf = {'n_estimators': [100, 120, 200, 300, 500, 800, 1200],\n",
    "            'max_depth': [None, 5, 8, 15, 25, 30],\n",
    "            'min_samples_split': [1, 2, 5, 10 ,15, 100],\n",
    "            'min_samples_leaf': [1, 2, 5, 10],\n",
    "            'max_features': ['auto', 'sqrt', 'log2']}\n",
    "\n",
    "rf_cv_sf = RandomizedSearchCV(\n",
    "        RandomForestRegressor(),\n",
    "        param_distributions=param_rf_sf,\n",
    "        n_iter=10,\n",
    "        cv=ps_sf,\n",
    "        scoring='neg_root_mean_squared_error', \n",
    "        n_jobs=-1,\n",
    "        random_state=123\n",
    ").fit(X_train_plus_val_sf, np.array(y_train_plus_val_sf).ravel())\n",
    "\n",
    "# find best model hyperparameters \n",
    "print(rf_cv_sf.best_params_)\n",
    "print(rf_cv_sf.best_estimator_)\n",
    "print('Min RMSE is for random forest regressor on Single Family is: {}'.format(-rf_cv_sf.best_score_))"
   ]
  },
  {
   "cell_type": "code",
   "execution_count": 19,
   "id": "6f1a860d",
   "metadata": {},
   "outputs": [
    {
     "name": "stdout",
     "output_type": "stream",
     "text": [
      "34.78543529085287\n",
      "sale_price    290.504546\n",
      "dtype: float64\n",
      "sale_price    155.263946\n",
      "dtype: float64\n"
     ]
    }
   ],
   "source": [
    "# MAE of best model\n",
    "print(mean_absolute_error(y_val_sf, rf_cv_sf.best_estimator_.predict(X_val_sf)))\n",
    "\n",
    "# RMSE and MAE of baseline model\n",
    "print(rmse(y_val_sf))\n",
    "print(mae(y_val_sf))"
   ]
  },
  {
   "cell_type": "markdown",
   "id": "2e04ff10",
   "metadata": {},
   "source": [
    "### Single Family: MLPRegressor"
   ]
  },
  {
   "cell_type": "code",
   "execution_count": 20,
   "id": "a09dd3eb",
   "metadata": {},
   "outputs": [
    {
     "name": "stdout",
     "output_type": "stream",
     "text": [
      "{'alpha': 1.8792349823745838, 'batch_size': 500, 'hidden_layer_sizes': 30, 'learning_rate_init': 0.08964140621713512}\n",
      "MLPRegressor(alpha=1.8792349823745838, batch_size=500, hidden_layer_sizes=30,\n",
      "             learning_rate_init=0.08964140621713512)\n",
      "Min RMSE for MLP regressor on Single Family is: 178.02757159982698\n"
     ]
    }
   ],
   "source": [
    "# random search for MLPRegressor\n",
    "hl = []\n",
    "for i in [1, 2, 3, 4, 5, 10, 15, 25, 30]:\n",
    "    hl.append((i))\n",
    "    hl.append((i,i))\n",
    "\n",
    "param_mlp_sf = {'hidden_layer_sizes': hl,\n",
    "             'learning_rate_init': sp_loguniform(1e-4, 1e2),\n",
    "             'alpha': sp_loguniform(1e-4, 1e2),\n",
    "             'batch_size': [1, 3, 5, 10, 20, 50, 100, 250, 500]}\n",
    "\n",
    "mlp_cv_sf = RandomizedSearchCV(\n",
    "         MLPRegressor(),\n",
    "         param_distributions=param_mlp_sf,\n",
    "         n_iter=10,\n",
    "         cv=ps_sf,\n",
    "         scoring='neg_root_mean_squared_error', \n",
    "         n_jobs=-1,\n",
    "         random_state=123\n",
    ").fit(X_train_plus_val_sf, np.array(y_train_plus_val_sf).ravel())\n",
    "\n",
    "# find best model hyperparameters \n",
    "print(mlp_cv_sf.best_params_)\n",
    "print(mlp_cv_sf.best_estimator_)\n",
    "print('Min RMSE for MLP regressor on Single Family is: {}'.format(-mlp_cv_sf.best_score_))"
   ]
  },
  {
   "cell_type": "code",
   "execution_count": 21,
   "id": "ca1eed14",
   "metadata": {},
   "outputs": [
    {
     "name": "stdout",
     "output_type": "stream",
     "text": [
      "73.1474578825477\n",
      "sale_price    290.504546\n",
      "dtype: float64\n",
      "sale_price    155.263946\n",
      "dtype: float64\n"
     ]
    }
   ],
   "source": [
    "# MAE of best model\n",
    "print(mean_absolute_error(y_val_sf, mlp_cv_sf.best_estimator_.predict(X_val_sf)))\n",
    "\n",
    "# RMSE and MAE of baseline model\n",
    "print(rmse(y_val_sf))\n",
    "print(mae(y_val_sf))"
   ]
  },
  {
   "cell_type": "markdown",
   "id": "db8db376",
   "metadata": {},
   "source": [
    "### Single Family: XGBoost"
   ]
  },
  {
   "cell_type": "code",
   "execution_count": 22,
   "id": "ffe97633",
   "metadata": {},
   "outputs": [
    {
     "name": "stdout",
     "output_type": "stream",
     "text": [
      "[09:16:03] WARNING: C:/Users/Administrator/workspace/xgboost-win64_release_1.5.1/src/learner.cc:576: \n",
      "Parameters: { \"learning_rate_init\" } might not be used.\n",
      "\n",
      "  This could be a false alarm, with some parameters getting used by language bindings but\n",
      "  then being mistakenly passed down to XGBoost core, or some parameter actually being used\n",
      "  but getting flagged wrongly here. Please open an issue if you find any such cases.\n",
      "\n",
      "\n",
      "{'learning_rate_init': 0.15522637752063606, 'max_depth': 11, 'min_child_weight': 3, 'n_estimators': 100}\n",
      "XGBRegressor(base_score=0.5, booster='gbtree', colsample_bylevel=1,\n",
      "             colsample_bynode=1, colsample_bytree=1, enable_categorical=False,\n",
      "             gamma=0, gpu_id=-1, importance_type=None,\n",
      "             interaction_constraints='', learning_rate=0.300000012,\n",
      "             learning_rate_init=0.15522637752063606, max_delta_step=0,\n",
      "             max_depth=11, min_child_weight=3, missing=nan,\n",
      "             monotone_constraints='()', n_estimators=100, n_jobs=16, nthread=-1,\n",
      "             num_parallel_tree=1, predictor='auto', random_state=0, reg_alpha=0,\n",
      "             reg_lambda=1, scale_pos_weight=1, subsample=1, tree_method='exact',\n",
      "             validate_parameters=1, verbosity=None)\n",
      "Min RMSE for XGBoost on Single Family is: 131.88880629549743\n"
     ]
    }
   ],
   "source": [
    "# random search for XGBoost\n",
    "param_xg_sf = {'n_estimators':[100, 500 ,1000],\n",
    "               'max_depth': sp_randint(3, 15),\n",
    "               'learning_rate_init': sp_loguniform(1e-4, 1e2),\n",
    "               'min_child_weight': [1, 3, 5, 7]}\n",
    "\n",
    "xg_cv_sf = RandomizedSearchCV(\n",
    "            xgb.XGBRegressor(nthread=-1),\n",
    "            param_distributions=param_xg_sf,\n",
    "            n_iter=10,\n",
    "            cv=ps_sf,\n",
    "            scoring='neg_root_mean_squared_error',\n",
    "            n_jobs=-1,\n",
    "            random_state=123\n",
    ").fit(X_train_plus_val_sf, np.array(y_train_plus_val_sf).ravel())\n",
    "\n",
    "# find best model hyperparameters \n",
    "print(xg_cv_sf.best_params_)\n",
    "print(xg_cv_sf.best_estimator_)\n",
    "print('Min RMSE for XGBoost on Single Family is: {}'.format(-xg_cv_sf.best_score_))"
   ]
  },
  {
   "cell_type": "code",
   "execution_count": 23,
   "id": "31cf6a50",
   "metadata": {},
   "outputs": [
    {
     "name": "stdout",
     "output_type": "stream",
     "text": [
      "31.23552542508914\n",
      "sale_price    290.504546\n",
      "dtype: float64\n",
      "sale_price    155.263946\n",
      "dtype: float64\n"
     ]
    }
   ],
   "source": [
    "# MAE of best model\n",
    "print(mean_absolute_error(y_val_sf, xg_cv_sf.best_estimator_.predict(X_val_sf)))\n",
    "\n",
    "# RMSE and MAE of baseline model\n",
    "print(rmse(y_val_sf))\n",
    "print(mae(y_val_sf))"
   ]
  },
  {
   "cell_type": "markdown",
   "id": "5d6470d7",
   "metadata": {},
   "source": [
    "### Experiment on Multi Family"
   ]
  },
  {
   "cell_type": "code",
   "execution_count": 28,
   "id": "d811986a",
   "metadata": {},
   "outputs": [],
   "source": [
    "# MULTIFAMILY get training, validation and test data\n",
    "X_train_mf = pd.read_csv('X_train_mf.csv')\n",
    "X_train_mf.index = X_train_mf['Unnamed: 0']\n",
    "X_train_mf = X_train_mf.drop(['Unnamed: 0'], axis=1)\n",
    "\n",
    "X_val_mf = pd.read_csv('X_val_mf.csv')\n",
    "X_val_mf.index = X_val_mf['Unnamed: 0']\n",
    "X_val_mf = X_val_mf.drop(['Unnamed: 0'], axis=1)\n",
    "\n",
    "X_test_mf = pd.read_csv('X_test_mf.csv')\n",
    "X_test_mf.index = X_test_mf['Unnamed: 0']\n",
    "X_test_mf = X_test_mf.drop(['Unnamed: 0'], axis=1)\n",
    "\n",
    "y_train_mf = pd.read_csv('y_train_mf.csv')\n",
    "y_train_mf.index = y_train_mf['Unnamed: 0']\n",
    "y_train_mf = y_train_mf.drop(['Unnamed: 0'], axis=1)\n",
    "\n",
    "y_val_mf = pd.read_csv('y_val_mf.csv')\n",
    "y_val_mf.index = y_val_mf['Unnamed: 0']\n",
    "y_val_mf = y_val_mf.drop(['Unnamed: 0'], axis=1)\n",
    "\n",
    "y_test_mf = pd.read_csv('y_test_mf.csv')\n",
    "y_test_mf.index = y_test_mf['Unnamed: 0']\n",
    "y_test_mf = y_test_mf.drop(['Unnamed: 0'], axis=1)"
   ]
  },
  {
   "cell_type": "code",
   "execution_count": 29,
   "id": "6ab1b059",
   "metadata": {},
   "outputs": [],
   "source": [
    "# Multifamily\n",
    "y_train_plus_val_mf = pd.concat([y_train_mf, y_val_mf])\n",
    "y_train_plus_val_mf_copy = y_train_plus_val_mf.copy()\n",
    "y_train_plus_val_mf_copy.columns = ['train_val_split']\n",
    "y_train_plus_val_mf_copy.loc[y_train_mf.index,'train_val_split'] = -1\n",
    "y_train_plus_val_mf_copy.loc[y_val_mf.index,'train_val_split'] = 0\n",
    "val_fold_mf = np.array(y_train_plus_val_mf_copy)\n",
    "ps_mf = PredefinedSplit(val_fold_mf)\n",
    "\n",
    "# Multifamily training plus validation set\n",
    "X_train_plus_val_mf = pd.concat([X_train_mf, X_val_mf])"
   ]
  },
  {
   "cell_type": "markdown",
   "id": "ab4de282",
   "metadata": {},
   "source": [
    "### Multi Family: Linear regression"
   ]
  },
  {
   "cell_type": "code",
   "execution_count": 30,
   "id": "8ab9d388",
   "metadata": {},
   "outputs": [
    {
     "name": "stdout",
     "output_type": "stream",
     "text": [
      "{'normalize': True, 'fit_intercept': False}\n",
      "LinearRegression(fit_intercept=False, normalize=True)\n",
      "MULTIFAMILY Linear min RMSE is: 3656416892829.176\n"
     ]
    }
   ],
   "source": [
    "# random search for linear regression\n",
    "param_lr_mf = {'fit_intercept': [True,False],\n",
    "               'normalize':[True,False]}\n",
    "\n",
    "lr_cv_mf = RandomizedSearchCV(\n",
    "           LinearRegression(),\n",
    "           param_distributions=param_lr_mf,\n",
    "           n_iter=20,\n",
    "           cv=ps_mf,\n",
    "           scoring='neg_root_mean_squared_error', \n",
    "           n_jobs=-1,\n",
    "           random_state=123\n",
    ").fit(X_train_plus_val_mf, np.array(y_train_plus_val_mf).ravel())\n",
    "\n",
    "# find best model hyperparameters \n",
    "print(lr_cv_mf.best_params_)\n",
    "print(lr_cv_mf.best_estimator_)\n",
    "print('MULTIFAMILY Linear min RMSE is: {}'.format(-lr_cv_mf.best_score_))"
   ]
  },
  {
   "cell_type": "code",
   "execution_count": 31,
   "id": "0220ab06",
   "metadata": {},
   "outputs": [
    {
     "name": "stdout",
     "output_type": "stream",
     "text": [
      "266.992634992259\n",
      "sale_price    587.030511\n",
      "dtype: float64\n",
      "sale_price    313.600881\n",
      "dtype: float64\n"
     ]
    }
   ],
   "source": [
    "# MAE of best model\n",
    "print(mean_absolute_error(y_val_mf, lr_cv_mf.best_estimator_.predict(X_val_mf)))\n",
    "\n",
    "# RMSE and MAE of baseline model\n",
    "print(rmse(y_val_mf))\n",
    "print(mae(y_val_mf))"
   ]
  },
  {
   "cell_type": "markdown",
   "id": "af76dacd",
   "metadata": {},
   "source": [
    "### Multi Family: Lasso"
   ]
  },
  {
   "cell_type": "code",
   "execution_count": 35,
   "id": "75e0df90",
   "metadata": {},
   "outputs": [
    {
     "name": "stdout",
     "output_type": "stream",
     "text": [
      "{'alpha': 1.5094374246471327, 'fit_intercept': True, 'normalize': True}\n",
      "Lasso(alpha=1.5094374246471327, normalize=True)\n",
      "MULTI FAMILY LASSO min RMSE is: 654.6961994584565\n"
     ]
    }
   ],
   "source": [
    "# random search for lasso\n",
    "param_la_mf = {'alpha': sp_loguniform(1e-4,1e2),\n",
    "            'fit_intercept':[True,False],\n",
    "            'normalize':[True,False]}\n",
    "\n",
    "la_cv_mf = RandomizedSearchCV(\n",
    "        Lasso(),\n",
    "        param_distributions=param_la_mf,\n",
    "        n_iter=10,\n",
    "        cv=ps_mf,\n",
    "        scoring='neg_root_mean_squared_error', \n",
    "        n_jobs=-1,\n",
    "        random_state=123\n",
    ").fit(X_train_plus_val_mf, np.array(y_train_plus_val_mf).ravel())\n",
    "\n",
    "# find best model hyperparameters \n",
    "print(la_cv_mf.best_params_)\n",
    "print(la_cv_mf.best_estimator_)\n",
    "print('MULTI FAMILY LASSO min RMSE is: {}'.format(-la_cv_mf.best_score_))"
   ]
  },
  {
   "cell_type": "code",
   "execution_count": 36,
   "id": "2305c57d",
   "metadata": {},
   "outputs": [
    {
     "name": "stdout",
     "output_type": "stream",
     "text": [
      "309.15303303433683\n",
      "sale_price    587.030511\n",
      "dtype: float64\n",
      "sale_price    313.600881\n",
      "dtype: float64\n"
     ]
    }
   ],
   "source": [
    "# MAE of best model\n",
    "print(mean_absolute_error(y_val_mf, la_cv_mf.best_estimator_.predict(X_val_mf)))\n",
    "\n",
    "# RMSE and MAE of baseline model\n",
    "print(rmse(y_val_mf))\n",
    "print(mae(y_val_mf))"
   ]
  },
  {
   "cell_type": "markdown",
   "id": "3434a915",
   "metadata": {},
   "source": [
    "### Multi Family: Ridge"
   ]
  },
  {
   "cell_type": "code",
   "execution_count": 37,
   "id": "11a5faa7",
   "metadata": {},
   "outputs": [
    {
     "name": "stdout",
     "output_type": "stream",
     "text": [
      "{'alpha': 1.5094374246471327, 'fit_intercept': True, 'normalize': True}\n",
      "Ridge(alpha=1.5094374246471327, normalize=True)\n",
      "MULTIFAMILY RIDGE min RMSE is: 1655.6082440221626\n"
     ]
    }
   ],
   "source": [
    "# random search for ridge\n",
    "param_rd = {'alpha': sp_loguniform(1e-4,1e2),\n",
    "            'fit_intercept':[True,False],\n",
    "            'normalize':[True,False]}\n",
    "\n",
    "rd_cv = RandomizedSearchCV(\n",
    "        Ridge(),\n",
    "        param_distributions=param_rd,\n",
    "        n_iter=10,\n",
    "        cv=ps_mf,\n",
    "        scoring='neg_root_mean_squared_error', \n",
    "        n_jobs=-1,\n",
    "        random_state=123\n",
    ").fit(X_train_plus_val_mf, np.array(y_train_plus_val_mf).ravel())\n",
    "\n",
    "# Find best model hyperparameters \n",
    "print(rd_cv.best_params_)\n",
    "print(rd_cv.best_estimator_)\n",
    "print('MULTIFAMILY RIDGE min RMSE is: {}'.format(-rd_cv.best_score_))"
   ]
  },
  {
   "cell_type": "code",
   "execution_count": 39,
   "id": "ed60dcbe",
   "metadata": {},
   "outputs": [
    {
     "name": "stdout",
     "output_type": "stream",
     "text": [
      "264.4113647181971\n",
      "sale_price    587.030511\n",
      "dtype: float64\n",
      "sale_price    313.600881\n",
      "dtype: float64\n"
     ]
    }
   ],
   "source": [
    "# MAE of best model\n",
    "print(mean_absolute_error(y_val_mf, rd_cv.best_estimator_.predict(X_val_mf)))\n",
    "\n",
    "# RMSE and MAE of baseline model\n",
    "print(rmse(y_val_mf))\n",
    "print(mae(y_val_mf))"
   ]
  },
  {
   "cell_type": "markdown",
   "id": "25bc8bce",
   "metadata": {},
   "source": [
    "### Multi Family: KNN Regressor"
   ]
  },
  {
   "cell_type": "code",
   "execution_count": 40,
   "id": "9b9ba1ba",
   "metadata": {},
   "outputs": [
    {
     "name": "stdout",
     "output_type": "stream",
     "text": [
      "{'leaf_size': 3, 'n_neighbors': 7, 'weights': 'distance'}\n",
      "KNeighborsRegressor(leaf_size=3, n_neighbors=7, weights='distance')\n",
      "MULTIFAMILY KNN min RMSE is: 410.45699249166245\n"
     ]
    }
   ],
   "source": [
    "# random search for KNeighborsRegressor\n",
    "param_knn = {'n_neighbors': sp_randint(1,21),\n",
    "             'weights': ['uniform', 'distance'],\n",
    "             'leaf_size': sp_randint(1,21)}\n",
    "\n",
    "knn_cv = RandomizedSearchCV(\n",
    "         KNeighborsRegressor(),\n",
    "         param_distributions=param_knn,\n",
    "         n_iter=10,\n",
    "         cv=ps_mf,\n",
    "         scoring='neg_root_mean_squared_error', \n",
    "         n_jobs=-1,\n",
    "         random_state=123\n",
    ").fit(X_train_plus_val_mf, np.array(y_train_plus_val_mf).ravel())\n",
    "\n",
    "# find best model hyperparameters \n",
    "print(knn_cv.best_params_)\n",
    "print(knn_cv.best_estimator_)\n",
    "print('MULTIFAMILY KNN min RMSE is: {}'.format(-knn_cv.best_score_))"
   ]
  },
  {
   "cell_type": "code",
   "execution_count": 42,
   "id": "3e1ec127",
   "metadata": {},
   "outputs": [
    {
     "name": "stdout",
     "output_type": "stream",
     "text": [
      "2.771917422644056e-05\n",
      "sale_price    587.030511\n",
      "dtype: float64\n",
      "sale_price    313.600881\n",
      "dtype: float64\n"
     ]
    }
   ],
   "source": [
    "# MAE of best model\n",
    "print(mean_absolute_error(y_val_mf, knn_cv.best_estimator_.predict(X_val_mf)))\n",
    "\n",
    "# RMSE and MAE of baseline model\n",
    "print(rmse(y_val_mf))\n",
    "print(mae(y_val_mf))"
   ]
  },
  {
   "cell_type": "markdown",
   "id": "d100f30c",
   "metadata": {},
   "source": [
    "### Multi Family: Random Forest Regressor"
   ]
  },
  {
   "cell_type": "code",
   "execution_count": 43,
   "id": "b4ce3617",
   "metadata": {},
   "outputs": [
    {
     "name": "stdout",
     "output_type": "stream",
     "text": [
      "{'n_estimators': 800, 'min_samples_split': 2, 'min_samples_leaf': 5, 'max_features': 'auto', 'max_depth': None}\n",
      "RandomForestRegressor(min_samples_leaf=5, n_estimators=800)\n",
      "RF MULTIFAMILY min RMSE is: 366.9209573288437\n"
     ]
    }
   ],
   "source": [
    "# random search for RandomForestRegressor\n",
    "param_rf = {'n_estimators': [100, 120, 200, 300, 500, 800, 1200],\n",
    "            'max_depth': [None, 5, 8, 15, 25, 30],\n",
    "            'min_samples_split': [1, 2, 5, 10 ,15, 100],\n",
    "            'min_samples_leaf': [1, 2, 5, 10],\n",
    "            'max_features': ['auto', 'sqrt', 'log2']}\n",
    "\n",
    "rf_cv = RandomizedSearchCV(\n",
    "        RandomForestRegressor(),\n",
    "        param_distributions=param_rf,\n",
    "        n_iter=10,\n",
    "        cv=ps_mf,\n",
    "        scoring='neg_root_mean_squared_error', \n",
    "        n_jobs=-1,\n",
    "        random_state=123\n",
    ").fit(X_train_plus_val_mf, np.array(y_train_plus_val_mf).ravel())\n",
    "\n",
    "# find best model hyperparameters \n",
    "print(rf_cv.best_params_)\n",
    "print(rf_cv.best_estimator_)\n",
    "print('RF MULTIFAMILY min RMSE is: {}'.format(-rf_cv.best_score_))"
   ]
  },
  {
   "cell_type": "code",
   "execution_count": 44,
   "id": "0eb46d29",
   "metadata": {},
   "outputs": [
    {
     "name": "stdout",
     "output_type": "stream",
     "text": [
      "103.97562607483347\n",
      "sale_price    587.030511\n",
      "dtype: float64\n",
      "sale_price    313.600881\n",
      "dtype: float64\n"
     ]
    }
   ],
   "source": [
    "# MAE of best model\n",
    "print(mean_absolute_error(y_val_mf, rf_cv.best_estimator_.predict(X_val_mf)))\n",
    "\n",
    "# RMSE and MAE of baseline model\n",
    "print(rmse(y_val_mf))\n",
    "print(mae(y_val_mf))"
   ]
  },
  {
   "cell_type": "markdown",
   "id": "e3841f64",
   "metadata": {},
   "source": [
    "### Multi Family: MLP Regressor"
   ]
  },
  {
   "cell_type": "code",
   "execution_count": 45,
   "id": "cfb60189",
   "metadata": {},
   "outputs": [
    {
     "name": "stdout",
     "output_type": "stream",
     "text": [
      "{'alpha': 0.0011290431413903904, 'batch_size': 10, 'hidden_layer_sizes': (25, 25), 'learning_rate_init': 0.6403328042606578}\n",
      "MLPRegressor(alpha=0.0011290431413903904, batch_size=10,\n",
      "             hidden_layer_sizes=(25, 25),\n",
      "             learning_rate_init=0.6403328042606578)\n",
      "MLPRegressor MULTIFAMILY min RMSE is: 587.0702744388025\n"
     ]
    }
   ],
   "source": [
    "# random search for MLPRegressor\n",
    "hl = []\n",
    "for i in [1, 2, 3, 4, 5, 10, 15, 25, 30]:\n",
    "    hl.append((i))\n",
    "    hl.append((i,i))\n",
    "\n",
    "param_mlp = {'hidden_layer_sizes': hl,\n",
    "             'learning_rate_init': sp_loguniform(1e-4, 1e2),\n",
    "             'alpha': sp_loguniform(1e-4, 1e2),\n",
    "             'batch_size': [1, 5, 10, 25, 100, 500]}\n",
    "\n",
    "mlp_cv = RandomizedSearchCV(\n",
    "         MLPRegressor(),\n",
    "         param_distributions=param_mlp,\n",
    "         n_iter=10,\n",
    "         cv=ps_mf,\n",
    "         scoring='neg_root_mean_squared_error', \n",
    "         n_jobs=-1,\n",
    "         random_state=123\n",
    ").fit(X_train_plus_val_mf, np.array(y_train_plus_val_mf).ravel())\n",
    "\n",
    "# find best model hyperparameters \n",
    "print(mlp_cv.best_params_)\n",
    "print(mlp_cv.best_estimator_)\n",
    "print('MLPRegressor MULTIFAMILY min RMSE is: {}'.format(-mlp_cv.best_score_))"
   ]
  },
  {
   "cell_type": "code",
   "execution_count": 46,
   "id": "4719b4ed",
   "metadata": {},
   "outputs": [
    {
     "name": "stdout",
     "output_type": "stream",
     "text": [
      "295.0096995370776\n",
      "sale_price    587.030511\n",
      "dtype: float64\n",
      "sale_price    313.600881\n",
      "dtype: float64\n"
     ]
    }
   ],
   "source": [
    "# MAE of best model\n",
    "print(mean_absolute_error(y_val_mf, mlp_cv.best_estimator_.predict(X_val_mf)))\n",
    "\n",
    "# RMSE and MAE of baseline model\n",
    "print(rmse(y_val_mf))\n",
    "print(mae(y_val_mf))"
   ]
  },
  {
   "cell_type": "markdown",
   "id": "6b24b455",
   "metadata": {},
   "source": [
    "### Multi Family: XGboost Regressor"
   ]
  },
  {
   "cell_type": "code",
   "execution_count": 48,
   "id": "f4613ba0",
   "metadata": {},
   "outputs": [
    {
     "name": "stdout",
     "output_type": "stream",
     "text": [
      "[11:25:05] WARNING: C:/Users/Administrator/workspace/xgboost-win64_release_1.5.1/src/learner.cc:576: \n",
      "Parameters: { \"learning_rate_init\" } might not be used.\n",
      "\n",
      "  This could be a false alarm, with some parameters getting used by language bindings but\n",
      "  then being mistakenly passed down to XGBoost core, or some parameter actually being used\n",
      "  but getting flagged wrongly here. Please open an issue if you find any such cases.\n",
      "\n",
      "\n",
      "{'learning_rate_init': 2.1610275095525036, 'max_depth': 4, 'min_child_weight': 3, 'n_estimators': 1000}\n",
      "XGBRegressor(base_score=0.5, booster='gbtree', colsample_bylevel=1,\n",
      "             colsample_bynode=1, colsample_bytree=1, enable_categorical=False,\n",
      "             gamma=0, gpu_id=-1, importance_type=None,\n",
      "             interaction_constraints='', learning_rate=0.300000012,\n",
      "             learning_rate_init=2.1610275095525036, max_delta_step=0,\n",
      "             max_depth=4, min_child_weight=3, missing=nan,\n",
      "             monotone_constraints='()', n_estimators=1000, n_jobs=16,\n",
      "             nthread=-1, num_parallel_tree=1, predictor='auto', random_state=0,\n",
      "             reg_alpha=0, reg_lambda=1, scale_pos_weight=1, subsample=1,\n",
      "             tree_method='exact', validate_parameters=1, verbosity=None)\n",
      "Min RMSE for XGBoost on Multi Family is: 339.82813827639325\n"
     ]
    }
   ],
   "source": [
    "# random search for XGBoost\n",
    "param_xg_mf = {'n_estimators':[100, 500 ,1000],\n",
    "               'max_depth': sp_randint(3, 15),\n",
    "               'learning_rate_init': sp_loguniform(1e-4, 1e2),\n",
    "               'min_child_weight': [1, 3, 5, 7]}\n",
    "\n",
    "xg_cv_mf = RandomizedSearchCV(\n",
    "            xgb.XGBRegressor(nthread=-1),\n",
    "            param_distributions=param_xg_mf,\n",
    "            n_iter=10,\n",
    "            cv=ps_mf,\n",
    "            scoring='neg_root_mean_squared_error',\n",
    "            n_jobs=-1,\n",
    "            random_state=123\n",
    ").fit(X_train_plus_val_mf, np.array(y_train_plus_val_mf).ravel())\n",
    "\n",
    "# find best model hyperparameters \n",
    "print(xg_cv_mf.best_params_)\n",
    "print(xg_cv_mf.best_estimator_)\n",
    "print('Min RMSE for XGBoost on Multi Family is: {}'.format(-xg_cv_mf.best_score_))"
   ]
  },
  {
   "cell_type": "code",
   "execution_count": 49,
   "id": "14993f5c",
   "metadata": {},
   "outputs": [
    {
     "name": "stdout",
     "output_type": "stream",
     "text": [
      "44.782822914829595\n",
      "sale_price    587.030511\n",
      "dtype: float64\n",
      "sale_price    313.600881\n",
      "dtype: float64\n"
     ]
    }
   ],
   "source": [
    "# MAE of best model\n",
    "print(mean_absolute_error(y_val_mf, xg_cv_mf.best_estimator_.predict(X_val_mf)))\n",
    "\n",
    "# RMSE and MAE of baseline model\n",
    "print(rmse(y_val_mf))\n",
    "print(mae(y_val_mf))"
   ]
  },
  {
   "cell_type": "markdown",
   "id": "993c890b",
   "metadata": {},
   "source": [
    "### Experiment on Commercial"
   ]
  },
  {
   "cell_type": "code",
   "execution_count": 50,
   "id": "8e132937",
   "metadata": {},
   "outputs": [],
   "source": [
    "# Commercial-- training, validation and test data\n",
    "X_train_cm = pd.read_csv('X_train_cm.csv')\n",
    "X_train_cm.index = X_train_cm['Unnamed: 0']\n",
    "X_train_cm = X_train_cm.drop(['Unnamed: 0'], axis=1)\n",
    "\n",
    "X_val_cm = pd.read_csv('X_val_cm.csv')\n",
    "X_val_cm.index = X_val_cm['Unnamed: 0']\n",
    "X_val_cm = X_val_cm.drop(['Unnamed: 0'], axis=1)\n",
    "\n",
    "X_test_cm = pd.read_csv('X_test_cm.csv')\n",
    "X_test_cm.index = X_test_cm['Unnamed: 0']\n",
    "X_test_cm = X_test_cm.drop(['Unnamed: 0'], axis=1)\n",
    "\n",
    "y_train_cm = pd.read_csv('y_train_cm.csv')\n",
    "y_train_cm.index = y_train_cm['Unnamed: 0']\n",
    "y_train_cm = y_train_cm.drop(['Unnamed: 0'], axis=1)\n",
    "\n",
    "y_val_cm = pd.read_csv('y_val_cm.csv')\n",
    "y_val_cm.index = y_val_cm['Unnamed: 0']\n",
    "y_val_cm = y_val_cm.drop(['Unnamed: 0'], axis=1)\n",
    "\n",
    "y_test_cm = pd.read_csv('y_test_cm.csv')\n",
    "y_test_cm.index = y_test_cm['Unnamed: 0']\n",
    "y_test_cm = y_test_cm.drop(['Unnamed: 0'], axis=1)"
   ]
  },
  {
   "cell_type": "code",
   "execution_count": 51,
   "id": "53c5373a",
   "metadata": {},
   "outputs": [],
   "source": [
    "# Commercial Y train+val,--concate and prepare for \"PredefinedSplit\"\n",
    "y_train_plus_val_cm = pd.concat([y_train_cm, y_val_cm])\n",
    "y_train_plus_val_cm_copy = y_train_plus_val_cm.copy()\n",
    "y_train_plus_val_cm_copy.columns = ['train_val_split']\n",
    "y_train_plus_val_cm_copy.loc[y_train_cm.index,'train_val_split'] = -1\n",
    "y_train_plus_val_cm_copy.loc[y_val_cm.index,'train_val_split'] = 0\n",
    "val_fold_cm = np.array(y_train_plus_val_cm_copy)\n",
    "ps_cm = PredefinedSplit(val_fold_cm)\n",
    "\n",
    "# Commercial X train+val\n",
    "X_train_plus_val_cm = pd.concat([X_train_cm, X_val_cm])"
   ]
  },
  {
   "cell_type": "markdown",
   "id": "d1a76f80",
   "metadata": {},
   "source": [
    "### Commercial: Linear Regression"
   ]
  },
  {
   "cell_type": "code",
   "execution_count": 52,
   "id": "5499c5ab",
   "metadata": {},
   "outputs": [
    {
     "name": "stdout",
     "output_type": "stream",
     "text": [
      "{'normalize': False, 'fit_intercept': True}\n",
      "LinearRegression()\n",
      "Commercial Linear min RMSE is: 766.4339369144163\n"
     ]
    }
   ],
   "source": [
    "# random search for linear regression\n",
    "param_lr_cm = {'fit_intercept': [True,False],\n",
    "               'normalize':[True,False]}\n",
    "\n",
    "lr_cv_cm = RandomizedSearchCV(\n",
    "           LinearRegression(),\n",
    "           param_distributions=param_lr_cm,\n",
    "           n_iter=20,\n",
    "           cv=ps_cm,\n",
    "           scoring='neg_root_mean_squared_error', \n",
    "           n_jobs=-1,\n",
    "           random_state=123\n",
    ").fit(X_train_plus_val_cm, np.array(y_train_plus_val_cm).ravel())\n",
    "\n",
    "# find best model hyperparameters \n",
    "print(lr_cv_cm.best_params_)\n",
    "print(lr_cv_cm.best_estimator_)\n",
    "print('Commercial Linear min RMSE is: {}'.format(-lr_cv_cm.best_score_))"
   ]
  },
  {
   "cell_type": "code",
   "execution_count": 53,
   "id": "58e0c86c",
   "metadata": {},
   "outputs": [
    {
     "name": "stdout",
     "output_type": "stream",
     "text": [
      "489.94002500000005\n",
      "sale_price    844.097943\n",
      "dtype: float64\n",
      "sale_price    555.724382\n",
      "dtype: float64\n"
     ]
    }
   ],
   "source": [
    "# MAE of best model\n",
    "print(mean_absolute_error(y_val_cm, lr_cv_cm.best_estimator_.predict(X_val_cm)))\n",
    "\n",
    "# RMSE and MAE of baseline model\n",
    "print(rmse(y_val_cm))\n",
    "print(mae(y_val_cm))"
   ]
  },
  {
   "cell_type": "markdown",
   "id": "144bbd4b",
   "metadata": {},
   "source": [
    "### Commercial: Lasso"
   ]
  },
  {
   "cell_type": "code",
   "execution_count": 103,
   "id": "b7348a9a",
   "metadata": {},
   "outputs": [
    {
     "name": "stdout",
     "output_type": "stream",
     "text": [
      "{'alpha': 0.15463515822289586, 'fit_intercept': True, 'normalize': False}\n",
      "Lasso(alpha=0.15463515822289586)\n",
      "Commercial LASSO min RMSE is: 763.8345863711204\n"
     ]
    }
   ],
   "source": [
    "# random search for lasso\n",
    "param_la_cm = {'alpha': sp_loguniform(1e-4,1e2),\n",
    "            'fit_intercept':[True,False],\n",
    "            'normalize':[True,False]}\n",
    "\n",
    "la_cv_cm = RandomizedSearchCV(\n",
    "        Lasso(),\n",
    "        param_distributions=param_la_cm,\n",
    "        n_iter=10,\n",
    "        cv=ps_cm,\n",
    "        scoring='neg_root_mean_squared_error', \n",
    "        n_jobs=-1,\n",
    "        random_state=123\n",
    ").fit(X_train_plus_val_cm, np.array(y_train_plus_val_cm).ravel())\n",
    "\n",
    "# find best model hyperparameters \n",
    "print(la_cv_cm.best_params_)\n",
    "print(la_cv_cm.best_estimator_)\n",
    "print('Commercial LASSO min RMSE is: {}'.format(-la_cv_cm.best_score_))"
   ]
  },
  {
   "cell_type": "code",
   "execution_count": 104,
   "id": "ab3814cb",
   "metadata": {},
   "outputs": [
    {
     "name": "stdout",
     "output_type": "stream",
     "text": [
      "485.474126120736\n",
      "sale_price    844.097943\n",
      "dtype: float64\n",
      "sale_price    555.724382\n",
      "dtype: float64\n"
     ]
    }
   ],
   "source": [
    "# MAE of best model\n",
    "print(mean_absolute_error(y_val_cm, la_cv_cm.best_estimator_.predict(X_val_cm)))\n",
    "\n",
    "# RMSE and MAE of baseline model\n",
    "print(rmse(y_val_cm))\n",
    "print(mae(y_val_cm))"
   ]
  },
  {
   "cell_type": "markdown",
   "id": "c1b6b45c",
   "metadata": {},
   "source": [
    "### Commercial: Ridge"
   ]
  },
  {
   "cell_type": "code",
   "execution_count": 105,
   "id": "113d6dfa",
   "metadata": {},
   "outputs": [
    {
     "name": "stdout",
     "output_type": "stream",
     "text": [
      "{'alpha': 2.074024196289186, 'fit_intercept': False, 'normalize': False}\n",
      "Ridge(alpha=2.074024196289186, fit_intercept=False)\n",
      "Commercial RIDGE min RMSE is: 763.6040526368225\n"
     ]
    }
   ],
   "source": [
    "# random search for ridge\n",
    "param_rd = {'alpha': sp_loguniform(1e-4,1e2),\n",
    "            'fit_intercept':[True,False],\n",
    "            'normalize':[True,False]}\n",
    "\n",
    "rd_cv = RandomizedSearchCV(\n",
    "        Ridge(),\n",
    "        param_distributions=param_rd,\n",
    "        n_iter=10,\n",
    "        cv=ps_cm,\n",
    "        scoring='neg_root_mean_squared_error', \n",
    "        n_jobs=-1,\n",
    "        random_state=123\n",
    ").fit(X_train_plus_val_cm, np.array(y_train_plus_val_cm).ravel())\n",
    "\n",
    "# Find best model hyperparameters \n",
    "print(rd_cv.best_params_)\n",
    "print(rd_cv.best_estimator_)\n",
    "print('Commercial RIDGE min RMSE is: {}'.format(-rd_cv.best_score_))"
   ]
  },
  {
   "cell_type": "code",
   "execution_count": 106,
   "id": "3257b6b1",
   "metadata": {},
   "outputs": [
    {
     "name": "stdout",
     "output_type": "stream",
     "text": [
      "485.9283472196909\n",
      "sale_price    844.097943\n",
      "dtype: float64\n",
      "sale_price    555.724382\n",
      "dtype: float64\n"
     ]
    }
   ],
   "source": [
    "# MAE of best model\n",
    "print(mean_absolute_error(y_val_cm, rd_cv.best_estimator_.predict(X_val_cm)))\n",
    "\n",
    "# RMSE and MAE of baseline model\n",
    "print(rmse(y_val_cm))\n",
    "print(mae(y_val_cm))"
   ]
  },
  {
   "cell_type": "markdown",
   "id": "3483e71a",
   "metadata": {},
   "source": [
    "### Commercial: KNN Regressor"
   ]
  },
  {
   "cell_type": "code",
   "execution_count": 57,
   "id": "890354e3",
   "metadata": {},
   "outputs": [
    {
     "name": "stdout",
     "output_type": "stream",
     "text": [
      "{'leaf_size': 5, 'n_neighbors': 18, 'weights': 'distance'}\n",
      "KNeighborsRegressor(leaf_size=5, n_neighbors=18, weights='distance')\n",
      "Commercial KNN min RMSE is: 693.8594700478346\n"
     ]
    }
   ],
   "source": [
    "# random search for KNeighborsRegressor\n",
    "param_knn = {'n_neighbors': sp_randint(1,21),\n",
    "             'weights': ['uniform', 'distance'],\n",
    "             'leaf_size': sp_randint(1,21)}\n",
    "\n",
    "knn_cv = RandomizedSearchCV(\n",
    "         KNeighborsRegressor(),\n",
    "         param_distributions=param_knn,\n",
    "         n_iter=10,\n",
    "         cv=ps_cm,\n",
    "         scoring='neg_root_mean_squared_error', \n",
    "         n_jobs=-1,\n",
    "         random_state=123\n",
    ").fit(X_train_plus_val_cm, np.array(y_train_plus_val_cm).ravel())\n",
    "\n",
    "# find best model hyperparameters \n",
    "print(knn_cv.best_params_)\n",
    "print(knn_cv.best_estimator_)\n",
    "print('Commercial KNN min RMSE is: {}'.format(-knn_cv.best_score_))"
   ]
  },
  {
   "cell_type": "code",
   "execution_count": 58,
   "id": "67e09ac9",
   "metadata": {},
   "outputs": [
    {
     "name": "stdout",
     "output_type": "stream",
     "text": [
      "3.070960508813651e-05\n",
      "sale_price    844.097943\n",
      "dtype: float64\n",
      "sale_price    555.724382\n",
      "dtype: float64\n"
     ]
    }
   ],
   "source": [
    "# MAE of best model\n",
    "print(mean_absolute_error(y_val_cm, knn_cv.best_estimator_.predict(X_val_cm)))\n",
    "\n",
    "# RMSE and MAE of baseline model\n",
    "print(rmse(y_val_cm))\n",
    "print(mae(y_val_cm))"
   ]
  },
  {
   "cell_type": "markdown",
   "id": "3f437b20",
   "metadata": {},
   "source": [
    "### Commercial: Random Forest Regressor"
   ]
  },
  {
   "cell_type": "code",
   "execution_count": 59,
   "id": "0dd5819d",
   "metadata": {},
   "outputs": [
    {
     "name": "stdout",
     "output_type": "stream",
     "text": [
      "{'n_estimators': 800, 'min_samples_split': 2, 'min_samples_leaf': 5, 'max_features': 'auto', 'max_depth': None}\n",
      "RandomForestRegressor(min_samples_leaf=5, n_estimators=800)\n",
      "RF Commercial min RMSE is: 607.5865917338692\n"
     ]
    }
   ],
   "source": [
    "# random search for RandomForestRegressor\n",
    "param_rf = {'n_estimators': [100, 120, 200, 300, 500, 800, 1200],\n",
    "            'max_depth': [None, 5, 8, 15, 25, 30],\n",
    "            'min_samples_split': [1, 2, 5, 10 ,15, 100],\n",
    "            'min_samples_leaf': [1, 2, 5, 10],\n",
    "            'max_features': ['auto', 'sqrt', 'log2']}\n",
    "\n",
    "rf_cv = RandomizedSearchCV(\n",
    "        RandomForestRegressor(),\n",
    "        param_distributions=param_rf,\n",
    "        n_iter=10,\n",
    "        cv=ps_cm,\n",
    "        scoring='neg_root_mean_squared_error', \n",
    "        n_jobs=-1,\n",
    "        random_state=123\n",
    ").fit(X_train_plus_val_cm, np.array(y_train_plus_val_cm).ravel())\n",
    "\n",
    "# find best model hyperparameters \n",
    "print(rf_cv.best_params_)\n",
    "print(rf_cv.best_estimator_)\n",
    "print('RF Commercial min RMSE is: {}'.format(-rf_cv.best_score_))"
   ]
  },
  {
   "cell_type": "code",
   "execution_count": 60,
   "id": "ae7fc35b",
   "metadata": {},
   "outputs": [
    {
     "name": "stdout",
     "output_type": "stream",
     "text": [
      "221.84973607400877\n",
      "sale_price    844.097943\n",
      "dtype: float64\n",
      "sale_price    555.724382\n",
      "dtype: float64\n"
     ]
    }
   ],
   "source": [
    "# MAE of best model\n",
    "print(mean_absolute_error(y_val_cm, rf_cv.best_estimator_.predict(X_val_cm)))\n",
    "\n",
    "# RMSE and MAE of baseline model\n",
    "print(rmse(y_val_cm))\n",
    "print(mae(y_val_cm))"
   ]
  },
  {
   "cell_type": "markdown",
   "id": "73eac0a4",
   "metadata": {},
   "source": [
    "### Commercial: MLP Regressor"
   ]
  },
  {
   "cell_type": "code",
   "execution_count": 61,
   "id": "adea9c6e",
   "metadata": {},
   "outputs": [
    {
     "name": "stdout",
     "output_type": "stream",
     "text": [
      "{'alpha': 0.02444924947328454, 'batch_size': 100, 'hidden_layer_sizes': (30, 30), 'learning_rate_init': 0.0012443724365791028}\n",
      "MLPRegressor(alpha=0.02444924947328454, batch_size=100,\n",
      "             hidden_layer_sizes=(30, 30),\n",
      "             learning_rate_init=0.0012443724365791028)\n",
      "MLPRegressor Commercial min RMSE is: 748.3874182292697\n"
     ]
    }
   ],
   "source": [
    "# random search for MLPRegressor\n",
    "hl = []\n",
    "for i in [1, 2, 3, 4, 5, 10, 15, 25, 30]:\n",
    "    hl.append((i))\n",
    "    hl.append((i,i))\n",
    "\n",
    "param_mlp = {'hidden_layer_sizes': hl,\n",
    "             'learning_rate_init': sp_loguniform(1e-4, 1e2),\n",
    "             'alpha': sp_loguniform(1e-4, 1e2),\n",
    "             'batch_size': [1, 5, 10, 25, 100, 500]}\n",
    "\n",
    "mlp_cv = RandomizedSearchCV(\n",
    "         MLPRegressor(),\n",
    "         param_distributions=param_mlp,\n",
    "         n_iter=10,\n",
    "         cv=ps_cm,\n",
    "         scoring='neg_root_mean_squared_error', \n",
    "         n_jobs=-1,\n",
    "         random_state=123\n",
    ").fit(X_train_plus_val_cm, np.array(y_train_plus_val_cm).ravel())\n",
    "\n",
    "# find best model hyperparameters \n",
    "print(mlp_cv.best_params_)\n",
    "print(mlp_cv.best_estimator_)\n",
    "print('MLPRegressor Commercial min RMSE is: {}'.format(-mlp_cv.best_score_))"
   ]
  },
  {
   "cell_type": "code",
   "execution_count": 62,
   "id": "f87ba098",
   "metadata": {},
   "outputs": [
    {
     "name": "stdout",
     "output_type": "stream",
     "text": [
      "402.7223653291533\n",
      "sale_price    844.097943\n",
      "dtype: float64\n",
      "sale_price    555.724382\n",
      "dtype: float64\n"
     ]
    }
   ],
   "source": [
    "# MAE of best model\n",
    "print(mean_absolute_error(y_val_cm, mlp_cv.best_estimator_.predict(X_val_cm)))\n",
    "\n",
    "# RMSE and MAE of baseline model\n",
    "print(rmse(y_val_cm))\n",
    "print(mae(y_val_cm))"
   ]
  },
  {
   "cell_type": "markdown",
   "id": "0a72aa5e",
   "metadata": {},
   "source": [
    "### Commercial: XGBoost"
   ]
  },
  {
   "cell_type": "code",
   "execution_count": 64,
   "id": "18ce2afe",
   "metadata": {},
   "outputs": [
    {
     "name": "stdout",
     "output_type": "stream",
     "text": [
      "[11:28:23] WARNING: C:/Users/Administrator/workspace/xgboost-win64_release_1.5.1/src/learner.cc:576: \n",
      "Parameters: { \"learning_rate_init\" } might not be used.\n",
      "\n",
      "  This could be a false alarm, with some parameters getting used by language bindings but\n",
      "  then being mistakenly passed down to XGBoost core, or some parameter actually being used\n",
      "  but getting flagged wrongly here. Please open an issue if you find any such cases.\n",
      "\n",
      "\n",
      "{'learning_rate_init': 1.474113973879948, 'max_depth': 3, 'min_child_weight': 1, 'n_estimators': 500}\n",
      "XGBRegressor(base_score=0.5, booster='gbtree', colsample_bylevel=1,\n",
      "             colsample_bynode=1, colsample_bytree=1, enable_categorical=False,\n",
      "             gamma=0, gpu_id=-1, importance_type=None,\n",
      "             interaction_constraints='', learning_rate=0.300000012,\n",
      "             learning_rate_init=1.474113973879948, max_delta_step=0,\n",
      "             max_depth=3, min_child_weight=1, missing=nan,\n",
      "             monotone_constraints='()', n_estimators=500, n_jobs=16, nthread=-1,\n",
      "             num_parallel_tree=1, predictor='auto', random_state=0, reg_alpha=0,\n",
      "             reg_lambda=1, scale_pos_weight=1, subsample=1, tree_method='exact',\n",
      "             validate_parameters=1, verbosity=None)\n",
      "Min RMSE for XGBoost on Commercial is: 602.6503459301813\n"
     ]
    }
   ],
   "source": [
    "# random search for XGBoost\n",
    "param_xg_cm = {'n_estimators':[100, 500 ,1000],\n",
    "               'max_depth': sp_randint(3, 15),\n",
    "               'learning_rate_init': sp_loguniform(1e-4, 1e2),\n",
    "               'min_child_weight': [1, 3, 5, 7]}\n",
    "\n",
    "xg_cv_cm = RandomizedSearchCV(\n",
    "            xgb.XGBRegressor(nthread=-1),\n",
    "            param_distributions=param_xg_cm,\n",
    "            n_iter=10,\n",
    "            cv=ps_cm,\n",
    "            scoring='neg_root_mean_squared_error',\n",
    "            n_jobs=-1,\n",
    "            random_state=123\n",
    ").fit(X_train_plus_val_cm, np.array(y_train_plus_val_cm).ravel())\n",
    "\n",
    "# find best model hyperparameters \n",
    "print(xg_cv_cm.best_params_)\n",
    "print(xg_cv_cm.best_estimator_)\n",
    "print('Min RMSE for XGBoost on Commercial is: {}'.format(-xg_cv_cm.best_score_))"
   ]
  },
  {
   "cell_type": "code",
   "execution_count": 65,
   "id": "cf0c029c",
   "metadata": {},
   "outputs": [
    {
     "name": "stdout",
     "output_type": "stream",
     "text": [
      "112.68372798265496\n",
      "sale_price    844.097943\n",
      "dtype: float64\n",
      "sale_price    555.724382\n",
      "dtype: float64\n"
     ]
    }
   ],
   "source": [
    "# MAE of best model\n",
    "print(mean_absolute_error(y_val_cm, xg_cv_cm.best_estimator_.predict(X_val_cm)))\n",
    "\n",
    "# RMSE and MAE of baseline model\n",
    "print(rmse(y_val_cm))\n",
    "print(mae(y_val_cm))"
   ]
  },
  {
   "cell_type": "markdown",
   "id": "d0d3dec9",
   "metadata": {},
   "source": [
    "### Experiment on Industrial"
   ]
  },
  {
   "cell_type": "code",
   "execution_count": 107,
   "id": "0fdb1a6e",
   "metadata": {},
   "outputs": [],
   "source": [
    "#INDUSTRIAL get training, validation and test data\n",
    "X_train_id = pd.read_csv('X_train_id.csv')\n",
    "X_train_id.index = X_train_id['Unnamed: 0']\n",
    "X_train_id = X_train_id.drop(['Unnamed: 0'], axis=1)\n",
    "\n",
    "X_val_id = pd.read_csv('X_val_id.csv')\n",
    "X_val_id.index = X_val_id['Unnamed: 0']\n",
    "X_val_id = X_val_id.drop(['Unnamed: 0'], axis=1)\n",
    "\n",
    "X_test_id = pd.read_csv('X_test_id.csv')\n",
    "X_test_id.index = X_test_id['Unnamed: 0']\n",
    "X_test_id = X_test_id.drop(['Unnamed: 0'], axis=1)\n",
    "\n",
    "y_train_id = pd.read_csv('y_train_id.csv')\n",
    "y_train_id.index = y_train_id['Unnamed: 0']\n",
    "y_train_id = y_train_id.drop(['Unnamed: 0'], axis=1)\n",
    "\n",
    "y_val_id = pd.read_csv('y_val_id.csv')\n",
    "y_val_id.index = y_val_id['Unnamed: 0']\n",
    "y_val_id = y_val_id.drop(['Unnamed: 0'], axis=1)\n",
    "\n",
    "y_test_id = pd.read_csv('y_test_id.csv')\n",
    "y_test_id.index = y_test_id['Unnamed: 0']\n",
    "y_test_id = y_test_id.drop(['Unnamed: 0'], axis=1)"
   ]
  },
  {
   "cell_type": "code",
   "execution_count": 108,
   "id": "b9994232",
   "metadata": {},
   "outputs": [],
   "source": [
    "#Industrial\n",
    "y_train_plus_val_id = pd.concat([y_train_id, y_val_id])\n",
    "y_train_plus_val_id_copy = y_train_plus_val_id.copy()\n",
    "y_train_plus_val_id_copy.columns = ['train_val_split']\n",
    "y_train_plus_val_id_copy.loc[y_train_id.index,'train_val_split'] = -1\n",
    "y_train_plus_val_id_copy.loc[y_val_id.index,'train_val_split'] = 0\n",
    "val_fold_id = np.array(y_train_plus_val_id_copy)\n",
    "ps_id = PredefinedSplit(val_fold_id)\n",
    "\n",
    "# Industrial\n",
    "X_train_plus_val_id = pd.concat([X_train_id, X_val_id])"
   ]
  },
  {
   "cell_type": "markdown",
   "id": "6ab45b5c",
   "metadata": {},
   "source": [
    "### Industrial: Linear regression"
   ]
  },
  {
   "cell_type": "code",
   "execution_count": 68,
   "id": "c03a9d92",
   "metadata": {},
   "outputs": [
    {
     "name": "stdout",
     "output_type": "stream",
     "text": [
      "{'normalize': True, 'fit_intercept': False}\n",
      "LinearRegression(fit_intercept=False, normalize=True)\n",
      "INDUSTRIAL Linear min RMSE is: 136392782443401.25\n"
     ]
    }
   ],
   "source": [
    "# random search for linear regression\n",
    "param_lr_id = {'fit_intercept': [True,False],\n",
    "               'normalize':[True,False]}\n",
    "\n",
    "lr_cv_id = RandomizedSearchCV(\n",
    "           LinearRegression(),\n",
    "           param_distributions=param_lr_id,\n",
    "           n_iter=20,\n",
    "           cv=3,\n",
    "           scoring='neg_root_mean_squared_error', \n",
    "           n_jobs=-1,\n",
    "           random_state=123\n",
    ").fit(X_train_plus_val_id, np.array(y_train_plus_val_id).ravel())\n",
    "\n",
    "# find best model hyperparameters \n",
    "print(lr_cv_id.best_params_)\n",
    "print(lr_cv_id.best_estimator_)\n",
    "print('INDUSTRIAL Linear min RMSE is: {}'.format(-lr_cv_id.best_score_))"
   ]
  },
  {
   "cell_type": "code",
   "execution_count": 69,
   "id": "0af370ee",
   "metadata": {},
   "outputs": [
    {
     "name": "stdout",
     "output_type": "stream",
     "text": [
      "450.9776948362564\n",
      "sale_price    898.514899\n",
      "dtype: float64\n",
      "sale_price    613.953988\n",
      "dtype: float64\n"
     ]
    }
   ],
   "source": [
    "# MAE of best model\n",
    "print(mean_absolute_error(y_val_id, lr_cv_id.best_estimator_.predict(X_val_id)))\n",
    "\n",
    "# RMSE and MAE of baseline model\n",
    "print(rmse(y_val_id))\n",
    "print(mae(y_val_id))"
   ]
  },
  {
   "cell_type": "markdown",
   "id": "b8f298e1",
   "metadata": {},
   "source": [
    "### Industrial: Lasso"
   ]
  },
  {
   "cell_type": "code",
   "execution_count": 73,
   "id": "a654b919",
   "metadata": {},
   "outputs": [
    {
     "name": "stdout",
     "output_type": "stream",
     "text": [
      "{'alpha': 0.15463515822289586, 'fit_intercept': True, 'normalize': False}\n",
      "Lasso(alpha=0.15463515822289586)\n",
      "INDUSTRIAL LASSO min RMSE is: 715.861996559595\n"
     ]
    }
   ],
   "source": [
    "# random search for lasso\n",
    "param_la_id = {'alpha': sp_loguniform(1e-4,1e2),\n",
    "            'fit_intercept':[True,False],\n",
    "            'normalize':[True,False]}\n",
    "\n",
    "la_cv_id = RandomizedSearchCV(\n",
    "        Lasso(),\n",
    "        param_distributions=param_la_id,\n",
    "        n_iter=10,\n",
    "        cv=3,\n",
    "        scoring='neg_root_mean_squared_error', \n",
    "        n_jobs=-1,\n",
    "        random_state=123\n",
    ").fit(X_train_plus_val_id, np.array(y_train_plus_val_id).ravel())\n",
    "\n",
    "# find best model hyperparameters \n",
    "print(la_cv_id.best_params_)\n",
    "print(la_cv_id.best_estimator_)\n",
    "print('INDUSTRIAL LASSO min RMSE is: {}'.format(-la_cv_id.best_score_))"
   ]
  },
  {
   "cell_type": "code",
   "execution_count": 74,
   "id": "ee3deaac",
   "metadata": {},
   "outputs": [
    {
     "name": "stdout",
     "output_type": "stream",
     "text": [
      "470.55275997428225\n",
      "sale_price    898.514899\n",
      "dtype: float64\n",
      "sale_price    613.953988\n",
      "dtype: float64\n"
     ]
    }
   ],
   "source": [
    "# MAE of best model\n",
    "print(mean_absolute_error(y_val_id, la_cv_id.best_estimator_.predict(X_val_id)))\n",
    "\n",
    "# RMSE and MAE of baseline model\n",
    "print(rmse(y_val_id))\n",
    "print(mae(y_val_id))"
   ]
  },
  {
   "cell_type": "markdown",
   "id": "8e6fff3b",
   "metadata": {},
   "source": [
    "### Industrial: Ridge"
   ]
  },
  {
   "cell_type": "code",
   "execution_count": 75,
   "id": "8eff11ca",
   "metadata": {},
   "outputs": [
    {
     "name": "stdout",
     "output_type": "stream",
     "text": [
      "{'alpha': 2.074024196289186, 'fit_intercept': False, 'normalize': False}\n",
      "Ridge(alpha=2.074024196289186, fit_intercept=False)\n",
      "INDUSTRIAL RIDGE min RMSE is: 715.6038223254677\n"
     ]
    }
   ],
   "source": [
    "# random search for ridge\n",
    "param_id = {'alpha': sp_loguniform(1e-4,1e2),\n",
    "            'fit_intercept':[True,False],\n",
    "            'normalize':[True,False]}\n",
    "\n",
    "rd_cv_id = RandomizedSearchCV(\n",
    "        Ridge(),\n",
    "        param_distributions=param_id,\n",
    "        n_iter=10,\n",
    "        cv= 3,\n",
    "        scoring='neg_root_mean_squared_error', \n",
    "        n_jobs=-1,\n",
    "        random_state=123\n",
    ").fit(X_train_plus_val_id, np.array(y_train_plus_val_id).ravel())\n",
    "\n",
    "# Find best model hyperparameters \n",
    "print(rd_cv_id.best_params_)\n",
    "print(rd_cv_id.best_estimator_)\n",
    "print('INDUSTRIAL RIDGE min RMSE is: {}'.format(-rd_cv_id.best_score_))"
   ]
  },
  {
   "cell_type": "code",
   "execution_count": 76,
   "id": "82dca6c0",
   "metadata": {},
   "outputs": [
    {
     "name": "stdout",
     "output_type": "stream",
     "text": [
      "474.56352066651135\n",
      "sale_price    898.514899\n",
      "dtype: float64\n",
      "sale_price    613.953988\n",
      "dtype: float64\n"
     ]
    }
   ],
   "source": [
    "# MAE of best model\n",
    "print(mean_absolute_error(y_val_id, rd_cv_id.best_estimator_.predict(X_val_id)))\n",
    "\n",
    "# RMSE and MAE of baseline model\n",
    "print(rmse(y_val_id))\n",
    "print(mae(y_val_id))"
   ]
  },
  {
   "cell_type": "markdown",
   "id": "223be91c",
   "metadata": {},
   "source": [
    "### Industria: KNN"
   ]
  },
  {
   "cell_type": "code",
   "execution_count": 77,
   "id": "96e1075a",
   "metadata": {},
   "outputs": [
    {
     "name": "stdout",
     "output_type": "stream",
     "text": [
      "{'leaf_size': 3, 'n_neighbors': 7, 'weights': 'distance'}\n",
      "KNeighborsRegressor(leaf_size=3, n_neighbors=7, weights='distance')\n",
      "INDUSTRIAL KNN min RMSE is: 713.6699387011404\n"
     ]
    }
   ],
   "source": [
    "# random search for KNeighborsRegressor\n",
    "param_knn_id = {'n_neighbors': sp_randint(1,21),\n",
    "             'weights': ['uniform', 'distance'],\n",
    "             'leaf_size': sp_randint(1,21)}\n",
    "\n",
    "knn_cv_id = RandomizedSearchCV(\n",
    "         KNeighborsRegressor(),\n",
    "         param_distributions=param_knn_id,\n",
    "         n_iter=10,\n",
    "         cv= 3,\n",
    "         scoring='neg_root_mean_squared_error', \n",
    "         n_jobs=-1,\n",
    "         random_state=123\n",
    ").fit(X_train_plus_val_id, np.array(y_train_plus_val_id).ravel())\n",
    "\n",
    "# find best model hyperparameters \n",
    "print(knn_cv_id.best_params_)\n",
    "print(knn_cv_id.best_estimator_)\n",
    "print('INDUSTRIAL KNN min RMSE is: {}'.format(-knn_cv_id.best_score_))"
   ]
  },
  {
   "cell_type": "code",
   "execution_count": 78,
   "id": "90ca0b7c",
   "metadata": {},
   "outputs": [
    {
     "name": "stdout",
     "output_type": "stream",
     "text": [
      "2.8646295403808134e-06\n",
      "sale_price    898.514899\n",
      "dtype: float64\n",
      "sale_price    613.953988\n",
      "dtype: float64\n"
     ]
    }
   ],
   "source": [
    "# MAE of best model\n",
    "print(mean_absolute_error(y_val_id, knn_cv_id.best_estimator_.predict(X_val_id)))\n",
    "\n",
    "# RMSE and MAE of baseline model\n",
    "print(rmse(y_val_id))\n",
    "print(mae(y_val_id))"
   ]
  },
  {
   "cell_type": "markdown",
   "id": "20286268",
   "metadata": {},
   "source": [
    "### Industrial: Random Forest"
   ]
  },
  {
   "cell_type": "code",
   "execution_count": 79,
   "id": "e88015a5",
   "metadata": {},
   "outputs": [
    {
     "name": "stdout",
     "output_type": "stream",
     "text": [
      "{'n_estimators': 800, 'min_samples_split': 2, 'min_samples_leaf': 5, 'max_features': 'auto', 'max_depth': None}\n",
      "RandomForestRegressor(min_samples_leaf=5, n_estimators=800)\n",
      "RF MULTIFAMILY min RMSE is: 639.9228466424411\n"
     ]
    }
   ],
   "source": [
    "# random search for RandomForestRegressor\n",
    "param_rf_id = {'n_estimators': [100, 120, 200, 300, 500, 800, 1200],\n",
    "            'max_depth': [None, 5, 8, 15, 25, 30],\n",
    "            'min_samples_split': [1, 2, 5, 10 ,15, 100],\n",
    "            'min_samples_leaf': [1, 2, 5, 10],\n",
    "            'max_features': ['auto', 'sqrt', 'log2']}\n",
    "\n",
    "rf_cv_id = RandomizedSearchCV(\n",
    "        RandomForestRegressor(),\n",
    "        param_distributions=param_rf_id,\n",
    "        n_iter=10,\n",
    "        cv= 3,\n",
    "        scoring='neg_root_mean_squared_error', \n",
    "        n_jobs=-1,\n",
    "        random_state=123\n",
    ").fit(X_train_plus_val_id, np.array(y_train_plus_val_id).ravel())\n",
    "\n",
    "# find best model hyperparameters \n",
    "print(rf_cv_id.best_params_)\n",
    "print(rf_cv_id.best_estimator_)\n",
    "print('RF MULTIFAMILY min RMSE is: {}'.format(-rf_cv_id.best_score_))"
   ]
  },
  {
   "cell_type": "code",
   "execution_count": 80,
   "id": "88341ff0",
   "metadata": {},
   "outputs": [
    {
     "name": "stdout",
     "output_type": "stream",
     "text": [
      "250.813737764501\n",
      "sale_price    898.514899\n",
      "dtype: float64\n",
      "sale_price    613.953988\n",
      "dtype: float64\n"
     ]
    }
   ],
   "source": [
    "# MAE of best model\n",
    "print(mean_absolute_error(y_val_id, rf_cv_id.best_estimator_.predict(X_val_id)))\n",
    "\n",
    "# RMSE and MAE of baseline model\n",
    "print(rmse(y_val_id))\n",
    "print(mae(y_val_id))"
   ]
  },
  {
   "cell_type": "markdown",
   "id": "b01e58d2",
   "metadata": {},
   "source": [
    "### Industrial: MLP Regressor"
   ]
  },
  {
   "cell_type": "code",
   "execution_count": 81,
   "id": "8d54733c",
   "metadata": {},
   "outputs": [
    {
     "name": "stdout",
     "output_type": "stream",
     "text": [
      "{'alpha': 2.1610275095525036, 'batch_size': 5, 'hidden_layer_sizes': 2, 'learning_rate_init': 0.005784745785308777}\n",
      "MLPRegressor(alpha=2.1610275095525036, batch_size=5, hidden_layer_sizes=2,\n",
      "             learning_rate_init=0.005784745785308777)\n",
      "MLPRegressor INDUSTRIAL min RMSE is: 692.1191846844391\n"
     ]
    }
   ],
   "source": [
    "# random search for MLPRegressor\n",
    "hl = []\n",
    "for i in [1, 2, 3, 4, 5, 10, 15, 25, 30]:\n",
    "    hl.append((i))\n",
    "    hl.append((i,i))\n",
    "\n",
    "param_mlp_id = {'hidden_layer_sizes': hl,\n",
    "             'learning_rate_init': sp_loguniform(1e-4, 1e2),\n",
    "             'alpha': sp_loguniform(1e-4, 1e2),\n",
    "             'batch_size': [1, 5, 10, 25, 100, 500]}\n",
    "\n",
    "mlp_cv_id = RandomizedSearchCV(\n",
    "         MLPRegressor(),\n",
    "         param_distributions=param_mlp_id,\n",
    "         n_iter=10,\n",
    "         cv= 3,\n",
    "         scoring='neg_root_mean_squared_error', \n",
    "         n_jobs=-1,\n",
    "         random_state=123\n",
    ").fit(X_train_plus_val_id, np.array(y_train_plus_val_id).ravel())\n",
    "\n",
    "# find best model hyperparameters \n",
    "print(mlp_cv_id.best_params_)\n",
    "print(mlp_cv_id.best_estimator_)\n",
    "print('MLPRegressor INDUSTRIAL min RMSE is: {}'.format(-mlp_cv_id.best_score_))"
   ]
  },
  {
   "cell_type": "code",
   "execution_count": 82,
   "id": "5d23d743",
   "metadata": {},
   "outputs": [
    {
     "name": "stdout",
     "output_type": "stream",
     "text": [
      "444.42761757600897\n",
      "sale_price    898.514899\n",
      "dtype: float64\n",
      "sale_price    613.953988\n",
      "dtype: float64\n"
     ]
    }
   ],
   "source": [
    "# MAE of best model\n",
    "print(mean_absolute_error(y_val_id, mlp_cv_id.best_estimator_.predict(X_val_id)))\n",
    "\n",
    "# RMSE and MAE of baseline model\n",
    "print(rmse(y_val_id))\n",
    "print(mae(y_val_id))"
   ]
  },
  {
   "cell_type": "markdown",
   "id": "6d6000b2",
   "metadata": {},
   "source": [
    "### Industrial: XGBoost"
   ]
  },
  {
   "cell_type": "code",
   "execution_count": 83,
   "id": "d07528b4",
   "metadata": {},
   "outputs": [
    {
     "name": "stdout",
     "output_type": "stream",
     "text": [
      "[11:29:57] WARNING: C:/Users/Administrator/workspace/xgboost-win64_release_1.5.1/src/learner.cc:576: \n",
      "Parameters: { \"learning_rate_init\" } might not be used.\n",
      "\n",
      "  This could be a false alarm, with some parameters getting used by language bindings but\n",
      "  then being mistakenly passed down to XGBoost core, or some parameter actually being used\n",
      "  but getting flagged wrongly here. Please open an issue if you find any such cases.\n",
      "\n",
      "\n",
      "{'learning_rate_init': 1.5094374246471327, 'max_depth': 5, 'min_child_weight': 1, 'n_estimators': 1000}\n",
      "XGBRegressor(base_score=0.5, booster='gbtree', colsample_bylevel=1,\n",
      "             colsample_bynode=1, colsample_bytree=1, enable_categorical=False,\n",
      "             gamma=0, gpu_id=-1, importance_type=None,\n",
      "             interaction_constraints='', learning_rate=0.300000012,\n",
      "             learning_rate_init=1.5094374246471327, max_delta_step=0,\n",
      "             max_depth=5, min_child_weight=1, missing=nan,\n",
      "             monotone_constraints='()', n_estimators=1000, n_jobs=16,\n",
      "             nthread=-1, num_parallel_tree=1, predictor='auto', random_state=0,\n",
      "             reg_alpha=0, reg_lambda=1, scale_pos_weight=1, subsample=1,\n",
      "             tree_method='exact', validate_parameters=1, verbosity=None)\n",
      "Min RMSE for XGBoost on Industral is: 651.899891599262\n"
     ]
    }
   ],
   "source": [
    "# random search for XGBoost\n",
    "param_xg_id = {'n_estimators':[100, 500 ,1000],\n",
    "               'max_depth': sp_randint(3, 15),\n",
    "               'learning_rate_init': sp_loguniform(1e-4, 1e2),\n",
    "               'min_child_weight': [1, 3, 5, 7]}\n",
    "\n",
    "xg_cv_id = RandomizedSearchCV(\n",
    "            xgb.XGBRegressor(nthread=-1),\n",
    "            param_distributions=param_xg_id,\n",
    "            n_iter=10,\n",
    "            cv=3,\n",
    "            scoring='neg_root_mean_squared_error',\n",
    "            n_jobs=-1,\n",
    "            random_state=123\n",
    ").fit(X_train_plus_val_id, np.array(y_train_plus_val_id).ravel())\n",
    "\n",
    "# find best model hyperparameters \n",
    "print(xg_cv_id.best_params_)\n",
    "print(xg_cv_id.best_estimator_)\n",
    "print('Min RMSE for XGBoost on Industral is: {}'.format(-xg_cv_id.best_score_))"
   ]
  },
  {
   "cell_type": "code",
   "execution_count": 84,
   "id": "8ae7e59e",
   "metadata": {},
   "outputs": [
    {
     "name": "stdout",
     "output_type": "stream",
     "text": [
      "0.0016676647596619296\n",
      "sale_price    898.514899\n",
      "dtype: float64\n",
      "sale_price    613.953988\n",
      "dtype: float64\n"
     ]
    }
   ],
   "source": [
    "# MAE of best model\n",
    "print(mean_absolute_error(y_val_id, xg_cv_id.best_estimator_.predict(X_val_id)))\n",
    "\n",
    "# RMSE and MAE of baseline model\n",
    "print(rmse(y_val_id))\n",
    "print(mae(y_val_id))"
   ]
  },
  {
   "cell_type": "markdown",
   "id": "cafb5009",
   "metadata": {},
   "source": [
    "### Experiment on Mixed Use"
   ]
  },
  {
   "cell_type": "code",
   "execution_count": 109,
   "id": "55dae339",
   "metadata": {},
   "outputs": [],
   "source": [
    "# get training, validation and test data for mixed use\n",
    "X_train_mx = pd.read_csv('X_train_mx.csv')\n",
    "X_train_mx.index = X_train_mx['Unnamed: 0']\n",
    "X_train_mx = X_train_mx.drop(['Unnamed: 0'], axis=1)\n",
    "X_val_mx = pd.read_csv('X_val_mx.csv')\n",
    "X_val_mx.index = X_val_mx['Unnamed: 0']\n",
    "X_val_mx = X_val_mx.drop(['Unnamed: 0'], axis=1)\n",
    "X_test_mx = pd.read_csv('X_test_mx.csv')\n",
    "X_test_mx.index = X_test_mx['Unnamed: 0']\n",
    "X_test_mx = X_test_mx.drop(['Unnamed: 0'], axis=1)\n",
    "y_train_mx = pd.read_csv('y_train_mx.csv')\n",
    "y_train_mx.index = y_train_mx['Unnamed: 0']\n",
    "y_train_mx = y_train_mx.drop(['Unnamed: 0'], axis=1)\n",
    "y_val_mx = pd.read_csv('y_val_mx.csv')\n",
    "y_val_mx.index = y_val_mx['Unnamed: 0']\n",
    "y_val_mx = y_val_mx.drop(['Unnamed: 0'], axis=1)\n",
    "y_test_mx = pd.read_csv('y_test_mx.csv')\n",
    "y_test_mx.index = y_test_mx['Unnamed: 0']\n",
    "y_test_mx = y_test_mx.drop(['Unnamed: 0'], axis=1)"
   ]
  },
  {
   "cell_type": "code",
   "execution_count": 110,
   "id": "fa856a4c",
   "metadata": {},
   "outputs": [],
   "source": [
    "# get training plus validation set\n",
    "X_train_plus_val_mx = pd.concat([X_train_mx, X_val_mx])\n",
    "y_train_plus_val_mx = pd.concat([y_train_mx, y_val_mx])"
   ]
  },
  {
   "cell_type": "markdown",
   "id": "927bf064",
   "metadata": {},
   "source": [
    "### Mixed Use: Linear regression"
   ]
  },
  {
   "cell_type": "code",
   "execution_count": 111,
   "id": "a26e4141",
   "metadata": {},
   "outputs": [
    {
     "name": "stdout",
     "output_type": "stream",
     "text": [
      "{'normalize': True, 'fit_intercept': False}\n",
      "LinearRegression(fit_intercept=False, normalize=True)\n",
      "Min RMSE for linear regression is: 10122191127754.484\n"
     ]
    }
   ],
   "source": [
    "# random search for linear regression\n",
    "param_lr_mx = {'fit_intercept': [True,False],\n",
    "               'normalize':[True,False]}\n",
    "\n",
    "lr_cv_mx = RandomizedSearchCV(\n",
    "           LinearRegression(),\n",
    "           param_distributions=param_lr_mx,\n",
    "           n_iter=10,\n",
    "           cv=5,\n",
    "           scoring='neg_root_mean_squared_error', \n",
    "           n_jobs=-1,\n",
    "           random_state=123\n",
    ").fit(X_train_plus_val_mx, np.array(y_train_plus_val_mx).ravel())\n",
    "\n",
    "# find best model hyperparameters \n",
    "print(lr_cv_mx.best_params_)\n",
    "print(lr_cv_mx.best_estimator_)\n",
    "print('Min RMSE for linear regression is: {}'.format(-lr_cv_mx.best_score_))"
   ]
  },
  {
   "cell_type": "code",
   "execution_count": 112,
   "id": "6bbdb088",
   "metadata": {},
   "outputs": [
    {
     "name": "stdout",
     "output_type": "stream",
     "text": [
      "166.25926778386443\n",
      "sale_price    329.708793\n",
      "dtype: float64\n",
      "sale_price    205.839057\n",
      "dtype: float64\n"
     ]
    }
   ],
   "source": [
    "# MAE of best model\n",
    "print(mean_absolute_error(y_val_mx, lr_cv_mx.best_estimator_.predict(X_val_mx)))\n",
    "\n",
    "# RMSE and MAE of baseline model\n",
    "print(rmse(y_val_mx))\n",
    "print(mae(y_val_mx))"
   ]
  },
  {
   "cell_type": "markdown",
   "id": "6d84e511",
   "metadata": {},
   "source": [
    "### Mixed Use: Lasso"
   ]
  },
  {
   "cell_type": "code",
   "execution_count": 113,
   "id": "104076e9",
   "metadata": {},
   "outputs": [
    {
     "name": "stdout",
     "output_type": "stream",
     "text": [
      "{'alpha': 0.15463515822289586, 'fit_intercept': True, 'normalize': False}\n",
      "Lasso(alpha=0.15463515822289586)\n",
      "Min RMSE for lasso fro Mixed Use is: 261.77672139034263\n"
     ]
    }
   ],
   "source": [
    "# random search for lasso\n",
    "param_la_mx = {'alpha': sp_loguniform(1e-4,1e2),\n",
    "            'fit_intercept':[True,False],\n",
    "            'normalize':[True,False]}\n",
    "\n",
    "la_cv_mx = RandomizedSearchCV(\n",
    "        Lasso(),\n",
    "        param_distributions=param_la_mx,\n",
    "        n_iter=10,\n",
    "        cv=5,\n",
    "        scoring='neg_root_mean_squared_error', \n",
    "        n_jobs=-1,\n",
    "        random_state=123\n",
    ").fit(X_train_plus_val_mx, np.array(y_train_plus_val_mx).ravel())\n",
    "\n",
    "# find best model hyperparameters \n",
    "print(la_cv_mx.best_params_)\n",
    "print(la_cv_mx.best_estimator_)\n",
    "print('Min RMSE for lasso fro Mixed Use is: {}'.format(-la_cv_mx.best_score_))"
   ]
  },
  {
   "cell_type": "code",
   "execution_count": 114,
   "id": "871e89a9",
   "metadata": {},
   "outputs": [
    {
     "name": "stdout",
     "output_type": "stream",
     "text": [
      "166.23560605571157\n",
      "sale_price    329.708793\n",
      "dtype: float64\n",
      "sale_price    205.839057\n",
      "dtype: float64\n"
     ]
    }
   ],
   "source": [
    "# MAE of best model\n",
    "print(mean_absolute_error(y_val_mx, la_cv_mx.best_estimator_.predict(X_val_mx)))\n",
    "\n",
    "# RMSE and MAE of baseline model\n",
    "print(rmse(y_val_mx))\n",
    "print(mae(y_val_mx))"
   ]
  },
  {
   "cell_type": "markdown",
   "id": "59c2b737",
   "metadata": {},
   "source": [
    "### Mixed Use: Ridge"
   ]
  },
  {
   "cell_type": "code",
   "execution_count": 91,
   "id": "10519400",
   "metadata": {},
   "outputs": [
    {
     "name": "stdout",
     "output_type": "stream",
     "text": [
      "{'alpha': 76.66289057556017, 'fit_intercept': True, 'normalize': False}\n",
      "Ridge(alpha=76.66289057556017)\n",
      "Min RMSE for ridge on Mixed Use is: 261.77449765235895\n"
     ]
    }
   ],
   "source": [
    "# random search for ridge\n",
    "param_rd_mx = {'alpha': sp_loguniform(1e-4,1e2),\n",
    "            'fit_intercept':[True,False],\n",
    "            'normalize':[True,False]}\n",
    "\n",
    "rd_cv_mx = RandomizedSearchCV(\n",
    "        Ridge(),\n",
    "        param_distributions=param_rd_mx,\n",
    "        n_iter=10,\n",
    "        cv=5,\n",
    "        scoring='neg_root_mean_squared_error', \n",
    "        n_jobs=-1,\n",
    "        random_state=123\n",
    ").fit(X_train_plus_val_mx, np.array(y_train_plus_val_mx).ravel())\n",
    "\n",
    "# Find best model hyperparameters \n",
    "print(rd_cv_mx.best_params_)\n",
    "print(rd_cv_mx.best_estimator_)\n",
    "print('Min RMSE for ridge on Mixed Use is: {}'.format(-rd_cv_mx.best_score_))"
   ]
  },
  {
   "cell_type": "code",
   "execution_count": 92,
   "id": "19bbafc6",
   "metadata": {},
   "outputs": [
    {
     "name": "stdout",
     "output_type": "stream",
     "text": [
      "165.30173216469058\n",
      "sale_price    329.708793\n",
      "dtype: float64\n",
      "sale_price    205.839057\n",
      "dtype: float64\n"
     ]
    }
   ],
   "source": [
    "# MAE of best model\n",
    "print(mean_absolute_error(y_val_mx, rd_cv_mx.best_estimator_.predict(X_val_mx)))\n",
    "\n",
    "# RMSE and MAE of baseline model\n",
    "print(rmse(y_val_mx))\n",
    "print(mae(y_val_mx))"
   ]
  },
  {
   "cell_type": "markdown",
   "id": "790337d3",
   "metadata": {},
   "source": [
    "### Mixed Use: KNeighborsRegressor"
   ]
  },
  {
   "cell_type": "code",
   "execution_count": 115,
   "id": "631420e2",
   "metadata": {},
   "outputs": [
    {
     "name": "stdout",
     "output_type": "stream",
     "text": [
      "{'leaf_size': 20, 'n_neighbors': 11, 'weights': 'distance'}\n",
      "KNeighborsRegressor(leaf_size=20, n_neighbors=11, weights='distance')\n",
      "Min RMSE for Knn regressor on Mixed Use is: 240.56197162525683\n"
     ]
    }
   ],
   "source": [
    "# random search for KNeighborsRegressor\n",
    "param_knn_mx = {'n_neighbors': sp_randint(1,21),\n",
    "             'weights': ['uniform', 'distance'],\n",
    "             'leaf_size': sp_randint(1,21)}\n",
    "\n",
    "knn_cv_mx = RandomizedSearchCV(\n",
    "         KNeighborsRegressor(),\n",
    "         param_distributions=param_knn_mx,\n",
    "         n_iter=10,\n",
    "         cv=5,\n",
    "         scoring='neg_root_mean_squared_error', \n",
    "         n_jobs=-1,\n",
    "         random_state=123\n",
    ").fit(X_train_plus_val_mx, np.array(y_train_plus_val_mx).ravel())\n",
    "\n",
    "# find best model hyperparameters \n",
    "print(knn_cv_mx.best_params_)\n",
    "print(knn_cv_mx.best_estimator_)\n",
    "print('Min RMSE for Knn regressor on Mixed Use is: {}'.format(-knn_cv_mx.best_score_))"
   ]
  },
  {
   "cell_type": "code",
   "execution_count": 116,
   "id": "9fcc9be9",
   "metadata": {},
   "outputs": [
    {
     "name": "stdout",
     "output_type": "stream",
     "text": [
      "3.2142814392896205e-06\n",
      "sale_price    329.708793\n",
      "dtype: float64\n",
      "sale_price    205.839057\n",
      "dtype: float64\n"
     ]
    }
   ],
   "source": [
    "# MAE of best model\n",
    "print(mean_absolute_error(y_val_mx, knn_cv_mx.best_estimator_.predict(X_val_mx)))\n",
    "\n",
    "# RMSE and MAE of baseline model\n",
    "print(rmse(y_val_mx))\n",
    "print(mae(y_val_mx))"
   ]
  },
  {
   "cell_type": "markdown",
   "id": "49ddb9b9",
   "metadata": {},
   "source": [
    "### Mixed Use: RandomForestRegressor"
   ]
  },
  {
   "cell_type": "code",
   "execution_count": 95,
   "id": "ffd72c50",
   "metadata": {},
   "outputs": [
    {
     "name": "stdout",
     "output_type": "stream",
     "text": [
      "{'n_estimators': 800, 'min_samples_split': 2, 'min_samples_leaf': 5, 'max_features': 'auto', 'max_depth': None}\n",
      "RandomForestRegressor(min_samples_leaf=5, n_estimators=800)\n",
      "Min RMSE is for random forest regressor on Mixed Use is: 207.72343038919698\n"
     ]
    }
   ],
   "source": [
    "# random search for RandomForestRegressor\n",
    "param_rf_mx = {'n_estimators': [100, 120, 200, 300, 500, 800, 1200],\n",
    "            'max_depth': [None, 5, 8, 15, 25, 30],\n",
    "            'min_samples_split': [1, 2, 5, 10 ,15, 100],\n",
    "            'min_samples_leaf': [1, 2, 5, 10],\n",
    "            'max_features': ['auto', 'sqrt', 'log2']}\n",
    "\n",
    "rf_cv_mx = RandomizedSearchCV(\n",
    "        RandomForestRegressor(),\n",
    "        param_distributions=param_rf_mx,\n",
    "        n_iter=10,\n",
    "        cv=5,\n",
    "        scoring='neg_root_mean_squared_error', \n",
    "        n_jobs=-1,\n",
    "        random_state=123\n",
    ").fit(X_train_plus_val_mx, np.array(y_train_plus_val_mx).ravel())\n",
    "\n",
    "# find best model hyperparameters \n",
    "print(rf_cv_mx.best_params_)\n",
    "print(rf_cv_mx.best_estimator_)\n",
    "print('Min RMSE is for random forest regressor on Mixed Use is: {}'.format(-rf_cv_mx.best_score_))"
   ]
  },
  {
   "cell_type": "code",
   "execution_count": 96,
   "id": "bcf67ee1",
   "metadata": {},
   "outputs": [
    {
     "name": "stdout",
     "output_type": "stream",
     "text": [
      "74.46944084387847\n",
      "sale_price    329.708793\n",
      "dtype: float64\n",
      "sale_price    205.839057\n",
      "dtype: float64\n"
     ]
    }
   ],
   "source": [
    "# MAE of best model\n",
    "print(mean_absolute_error(y_val_mx, rf_cv_mx.best_estimator_.predict(X_val_mx)))\n",
    "\n",
    "# RMSE and MAE of baseline model\n",
    "print(rmse(y_val_mx))\n",
    "print(mae(y_val_mx))"
   ]
  },
  {
   "cell_type": "markdown",
   "id": "14668a69",
   "metadata": {},
   "source": [
    "### Mixed Use: MLPRegressor"
   ]
  },
  {
   "cell_type": "code",
   "execution_count": 97,
   "id": "8ac92283",
   "metadata": {},
   "outputs": [
    {
     "name": "stdout",
     "output_type": "stream",
     "text": [
      "{'alpha': 2.765529811671396, 'batch_size': 20, 'hidden_layer_sizes': 4, 'learning_rate_init': 0.008664699052148592}\n",
      "MLPRegressor(alpha=2.765529811671396, batch_size=20, hidden_layer_sizes=4,\n",
      "             learning_rate_init=0.008664699052148592)\n",
      "Min RMSE for MLP regressor on Mixed Use is: 236.55352605521776\n"
     ]
    }
   ],
   "source": [
    "# random search for MLPRegressor\n",
    "hl = []\n",
    "for i in [1, 2, 3, 4, 5, 10, 15, 25, 30]:\n",
    "    hl.append((i))\n",
    "    hl.append((i,i))\n",
    "\n",
    "param_mlp_mx = {'hidden_layer_sizes': hl,\n",
    "             'learning_rate_init': sp_loguniform(1e-4, 1e2),\n",
    "             'alpha': sp_loguniform(1e-4, 1e2),\n",
    "             'batch_size': [1, 3, 5, 10, 20, 50, 100, 250, 500]}\n",
    "\n",
    "mlp_cv_mx = RandomizedSearchCV(\n",
    "         MLPRegressor(),\n",
    "         param_distributions=param_mlp_mx,\n",
    "         n_iter=10,\n",
    "         cv=5,\n",
    "         scoring='neg_root_mean_squared_error', \n",
    "         n_jobs=-1,\n",
    "         random_state=123\n",
    ").fit(X_train_plus_val_mx, np.array(y_train_plus_val_mx).ravel())\n",
    "\n",
    "# find best model hyperparameters \n",
    "print(mlp_cv_mx.best_params_)\n",
    "print(mlp_cv_mx.best_estimator_)\n",
    "print('Min RMSE for MLP regressor on Mixed Use is: {}'.format(-mlp_cv_mx.best_score_))"
   ]
  },
  {
   "cell_type": "code",
   "execution_count": 98,
   "id": "3c0d08fa",
   "metadata": {},
   "outputs": [
    {
     "name": "stdout",
     "output_type": "stream",
     "text": [
      "136.4327826735772\n",
      "sale_price    329.708793\n",
      "dtype: float64\n",
      "sale_price    205.839057\n",
      "dtype: float64\n"
     ]
    }
   ],
   "source": [
    "# MAE of best model\n",
    "print(mean_absolute_error(y_val_mx, mlp_cv_mx.best_estimator_.predict(X_val_mx)))\n",
    "\n",
    "# RMSE and MAE of baseline model\n",
    "print(rmse(y_val_mx))\n",
    "print(mae(y_val_mx))"
   ]
  },
  {
   "cell_type": "markdown",
   "id": "64c0ebb4",
   "metadata": {},
   "source": [
    "### Mixed Use: XGBoost"
   ]
  },
  {
   "cell_type": "code",
   "execution_count": 99,
   "id": "99e829bd",
   "metadata": {},
   "outputs": [
    {
     "name": "stdout",
     "output_type": "stream",
     "text": [
      "[11:35:01] WARNING: C:/Users/Administrator/workspace/xgboost-win64_release_1.5.1/src/learner.cc:576: \n",
      "Parameters: { \"learning_rate_init\" } might not be used.\n",
      "\n",
      "  This could be a false alarm, with some parameters getting used by language bindings but\n",
      "  then being mistakenly passed down to XGBoost core, or some parameter actually being used\n",
      "  but getting flagged wrongly here. Please open an issue if you find any such cases.\n",
      "\n",
      "\n",
      "{'learning_rate_init': 0.20318358298265976, 'max_depth': 6, 'min_child_weight': 5, 'n_estimators': 500}\n",
      "XGBRegressor(base_score=0.5, booster='gbtree', colsample_bylevel=1,\n",
      "             colsample_bynode=1, colsample_bytree=1, enable_categorical=False,\n",
      "             gamma=0, gpu_id=-1, importance_type=None,\n",
      "             interaction_constraints='', learning_rate=0.300000012,\n",
      "             learning_rate_init=0.20318358298265976, max_delta_step=0,\n",
      "             max_depth=6, min_child_weight=5, missing=nan,\n",
      "             monotone_constraints='()', n_estimators=500, n_jobs=16, nthread=-1,\n",
      "             num_parallel_tree=1, predictor='auto', random_state=0, reg_alpha=0,\n",
      "             reg_lambda=1, scale_pos_weight=1, subsample=1, tree_method='exact',\n",
      "             validate_parameters=1, verbosity=None)\n",
      "Min RMSE for XGBoost on Mixed Use is: 213.94762819826306\n"
     ]
    }
   ],
   "source": [
    "# random search for XGBoost\n",
    "param_xg_mx = {'n_estimators':[100, 500 ,1000],\n",
    "               'max_depth': sp_randint(3, 15),\n",
    "               'learning_rate_init': sp_loguniform(1e-4, 1e2),\n",
    "               'min_child_weight': [1, 3, 5, 7]}\n",
    "\n",
    "xg_cv_mx = RandomizedSearchCV(\n",
    "            xgb.XGBRegressor(nthread=-1),\n",
    "            param_distributions=param_xg_mx,\n",
    "            n_iter=10,\n",
    "            cv=5,\n",
    "            scoring='neg_root_mean_squared_error',\n",
    "            n_jobs=-1,\n",
    "            random_state=123\n",
    ").fit(X_train_plus_val_mx, np.array(y_train_plus_val_mx).ravel())\n",
    "\n",
    "# find best model hyperparameters \n",
    "print(xg_cv_mx.best_params_)\n",
    "print(xg_cv_mx.best_estimator_)\n",
    "print('Min RMSE for XGBoost on Mixed Use is: {}'.format(-xg_cv_mx.best_score_))"
   ]
  },
  {
   "cell_type": "code",
   "execution_count": 100,
   "id": "4762d999",
   "metadata": {},
   "outputs": [
    {
     "name": "stdout",
     "output_type": "stream",
     "text": [
      "4.2681320396697835\n",
      "sale_price    329.708793\n",
      "dtype: float64\n",
      "sale_price    205.839057\n",
      "dtype: float64\n"
     ]
    }
   ],
   "source": [
    "# MAE of best model\n",
    "print(mean_absolute_error(y_val_mx, xg_cv_mx.best_estimator_.predict(X_val_mx)))\n",
    "\n",
    "# RMSE and MAE of baseline model\n",
    "print(rmse(y_val_mx))\n",
    "print(mae(y_val_mx))"
   ]
  },
  {
   "cell_type": "markdown",
   "id": "bc097af2",
   "metadata": {},
   "source": [
    "### Experiment on Vacant Land"
   ]
  },
  {
   "cell_type": "code",
   "execution_count": 117,
   "id": "588b9706",
   "metadata": {},
   "outputs": [],
   "source": [
    "# vacant-- training, validation and test data\n",
    "X_train_va = pd.read_csv('X_train_va.csv')\n",
    "X_train_va.index = X_train_va['Unnamed: 0']\n",
    "X_train_va = X_train_va.drop(['Unnamed: 0'], axis=1)\n",
    "\n",
    "X_val_va = pd.read_csv('X_val_va.csv')\n",
    "X_val_va.index = X_val_va['Unnamed: 0']\n",
    "X_val_va = X_val_va.drop(['Unnamed: 0'], axis=1)\n",
    "\n",
    "X_test_va = pd.read_csv('X_test_va.csv')\n",
    "X_test_va.index = X_test_va['Unnamed: 0']\n",
    "X_test_va = X_test_va.drop(['Unnamed: 0'], axis=1)\n",
    "\n",
    "y_train_va = pd.read_csv('y_train_va.csv')\n",
    "y_train_va.index = y_train_va['Unnamed: 0']\n",
    "y_train_va = y_train_va.drop(['Unnamed: 0'], axis=1)\n",
    "\n",
    "y_val_va = pd.read_csv('y_val_va.csv')\n",
    "y_val_va.index = y_val_va['Unnamed: 0']\n",
    "y_val_va = y_val_va.drop(['Unnamed: 0'], axis=1)\n",
    "\n",
    "y_test_va = pd.read_csv('y_test_va.csv')\n",
    "y_test_va.index = y_test_va['Unnamed: 0']\n",
    "y_test_va = y_test_va.drop(['Unnamed: 0'], axis=1)"
   ]
  },
  {
   "cell_type": "code",
   "execution_count": 118,
   "id": "558cbd74",
   "metadata": {},
   "outputs": [],
   "source": [
    "# Vacant Y train+val,--concate and prepare for \"PredefinedSplit\"\n",
    "y_train_plus_val_va = pd.concat([y_train_va, y_val_va])\n",
    "y_train_plus_val_va_copy = y_train_plus_val_va.copy()\n",
    "y_train_plus_val_va_copy.columns = ['train_val_split']\n",
    "y_train_plus_val_va_copy.loc[y_train_va.index,'train_val_split'] = -1\n",
    "y_train_plus_val_va_copy.loc[y_val_va.index,'train_val_split'] = 0\n",
    "val_fold_va = np.array(y_train_plus_val_va_copy)\n",
    "ps_va = PredefinedSplit(val_fold_va)\n",
    "\n",
    "# Vacant X train+val\n",
    "X_train_plus_val_va = pd.concat([X_train_va, X_val_va])"
   ]
  },
  {
   "cell_type": "markdown",
   "id": "c75b183b",
   "metadata": {},
   "source": [
    "### Vacant Land: Linear regression"
   ]
  },
  {
   "cell_type": "code",
   "execution_count": 119,
   "id": "f07bcccf",
   "metadata": {},
   "outputs": [
    {
     "name": "stdout",
     "output_type": "stream",
     "text": [
      "{'normalize': True, 'fit_intercept': False}\n",
      "LinearRegression(fit_intercept=False, normalize=True)\n",
      "Min RMSE for linear regression is: 10051643301709.084\n"
     ]
    }
   ],
   "source": [
    "# random search for linear regression\n",
    "param_lr_va = {'fit_intercept': [True,False],\n",
    "               'normalize':[True,False]}\n",
    "\n",
    "lr_cv_va = RandomizedSearchCV(\n",
    "           LinearRegression(),\n",
    "           param_distributions=param_lr_va,\n",
    "           n_iter=10,\n",
    "           cv=5,\n",
    "           scoring='neg_root_mean_squared_error', \n",
    "           n_jobs=-1,\n",
    "           random_state=123\n",
    ").fit(X_train_plus_val_va, np.array(y_train_plus_val_va).ravel())\n",
    "\n",
    "# find best model hyperparameters \n",
    "print(lr_cv_va.best_params_)\n",
    "print(lr_cv_va.best_estimator_)\n",
    "print('Min RMSE for linear regression is: {}'.format(-lr_cv_va.best_score_))"
   ]
  },
  {
   "cell_type": "code",
   "execution_count": 120,
   "id": "b854376e",
   "metadata": {},
   "outputs": [
    {
     "name": "stdout",
     "output_type": "stream",
     "text": [
      "4.2681320396697835\n",
      "sale_price    329.708793\n",
      "dtype: float64\n",
      "sale_price    205.839057\n",
      "dtype: float64\n"
     ]
    }
   ],
   "source": [
    "# MAE of best model\n",
    "print(mean_absolute_error(y_val_mx, xg_cv_mx.best_estimator_.predict(X_val_mx)))\n",
    "\n",
    "# RMSE and MAE of baseline model\n",
    "print(rmse(y_val_mx))\n",
    "print(mae(y_val_mx))"
   ]
  },
  {
   "cell_type": "markdown",
   "id": "42d734d2",
   "metadata": {},
   "source": [
    "### Vacant Land: Lasso"
   ]
  },
  {
   "cell_type": "code",
   "execution_count": 121,
   "id": "01dba33c",
   "metadata": {},
   "outputs": [
    {
     "name": "stdout",
     "output_type": "stream",
     "text": [
      "{'alpha': 0.07684071705306554, 'fit_intercept': False, 'normalize': True}\n",
      "Lasso(alpha=0.07684071705306554, fit_intercept=False, normalize=True)\n",
      "Min RMSE for lasso fro Mixed Use is: 331.1095738473251\n"
     ]
    }
   ],
   "source": [
    "# random search for lasso\n",
    "param_la_va = {'alpha': sp_loguniform(1e-4,1e2),\n",
    "            'fit_intercept':[True,False],\n",
    "            'normalize':[True,False]}\n",
    "\n",
    "la_cv_va = RandomizedSearchCV(\n",
    "        Lasso(),\n",
    "        param_distributions=param_la_va,\n",
    "        n_iter=10,\n",
    "        cv=5,\n",
    "        scoring='neg_root_mean_squared_error', \n",
    "        n_jobs=-1,\n",
    "        random_state=123\n",
    ").fit(X_train_plus_val_va, np.array(y_train_plus_val_va).ravel())\n",
    "\n",
    "# find best model hyperparameters \n",
    "print(la_cv_va.best_params_)\n",
    "print(la_cv_va.best_estimator_)\n",
    "print('Min RMSE for lasso fro Mixed Use is: {}'.format(-la_cv_va.best_score_))"
   ]
  },
  {
   "cell_type": "code",
   "execution_count": 122,
   "id": "cc4542d2",
   "metadata": {},
   "outputs": [
    {
     "name": "stdout",
     "output_type": "stream",
     "text": [
      "155.89813219865084\n",
      "sale_price    366.61416\n",
      "dtype: float64\n",
      "sale_price    170.903947\n",
      "dtype: float64\n"
     ]
    }
   ],
   "source": [
    "# MAE of best model\n",
    "print(mean_absolute_error(y_val_va, la_cv_va.best_estimator_.predict(X_val_va)))\n",
    "\n",
    "# RMSE and MAE of baseline model\n",
    "print(rmse(y_val_va))\n",
    "print(mae(y_val_va))"
   ]
  },
  {
   "cell_type": "markdown",
   "id": "edcca9a5",
   "metadata": {},
   "source": [
    "### Vacant Land: Ridge"
   ]
  },
  {
   "cell_type": "code",
   "execution_count": 123,
   "id": "58bb2e74",
   "metadata": {},
   "outputs": [
    {
     "name": "stdout",
     "output_type": "stream",
     "text": [
      "{'alpha': 1.5094374246471327, 'fit_intercept': True, 'normalize': True}\n",
      "Ridge(alpha=1.5094374246471327, normalize=True)\n",
      "Min RMSE for ridge on Vacant Land is: 329.3994836555059\n"
     ]
    }
   ],
   "source": [
    "# random search for ridge\n",
    "param_rd_va = {'alpha': sp_loguniform(1e-4,1e2),\n",
    "            'fit_intercept':[True,False],\n",
    "            'normalize':[True,False]}\n",
    "\n",
    "rd_cv_va = RandomizedSearchCV(\n",
    "        Ridge(),\n",
    "        param_distributions=param_rd_va,\n",
    "        n_iter=10,\n",
    "        cv=5,\n",
    "        scoring='neg_root_mean_squared_error', \n",
    "        n_jobs=-1,\n",
    "        random_state=123\n",
    ").fit(X_train_plus_val_va, np.array(y_train_plus_val_va).ravel())\n",
    "\n",
    "# Find best model hyperparameters \n",
    "print(rd_cv_va.best_params_)\n",
    "print(rd_cv_va.best_estimator_)\n",
    "print('Min RMSE for ridge on Vacant Land is: {}'.format(-rd_cv_va.best_score_))"
   ]
  },
  {
   "cell_type": "code",
   "execution_count": 124,
   "id": "f34e9787",
   "metadata": {},
   "outputs": [
    {
     "name": "stdout",
     "output_type": "stream",
     "text": [
      "160.61124378646315\n",
      "sale_price    366.61416\n",
      "dtype: float64\n",
      "sale_price    170.903947\n",
      "dtype: float64\n"
     ]
    }
   ],
   "source": [
    "# MAE of best model\n",
    "print(mean_absolute_error(y_val_va, rd_cv_va.best_estimator_.predict(X_val_va)))\n",
    "\n",
    "# RMSE and MAE of baseline model\n",
    "print(rmse(y_val_va))\n",
    "print(mae(y_val_va))"
   ]
  },
  {
   "cell_type": "markdown",
   "id": "5f1053b4",
   "metadata": {},
   "source": [
    "### Vacant Land: KNN Regressor"
   ]
  },
  {
   "cell_type": "code",
   "execution_count": 125,
   "id": "4d8de704",
   "metadata": {},
   "outputs": [
    {
     "name": "stdout",
     "output_type": "stream",
     "text": [
      "{'leaf_size': 20, 'n_neighbors': 15, 'weights': 'distance'}\n",
      "KNeighborsRegressor(leaf_size=20, n_neighbors=15, weights='distance')\n",
      "Min RMSE for Knn regressor on Mixed Use is: 267.6925559640128\n"
     ]
    }
   ],
   "source": [
    "# random search for KNeighborsRegressor\n",
    "param_knn_va = {'n_neighbors': sp_randint(1,21),\n",
    "             'weights': ['uniform', 'distance'],\n",
    "             'leaf_size': sp_randint(1,21)}\n",
    "\n",
    "knn_cv_va = RandomizedSearchCV(\n",
    "         KNeighborsRegressor(),\n",
    "         param_distributions=param_knn_va,\n",
    "         n_iter=10,\n",
    "         cv=5,\n",
    "         scoring='neg_root_mean_squared_error', \n",
    "         n_jobs=-1,\n",
    "         random_state=123\n",
    ").fit(X_train_plus_val_va, np.array(y_train_plus_val_va).ravel())\n",
    "\n",
    "# find best model hyperparameters \n",
    "print(knn_cv_va.best_params_)\n",
    "print(knn_cv_va.best_estimator_)\n",
    "print('Min RMSE for Knn regressor on Mixed Use is: {}'.format(-knn_cv_va.best_score_))"
   ]
  },
  {
   "cell_type": "code",
   "execution_count": 126,
   "id": "ec05a834",
   "metadata": {},
   "outputs": [
    {
     "name": "stdout",
     "output_type": "stream",
     "text": [
      "1.4553803074263698e-05\n",
      "sale_price    366.61416\n",
      "dtype: float64\n",
      "sale_price    170.903947\n",
      "dtype: float64\n"
     ]
    }
   ],
   "source": [
    "# MAE of best model\n",
    "print(mean_absolute_error(y_val_va, knn_cv_va.best_estimator_.predict(X_val_va)))\n",
    "\n",
    "# RMSE and MAE of baseline model\n",
    "print(rmse(y_val_va))\n",
    "print(mae(y_val_va))"
   ]
  },
  {
   "cell_type": "markdown",
   "id": "56901bde",
   "metadata": {},
   "source": [
    "### Vacant Land: Random Forest Regressor"
   ]
  },
  {
   "cell_type": "code",
   "execution_count": 127,
   "id": "a4f21d97",
   "metadata": {},
   "outputs": [
    {
     "name": "stdout",
     "output_type": "stream",
     "text": [
      "{'n_estimators': 800, 'min_samples_split': 2, 'min_samples_leaf': 5, 'max_features': 'auto', 'max_depth': None}\n",
      "RandomForestRegressor(min_samples_leaf=5, n_estimators=800)\n",
      "Min RMSE is for random forest regressor on Mixed Use is: 253.87659968943603\n"
     ]
    }
   ],
   "source": [
    "# random search for RandomForestRegressor\n",
    "param_rf_va = {'n_estimators': [100, 120, 200, 300, 500, 800, 1200],\n",
    "            'max_depth': [None, 5, 8, 15, 25, 30],\n",
    "            'min_samples_split': [1, 2, 5, 10 ,15, 100],\n",
    "            'min_samples_leaf': [1, 2, 5, 10],\n",
    "            'max_features': ['auto', 'sqrt', 'log2']}\n",
    "\n",
    "rf_cv_va = RandomizedSearchCV(\n",
    "        RandomForestRegressor(),\n",
    "        param_distributions=param_rf_va,\n",
    "        n_iter=10,\n",
    "        cv=5,\n",
    "        scoring='neg_root_mean_squared_error', \n",
    "        n_jobs=-1,\n",
    "        random_state=123\n",
    ").fit(X_train_plus_val_va, np.array(y_train_plus_val_va).ravel())\n",
    "\n",
    "# find best model hyperparameters \n",
    "print(rf_cv_va.best_params_)\n",
    "print(rf_cv_va.best_estimator_)\n",
    "print('Min RMSE is for random forest regressor on Mixed Use is: {}'.format(-rf_cv_va.best_score_))"
   ]
  },
  {
   "cell_type": "code",
   "execution_count": 128,
   "id": "3b12bec0",
   "metadata": {},
   "outputs": [
    {
     "name": "stdout",
     "output_type": "stream",
     "text": [
      "68.28386125058998\n",
      "sale_price    366.61416\n",
      "dtype: float64\n",
      "sale_price    170.903947\n",
      "dtype: float64\n"
     ]
    }
   ],
   "source": [
    "# MAE of best model\n",
    "print(mean_absolute_error(y_val_va, rf_cv_va.best_estimator_.predict(X_val_va)))\n",
    "\n",
    "# RMSE and MAE of baseline model\n",
    "print(rmse(y_val_va))\n",
    "print(mae(y_val_va))"
   ]
  },
  {
   "cell_type": "markdown",
   "id": "a4022827",
   "metadata": {},
   "source": [
    "### Vacant Land: MLP Regressor"
   ]
  },
  {
   "cell_type": "code",
   "execution_count": 129,
   "id": "70c90b74",
   "metadata": {},
   "outputs": [
    {
     "name": "stdout",
     "output_type": "stream",
     "text": [
      "{'alpha': 0.0011051954732269518, 'batch_size': 100, 'hidden_layer_sizes': (15, 15), 'learning_rate_init': 0.0002900807334178909}\n",
      "MLPRegressor(alpha=0.0011051954732269518, batch_size=100,\n",
      "             hidden_layer_sizes=(15, 15),\n",
      "             learning_rate_init=0.0002900807334178909)\n",
      "Min RMSE for MLP regressor on Mixed Use is: 317.7144101127273\n"
     ]
    }
   ],
   "source": [
    "# random search for MLPRegressor\n",
    "hl = []\n",
    "for i in [1, 2, 3, 4, 5, 10, 15, 25, 30]:\n",
    "    hl.append((i))\n",
    "    hl.append((i,i))\n",
    "\n",
    "param_mlp_va = {'hidden_layer_sizes': hl,\n",
    "             'learning_rate_init': sp_loguniform(1e-4, 1e2),\n",
    "             'alpha': sp_loguniform(1e-4, 1e2),\n",
    "             'batch_size': [1, 3, 5, 10, 20, 50, 100, 250, 500]}\n",
    "\n",
    "mlp_cv_va = RandomizedSearchCV(\n",
    "         MLPRegressor(),\n",
    "         param_distributions=param_mlp_mx,\n",
    "         n_iter=10,\n",
    "         cv=5,\n",
    "         scoring='neg_root_mean_squared_error', \n",
    "         n_jobs=-1,\n",
    "         random_state=123\n",
    ").fit(X_train_plus_val_va, np.array(y_train_plus_val_va).ravel())\n",
    "\n",
    "# find best model hyperparameters \n",
    "print(mlp_cv_va.best_params_)\n",
    "print(mlp_cv_va.best_estimator_)\n",
    "print('Min RMSE for MLP regressor on Mixed Use is: {}'.format(-mlp_cv_va.best_score_))"
   ]
  },
  {
   "cell_type": "code",
   "execution_count": 130,
   "id": "210586ad",
   "metadata": {},
   "outputs": [
    {
     "name": "stdout",
     "output_type": "stream",
     "text": [
      "128.59049613054012\n",
      "sale_price    366.61416\n",
      "dtype: float64\n",
      "sale_price    170.903947\n",
      "dtype: float64\n"
     ]
    }
   ],
   "source": [
    "# MAE of best model\n",
    "print(mean_absolute_error(y_val_va, mlp_cv_va.best_estimator_.predict(X_val_va)))\n",
    "\n",
    "# RMSE and MAE of baseline model\n",
    "print(rmse(y_val_va))\n",
    "print(mae(y_val_va))"
   ]
  },
  {
   "cell_type": "markdown",
   "id": "d55314ff",
   "metadata": {},
   "source": [
    "### Vacant Land: XGBoost"
   ]
  },
  {
   "cell_type": "code",
   "execution_count": 131,
   "id": "55293df6",
   "metadata": {},
   "outputs": [
    {
     "name": "stdout",
     "output_type": "stream",
     "text": [
      "[12:02:10] WARNING: C:/Users/Administrator/workspace/xgboost-win64_release_1.5.1/src/learner.cc:576: \n",
      "Parameters: { \"learning_rate_init\" } might not be used.\n",
      "\n",
      "  This could be a false alarm, with some parameters getting used by language bindings but\n",
      "  then being mistakenly passed down to XGBoost core, or some parameter actually being used\n",
      "  but getting flagged wrongly here. Please open an issue if you find any such cases.\n",
      "\n",
      "\n",
      "{'learning_rate_init': 1.5094374246471327, 'max_depth': 5, 'min_child_weight': 1, 'n_estimators': 1000}\n",
      "XGBRegressor(base_score=0.5, booster='gbtree', colsample_bylevel=1,\n",
      "             colsample_bynode=1, colsample_bytree=1, enable_categorical=False,\n",
      "             gamma=0, gpu_id=-1, importance_type=None,\n",
      "             interaction_constraints='', learning_rate=0.300000012,\n",
      "             learning_rate_init=1.5094374246471327, max_delta_step=0,\n",
      "             max_depth=5, min_child_weight=1, missing=nan,\n",
      "             monotone_constraints='()', n_estimators=1000, n_jobs=16,\n",
      "             nthread=-1, num_parallel_tree=1, predictor='auto', random_state=0,\n",
      "             reg_alpha=0, reg_lambda=1, scale_pos_weight=1, subsample=1,\n",
      "             tree_method='exact', validate_parameters=1, verbosity=None)\n",
      "Min RMSE for XGBoost on Mixed Use is: 253.55777906733934\n"
     ]
    }
   ],
   "source": [
    "# random search for XGBoost\n",
    "param_xg_va = {'n_estimators':[100, 500 ,1000],\n",
    "               'max_depth': sp_randint(3, 15),\n",
    "               'learning_rate_init': sp_loguniform(1e-4, 1e2),\n",
    "               'min_child_weight': [1, 3, 5, 7]}\n",
    "\n",
    "xg_cv_va = RandomizedSearchCV(\n",
    "            xgb.XGBRegressor(nthread=-1),\n",
    "            param_distributions=param_xg_mx,\n",
    "            n_iter=10,\n",
    "            cv=5,\n",
    "            scoring='neg_root_mean_squared_error',\n",
    "            n_jobs=-1,\n",
    "            random_state=123\n",
    ").fit(X_train_plus_val_va, np.array(y_train_plus_val_va).ravel())\n",
    "\n",
    "# find best model hyperparameters \n",
    "print(xg_cv_va.best_params_)\n",
    "print(xg_cv_va.best_estimator_)\n",
    "print('Min RMSE for XGBoost on Mixed Use is: {}'.format(-xg_cv_va.best_score_))"
   ]
  },
  {
   "cell_type": "code",
   "execution_count": 132,
   "id": "a7956d30",
   "metadata": {},
   "outputs": [
    {
     "name": "stdout",
     "output_type": "stream",
     "text": [
      "10.912587082613774\n",
      "sale_price    366.61416\n",
      "dtype: float64\n",
      "sale_price    170.903947\n",
      "dtype: float64\n"
     ]
    }
   ],
   "source": [
    "# MAE of best model\n",
    "print(mean_absolute_error(y_val_va, xg_cv_va.best_estimator_.predict(X_val_va)))\n",
    "\n",
    "# RMSE and MAE of baseline model\n",
    "print(rmse(y_val_va))\n",
    "print(mae(y_val_va))"
   ]
  },
  {
   "cell_type": "markdown",
   "id": "d99c2493",
   "metadata": {},
   "source": [
    "### Best model retraining and testing"
   ]
  },
  {
   "cell_type": "markdown",
   "id": "cbc6abbc",
   "metadata": {},
   "source": [
    "### Single Family"
   ]
  },
  {
   "cell_type": "code",
   "execution_count": 137,
   "id": "5907b8bc",
   "metadata": {},
   "outputs": [
    {
     "name": "stdout",
     "output_type": "stream",
     "text": [
      "[12:54:49] WARNING: C:/Users/Administrator/workspace/xgboost-win64_release_1.5.1/src/learner.cc:576: \n",
      "Parameters: { \"learning_rate_init\" } might not be used.\n",
      "\n",
      "  This could be a false alarm, with some parameters getting used by language bindings but\n",
      "  then being mistakenly passed down to XGBoost core, or some parameter actually being used\n",
      "  but getting flagged wrongly here. Please open an issue if you find any such cases.\n",
      "\n",
      "\n",
      "266.5430907257662\n",
      "95.60268747334048\n"
     ]
    }
   ],
   "source": [
    "# retrain and compute rmse and mae\n",
    "best_sf = xg_cv_sf.best_estimator_.fit(X_train_plus_val_sf, y_train_plus_val_sf)\n",
    "print(mean_squared_error(y_test_sf, best_sf.predict(X_test_sf), squared=False))\n",
    "print(mean_absolute_error(y_test_sf, best_sf.predict(X_test_sf)))"
   ]
  },
  {
   "cell_type": "markdown",
   "id": "39144276",
   "metadata": {},
   "source": [
    "### Multi Family"
   ]
  },
  {
   "cell_type": "code",
   "execution_count": 147,
   "id": "e9aac504",
   "metadata": {},
   "outputs": [
    {
     "name": "stdout",
     "output_type": "stream",
     "text": [
      "[13:10:11] WARNING: C:/Users/Administrator/workspace/xgboost-win64_release_1.5.1/src/learner.cc:576: \n",
      "Parameters: { \"learning_rate_init\" } might not be used.\n",
      "\n",
      "  This could be a false alarm, with some parameters getting used by language bindings but\n",
      "  then being mistakenly passed down to XGBoost core, or some parameter actually being used\n",
      "  but getting flagged wrongly here. Please open an issue if you find any such cases.\n",
      "\n",
      "\n",
      "360.7110129143736\n",
      "169.34082589374367\n"
     ]
    }
   ],
   "source": [
    "# retrain and compute rmse and mae\n",
    "best_mf = xg_cv_mf.best_estimator_.fit(X_train_plus_val_mf, y_train_plus_val_mf)\n",
    "print(mean_squared_error(y_test_mf, best_mf.predict(X_test_mf), squared=False))\n",
    "print(mean_absolute_error(y_test_mf, best_mf.predict(X_test_mf)))"
   ]
  },
  {
   "cell_type": "markdown",
   "id": "db587a18",
   "metadata": {},
   "source": [
    "### Commercial"
   ]
  },
  {
   "cell_type": "code",
   "execution_count": 149,
   "id": "525d9027",
   "metadata": {},
   "outputs": [
    {
     "name": "stdout",
     "output_type": "stream",
     "text": [
      "[13:10:33] WARNING: C:/Users/Administrator/workspace/xgboost-win64_release_1.5.1/src/learner.cc:576: \n",
      "Parameters: { \"learning_rate_init\" } might not be used.\n",
      "\n",
      "  This could be a false alarm, with some parameters getting used by language bindings but\n",
      "  then being mistakenly passed down to XGBoost core, or some parameter actually being used\n",
      "  but getting flagged wrongly here. Please open an issue if you find any such cases.\n",
      "\n",
      "\n",
      "692.8512568351597\n",
      "416.4571727100758\n"
     ]
    }
   ],
   "source": [
    "# retrain and compute rmse and mae\n",
    "best_cm = xg_cv_cm.best_estimator_.fit(X_train_plus_val_cm, y_train_plus_val_cm)\n",
    "print(mean_squared_error(y_test_cm, best_cm.predict(X_test_cm),squared=False))\n",
    "print(mean_absolute_error(y_test_cm, best_cm.predict(X_test_cm)))"
   ]
  },
  {
   "cell_type": "markdown",
   "id": "8aab476b",
   "metadata": {},
   "source": [
    "### Industrial"
   ]
  },
  {
   "cell_type": "code",
   "execution_count": 157,
   "id": "00b79365",
   "metadata": {},
   "outputs": [
    {
     "name": "stdout",
     "output_type": "stream",
     "text": [
      "652.22831022331\n",
      "406.7331979256301\n"
     ]
    }
   ],
   "source": [
    "# retrain and compute rmse and mae\n",
    "best_id = rf_cv_id.best_estimator_.fit(X_train_plus_val_id, y_train_plus_val_id)\n",
    "print(mean_squared_error(y_test_id, best_id.predict(X_test_id),squared=False))\n",
    "print(mean_absolute_error(y_test_id, best_id.predict(X_test_id)))"
   ]
  },
  {
   "cell_type": "markdown",
   "id": "351de374",
   "metadata": {},
   "source": [
    "### Mixed Use"
   ]
  },
  {
   "cell_type": "code",
   "execution_count": 155,
   "id": "7788e06b",
   "metadata": {},
   "outputs": [
    {
     "name": "stdout",
     "output_type": "stream",
     "text": [
      "[13:14:27] WARNING: C:/Users/Administrator/workspace/xgboost-win64_release_1.5.1/src/learner.cc:576: \n",
      "Parameters: { \"learning_rate_init\" } might not be used.\n",
      "\n",
      "  This could be a false alarm, with some parameters getting used by language bindings but\n",
      "  then being mistakenly passed down to XGBoost core, or some parameter actually being used\n",
      "  but getting flagged wrongly here. Please open an issue if you find any such cases.\n",
      "\n",
      "\n",
      "216.0379156856876\n",
      "115.02392093749178\n"
     ]
    }
   ],
   "source": [
    "# retrain and compute rmse and mae\n",
    "best_mx = rf_cv_mx.best_estimator_.fit(X_train_plus_val_mx, y_train_plus_val_mx)\n",
    "print(mean_squared_error(y_test_mx, best_mx.predict(X_test_mx),squared=False))\n",
    "print(mean_absolute_error(y_test_mx, best_mx.predict(X_test_mx)))"
   ]
  },
  {
   "cell_type": "markdown",
   "id": "21b0438b",
   "metadata": {},
   "source": [
    "### Vacant Land"
   ]
  },
  {
   "cell_type": "code",
   "execution_count": 158,
   "id": "646c17b0",
   "metadata": {},
   "outputs": [
    {
     "name": "stdout",
     "output_type": "stream",
     "text": [
      "[13:15:38] WARNING: C:/Users/Administrator/workspace/xgboost-win64_release_1.5.1/src/learner.cc:576: \n",
      "Parameters: { \"learning_rate_init\" } might not be used.\n",
      "\n",
      "  This could be a false alarm, with some parameters getting used by language bindings but\n",
      "  then being mistakenly passed down to XGBoost core, or some parameter actually being used\n",
      "  but getting flagged wrongly here. Please open an issue if you find any such cases.\n",
      "\n",
      "\n",
      "295.2098092945048\n",
      "139.06310158084332\n"
     ]
    }
   ],
   "source": [
    "# retrain and compute rmse and mae\n",
    "best_va = xg_cv_va.best_estimator_.fit(X_train_plus_val_va, y_train_plus_val_va)\n",
    "print(mean_squared_error(y_test_va, best_va.predict(X_test_va),squared=False))\n",
    "print(mean_absolute_error(y_test_va, best_va.predict(X_test_va)))"
   ]
  },
  {
   "cell_type": "code",
   "execution_count": null,
   "id": "50bbdf78",
   "metadata": {},
   "outputs": [],
   "source": []
  }
 ],
 "metadata": {
  "kernelspec": {
   "display_name": "Python 3",
   "language": "python",
   "name": "python3"
  },
  "language_info": {
   "codemirror_mode": {
    "name": "ipython",
    "version": 3
   },
   "file_extension": ".py",
   "mimetype": "text/x-python",
   "name": "python",
   "nbconvert_exporter": "python",
   "pygments_lexer": "ipython3",
   "version": "3.8.8"
  }
 },
 "nbformat": 4,
 "nbformat_minor": 5
}
