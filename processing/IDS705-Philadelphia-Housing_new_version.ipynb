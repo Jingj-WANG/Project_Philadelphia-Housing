{
 "cells": [
  {
   "cell_type": "code",
   "execution_count": 1,
   "id": "ad423701",
   "metadata": {},
   "outputs": [],
   "source": [
    "# import packages\n",
    "import numpy as np\n",
    "import pandas as pd\n",
    "\n",
    "from sklearn.model_selection import train_test_split\n",
    "from sklearn.preprocessing import StandardScaler, OneHotEncoder\n",
    "from sklearn.compose import ColumnTransformer\n",
    "from sklearn.pipeline import Pipeline\n",
    "from sklearn.impute import SimpleImputer\n",
    "\n",
    "import warnings\n",
    "warnings.filterwarnings(\"ignore\")"
   ]
  },
  {
   "cell_type": "markdown",
   "id": "ac7f525f",
   "metadata": {},
   "source": [
    "**Find the original data here:**\\\n",
    "https://opendata-downloads.s3.amazonaws.com/opa_properties_public.csv \\\n",
    "**Find the data codebook here**:\\\n",
    "https://metadata.phila.gov/#home/datasetdetails/5543865f20583086178c4ee5/representationdetails/55d624fdad35c7e854cb21a4/?view_287_page=1"
   ]
  },
  {
   "cell_type": "code",
   "execution_count": 2,
   "id": "ebf13724",
   "metadata": {},
   "outputs": [
    {
     "name": "stdout",
     "output_type": "stream",
     "text": [
      "(581191, 78)\n",
      "Index(['objectid', 'assessment_date', 'basements', 'beginning_point',\n",
      "       'book_and_page', 'building_code', 'building_code_description',\n",
      "       'category_code', 'category_code_description', 'census_tract',\n",
      "       'central_air', 'cross_reference', 'date_exterior_condition', 'depth',\n",
      "       'exempt_building', 'exempt_land', 'exterior_condition', 'fireplaces',\n",
      "       'frontage', 'fuel', 'garage_spaces', 'garage_type',\n",
      "       'general_construction', 'geographic_ward', 'homestead_exemption',\n",
      "       'house_extension', 'house_number', 'interior_condition', 'location',\n",
      "       'mailing_address_1', 'mailing_address_2', 'mailing_care_of',\n",
      "       'mailing_city_state', 'mailing_street', 'mailing_zip', 'market_value',\n",
      "       'market_value_date', 'number_of_bathrooms', 'number_of_bedrooms',\n",
      "       'number_of_rooms', 'number_stories', 'off_street_open',\n",
      "       'other_building', 'owner_1', 'owner_2', 'parcel_number', 'parcel_shape',\n",
      "       'quality_grade', 'recording_date', 'registry_number', 'sale_date',\n",
      "       'sale_price', 'separate_utilities', 'sewer', 'site_type', 'state_code',\n",
      "       'street_code', 'street_designation', 'street_direction', 'street_name',\n",
      "       'suffix', 'taxable_building', 'taxable_land', 'topography',\n",
      "       'total_area', 'total_livable_area', 'type_heater', 'unfinished', 'unit',\n",
      "       'utility', 'view_type', 'year_built', 'year_built_estimate', 'zip_code',\n",
      "       'zoning', 'pin', 'lat', 'lng'],\n",
      "      dtype='object')\n"
     ]
    },
    {
     "data": {
      "text/html": [
       "<div>\n",
       "<style scoped>\n",
       "    .dataframe tbody tr th:only-of-type {\n",
       "        vertical-align: middle;\n",
       "    }\n",
       "\n",
       "    .dataframe tbody tr th {\n",
       "        vertical-align: top;\n",
       "    }\n",
       "\n",
       "    .dataframe thead th {\n",
       "        text-align: right;\n",
       "    }\n",
       "</style>\n",
       "<table border=\"1\" class=\"dataframe\">\n",
       "  <thead>\n",
       "    <tr style=\"text-align: right;\">\n",
       "      <th></th>\n",
       "      <th>objectid</th>\n",
       "      <th>assessment_date</th>\n",
       "      <th>basements</th>\n",
       "      <th>beginning_point</th>\n",
       "      <th>book_and_page</th>\n",
       "      <th>building_code</th>\n",
       "      <th>building_code_description</th>\n",
       "      <th>category_code</th>\n",
       "      <th>category_code_description</th>\n",
       "      <th>census_tract</th>\n",
       "      <th>...</th>\n",
       "      <th>unit</th>\n",
       "      <th>utility</th>\n",
       "      <th>view_type</th>\n",
       "      <th>year_built</th>\n",
       "      <th>year_built_estimate</th>\n",
       "      <th>zip_code</th>\n",
       "      <th>zoning</th>\n",
       "      <th>pin</th>\n",
       "      <th>lat</th>\n",
       "      <th>lng</th>\n",
       "    </tr>\n",
       "  </thead>\n",
       "  <tbody>\n",
       "    <tr>\n",
       "      <th>0</th>\n",
       "      <td>96022750</td>\n",
       "      <td>2022-03-08 14:22:35</td>\n",
       "      <td>NaN</td>\n",
       "      <td>SWC REED ST</td>\n",
       "      <td>53764990.0</td>\n",
       "      <td>SR</td>\n",
       "      <td>VACANT LAND RESIDE &lt; ACRE</td>\n",
       "      <td>14</td>\n",
       "      <td>NaN</td>\n",
       "      <td>32.0</td>\n",
       "      <td>...</td>\n",
       "      <td>NaN</td>\n",
       "      <td>NaN</td>\n",
       "      <td>I</td>\n",
       "      <td>NaN</td>\n",
       "      <td>NaN</td>\n",
       "      <td>19146.0</td>\n",
       "      <td>RSA5</td>\n",
       "      <td>1001681390</td>\n",
       "      <td>-75.185501</td>\n",
       "      <td>39.934553</td>\n",
       "    </tr>\n",
       "    <tr>\n",
       "      <th>1</th>\n",
       "      <td>96022751</td>\n",
       "      <td>2022-03-08 14:16:10</td>\n",
       "      <td>NaN</td>\n",
       "      <td>SWC REED ST</td>\n",
       "      <td>53764990.0</td>\n",
       "      <td>SR</td>\n",
       "      <td>VACANT LAND RESIDE &lt; ACRE</td>\n",
       "      <td>2</td>\n",
       "      <td>Multi Family</td>\n",
       "      <td>32.0</td>\n",
       "      <td>...</td>\n",
       "      <td>NaN</td>\n",
       "      <td>NaN</td>\n",
       "      <td>I</td>\n",
       "      <td>NaN</td>\n",
       "      <td>NaN</td>\n",
       "      <td>19146.0</td>\n",
       "      <td>RSA5</td>\n",
       "      <td>1001681388</td>\n",
       "      <td>-75.185177</td>\n",
       "      <td>39.934722</td>\n",
       "    </tr>\n",
       "    <tr>\n",
       "      <th>2</th>\n",
       "      <td>96022752</td>\n",
       "      <td>2022-03-08 14:14:15</td>\n",
       "      <td>NaN</td>\n",
       "      <td>SWC REED ST</td>\n",
       "      <td>53764990.0</td>\n",
       "      <td>SR</td>\n",
       "      <td>VACANT LAND RESIDE &lt; ACRE</td>\n",
       "      <td>14</td>\n",
       "      <td>NaN</td>\n",
       "      <td>32.0</td>\n",
       "      <td>...</td>\n",
       "      <td>NaN</td>\n",
       "      <td>NaN</td>\n",
       "      <td>I</td>\n",
       "      <td>NaN</td>\n",
       "      <td>NaN</td>\n",
       "      <td>19146.0</td>\n",
       "      <td>RSA5</td>\n",
       "      <td>1001681384</td>\n",
       "      <td>-75.185423</td>\n",
       "      <td>39.934910</td>\n",
       "    </tr>\n",
       "    <tr>\n",
       "      <th>3</th>\n",
       "      <td>96022753</td>\n",
       "      <td>2022-03-08 14:08:24</td>\n",
       "      <td>NaN</td>\n",
       "      <td>SWC REED ST</td>\n",
       "      <td>53764990.0</td>\n",
       "      <td>SR</td>\n",
       "      <td>VACANT LAND RESIDE &lt; ACRE</td>\n",
       "      <td>6</td>\n",
       "      <td>Vacant Land</td>\n",
       "      <td>32.0</td>\n",
       "      <td>...</td>\n",
       "      <td>NaN</td>\n",
       "      <td>NaN</td>\n",
       "      <td>I</td>\n",
       "      <td>NaN</td>\n",
       "      <td>NaN</td>\n",
       "      <td>19146.0</td>\n",
       "      <td>RSA5</td>\n",
       "      <td>1001681383</td>\n",
       "      <td>-75.185423</td>\n",
       "      <td>39.934910</td>\n",
       "    </tr>\n",
       "    <tr>\n",
       "      <th>4</th>\n",
       "      <td>96022754</td>\n",
       "      <td>2022-03-08 14:14:36</td>\n",
       "      <td>NaN</td>\n",
       "      <td>SWC REED ST</td>\n",
       "      <td>53764990.0</td>\n",
       "      <td>SR</td>\n",
       "      <td>VACANT LAND RESIDE &lt; ACRE</td>\n",
       "      <td>6</td>\n",
       "      <td>Vacant Land</td>\n",
       "      <td>32.0</td>\n",
       "      <td>...</td>\n",
       "      <td>NaN</td>\n",
       "      <td>NaN</td>\n",
       "      <td>I</td>\n",
       "      <td>NaN</td>\n",
       "      <td>NaN</td>\n",
       "      <td>19146.0</td>\n",
       "      <td>RSA5</td>\n",
       "      <td>1001681385</td>\n",
       "      <td>-75.185151</td>\n",
       "      <td>39.934839</td>\n",
       "    </tr>\n",
       "  </tbody>\n",
       "</table>\n",
       "<p>5 rows × 78 columns</p>\n",
       "</div>"
      ],
      "text/plain": [
       "   objectid      assessment_date basements beginning_point book_and_page  \\\n",
       "0  96022750  2022-03-08 14:22:35       NaN     SWC REED ST    53764990.0   \n",
       "1  96022751  2022-03-08 14:16:10       NaN     SWC REED ST    53764990.0   \n",
       "2  96022752  2022-03-08 14:14:15       NaN     SWC REED ST    53764990.0   \n",
       "3  96022753  2022-03-08 14:08:24       NaN     SWC REED ST    53764990.0   \n",
       "4  96022754  2022-03-08 14:14:36       NaN     SWC REED ST    53764990.0   \n",
       "\n",
       "  building_code  building_code_description  category_code  \\\n",
       "0         SR     VACANT LAND RESIDE < ACRE             14   \n",
       "1         SR     VACANT LAND RESIDE < ACRE              2   \n",
       "2         SR     VACANT LAND RESIDE < ACRE             14   \n",
       "3         SR     VACANT LAND RESIDE < ACRE              6   \n",
       "4         SR     VACANT LAND RESIDE < ACRE              6   \n",
       "\n",
       "  category_code_description  census_tract  ... unit utility view_type  \\\n",
       "0                       NaN          32.0  ...  NaN     NaN         I   \n",
       "1              Multi Family          32.0  ...  NaN     NaN         I   \n",
       "2                       NaN          32.0  ...  NaN     NaN         I   \n",
       "3               Vacant Land          32.0  ...  NaN     NaN         I   \n",
       "4               Vacant Land          32.0  ...  NaN     NaN         I   \n",
       "\n",
       "   year_built  year_built_estimate  zip_code  zoning         pin        lat  \\\n",
       "0         NaN                  NaN   19146.0    RSA5  1001681390 -75.185501   \n",
       "1         NaN                  NaN   19146.0    RSA5  1001681388 -75.185177   \n",
       "2         NaN                  NaN   19146.0    RSA5  1001681384 -75.185423   \n",
       "3         NaN                  NaN   19146.0    RSA5  1001681383 -75.185423   \n",
       "4         NaN                  NaN   19146.0    RSA5  1001681385 -75.185151   \n",
       "\n",
       "         lng  \n",
       "0  39.934553  \n",
       "1  39.934722  \n",
       "2  39.934910  \n",
       "3  39.934910  \n",
       "4  39.934839  \n",
       "\n",
       "[5 rows x 78 columns]"
      ]
     },
     "execution_count": 2,
     "metadata": {},
     "output_type": "execute_result"
    }
   ],
   "source": [
    "# read data\n",
    "data = pd.read_csv('opa_properties_public.csv', header=0)\n",
    "print(data.shape)\n",
    "print(data.columns)\n",
    "data.head()"
   ]
  },
  {
   "cell_type": "markdown",
   "id": "aa7af444",
   "metadata": {},
   "source": [
    "### Step 1: select related columns "
   ]
  },
  {
   "cell_type": "code",
   "execution_count": 3,
   "id": "6fd8771f",
   "metadata": {},
   "outputs": [
    {
     "data": {
      "text/plain": [
       "50"
      ]
     },
     "execution_count": 3,
     "metadata": {},
     "output_type": "execute_result"
    }
   ],
   "source": [
    "# place columns of interest into a list\n",
    "cols_interest = ['assessment_date', 'basements', 'building_code_description', 'category_code_description','census_tract',\n",
    "                 'central_air', 'depth', 'exempt_building', 'exempt_land', 'exterior_condition', \n",
    "                 'fireplaces', 'frontage', 'fuel', 'garage_spaces', 'garage_type', \n",
    "                 'geographic_ward', 'house_extension', 'house_number', 'interior_condition', 'market_value', \n",
    "                 'market_value_date', 'number_of_bathrooms', 'number_of_bedrooms', 'number_of_rooms', 'number_stories', \n",
    "                 'other_building', 'parcel_number', 'parcel_shape','quality_grade', 'recording_date', \n",
    "                 'sale_date', 'sale_price', 'separate_utilities', 'sewer', 'site_type', \n",
    "                 'street_designation', 'street_direction', 'taxable_building', 'taxable_land', 'topography', \n",
    "                 'total_area', 'total_livable_area', 'type_heater', 'unfinished', 'unit', \n",
    "                 'utility', 'view_type', 'year_built', 'year_built_estimate', 'zip_code']\n",
    "len(cols_interest)"
   ]
  },
  {
   "cell_type": "code",
   "execution_count": 4,
   "id": "46956e80",
   "metadata": {},
   "outputs": [
    {
     "data": {
      "text/plain": [
       "assessment_date              0.940806\n",
       "basements                    0.437612\n",
       "building_code_description    0.000022\n",
       "category_code_description    0.000241\n",
       "census_tract                 0.000071\n",
       "central_air                  0.505662\n",
       "depth                        0.001173\n",
       "exempt_building              0.000372\n",
       "exempt_land                  0.000372\n",
       "exterior_condition           0.047583\n",
       "fireplaces                   0.007855\n",
       "frontage                     0.001182\n",
       "fuel                         0.973475\n",
       "garage_spaces                0.008280\n",
       "garage_type                  0.137328\n",
       "geographic_ward              0.000071\n",
       "house_extension              0.954120\n",
       "house_number                 0.000000\n",
       "interior_condition           0.048943\n",
       "market_value                 0.000372\n",
       "market_value_date            1.000000\n",
       "number_of_bathrooms          0.007688\n",
       "number_of_bedrooms           0.007042\n",
       "number_of_rooms              0.057768\n",
       "number_stories               0.007030\n",
       "other_building               0.997751\n",
       "parcel_number                0.000000\n",
       "parcel_shape                 0.010033\n",
       "quality_grade                0.902956\n",
       "recording_date               0.000249\n",
       "sale_date                    0.000002\n",
       "sale_price                   0.000019\n",
       "separate_utilities           0.955760\n",
       "sewer                        0.984511\n",
       "site_type                    0.490429\n",
       "street_designation           0.000009\n",
       "street_direction             0.610348\n",
       "taxable_building             0.000373\n",
       "taxable_land                 0.000372\n",
       "topography                   0.066901\n",
       "total_area                   0.000773\n",
       "total_livable_area           0.004245\n",
       "type_heater                  0.491978\n",
       "unfinished                   0.995353\n",
       "unit                         0.932843\n",
       "utility                      0.984358\n",
       "view_type                    0.036126\n",
       "year_built                   0.004252\n",
       "year_built_estimate          0.245611\n",
       "zip_code                     0.000067\n",
       "dtype: float64"
      ]
     },
     "execution_count": 4,
     "metadata": {},
     "output_type": "execute_result"
    }
   ],
   "source": [
    "# read in data using columns of interest \n",
    "data_step1 = data[cols_interest]\n",
    "# compute percentage of missing values for each column\n",
    "data_step1.isnull().sum()/len(data_step1)"
   ]
  },
  {
   "cell_type": "markdown",
   "id": "de86cb92",
   "metadata": {},
   "source": [
    "### Step 2: drop columns with more than 90% missing values "
   ]
  },
  {
   "cell_type": "code",
   "execution_count": 5,
   "id": "12643e09",
   "metadata": {},
   "outputs": [
    {
     "name": "stdout",
     "output_type": "stream",
     "text": [
      "39\n",
      "Index(['basements', 'building_code_description', 'category_code_description',\n",
      "       'census_tract', 'central_air', 'depth', 'exempt_building',\n",
      "       'exempt_land', 'exterior_condition', 'fireplaces', 'frontage',\n",
      "       'garage_spaces', 'garage_type', 'geographic_ward', 'house_number',\n",
      "       'interior_condition', 'market_value', 'number_of_bathrooms',\n",
      "       'number_of_bedrooms', 'number_of_rooms', 'number_stories',\n",
      "       'parcel_number', 'parcel_shape', 'recording_date', 'sale_date',\n",
      "       'sale_price', 'site_type', 'street_designation', 'street_direction',\n",
      "       'taxable_building', 'taxable_land', 'topography', 'total_area',\n",
      "       'total_livable_area', 'type_heater', 'view_type', 'year_built',\n",
      "       'year_built_estimate', 'zip_code'],\n",
      "      dtype='object')\n",
      "<class 'pandas.core.frame.DataFrame'>\n",
      "RangeIndex: 581191 entries, 0 to 581190\n",
      "Data columns (total 39 columns):\n",
      " #   Column                     Non-Null Count   Dtype  \n",
      "---  ------                     --------------   -----  \n",
      " 0   basements                  326855 non-null  object \n",
      " 1   building_code_description  581178 non-null  object \n",
      " 2   category_code_description  581051 non-null  object \n",
      " 3   census_tract               581150 non-null  float64\n",
      " 4   central_air                287305 non-null  object \n",
      " 5   depth                      580509 non-null  float64\n",
      " 6   exempt_building            580975 non-null  float64\n",
      " 7   exempt_land                580975 non-null  float64\n",
      " 8   exterior_condition         553536 non-null  float64\n",
      " 9   fireplaces                 576626 non-null  float64\n",
      " 10  frontage                   580504 non-null  float64\n",
      " 11  garage_spaces              576379 non-null  float64\n",
      " 12  garage_type                501377 non-null  object \n",
      " 13  geographic_ward            581150 non-null  float64\n",
      " 14  house_number               581191 non-null  int64  \n",
      " 15  interior_condition         552746 non-null  float64\n",
      " 16  market_value               580975 non-null  float64\n",
      " 17  number_of_bathrooms        576723 non-null  float64\n",
      " 18  number_of_bedrooms         577098 non-null  float64\n",
      " 19  number_of_rooms            547617 non-null  float64\n",
      " 20  number_stories             577105 non-null  float64\n",
      " 21  parcel_number              581191 non-null  int64  \n",
      " 22  parcel_shape               575360 non-null  object \n",
      " 23  recording_date             581046 non-null  object \n",
      " 24  sale_date                  581190 non-null  object \n",
      " 25  sale_price                 581180 non-null  float64\n",
      " 26  site_type                  296158 non-null  object \n",
      " 27  street_designation         581186 non-null  object \n",
      " 28  street_direction           226462 non-null  object \n",
      " 29  taxable_building           580974 non-null  float64\n",
      " 30  taxable_land               580975 non-null  float64\n",
      " 31  topography                 542309 non-null  object \n",
      " 32  total_area                 580742 non-null  float64\n",
      " 33  total_livable_area         578724 non-null  float64\n",
      " 34  type_heater                295258 non-null  object \n",
      " 35  view_type                  560195 non-null  object \n",
      " 36  year_built                 578720 non-null  object \n",
      " 37  year_built_estimate        438444 non-null  object \n",
      " 38  zip_code                   581152 non-null  float64\n",
      "dtypes: float64(21), int64(2), object(16)\n",
      "memory usage: 172.9+ MB\n",
      "None\n"
     ]
    }
   ],
   "source": [
    "# drop columns with over 90% missing values\n",
    "data_step2 = data_step1.drop(['assessment_date', 'fuel', 'house_extension', 'market_value_date', 'other_building', \n",
    "                              'quality_grade', 'separate_utilities', 'sewer', 'unfinished', 'unit', \n",
    "                              'utility'], axis = 1)\n",
    "print(len(data_step2.columns))\n",
    "print(data_step2.columns)\n",
    "print(data_step2.info())"
   ]
  },
  {
   "cell_type": "markdown",
   "id": "0c455aa8",
   "metadata": {},
   "source": [
    "### Step 3: transform  categorical data"
   ]
  },
  {
   "cell_type": "code",
   "execution_count": 6,
   "id": "e1f2bd9b",
   "metadata": {},
   "outputs": [
    {
     "name": "stdout",
     "output_type": "stream",
     "text": [
      "NaN        254336\n",
      "full       169102\n",
      "partial    146574\n",
      "None        11179\n",
      "Name: basements, dtype: int64\n"
     ]
    }
   ],
   "source": [
    "# transform categorical data \n",
    "data_tf = data_step2.copy()\n",
    "\n",
    "# feature 0: basements\n",
    "data_tf['basements'] = data_step2['basements'].replace({'0':'None','1':'full','2':'full','3':'full','4':'full',\n",
    "                                                        'A':'full', 'B': 'full','C': 'full','D': 'full','E':'partial',\n",
    "                                                        'F':'partial','G': 'partial','H': 'partial','I':'full',\n",
    "                                                        'J':'partial'})\n",
    "print(data_tf.basements.value_counts(dropna=False))"
   ]
  },
  {
   "cell_type": "code",
   "execution_count": 7,
   "id": "f46775d6",
   "metadata": {},
   "outputs": [
    {
     "name": "stdout",
     "output_type": "stream",
     "text": [
      "MASON     512256\n",
      "VACANT     37054\n",
      "STONE      26141\n",
      "METAL       5727\n",
      "NaN           13\n",
      "Name: building_code_description, dtype: int64\n"
     ]
    }
   ],
   "source": [
    "# feature 1: building_code_description\n",
    "m = ['MA','ST','ME','VA']\n",
    "n = ['MASON','STONE','METAL','VACANT'] \n",
    "for i in range(len(m)):\n",
    "    data_tf.loc[data_tf['building_code_description'].str.contains(m[i],na=False),'building_code_description'] = n[i]\n",
    "data_tf.loc[(~data_tf.building_code_description.isin(n))&(data_tf.building_code_description.notnull()),\n",
    "            'building_code_description'] = 'MASON'\n",
    "print(data_tf.building_code_description.value_counts(dropna=False))"
   ]
  },
  {
   "cell_type": "code",
   "execution_count": 8,
   "id": "c95c8876",
   "metadata": {},
   "outputs": [
    {
     "name": "stdout",
     "output_type": "stream",
     "text": [
      "Single Family    462056\n",
      "Vacant Land       43845\n",
      "Multi Family      42484\n",
      "Mixed Use         14347\n",
      "Commercial        14004\n",
      "Industrial         4315\n",
      "NaN                 140\n",
      "Name: category_code_description, dtype: int64\n"
     ]
    }
   ],
   "source": [
    "# feature 2: category_code_description\n",
    "print(data_tf.category_code_description.value_counts(dropna=False))"
   ]
  },
  {
   "cell_type": "code",
   "execution_count": 9,
   "id": "c89f09bd",
   "metadata": {},
   "outputs": [],
   "source": [
    "# feature 3: census_tract, can only run once\n",
    "data_tf['census_tract'].fillna(0, inplace=True)\n",
    "data_tf['census_tract'] = data_tf['census_tract'].astype('int')\n",
    "data_tf.loc[(data_tf['census_tract']>0)&(data_tf['census_tract']<=300), 'census_tract'] = 1\n",
    "data_tf.loc[(data_tf['census_tract']>=301)&(data_tf['census_tract']<=600),'census_tract'] = 2\n",
    "data_tf.loc[data_tf['census_tract']>=601, 'census_tract'] = 3\n",
    "data_tf['census_tract'] = data_tf['census_tract'].replace({0:np.NaN,1:'A',2:'B',3:'C'})"
   ]
  },
  {
   "cell_type": "code",
   "execution_count": 10,
   "id": "a7ee4f4f",
   "metadata": {},
   "outputs": [
    {
     "name": "stdout",
     "output_type": "stream",
     "text": [
      "A      433021\n",
      "B      147212\n",
      "C         917\n",
      "NaN        41\n",
      "Name: census_tract, dtype: int64\n"
     ]
    }
   ],
   "source": [
    "print(data_tf.census_tract.value_counts(dropna=False))"
   ]
  },
  {
   "cell_type": "code",
   "execution_count": 11,
   "id": "c99d8c18",
   "metadata": {},
   "outputs": [
    {
     "name": "stdout",
     "output_type": "stream",
     "text": [
      "NaN    293886\n",
      "N      174067\n",
      "Y      113238\n",
      "Name: central_air, dtype: int64\n"
     ]
    }
   ],
   "source": [
    "# feature 4: central_air\n",
    "data_tf['central_air'] = data_step2['central_air'].replace({'0': 'N', '1': 'Y','Y': 'Y', 'N': 'N'})\n",
    "print(data_tf.central_air.value_counts(dropna=False))"
   ]
  },
  {
   "cell_type": "code",
   "execution_count": 12,
   "id": "979c8d64",
   "metadata": {},
   "outputs": [
    {
     "name": "stdout",
     "output_type": "stream",
     "text": [
      "rehabilitated    450108\n",
      "above average     43662\n",
      "NaN               27655\n",
      "none              19411\n",
      "average           17679\n",
      "new               13770\n",
      "vacant             5702\n",
      "below average      3204\n",
      "Name: exterior_condition, dtype: int64\n"
     ]
    }
   ],
   "source": [
    "# feature 8: exterior_condition\n",
    "data_tf['exterior_condition'] = data_step2['exterior_condition'].replace({0:'none',1:'new',2:'rehabilitated',\n",
    "                                                                          3:'above average',4:'rehabilitated',5:'average', \n",
    "                                                                          6: 'below average',7:'vacant',8:'sealed',\n",
    "                                                                          9:'compromised'})\n",
    "print(data_tf.exterior_condition.value_counts(dropna=False))"
   ]
  },
  {
   "cell_type": "code",
   "execution_count": 13,
   "id": "d8b5f8e7",
   "metadata": {},
   "outputs": [
    {
     "name": "stdout",
     "output_type": "stream",
     "text": [
      "none        305799\n",
      "attached    176718\n",
      "NaN          79814\n",
      "detached     18860\n",
      "Name: garage_type, dtype: int64\n"
     ]
    }
   ],
   "source": [
    "# feature 12: garage_type\n",
    "data_tf['garage_type'] = data_step2['garage_type'].replace({'A':'attached', 'B':'attached','C':'detached',\n",
    "                                                            'F':'attached', 'S':'attached', 'T':'detached',\n",
    "                                                            '0':'none', '0.0':'none', 0.0:'none',\n",
    "                                                            '1':'attached', '1.0':'attached', 1.0:'attached',\n",
    "                                                            '2':'attached', '2.0':'attached', 2.0:'attached',\n",
    "                                                            '3':'attached', '3.0':'attached', 3.0:'attached'})\n",
    "print(data_tf.garage_type.value_counts(dropna=False))"
   ]
  },
  {
   "cell_type": "code",
   "execution_count": 14,
   "id": "a5b17638",
   "metadata": {},
   "outputs": [],
   "source": [
    "# feature 13: geographic_ward, can only run once\n",
    "data_tf['geographic_ward'].fillna(0, inplace=True)\n",
    "data_tf['geographic_ward'] = data_tf['geographic_ward'].astype('int')\n",
    "data_tf.loc[(data_tf['geographic_ward']>0)&(data_tf['geographic_ward']<=30), 'geographic_ward'] = 1\n",
    "data_tf.loc[(data_tf['geographic_ward']>=31)&(data_tf['geographic_ward']<=50),'geographic_ward'] = 2\n",
    "data_tf.loc[data_tf['geographic_ward']>=51, 'geographic_ward'] = 3\n",
    "data_tf['geographic_ward'] = data_tf['geographic_ward'].replace({0:np.NaN,1:'A',2:'B',3:'C'})"
   ]
  },
  {
   "cell_type": "code",
   "execution_count": 15,
   "id": "a4a5b49a",
   "metadata": {},
   "outputs": [
    {
     "data": {
      "text/plain": [
       "A      241479\n",
       "B      193817\n",
       "C      145854\n",
       "NaN        41\n",
       "Name: geographic_ward, dtype: int64"
      ]
     },
     "execution_count": 15,
     "metadata": {},
     "output_type": "execute_result"
    }
   ],
   "source": [
    "data_tf.geographic_ward.value_counts(dropna=False)"
   ]
  },
  {
   "cell_type": "code",
   "execution_count": 16,
   "id": "5e52b582",
   "metadata": {},
   "outputs": [],
   "source": [
    "# feature 14: house_number\n",
    "data_tf['house_number'] = np.where(data_step2['house_number']%2==0, 'South or West', 'North or East')"
   ]
  },
  {
   "cell_type": "code",
   "execution_count": 17,
   "id": "8b8894e5",
   "metadata": {},
   "outputs": [
    {
     "data": {
      "text/plain": [
       "South or West    293063\n",
       "North or East    288128\n",
       "Name: house_number, dtype: int64"
      ]
     },
     "execution_count": 17,
     "metadata": {},
     "output_type": "execute_result"
    }
   ],
   "source": [
    "data_tf.house_number.value_counts(dropna=False)"
   ]
  },
  {
   "cell_type": "code",
   "execution_count": 18,
   "id": "1d7563df",
   "metadata": {},
   "outputs": [
    {
     "name": "stdout",
     "output_type": "stream",
     "text": [
      "rehabilitated    450108\n",
      "above average     43662\n",
      "NaN               27655\n",
      "none              19411\n",
      "average           17679\n",
      "new               13770\n",
      "vacant             5702\n",
      "below average      3204\n",
      "Name: exterior_condition, dtype: int64\n"
     ]
    }
   ],
   "source": [
    "# feature 15: interior_condition\n",
    "data_tf['interior_condition'] = data_step2['interior_condition'].replace({0:'none',1:'new',2:'new',\n",
    "                                                                          3:'above average',4:'average', \n",
    "                                                                          5:'below average',6:'vacant',7:'sealed'})\n",
    "print(data_tf.exterior_condition.value_counts(dropna=False))"
   ]
  },
  {
   "cell_type": "code",
   "execution_count": 19,
   "id": "fc8db604",
   "metadata": {},
   "outputs": [],
   "source": [
    "# feature 21: parcel_number, can run only once\n",
    "data_tf['parcel_number'].fillna(0, inplace=True)\n",
    "data_tf['parcel_number'] = data_tf['parcel_number'].astype('int')\n",
    "data_tf.loc[(data_tf['parcel_number']>0)&(data_tf['parcel_number']<=4e8),'parcel_number'] = 1\n",
    "data_tf.loc[(data_tf['parcel_number']>=4e8+1)&(data_tf['parcel_number']<=7e8),'parcel_number'] = 2\n",
    "data_tf.loc[data_tf['parcel_number']>=7e8+1,'parcel_number'] = 3\n",
    "data_tf['parcel_number'] = data_tf['parcel_number'].replace({0:np.NaN,1:'A',2:'B',3:'C'})"
   ]
  },
  {
   "cell_type": "code",
   "execution_count": 20,
   "id": "17f15ae9",
   "metadata": {},
   "outputs": [
    {
     "name": "stdout",
     "output_type": "stream",
     "text": [
      "A    279344\n",
      "B    220468\n",
      "C     81379\n",
      "Name: parcel_number, dtype: int64\n"
     ]
    }
   ],
   "source": [
    "print(data_tf.parcel_number.value_counts(dropna=False))"
   ]
  },
  {
   "cell_type": "code",
   "execution_count": 21,
   "id": "9976eaf9",
   "metadata": {},
   "outputs": [
    {
     "name": "stdout",
     "output_type": "stream",
     "text": [
      "E      528235\n",
      "A       38513\n",
      "NaN      6590\n",
      "B        6309\n",
      "C        1478\n",
      "D          66\n",
      "Name: parcel_shape, dtype: int64\n"
     ]
    }
   ],
   "source": [
    "# feature 22: parcel_shape\n",
    "data_tf['parcel_shape'] = data_step2['parcel_shape'].replace({' ':np.NaN})\n",
    "print(data_tf.parcel_shape.value_counts(dropna=False))"
   ]
  },
  {
   "cell_type": "code",
   "execution_count": 22,
   "id": "f3de97c5",
   "metadata": {},
   "outputs": [
    {
     "data": {
      "text/plain": [
       "NaN    285033\n",
       "A      257318\n",
       "B       37545\n",
       "D         638\n",
       "C         390\n",
       "E         204\n",
       "G          33\n",
       "F          30\n",
       "Name: site_type, dtype: int64"
      ]
     },
     "execution_count": 22,
     "metadata": {},
     "output_type": "execute_result"
    }
   ],
   "source": [
    "# feature 26: site_type\n",
    "data_tf['site_type'].value_counts(dropna=False)"
   ]
  },
  {
   "cell_type": "code",
   "execution_count": 23,
   "id": "2ad06411",
   "metadata": {},
   "outputs": [
    {
     "data": {
      "text/plain": [
       "ST      426727\n",
       "AVE      91130\n",
       "RD       31076\n",
       "LA        8201\n",
       "DR        5920\n",
       "PL        5719\n",
       "BLV       2765\n",
       "SQ        2417\n",
       "TER       1614\n",
       "WAY       1353\n",
       "CT        1204\n",
       "CIR        805\n",
       "LN         609\n",
       "PK         583\n",
       "PKY        377\n",
       "PLZ        168\n",
       "BLVD       145\n",
       "MEW         79\n",
       "ALY         74\n",
       "WLK         67\n",
       "ML          47\n",
       "PIKE        31\n",
       "HTS         24\n",
       "PTH         12\n",
       "PKWY        10\n",
       "ROW          9\n",
       "MEWS         7\n",
       "WALK         6\n",
       "NaN          5\n",
       "PATH         3\n",
       "MALL         3\n",
       "EXP          1\n",
       "Name: street_designation, dtype: int64"
      ]
     },
     "execution_count": 23,
     "metadata": {},
     "output_type": "execute_result"
    }
   ],
   "source": [
    "# feaure 27: street_designation\n",
    "data_tf['street_designation'].value_counts(dropna=False)"
   ]
  },
  {
   "cell_type": "code",
   "execution_count": 24,
   "id": "c10dcc9e",
   "metadata": {},
   "outputs": [
    {
     "data": {
      "text/plain": [
       "NaN    354729\n",
       "N       96431\n",
       "S       58525\n",
       "W       37234\n",
       "E       34272\n",
       "Name: street_direction, dtype: int64"
      ]
     },
     "execution_count": 24,
     "metadata": {},
     "output_type": "execute_result"
    }
   ],
   "source": [
    "# feature 28: street_direction   \n",
    "data_tf['street_direction'].value_counts(dropna=False)"
   ]
  },
  {
   "cell_type": "code",
   "execution_count": 25,
   "id": "396b15f1",
   "metadata": {},
   "outputs": [
    {
     "data": {
      "text/plain": [
       "F       506514\n",
       "NaN      38882\n",
       "A        30412\n",
       "E         4816\n",
       "B          256\n",
       "C          174\n",
       "D          114\n",
       "None        23\n",
       "Name: topography, dtype: int64"
      ]
     },
     "execution_count": 25,
     "metadata": {},
     "output_type": "execute_result"
    }
   ],
   "source": [
    "# feature 31: topography      \n",
    "data_tf['topography'] = data_step2['topography'].replace({'0':'None'})\n",
    "data_tf['topography'].value_counts(dropna=False)"
   ]
  },
  {
   "cell_type": "code",
   "execution_count": 26,
   "id": "9d51e96c",
   "metadata": {},
   "outputs": [
    {
     "data": {
      "text/plain": [
       "NaN     285933\n",
       "H       125267\n",
       "A        97967\n",
       "B        60880\n",
       "G         4916\n",
       "C         2979\n",
       "None      1907\n",
       "E          755\n",
       "D          587\n",
       "Name: type_heater, dtype: int64"
      ]
     },
     "execution_count": 26,
     "metadata": {},
     "output_type": "execute_result"
    }
   ],
   "source": [
    "# feature 34: type_heater  \n",
    "data_tf['type_heater'] = data_step2['type_heater'].replace({'0':'None'})\n",
    "data_tf['type_heater'].value_counts(dropna=False)"
   ]
  },
  {
   "cell_type": "code",
   "execution_count": 27,
   "id": "4be87fd7",
   "metadata": {},
   "outputs": [
    {
     "data": {
      "text/plain": [
       "I       521733\n",
       "NaN      20996\n",
       "A        15277\n",
       "C         7613\n",
       "None      4965\n",
       "D         4018\n",
       "H         2738\n",
       "E         2081\n",
       "B         1770\n",
       "Name: view_type, dtype: int64"
      ]
     },
     "execution_count": 27,
     "metadata": {},
     "output_type": "execute_result"
    }
   ],
   "source": [
    "# feature 35: view_type \n",
    "data_tf['view_type'] = data_step2['view_type'].replace({'0':'None'})\n",
    "data_tf['view_type'].value_counts(dropna=False)"
   ]
  },
  {
   "cell_type": "code",
   "execution_count": 28,
   "id": "ff7156cc",
   "metadata": {},
   "outputs": [
    {
     "data": {
      "text/plain": [
       "Y      438150\n",
       "NaN    142747\n",
       "N         294\n",
       "Name: year_built_estimate, dtype: int64"
      ]
     },
     "execution_count": 28,
     "metadata": {},
     "output_type": "execute_result"
    }
   ],
   "source": [
    "# feature 37: year_built_estimate\n",
    "data_tf['year_built_estimate'] = data_step2['year_built_estimate'].replace({'0':'N'})\n",
    "data_tf['year_built_estimate'].value_counts(dropna=False)"
   ]
  },
  {
   "cell_type": "code",
   "execution_count": 29,
   "id": "7396a12c",
   "metadata": {},
   "outputs": [],
   "source": [
    "# feature 38: zip_code, can only run once\n",
    "data_tf['zip_code'].fillna(0, inplace=True)\n",
    "data_tf['zip_code'] = data_tf['zip_code'].astype('int')\n",
    "data_tf.loc[(data_tf['zip_code']>0)&(data_tf['zip_code']<=19120),'zip_code'] = 1\n",
    "data_tf.loc[(data_tf['zip_code']>=19121)&(data_tf['zip_code']<=19140),'zip_code'] = 2\n",
    "data_tf.loc[data_tf['zip_code']>=19141,'zip_code'] = 3\n",
    "data_tf['zip_code'] = data_tf['zip_code'].replace({0:np.NaN,1:'A',2:'B',3:'C'})"
   ]
  },
  {
   "cell_type": "code",
   "execution_count": 30,
   "id": "6ec2637d",
   "metadata": {
    "scrolled": true
   },
   "outputs": [
    {
     "data": {
      "text/plain": [
       "B      259902\n",
       "C      202936\n",
       "A      118314\n",
       "NaN        39\n",
       "Name: zip_code, dtype: int64"
      ]
     },
     "execution_count": 30,
     "metadata": {},
     "output_type": "execute_result"
    }
   ],
   "source": [
    "data_tf['zip_code'].value_counts(dropna=False)"
   ]
  },
  {
   "cell_type": "markdown",
   "id": "1a711e97",
   "metadata": {},
   "source": [
    "### Step 4: transform time-related data"
   ]
  },
  {
   "cell_type": "code",
   "execution_count": 31,
   "id": "8a7c6f9c",
   "metadata": {},
   "outputs": [],
   "source": [
    "# feature 23: recording_date, can only run once\n",
    "data_tf['recording_date'] = pd.to_datetime(data_tf['recording_date'], errors='coerce')\n",
    "data_tf['recording_date'] = data_tf['recording_date'] - data_tf['recording_date'].min()\n",
    "data_tf['recording_date'].fillna(pd.Timedelta(seconds=0), inplace=True)\n",
    "data_tf['recording_date'] = data_tf['recording_date'].astype('str').apply(lambda x:x[:-5]).astype('int64')\n",
    "data_tf.loc[data_tf['recording_date']==0,'recording_date'] = np.NaN"
   ]
  },
  {
   "cell_type": "code",
   "execution_count": 32,
   "id": "40df715e",
   "metadata": {},
   "outputs": [],
   "source": [
    "# feature 24: sale_date, can only run once\n",
    "data_tf['sale_date'] = data_tf['sale_date'].replace({'2200-01-17 00:00:00':'2022-01-17 00:00:00'})\n",
    "data_tf['sale_date'] = pd.to_datetime(data_tf['sale_date'], errors='coerce')\n",
    "data_tf['sale_date'] = data_tf['sale_date'] - data_tf['sale_date'].min()\n",
    "data_tf['sale_date'].fillna(pd.Timedelta(seconds=0), inplace=True)\n",
    "data_tf['sale_date'] = data_tf['sale_date'].astype('str').apply(lambda x:x[:-5]).astype('int64')\n",
    "data_tf.loc[data_tf['sale_date']==0,'sale_date'] = np.NaN"
   ]
  },
  {
   "cell_type": "code",
   "execution_count": 33,
   "id": "95f0ee70",
   "metadata": {},
   "outputs": [],
   "source": [
    "# feature 36: year_built  \n",
    "data_tf['year_built'] = data_tf['year_built'].replace({'196Y':'1965',0:np.NaN})\n",
    "data_tf['year_built'] = 2022 - data_tf['year_built'].astype(float)"
   ]
  },
  {
   "cell_type": "code",
   "execution_count": 34,
   "id": "ae28e522",
   "metadata": {},
   "outputs": [
    {
     "name": "stdout",
     "output_type": "stream",
     "text": [
      "basements                     object\n",
      "building_code_description     object\n",
      "category_code_description     object\n",
      "census_tract                  object\n",
      "central_air                   object\n",
      "depth                        float64\n",
      "exempt_building              float64\n",
      "exempt_land                  float64\n",
      "exterior_condition            object\n",
      "fireplaces                   float64\n",
      "frontage                     float64\n",
      "garage_spaces                float64\n",
      "garage_type                   object\n",
      "geographic_ward               object\n",
      "house_number                  object\n",
      "interior_condition            object\n",
      "market_value                 float64\n",
      "number_of_bathrooms          float64\n",
      "number_of_bedrooms           float64\n",
      "number_of_rooms              float64\n",
      "number_stories               float64\n",
      "parcel_number                 object\n",
      "parcel_shape                  object\n",
      "recording_date               float64\n",
      "sale_date                    float64\n",
      "sale_price                   float64\n",
      "site_type                     object\n",
      "street_designation            object\n",
      "street_direction              object\n",
      "taxable_building             float64\n",
      "taxable_land                 float64\n",
      "topography                    object\n",
      "total_area                   float64\n",
      "total_livable_area           float64\n",
      "type_heater                   object\n",
      "view_type                     object\n",
      "year_built                   float64\n",
      "year_built_estimate           object\n",
      "zip_code                      object\n",
      "dtype: object\n"
     ]
    },
    {
     "data": {
      "text/html": [
       "<div>\n",
       "<style scoped>\n",
       "    .dataframe tbody tr th:only-of-type {\n",
       "        vertical-align: middle;\n",
       "    }\n",
       "\n",
       "    .dataframe tbody tr th {\n",
       "        vertical-align: top;\n",
       "    }\n",
       "\n",
       "    .dataframe thead th {\n",
       "        text-align: right;\n",
       "    }\n",
       "</style>\n",
       "<table border=\"1\" class=\"dataframe\">\n",
       "  <thead>\n",
       "    <tr style=\"text-align: right;\">\n",
       "      <th></th>\n",
       "      <th>basements</th>\n",
       "      <th>building_code_description</th>\n",
       "      <th>category_code_description</th>\n",
       "      <th>census_tract</th>\n",
       "      <th>central_air</th>\n",
       "      <th>depth</th>\n",
       "      <th>exempt_building</th>\n",
       "      <th>exempt_land</th>\n",
       "      <th>exterior_condition</th>\n",
       "      <th>fireplaces</th>\n",
       "      <th>...</th>\n",
       "      <th>taxable_building</th>\n",
       "      <th>taxable_land</th>\n",
       "      <th>topography</th>\n",
       "      <th>total_area</th>\n",
       "      <th>total_livable_area</th>\n",
       "      <th>type_heater</th>\n",
       "      <th>view_type</th>\n",
       "      <th>year_built</th>\n",
       "      <th>year_built_estimate</th>\n",
       "      <th>zip_code</th>\n",
       "    </tr>\n",
       "  </thead>\n",
       "  <tbody>\n",
       "    <tr>\n",
       "      <th>0</th>\n",
       "      <td>NaN</td>\n",
       "      <td>VACANT</td>\n",
       "      <td>NaN</td>\n",
       "      <td>A</td>\n",
       "      <td>NaN</td>\n",
       "      <td>NaN</td>\n",
       "      <td>100.0</td>\n",
       "      <td>0.0</td>\n",
       "      <td>NaN</td>\n",
       "      <td>NaN</td>\n",
       "      <td>...</td>\n",
       "      <td>0.0</td>\n",
       "      <td>0.0</td>\n",
       "      <td>F</td>\n",
       "      <td>NaN</td>\n",
       "      <td>NaN</td>\n",
       "      <td>NaN</td>\n",
       "      <td>I</td>\n",
       "      <td>NaN</td>\n",
       "      <td>NaN</td>\n",
       "      <td>C</td>\n",
       "    </tr>\n",
       "    <tr>\n",
       "      <th>1</th>\n",
       "      <td>NaN</td>\n",
       "      <td>VACANT</td>\n",
       "      <td>Multi Family</td>\n",
       "      <td>A</td>\n",
       "      <td>NaN</td>\n",
       "      <td>NaN</td>\n",
       "      <td>29400.0</td>\n",
       "      <td>0.0</td>\n",
       "      <td>NaN</td>\n",
       "      <td>NaN</td>\n",
       "      <td>...</td>\n",
       "      <td>0.0</td>\n",
       "      <td>0.0</td>\n",
       "      <td>F</td>\n",
       "      <td>NaN</td>\n",
       "      <td>NaN</td>\n",
       "      <td>NaN</td>\n",
       "      <td>I</td>\n",
       "      <td>NaN</td>\n",
       "      <td>NaN</td>\n",
       "      <td>C</td>\n",
       "    </tr>\n",
       "    <tr>\n",
       "      <th>2</th>\n",
       "      <td>NaN</td>\n",
       "      <td>VACANT</td>\n",
       "      <td>NaN</td>\n",
       "      <td>A</td>\n",
       "      <td>NaN</td>\n",
       "      <td>NaN</td>\n",
       "      <td>14200.0</td>\n",
       "      <td>0.0</td>\n",
       "      <td>NaN</td>\n",
       "      <td>NaN</td>\n",
       "      <td>...</td>\n",
       "      <td>0.0</td>\n",
       "      <td>0.0</td>\n",
       "      <td>F</td>\n",
       "      <td>NaN</td>\n",
       "      <td>NaN</td>\n",
       "      <td>NaN</td>\n",
       "      <td>I</td>\n",
       "      <td>NaN</td>\n",
       "      <td>NaN</td>\n",
       "      <td>C</td>\n",
       "    </tr>\n",
       "    <tr>\n",
       "      <th>3</th>\n",
       "      <td>NaN</td>\n",
       "      <td>VACANT</td>\n",
       "      <td>Vacant Land</td>\n",
       "      <td>A</td>\n",
       "      <td>NaN</td>\n",
       "      <td>NaN</td>\n",
       "      <td>0.0</td>\n",
       "      <td>5200.0</td>\n",
       "      <td>NaN</td>\n",
       "      <td>NaN</td>\n",
       "      <td>...</td>\n",
       "      <td>0.0</td>\n",
       "      <td>0.0</td>\n",
       "      <td>F</td>\n",
       "      <td>681.0</td>\n",
       "      <td>NaN</td>\n",
       "      <td>NaN</td>\n",
       "      <td>I</td>\n",
       "      <td>NaN</td>\n",
       "      <td>NaN</td>\n",
       "      <td>C</td>\n",
       "    </tr>\n",
       "    <tr>\n",
       "      <th>4</th>\n",
       "      <td>NaN</td>\n",
       "      <td>VACANT</td>\n",
       "      <td>Vacant Land</td>\n",
       "      <td>A</td>\n",
       "      <td>NaN</td>\n",
       "      <td>NaN</td>\n",
       "      <td>0.0</td>\n",
       "      <td>21000.0</td>\n",
       "      <td>NaN</td>\n",
       "      <td>NaN</td>\n",
       "      <td>...</td>\n",
       "      <td>0.0</td>\n",
       "      <td>0.0</td>\n",
       "      <td>F</td>\n",
       "      <td>712.0</td>\n",
       "      <td>NaN</td>\n",
       "      <td>NaN</td>\n",
       "      <td>I</td>\n",
       "      <td>NaN</td>\n",
       "      <td>NaN</td>\n",
       "      <td>C</td>\n",
       "    </tr>\n",
       "  </tbody>\n",
       "</table>\n",
       "<p>5 rows × 39 columns</p>\n",
       "</div>"
      ],
      "text/plain": [
       "  basements building_code_description category_code_description census_tract  \\\n",
       "0       NaN                    VACANT                       NaN            A   \n",
       "1       NaN                    VACANT              Multi Family            A   \n",
       "2       NaN                    VACANT                       NaN            A   \n",
       "3       NaN                    VACANT               Vacant Land            A   \n",
       "4       NaN                    VACANT               Vacant Land            A   \n",
       "\n",
       "  central_air  depth  exempt_building  exempt_land exterior_condition  \\\n",
       "0         NaN    NaN            100.0          0.0                NaN   \n",
       "1         NaN    NaN          29400.0          0.0                NaN   \n",
       "2         NaN    NaN          14200.0          0.0                NaN   \n",
       "3         NaN    NaN              0.0       5200.0                NaN   \n",
       "4         NaN    NaN              0.0      21000.0                NaN   \n",
       "\n",
       "   fireplaces  ...  taxable_building  taxable_land topography total_area  \\\n",
       "0         NaN  ...               0.0           0.0          F        NaN   \n",
       "1         NaN  ...               0.0           0.0          F        NaN   \n",
       "2         NaN  ...               0.0           0.0          F        NaN   \n",
       "3         NaN  ...               0.0           0.0          F      681.0   \n",
       "4         NaN  ...               0.0           0.0          F      712.0   \n",
       "\n",
       "  total_livable_area type_heater  view_type  year_built  year_built_estimate  \\\n",
       "0                NaN         NaN          I         NaN                  NaN   \n",
       "1                NaN         NaN          I         NaN                  NaN   \n",
       "2                NaN         NaN          I         NaN                  NaN   \n",
       "3                NaN         NaN          I         NaN                  NaN   \n",
       "4                NaN         NaN          I         NaN                  NaN   \n",
       "\n",
       "   zip_code  \n",
       "0         C  \n",
       "1         C  \n",
       "2         C  \n",
       "3         C  \n",
       "4         C  \n",
       "\n",
       "[5 rows x 39 columns]"
      ]
     },
     "execution_count": 34,
     "metadata": {},
     "output_type": "execute_result"
    }
   ],
   "source": [
    "print(data_tf.dtypes)\n",
    "data_tf.head()"
   ]
  },
  {
   "cell_type": "markdown",
   "id": "cf030398",
   "metadata": {},
   "source": [
    "### Step 5: split data into training, validation and test set"
   ]
  },
  {
   "cell_type": "code",
   "execution_count": 87,
   "id": "18a1a346",
   "metadata": {},
   "outputs": [],
   "source": [
    "Data_all = data_tf.copy()\n",
    "\n",
    "X_data = Data_all.drop(['market_value','sale_price'], axis=1)\n",
    "y_data = Data_all.market_value\n",
    "\n",
    "# divide data into training, validation and test set\n",
    "X_train, X_test, y_train, y_test = train_test_split(X_data, y_data, test_size=0.2, random_state=123)\n",
    "X_train_train, X_train_val, y_train_train, y_train_val = train_test_split(X_train, y_train, test_size=0.2, random_state=123)"
   ]
  },
  {
   "cell_type": "code",
   "execution_count": 136,
   "id": "2f993db7",
   "metadata": {},
   "outputs": [],
   "source": [
    "# save files for EDA\n",
    "X_train_train_market_sale_price = pd.concat([y_train_train, Data_all.loc[X_train_train.index, 'sale_price']], axis=1)\n",
    "X_train_train_eda = pd.concat([X_train_train, X_train_train_market_sale_price], axis=1)\n",
    "X_train_train_eda.to_csv('X_train_train_eda.csv')"
   ]
  },
  {
   "cell_type": "markdown",
   "id": "8b54db2f",
   "metadata": {},
   "source": [
    "### Step 6: preprocess training data "
   ]
  },
  {
   "cell_type": "code",
   "execution_count": null,
   "id": "107b456b",
   "metadata": {},
   "outputs": [],
   "source": [
    "# for categorical data, fill missing values with mode and then one-hot encode\n",
    "cat_features = ['basements', 'building_code_description', 'category_code_description','census_tract', 'central_air', \n",
    "                'exterior_condition', 'garage_type', 'geographic_ward', 'house_number','interior_condition', \n",
    "                'parcel_number', 'parcel_shape', 'site_type', 'street_designation', 'street_direction',\n",
    "                'topography', 'type_heater', 'view_type', 'year_built_estimate', 'zip_code']\n",
    "cat_pipe = Pipeline([\n",
    "    ('imputer', SimpleImputer(strategy='most_frequent')),\n",
    "    ('encoder', OneHotEncoder(handle_unknown='ignore',sparse=False))\n",
    "])\n",
    "\n",
    "# for numerical data, fill missing values with median and then scale\n",
    "num_features = ['depth', 'exempt_building', 'exempt_land','fireplaces', 'frontage', \n",
    "                'garage_spaces', 'number_of_bathrooms','number_of_bedrooms', 'number_of_rooms','number_stories', \n",
    "                'recording_date','sale_date','taxable_building', 'taxable_land', 'total_area', \n",
    "                'total_livable_area','year_built']\n",
    "num_pipe = Pipeline([\n",
    "    ('imputer', SimpleImputer(strategy='median')), \n",
    "    ('scaler', StandardScaler())\n",
    "])\n",
    "\n",
    "# Combine two transformers into single ColumnTransformer preprocessor\n",
    "preprocessor = ColumnTransformer([\n",
    "    ('cat', cat_pipe, cat_features),\n",
    "    ('num', num_pipe, num_features)\n",
    "])"
   ]
  },
  {
   "cell_type": "code",
   "execution_count": 128,
   "id": "82fa0e93",
   "metadata": {},
   "outputs": [],
   "source": [
    "# use pipeline to fit training data\n",
    "preprocessor_train = preprocessor.fit(X_train_train)\n",
    "\n",
    "# prepare column names\n",
    "cat_columns = preprocessor.named_transformers_['cat']['encoder'].get_feature_names(cat_features)\n",
    "columns = np.append(cat_columns, num_features)\n",
    "\n",
    "# preprocess training data\n",
    "X_train_train_final = pd.DataFrame(preprocessor_train.transform(X_train_train), index=X_train_train.index, columns=columns)\n",
    "y1_train_train_final = y_train_train.fillna(y_train_train.median())\n",
    "y2_train_train = Data_all.loc[X_train_train.index, 'sale_price']\n",
    "y2_train_train_final = y2_train_train.fillna(y2_train_train.median())"
   ]
  },
  {
   "cell_type": "code",
   "execution_count": 131,
   "id": "740ea341",
   "metadata": {},
   "outputs": [],
   "source": [
    "# save training data to file\n",
    "X_train_train_final.to_csv('X_train_train_model.csv')\n",
    "y1_train_train_final.to_csv('y1_train_train_model.csv')\n",
    "y2_train_train_final.to_csv('y2_train_train_model.csv')"
   ]
  },
  {
   "cell_type": "markdown",
   "id": "cc482763",
   "metadata": {},
   "source": [
    "### Step 7: preprocess validation and test data "
   ]
  },
  {
   "cell_type": "code",
   "execution_count": 132,
   "id": "3dd7cc4a",
   "metadata": {},
   "outputs": [],
   "source": [
    "# preprocess validation data\n",
    "X_train_val_final = pd.DataFrame(preprocessor_train.transform(X_train_val), index=X_train_val.index, columns=columns)\n",
    "y1_train_val_final = y_train_val.fillna(y_train_train.median())\n",
    "y2_train_val = Data_all.loc[X_train_val.index, 'sale_price']\n",
    "y2_train_val_final = y2_train_val.fillna(y2_train_train.median())\n",
    "\n",
    "# preprocess test data\n",
    "X_test_final = pd.DataFrame(preprocessor_train.transform(X_test), index=X_test.index, columns=columns)\n",
    "y1_test_final = y_test.fillna(y_train_train.median())\n",
    "y2_test = Data_all.loc[X_test.index, 'sale_price']\n",
    "y2_test_final = y2_test.fillna(y2_train_train.median())"
   ]
  },
  {
   "cell_type": "code",
   "execution_count": 134,
   "id": "1dfe9f87",
   "metadata": {},
   "outputs": [],
   "source": [
    "# save validation data to file\n",
    "X_train_val_final.to_csv('X_train_val_model.csv')\n",
    "y1_train_val_final.to_csv('y1_train_val_model.csv')\n",
    "y2_train_val_final.to_csv('y2_train_val_model.csv')"
   ]
  },
  {
   "cell_type": "code",
   "execution_count": 135,
   "id": "5017bdac",
   "metadata": {},
   "outputs": [],
   "source": [
    "# save test data to file\n",
    "X_test_final.to_csv('X_test_model.csv')\n",
    "y1_test_final.to_csv('y1_test_model.csv')\n",
    "y2_test_final.to_csv('y2_test_model.csv')"
   ]
  },
  {
   "cell_type": "code",
   "execution_count": 146,
   "id": "1beae0c2",
   "metadata": {},
   "outputs": [
    {
     "data": {
      "text/plain": [
       "349793.2800060819"
      ]
     },
     "execution_count": 146,
     "metadata": {},
     "output_type": "execute_result"
    }
   ],
   "source": [
    "from sklearn.linear_model import LinearRegression\n",
    "from sklearn.metrics import r2_score, mean_squared_error\n",
    "lr = LinearRegression().fit(X_train_train_final, y1_train_train_final)\n",
    "mean_squared_error(lr.predict(X_test_final), y1_test_final)"
   ]
  },
  {
   "cell_type": "code",
   "execution_count": null,
   "id": "977a8a5a",
   "metadata": {},
   "outputs": [],
   "source": []
  }
 ],
 "metadata": {
  "kernelspec": {
   "display_name": "Python 3",
   "language": "python",
   "name": "python3"
  },
  "language_info": {
   "codemirror_mode": {
    "name": "ipython",
    "version": 3
   },
   "file_extension": ".py",
   "mimetype": "text/x-python",
   "name": "python",
   "nbconvert_exporter": "python",
   "pygments_lexer": "ipython3",
   "version": "3.8.8"
  }
 },
 "nbformat": 4,
 "nbformat_minor": 5
}
