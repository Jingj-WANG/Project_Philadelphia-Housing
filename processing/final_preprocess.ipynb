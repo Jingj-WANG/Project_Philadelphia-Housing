{
 "cells": [
  {
   "cell_type": "code",
   "execution_count": 1,
   "metadata": {},
   "outputs": [],
   "source": [
    "# import packages\n",
    "import pandas as pd \n",
    "import numpy as np \n",
    "import matplotlib.pyplot as plt\n",
    "import seaborn as sns\n",
    "\n",
    "from sklearn.model_selection import train_test_split\n",
    "from sklearn.preprocessing import StandardScaler, OneHotEncoder\n",
    "from sklearn.compose import ColumnTransformer\n",
    "from sklearn.pipeline import Pipeline\n",
    "from sklearn.impute import SimpleImputer\n",
    "\n",
    "import pickle\n",
    "pd.set_option('display.max_columns', None)\n",
    "import warnings\n",
    "warnings.filterwarnings('ignore')"
   ]
  },
  {
   "cell_type": "markdown",
   "metadata": {},
   "source": [
    "**Find the original data here:**\n",
    "https://opendata-downloads.s3.amazonaws.com/opa_properties_public.csv\n",
    "\n",
    "**Find the data codebook here**:\n",
    "https://metadata.phila.gov/#home/datasetdetails/5543865f20583086178c4ee5/representationdetails/55d624fdad35c7e854cb21a4/?view_287_page=1"
   ]
  },
  {
   "cell_type": "code",
   "execution_count": 2,
   "metadata": {},
   "outputs": [
    {
     "name": "stdout",
     "output_type": "stream",
     "text": [
      "(581414, 78)\n",
      "Index(['objectid', 'assessment_date', 'basements', 'beginning_point',\n",
      "       'book_and_page', 'building_code', 'building_code_description',\n",
      "       'category_code', 'category_code_description', 'census_tract',\n",
      "       'central_air', 'cross_reference', 'date_exterior_condition', 'depth',\n",
      "       'exempt_building', 'exempt_land', 'exterior_condition', 'fireplaces',\n",
      "       'frontage', 'fuel', 'garage_spaces', 'garage_type',\n",
      "       'general_construction', 'geographic_ward', 'homestead_exemption',\n",
      "       'house_extension', 'house_number', 'interior_condition', 'location',\n",
      "       'mailing_address_1', 'mailing_address_2', 'mailing_care_of',\n",
      "       'mailing_city_state', 'mailing_street', 'mailing_zip', 'market_value',\n",
      "       'market_value_date', 'number_of_bathrooms', 'number_of_bedrooms',\n",
      "       'number_of_rooms', 'number_stories', 'off_street_open',\n",
      "       'other_building', 'owner_1', 'owner_2', 'parcel_number', 'parcel_shape',\n",
      "       'quality_grade', 'recording_date', 'registry_number', 'sale_date',\n",
      "       'sale_price', 'separate_utilities', 'sewer', 'site_type', 'state_code',\n",
      "       'street_code', 'street_designation', 'street_direction', 'street_name',\n",
      "       'suffix', 'taxable_building', 'taxable_land', 'topography',\n",
      "       'total_area', 'total_livable_area', 'type_heater', 'unfinished', 'unit',\n",
      "       'utility', 'view_type', 'year_built', 'year_built_estimate', 'zip_code',\n",
      "       'zoning', 'pin', 'lat', 'lng'],\n",
      "      dtype='object')\n"
     ]
    },
    {
     "data": {
      "text/html": [
       "<div>\n",
       "<style scoped>\n",
       "    .dataframe tbody tr th:only-of-type {\n",
       "        vertical-align: middle;\n",
       "    }\n",
       "\n",
       "    .dataframe tbody tr th {\n",
       "        vertical-align: top;\n",
       "    }\n",
       "\n",
       "    .dataframe thead th {\n",
       "        text-align: right;\n",
       "    }\n",
       "</style>\n",
       "<table border=\"1\" class=\"dataframe\">\n",
       "  <thead>\n",
       "    <tr style=\"text-align: right;\">\n",
       "      <th></th>\n",
       "      <th>objectid</th>\n",
       "      <th>assessment_date</th>\n",
       "      <th>basements</th>\n",
       "      <th>beginning_point</th>\n",
       "      <th>book_and_page</th>\n",
       "      <th>building_code</th>\n",
       "      <th>building_code_description</th>\n",
       "      <th>category_code</th>\n",
       "      <th>category_code_description</th>\n",
       "      <th>census_tract</th>\n",
       "      <th>central_air</th>\n",
       "      <th>cross_reference</th>\n",
       "      <th>date_exterior_condition</th>\n",
       "      <th>depth</th>\n",
       "      <th>exempt_building</th>\n",
       "      <th>exempt_land</th>\n",
       "      <th>exterior_condition</th>\n",
       "      <th>fireplaces</th>\n",
       "      <th>frontage</th>\n",
       "      <th>fuel</th>\n",
       "      <th>garage_spaces</th>\n",
       "      <th>garage_type</th>\n",
       "      <th>general_construction</th>\n",
       "      <th>geographic_ward</th>\n",
       "      <th>homestead_exemption</th>\n",
       "      <th>house_extension</th>\n",
       "      <th>house_number</th>\n",
       "      <th>interior_condition</th>\n",
       "      <th>location</th>\n",
       "      <th>mailing_address_1</th>\n",
       "      <th>mailing_address_2</th>\n",
       "      <th>mailing_care_of</th>\n",
       "      <th>mailing_city_state</th>\n",
       "      <th>mailing_street</th>\n",
       "      <th>mailing_zip</th>\n",
       "      <th>market_value</th>\n",
       "      <th>market_value_date</th>\n",
       "      <th>number_of_bathrooms</th>\n",
       "      <th>number_of_bedrooms</th>\n",
       "      <th>number_of_rooms</th>\n",
       "      <th>number_stories</th>\n",
       "      <th>off_street_open</th>\n",
       "      <th>other_building</th>\n",
       "      <th>owner_1</th>\n",
       "      <th>owner_2</th>\n",
       "      <th>parcel_number</th>\n",
       "      <th>parcel_shape</th>\n",
       "      <th>quality_grade</th>\n",
       "      <th>recording_date</th>\n",
       "      <th>registry_number</th>\n",
       "      <th>sale_date</th>\n",
       "      <th>sale_price</th>\n",
       "      <th>separate_utilities</th>\n",
       "      <th>sewer</th>\n",
       "      <th>site_type</th>\n",
       "      <th>state_code</th>\n",
       "      <th>street_code</th>\n",
       "      <th>street_designation</th>\n",
       "      <th>street_direction</th>\n",
       "      <th>street_name</th>\n",
       "      <th>suffix</th>\n",
       "      <th>taxable_building</th>\n",
       "      <th>taxable_land</th>\n",
       "      <th>topography</th>\n",
       "      <th>total_area</th>\n",
       "      <th>total_livable_area</th>\n",
       "      <th>type_heater</th>\n",
       "      <th>unfinished</th>\n",
       "      <th>unit</th>\n",
       "      <th>utility</th>\n",
       "      <th>view_type</th>\n",
       "      <th>year_built</th>\n",
       "      <th>year_built_estimate</th>\n",
       "      <th>zip_code</th>\n",
       "      <th>zoning</th>\n",
       "      <th>pin</th>\n",
       "      <th>lat</th>\n",
       "      <th>lng</th>\n",
       "    </tr>\n",
       "  </thead>\n",
       "  <tbody>\n",
       "    <tr>\n",
       "      <th>0</th>\n",
       "      <td>78579872</td>\n",
       "      <td>2021-07-05 09:29:19</td>\n",
       "      <td>A</td>\n",
       "      <td>NWC OF 24TH &amp; OXFORD ST</td>\n",
       "      <td>53912171.0</td>\n",
       "      <td>SR</td>\n",
       "      <td>VACANT LAND RESIDE &lt; ACRE</td>\n",
       "      <td>1</td>\n",
       "      <td>Single Family</td>\n",
       "      <td>139.0</td>\n",
       "      <td>Y</td>\n",
       "      <td>NaN</td>\n",
       "      <td>NaN</td>\n",
       "      <td>94.0</td>\n",
       "      <td>188045.0</td>\n",
       "      <td>0.0</td>\n",
       "      <td>1.0</td>\n",
       "      <td>NaN</td>\n",
       "      <td>16.0</td>\n",
       "      <td>A</td>\n",
       "      <td>NaN</td>\n",
       "      <td>NaN</td>\n",
       "      <td>B</td>\n",
       "      <td>29.0</td>\n",
       "      <td>0.0</td>\n",
       "      <td>NaN</td>\n",
       "      <td>2334</td>\n",
       "      <td>1.0</td>\n",
       "      <td>2334 W OXFORD ST</td>\n",
       "      <td>NaN</td>\n",
       "      <td>NaN</td>\n",
       "      <td>NaN</td>\n",
       "      <td>PHILADELPHIA PA</td>\n",
       "      <td>NaN</td>\n",
       "      <td>19121</td>\n",
       "      <td>263000.0</td>\n",
       "      <td>NaN</td>\n",
       "      <td>NaN</td>\n",
       "      <td>3.0</td>\n",
       "      <td>10.0</td>\n",
       "      <td>1.0</td>\n",
       "      <td>NaN</td>\n",
       "      <td>NaN</td>\n",
       "      <td>BONDS ISHAKEA</td>\n",
       "      <td>NaN</td>\n",
       "      <td>291113044</td>\n",
       "      <td>E</td>\n",
       "      <td>NaN</td>\n",
       "      <td>2021-12-08 00:00:00</td>\n",
       "      <td>012N110470</td>\n",
       "      <td>2021-08-06 00:00:00</td>\n",
       "      <td>263000.0</td>\n",
       "      <td>NaN</td>\n",
       "      <td>NaN</td>\n",
       "      <td>NaN</td>\n",
       "      <td>PA</td>\n",
       "      <td>62120</td>\n",
       "      <td>ST</td>\n",
       "      <td>W</td>\n",
       "      <td>OXFORD</td>\n",
       "      <td>NaN</td>\n",
       "      <td>0.0</td>\n",
       "      <td>74955.0</td>\n",
       "      <td>F</td>\n",
       "      <td>1542.0</td>\n",
       "      <td>1242.0</td>\n",
       "      <td>A</td>\n",
       "      <td>NaN</td>\n",
       "      <td>NaN</td>\n",
       "      <td>NaN</td>\n",
       "      <td>NaN</td>\n",
       "      <td>2019.0</td>\n",
       "      <td>NaN</td>\n",
       "      <td>19121.0</td>\n",
       "      <td>RSA5</td>\n",
       "      <td>1001680150</td>\n",
       "      <td>-75.174210</td>\n",
       "      <td>39.979126</td>\n",
       "    </tr>\n",
       "    <tr>\n",
       "      <th>1</th>\n",
       "      <td>78579873</td>\n",
       "      <td>2021-05-25 16:02:19</td>\n",
       "      <td>0</td>\n",
       "      <td>NEC LOCUST</td>\n",
       "      <td>53912526.0</td>\n",
       "      <td>590</td>\n",
       "      <td>RES CONDO 5+ STY MASONRY</td>\n",
       "      <td>1</td>\n",
       "      <td>Single Family</td>\n",
       "      <td>8.0</td>\n",
       "      <td>Y</td>\n",
       "      <td>NaN</td>\n",
       "      <td>NaN</td>\n",
       "      <td>0.0</td>\n",
       "      <td>0.0</td>\n",
       "      <td>0.0</td>\n",
       "      <td>3.0</td>\n",
       "      <td>0.0</td>\n",
       "      <td>0.0</td>\n",
       "      <td>NaN</td>\n",
       "      <td>0.0</td>\n",
       "      <td>NaN</td>\n",
       "      <td>A</td>\n",
       "      <td>8.0</td>\n",
       "      <td>0.0</td>\n",
       "      <td>29.0</td>\n",
       "      <td>219</td>\n",
       "      <td>3.0</td>\n",
       "      <td>219-29 S 18TH ST</td>\n",
       "      <td>NaN</td>\n",
       "      <td>NaN</td>\n",
       "      <td>NaN</td>\n",
       "      <td>PHILADELPHIA PA</td>\n",
       "      <td>812 W SEDGWICK ST</td>\n",
       "      <td>19119</td>\n",
       "      <td>309800.0</td>\n",
       "      <td>NaN</td>\n",
       "      <td>0.0</td>\n",
       "      <td>0.0</td>\n",
       "      <td>NaN</td>\n",
       "      <td>1.0</td>\n",
       "      <td>636.0</td>\n",
       "      <td>NaN</td>\n",
       "      <td>CEISLER LAWRENCE A</td>\n",
       "      <td>HARTOCOLLIS LINA</td>\n",
       "      <td>888092908</td>\n",
       "      <td>E</td>\n",
       "      <td>B</td>\n",
       "      <td>2021-12-08 00:00:00</td>\n",
       "      <td>002S200670</td>\n",
       "      <td>2021-07-16 00:00:00</td>\n",
       "      <td>272500.0</td>\n",
       "      <td>NaN</td>\n",
       "      <td>NaN</td>\n",
       "      <td>NaN</td>\n",
       "      <td>PA</td>\n",
       "      <td>88140</td>\n",
       "      <td>ST</td>\n",
       "      <td>S</td>\n",
       "      <td>18TH</td>\n",
       "      <td>NaN</td>\n",
       "      <td>278820.0</td>\n",
       "      <td>30980.0</td>\n",
       "      <td>F</td>\n",
       "      <td>0.0</td>\n",
       "      <td>524.0</td>\n",
       "      <td>NaN</td>\n",
       "      <td>NaN</td>\n",
       "      <td>1417</td>\n",
       "      <td>NaN</td>\n",
       "      <td>C</td>\n",
       "      <td>1900.0</td>\n",
       "      <td>Y</td>\n",
       "      <td>19103.0</td>\n",
       "      <td>RMX3</td>\n",
       "      <td>1001629392</td>\n",
       "      <td>-75.170423</td>\n",
       "      <td>39.949254</td>\n",
       "    </tr>\n",
       "    <tr>\n",
       "      <th>2</th>\n",
       "      <td>78579874</td>\n",
       "      <td>2022-02-17 13:44:33</td>\n",
       "      <td>NaN</td>\n",
       "      <td>88'2 7/8\" E SEPVIVA</td>\n",
       "      <td>53911650.0</td>\n",
       "      <td>WA0</td>\n",
       "      <td>HSE WORSHIP ALL 1 STY MAS</td>\n",
       "      <td>1</td>\n",
       "      <td>Single Family</td>\n",
       "      <td>160.0</td>\n",
       "      <td>Y</td>\n",
       "      <td>NaN</td>\n",
       "      <td>NaN</td>\n",
       "      <td>50.0</td>\n",
       "      <td>488400.0</td>\n",
       "      <td>0.0</td>\n",
       "      <td>1.0</td>\n",
       "      <td>NaN</td>\n",
       "      <td>NaN</td>\n",
       "      <td>A</td>\n",
       "      <td>NaN</td>\n",
       "      <td>NaN</td>\n",
       "      <td>B</td>\n",
       "      <td>31.0</td>\n",
       "      <td>0.0</td>\n",
       "      <td>NaN</td>\n",
       "      <td>2216</td>\n",
       "      <td>1.0</td>\n",
       "      <td>2216 E SUSQUEHANNA AVE</td>\n",
       "      <td>NaN</td>\n",
       "      <td>NaN</td>\n",
       "      <td>NaN</td>\n",
       "      <td>NaN</td>\n",
       "      <td>NaN</td>\n",
       "      <td>NaN</td>\n",
       "      <td>660000.0</td>\n",
       "      <td>NaN</td>\n",
       "      <td>2.0</td>\n",
       "      <td>3.0</td>\n",
       "      <td>NaN</td>\n",
       "      <td>3.0</td>\n",
       "      <td>NaN</td>\n",
       "      <td>NaN</td>\n",
       "      <td>GRANATO JOHN J III</td>\n",
       "      <td>GRANATO NATHALIE DUMONT</td>\n",
       "      <td>313034105</td>\n",
       "      <td>E</td>\n",
       "      <td>NaN</td>\n",
       "      <td>2021-12-07 00:00:00</td>\n",
       "      <td>018N160291</td>\n",
       "      <td>2021-07-06 00:00:00</td>\n",
       "      <td>655000.0</td>\n",
       "      <td>NaN</td>\n",
       "      <td>NaN</td>\n",
       "      <td>NaN</td>\n",
       "      <td>NaN</td>\n",
       "      <td>75660</td>\n",
       "      <td>AVE</td>\n",
       "      <td>E</td>\n",
       "      <td>SUSQUEHANNA</td>\n",
       "      <td>NaN</td>\n",
       "      <td>0.0</td>\n",
       "      <td>171600.0</td>\n",
       "      <td>F</td>\n",
       "      <td>800.0</td>\n",
       "      <td>2499.0</td>\n",
       "      <td>A</td>\n",
       "      <td>NaN</td>\n",
       "      <td>NaN</td>\n",
       "      <td>NaN</td>\n",
       "      <td>I</td>\n",
       "      <td>2020.0</td>\n",
       "      <td>NaN</td>\n",
       "      <td>19125.0</td>\n",
       "      <td>RSA5</td>\n",
       "      <td>1001678063</td>\n",
       "      <td>-75.128893</td>\n",
       "      <td>39.978672</td>\n",
       "    </tr>\n",
       "    <tr>\n",
       "      <th>3</th>\n",
       "      <td>78579875</td>\n",
       "      <td>2021-10-12 15:40:41</td>\n",
       "      <td>A</td>\n",
       "      <td>476' 1 1/4\" S WIGARD</td>\n",
       "      <td>53911139.0</td>\n",
       "      <td>JJ1</td>\n",
       "      <td>AMUSE TV/RADIO STA MAS+O</td>\n",
       "      <td>1</td>\n",
       "      <td>Single Family</td>\n",
       "      <td>216.0</td>\n",
       "      <td>Y</td>\n",
       "      <td>NaN</td>\n",
       "      <td>NaN</td>\n",
       "      <td>109.0</td>\n",
       "      <td>489118.0</td>\n",
       "      <td>81282.0</td>\n",
       "      <td>1.0</td>\n",
       "      <td>0.0</td>\n",
       "      <td>80.0</td>\n",
       "      <td>A</td>\n",
       "      <td>NaN</td>\n",
       "      <td>NaN</td>\n",
       "      <td>A</td>\n",
       "      <td>21.0</td>\n",
       "      <td>NaN</td>\n",
       "      <td>NaN</td>\n",
       "      <td>7354</td>\n",
       "      <td>1.0</td>\n",
       "      <td>7354 RIDGE AVE</td>\n",
       "      <td>NaN</td>\n",
       "      <td>NaN</td>\n",
       "      <td>NaN</td>\n",
       "      <td>NaN</td>\n",
       "      <td>NaN</td>\n",
       "      <td>NaN</td>\n",
       "      <td>570400.0</td>\n",
       "      <td>NaN</td>\n",
       "      <td>2.0</td>\n",
       "      <td>3.0</td>\n",
       "      <td>6.0</td>\n",
       "      <td>2.0</td>\n",
       "      <td>NaN</td>\n",
       "      <td>NaN</td>\n",
       "      <td>ZHENG YINDA</td>\n",
       "      <td>WANG ANGI</td>\n",
       "      <td>212514436</td>\n",
       "      <td>A</td>\n",
       "      <td>NaN</td>\n",
       "      <td>2021-12-06 00:00:00</td>\n",
       "      <td>130N210107</td>\n",
       "      <td>2021-08-10 00:00:00</td>\n",
       "      <td>605950.0</td>\n",
       "      <td>NaN</td>\n",
       "      <td>NaN</td>\n",
       "      <td>NaN</td>\n",
       "      <td>NaN</td>\n",
       "      <td>68280</td>\n",
       "      <td>AVE</td>\n",
       "      <td>NaN</td>\n",
       "      <td>RIDGE</td>\n",
       "      <td>NaN</td>\n",
       "      <td>0.0</td>\n",
       "      <td>0.0</td>\n",
       "      <td>F</td>\n",
       "      <td>8219.0</td>\n",
       "      <td>2716.0</td>\n",
       "      <td>A</td>\n",
       "      <td>NaN</td>\n",
       "      <td>15</td>\n",
       "      <td>NaN</td>\n",
       "      <td>I</td>\n",
       "      <td>2021.0</td>\n",
       "      <td>NaN</td>\n",
       "      <td>19128.0</td>\n",
       "      <td>RSD3</td>\n",
       "      <td>1001677510</td>\n",
       "      <td>-75.235043</td>\n",
       "      <td>40.045622</td>\n",
       "    </tr>\n",
       "    <tr>\n",
       "      <th>4</th>\n",
       "      <td>78579876</td>\n",
       "      <td>NaN</td>\n",
       "      <td>NaN</td>\n",
       "      <td>SWC REED ST</td>\n",
       "      <td>53764990.0</td>\n",
       "      <td>SR</td>\n",
       "      <td>VACANT LAND RESIDE &lt; ACRE</td>\n",
       "      <td>14</td>\n",
       "      <td>NaN</td>\n",
       "      <td>32.0</td>\n",
       "      <td>NaN</td>\n",
       "      <td>NaN</td>\n",
       "      <td>NaN</td>\n",
       "      <td>NaN</td>\n",
       "      <td>NaN</td>\n",
       "      <td>NaN</td>\n",
       "      <td>NaN</td>\n",
       "      <td>NaN</td>\n",
       "      <td>NaN</td>\n",
       "      <td>NaN</td>\n",
       "      <td>NaN</td>\n",
       "      <td>NaN</td>\n",
       "      <td>NaN</td>\n",
       "      <td>36.0</td>\n",
       "      <td>NaN</td>\n",
       "      <td>NaN</td>\n",
       "      <td>1413</td>\n",
       "      <td>NaN</td>\n",
       "      <td>1413L S TAYLOR ST</td>\n",
       "      <td>100 W OXFORD ST E-2300</td>\n",
       "      <td>NaN</td>\n",
       "      <td>NaN</td>\n",
       "      <td>PHILADELPHIA PA</td>\n",
       "      <td>NaN</td>\n",
       "      <td>19122</td>\n",
       "      <td>NaN</td>\n",
       "      <td>NaN</td>\n",
       "      <td>NaN</td>\n",
       "      <td>NaN</td>\n",
       "      <td>NaN</td>\n",
       "      <td>NaN</td>\n",
       "      <td>2824.0</td>\n",
       "      <td>NaN</td>\n",
       "      <td>MAMIE NICHOLS LIMITED PARTERSHIP</td>\n",
       "      <td>NaN</td>\n",
       "      <td>886000014</td>\n",
       "      <td>E</td>\n",
       "      <td>NaN</td>\n",
       "      <td>2021-12-02 00:00:00</td>\n",
       "      <td>10S23 37</td>\n",
       "      <td>2020-12-10 00:00:00</td>\n",
       "      <td>1.0</td>\n",
       "      <td>NaN</td>\n",
       "      <td>NaN</td>\n",
       "      <td>NaN</td>\n",
       "      <td>PA</td>\n",
       "      <td>76780</td>\n",
       "      <td>ST</td>\n",
       "      <td>S</td>\n",
       "      <td>TAYLOR</td>\n",
       "      <td>L</td>\n",
       "      <td>NaN</td>\n",
       "      <td>NaN</td>\n",
       "      <td>F</td>\n",
       "      <td>NaN</td>\n",
       "      <td>NaN</td>\n",
       "      <td>NaN</td>\n",
       "      <td>NaN</td>\n",
       "      <td>NaN</td>\n",
       "      <td>NaN</td>\n",
       "      <td>I</td>\n",
       "      <td>NaN</td>\n",
       "      <td>NaN</td>\n",
       "      <td>19146.0</td>\n",
       "      <td>RSA5</td>\n",
       "      <td>1001681386</td>\n",
       "      <td>-75.185151</td>\n",
       "      <td>39.934839</td>\n",
       "    </tr>\n",
       "  </tbody>\n",
       "</table>\n",
       "</div>"
      ],
      "text/plain": [
       "   objectid      assessment_date basements          beginning_point  \\\n",
       "0  78579872  2021-07-05 09:29:19         A  NWC OF 24TH & OXFORD ST   \n",
       "1  78579873  2021-05-25 16:02:19         0               NEC LOCUST   \n",
       "2  78579874  2022-02-17 13:44:33       NaN      88'2 7/8\" E SEPVIVA   \n",
       "3  78579875  2021-10-12 15:40:41         A     476' 1 1/4\" S WIGARD   \n",
       "4  78579876                  NaN       NaN              SWC REED ST   \n",
       "\n",
       "  book_and_page building_code  building_code_description  category_code  \\\n",
       "0    53912171.0         SR     VACANT LAND RESIDE < ACRE              1   \n",
       "1    53912526.0         590     RES CONDO 5+ STY MASONRY              1   \n",
       "2    53911650.0         WA0    HSE WORSHIP ALL 1 STY MAS              1   \n",
       "3    53911139.0         JJ1     AMUSE TV/RADIO STA MAS+O              1   \n",
       "4    53764990.0         SR     VACANT LAND RESIDE < ACRE             14   \n",
       "\n",
       "  category_code_description  census_tract central_air cross_reference  \\\n",
       "0             Single Family         139.0           Y             NaN   \n",
       "1             Single Family           8.0           Y             NaN   \n",
       "2             Single Family         160.0           Y             NaN   \n",
       "3             Single Family         216.0           Y             NaN   \n",
       "4                       NaN          32.0         NaN             NaN   \n",
       "\n",
       "  date_exterior_condition  depth  exempt_building  exempt_land  \\\n",
       "0                     NaN   94.0         188045.0          0.0   \n",
       "1                     NaN    0.0              0.0          0.0   \n",
       "2                     NaN   50.0         488400.0          0.0   \n",
       "3                     NaN  109.0         489118.0      81282.0   \n",
       "4                     NaN    NaN              NaN          NaN   \n",
       "\n",
       "   exterior_condition  fireplaces  frontage fuel  garage_spaces garage_type  \\\n",
       "0                 1.0         NaN      16.0    A            NaN         NaN   \n",
       "1                 3.0         0.0       0.0  NaN            0.0         NaN   \n",
       "2                 1.0         NaN       NaN    A            NaN         NaN   \n",
       "3                 1.0         0.0      80.0    A            NaN         NaN   \n",
       "4                 NaN         NaN       NaN  NaN            NaN         NaN   \n",
       "\n",
       "  general_construction  geographic_ward  homestead_exemption house_extension  \\\n",
       "0                   B              29.0                  0.0             NaN   \n",
       "1                   A               8.0                  0.0            29.0   \n",
       "2                   B              31.0                  0.0             NaN   \n",
       "3                   A              21.0                  NaN             NaN   \n",
       "4                  NaN             36.0                  NaN             NaN   \n",
       "\n",
       "   house_number  interior_condition                location  \\\n",
       "0          2334                 1.0        2334 W OXFORD ST   \n",
       "1           219                 3.0        219-29 S 18TH ST   \n",
       "2          2216                 1.0  2216 E SUSQUEHANNA AVE   \n",
       "3          7354                 1.0          7354 RIDGE AVE   \n",
       "4          1413                 NaN       1413L S TAYLOR ST   \n",
       "\n",
       "        mailing_address_1 mailing_address_2 mailing_care_of  \\\n",
       "0                     NaN               NaN             NaN   \n",
       "1                     NaN               NaN             NaN   \n",
       "2                     NaN               NaN             NaN   \n",
       "3                     NaN               NaN             NaN   \n",
       "4  100 W OXFORD ST E-2300               NaN             NaN   \n",
       "\n",
       "  mailing_city_state     mailing_street mailing_zip  market_value  \\\n",
       "0    PHILADELPHIA PA                NaN       19121      263000.0   \n",
       "1    PHILADELPHIA PA  812 W SEDGWICK ST       19119      309800.0   \n",
       "2                NaN                NaN         NaN      660000.0   \n",
       "3                NaN                NaN         NaN      570400.0   \n",
       "4    PHILADELPHIA PA                NaN       19122           NaN   \n",
       "\n",
       "   market_value_date  number_of_bathrooms  number_of_bedrooms  \\\n",
       "0                NaN                  NaN                 3.0   \n",
       "1                NaN                  0.0                 0.0   \n",
       "2                NaN                  2.0                 3.0   \n",
       "3                NaN                  2.0                 3.0   \n",
       "4                NaN                  NaN                 NaN   \n",
       "\n",
       "   number_of_rooms  number_stories  off_street_open other_building  \\\n",
       "0             10.0             1.0              NaN            NaN   \n",
       "1              NaN             1.0            636.0            NaN   \n",
       "2              NaN             3.0              NaN            NaN   \n",
       "3              6.0             2.0              NaN            NaN   \n",
       "4              NaN             NaN           2824.0            NaN   \n",
       "\n",
       "                            owner_1                  owner_2  parcel_number  \\\n",
       "0                     BONDS ISHAKEA                      NaN      291113044   \n",
       "1                CEISLER LAWRENCE A         HARTOCOLLIS LINA      888092908   \n",
       "2                GRANATO JOHN J III  GRANATO NATHALIE DUMONT      313034105   \n",
       "3                       ZHENG YINDA                WANG ANGI      212514436   \n",
       "4  MAMIE NICHOLS LIMITED PARTERSHIP                      NaN      886000014   \n",
       "\n",
       "  parcel_shape quality_grade       recording_date registry_number  \\\n",
       "0            E           NaN  2021-12-08 00:00:00      012N110470   \n",
       "1            E            B   2021-12-08 00:00:00      002S200670   \n",
       "2            E           NaN  2021-12-07 00:00:00      018N160291   \n",
       "3            A           NaN  2021-12-06 00:00:00      130N210107   \n",
       "4            E           NaN  2021-12-02 00:00:00        10S23 37   \n",
       "\n",
       "             sale_date  sale_price separate_utilities sewer site_type  \\\n",
       "0  2021-08-06 00:00:00    263000.0                NaN   NaN       NaN   \n",
       "1  2021-07-16 00:00:00    272500.0                NaN   NaN       NaN   \n",
       "2  2021-07-06 00:00:00    655000.0                NaN   NaN       NaN   \n",
       "3  2021-08-10 00:00:00    605950.0                NaN   NaN       NaN   \n",
       "4  2020-12-10 00:00:00         1.0                NaN   NaN       NaN   \n",
       "\n",
       "  state_code  street_code street_designation street_direction  street_name  \\\n",
       "0       PA          62120               ST                  W       OXFORD   \n",
       "1       PA          88140               ST                  S         18TH   \n",
       "2        NaN        75660               AVE                 E  SUSQUEHANNA   \n",
       "3        NaN        68280               AVE               NaN        RIDGE   \n",
       "4       PA          76780               ST                  S       TAYLOR   \n",
       "\n",
       "  suffix  taxable_building  taxable_land topography  total_area  \\\n",
       "0    NaN               0.0       74955.0          F      1542.0   \n",
       "1    NaN          278820.0       30980.0          F         0.0   \n",
       "2    NaN               0.0      171600.0          F       800.0   \n",
       "3    NaN               0.0           0.0          F      8219.0   \n",
       "4      L               NaN           NaN          F         NaN   \n",
       "\n",
       "   total_livable_area type_heater unfinished  unit utility view_type  \\\n",
       "0              1242.0           A        NaN   NaN     NaN       NaN   \n",
       "1               524.0         NaN        NaN  1417     NaN         C   \n",
       "2              2499.0           A        NaN   NaN     NaN         I   \n",
       "3              2716.0           A        NaN    15     NaN         I   \n",
       "4                 NaN         NaN        NaN   NaN     NaN         I   \n",
       "\n",
       "  year_built year_built_estimate  zip_code zoning         pin        lat  \\\n",
       "0     2019.0                 NaN   19121.0   RSA5  1001680150 -75.174210   \n",
       "1     1900.0                   Y   19103.0   RMX3  1001629392 -75.170423   \n",
       "2     2020.0                 NaN   19125.0   RSA5  1001678063 -75.128893   \n",
       "3     2021.0                 NaN   19128.0   RSD3  1001677510 -75.235043   \n",
       "4        NaN                 NaN   19146.0   RSA5  1001681386 -75.185151   \n",
       "\n",
       "         lng  \n",
       "0  39.979126  \n",
       "1  39.949254  \n",
       "2  39.978672  \n",
       "3  40.045622  \n",
       "4  39.934839  "
      ]
     },
     "execution_count": 2,
     "metadata": {},
     "output_type": "execute_result"
    }
   ],
   "source": [
    "# read original data\n",
    "df = pd.read_csv('opa_properties_public.csv', header=0)\n",
    "print(df.shape)\n",
    "print(df.columns)\n",
    "df.head()"
   ]
  },
  {
   "cell_type": "markdown",
   "metadata": {},
   "source": [
    "### Step 1: prescreen related columns and rows "
   ]
  },
  {
   "cell_type": "markdown",
   "metadata": {},
   "source": [
    "**1.1 remove clearly unrelated columns**"
   ]
  },
  {
   "cell_type": "markdown",
   "metadata": {},
   "source": [
    "**Columns kept after step 1.1**: 'assessment_date', 'basements', 'category_code_description','census_tract', 'central_air',\n",
    "                 'depth', 'exterior_condition', 'fireplaces', 'frontage', 'fuel', \n",
    "                 'garage_spaces', 'garage_type', 'geographic_ward', 'house_number', 'interior_condition', \n",
    "                 'market_value', 'market_value_date', 'number_of_bathrooms', 'number_of_bedrooms', 'number_of_rooms',\n",
    "                 'number_stories', 'quality_grade', 'sale_date', 'sale_price', 'separate_utilities',\n",
    "                 'sewer', 'site_type', 'street_designation','street_direction', 'topography', \n",
    "                 'total_area','total_livable_area', 'type_heater', 'unfinished', 'unit', \n",
    "                 'utility', 'view_type', 'year_built', 'zip_code', 'lat', \n",
    "                 'lng'"
   ]
  },
  {
   "cell_type": "code",
   "execution_count": 3,
   "metadata": {},
   "outputs": [],
   "source": [
    "# place columns of interest into a list\n",
    "cols_step11 = ['assessment_date', 'basements', 'category_code_description','census_tract', 'central_air',\n",
    "              'depth', 'exterior_condition', 'fireplaces', 'frontage', 'fuel', \n",
    "              'garage_spaces', 'garage_type', 'geographic_ward', 'house_number', 'interior_condition', \n",
    "              'market_value', 'market_value_date', 'number_of_bathrooms', 'number_of_bedrooms', 'number_of_rooms',\n",
    "              'number_stories', 'quality_grade', 'sale_date', 'sale_price', 'separate_utilities',\n",
    "              'sewer', 'site_type', 'street_designation','street_direction', 'topography', \n",
    "              'total_area','total_livable_area', 'type_heater', 'unfinished', 'unit', \n",
    "              'utility', 'view_type', 'year_built', 'zip_code', 'lat', \n",
    "              'lng']\n",
    "len(cols_step11)\n",
    "data_step11 = df[cols_step11]"
   ]
  },
  {
   "cell_type": "markdown",
   "metadata": {},
   "source": [
    "**1.2 drop columns with more than 50% missing values**"
   ]
  },
  {
   "cell_type": "code",
   "execution_count": 4,
   "metadata": {},
   "outputs": [
    {
     "data": {
      "text/plain": [
       "assessment_date              0.941171\n",
       "basements                    0.438185\n",
       "category_code_description    0.000193\n",
       "census_tract                 0.000189\n",
       "central_air                  0.506192\n",
       "depth                        0.001089\n",
       "exterior_condition           0.047782\n",
       "fireplaces                   0.007786\n",
       "frontage                     0.001097\n",
       "fuel                         0.974443\n",
       "garage_spaces                0.008084\n",
       "garage_type                  0.137986\n",
       "geographic_ward              0.000189\n",
       "house_number                 0.000000\n",
       "interior_condition           0.049151\n",
       "market_value                 0.000423\n",
       "market_value_date            1.000000\n",
       "number_of_bathrooms          0.007585\n",
       "number_of_bedrooms           0.007059\n",
       "number_of_rooms              0.057656\n",
       "number_stories               0.007053\n",
       "quality_grade                0.903150\n",
       "sale_date                    0.000014\n",
       "sale_price                   0.000026\n",
       "separate_utilities           0.955835\n",
       "sewer                        0.984617\n",
       "site_type                    0.490363\n",
       "street_designation           0.000009\n",
       "street_direction             0.610410\n",
       "topography                   0.066904\n",
       "total_area                   0.000740\n",
       "total_livable_area           0.004329\n",
       "type_heater                  0.492615\n",
       "unfinished                   0.995349\n",
       "unit                         0.932955\n",
       "utility                      0.984352\n",
       "view_type                    0.036181\n",
       "year_built                   0.004334\n",
       "zip_code                     0.000186\n",
       "lat                          0.000184\n",
       "lng                          0.000184\n",
       "dtype: float64"
      ]
     },
     "execution_count": 4,
     "metadata": {},
     "output_type": "execute_result"
    }
   ],
   "source": [
    "# compute percentage of missing values for each column\n",
    "data_step11.isnull().sum()/len(data_step11)"
   ]
  },
  {
   "cell_type": "code",
   "execution_count": 5,
   "metadata": {},
   "outputs": [
    {
     "name": "stdout",
     "output_type": "stream",
     "text": [
      "31\n",
      "Index(['basements', 'category_code_description', 'census_tract', 'central_air',\n",
      "       'depth', 'exterior_condition', 'fireplaces', 'frontage',\n",
      "       'garage_spaces', 'garage_type', 'geographic_ward', 'house_number',\n",
      "       'interior_condition', 'market_value', 'number_of_bathrooms',\n",
      "       'number_of_bedrooms', 'number_of_rooms', 'number_stories', 'sale_date',\n",
      "       'sale_price', 'site_type', 'street_designation', 'topography',\n",
      "       'total_area', 'total_livable_area', 'type_heater', 'view_type',\n",
      "       'year_built', 'zip_code', 'lat', 'lng'],\n",
      "      dtype='object')\n",
      "<class 'pandas.core.frame.DataFrame'>\n",
      "RangeIndex: 581414 entries, 0 to 581413\n",
      "Data columns (total 31 columns):\n",
      " #   Column                     Non-Null Count   Dtype  \n",
      "---  ------                     --------------   -----  \n",
      " 0   basements                  326647 non-null  object \n",
      " 1   category_code_description  581302 non-null  object \n",
      " 2   census_tract               581304 non-null  float64\n",
      " 3   central_air                287107 non-null  object \n",
      " 4   depth                      580781 non-null  float64\n",
      " 5   exterior_condition         553633 non-null  float64\n",
      " 6   fireplaces                 576887 non-null  float64\n",
      " 7   frontage                   580776 non-null  float64\n",
      " 8   garage_spaces              576714 non-null  float64\n",
      " 9   garage_type                501187 non-null  object \n",
      " 10  geographic_ward            581304 non-null  float64\n",
      " 11  house_number               581414 non-null  int64  \n",
      " 12  interior_condition         552837 non-null  float64\n",
      " 13  market_value               581168 non-null  float64\n",
      " 14  number_of_bathrooms        577004 non-null  float64\n",
      " 15  number_of_bedrooms         577310 non-null  float64\n",
      " 16  number_of_rooms            547892 non-null  float64\n",
      " 17  number_stories             577313 non-null  float64\n",
      " 18  sale_date                  581406 non-null  object \n",
      " 19  sale_price                 581399 non-null  float64\n",
      " 20  site_type                  296310 non-null  object \n",
      " 21  street_designation         581409 non-null  object \n",
      " 22  topography                 542515 non-null  object \n",
      " 23  total_area                 580984 non-null  float64\n",
      " 24  total_livable_area         578897 non-null  float64\n",
      " 25  type_heater                295001 non-null  object \n",
      " 26  view_type                  560378 non-null  object \n",
      " 27  year_built                 578894 non-null  object \n",
      " 28  zip_code                   581306 non-null  float64\n",
      " 29  lat                        581307 non-null  float64\n",
      " 30  lng                        581307 non-null  float64\n",
      "dtypes: float64(19), int64(1), object(11)\n",
      "memory usage: 137.5+ MB\n",
      "None\n"
     ]
    }
   ],
   "source": [
    "# drop columns with over 50% missing values\n",
    "data_step12 = data_step11.drop(['assessment_date', 'fuel', 'market_value_date', 'quality_grade', 'separate_utilities', \n",
    "                              'sewer', 'street_direction', 'unfinished', 'unit', 'utility'], axis = 1)\n",
    "print(len(data_step12.columns))\n",
    "print(data_step12.columns)\n",
    "print(data_step12.info())"
   ]
  },
  {
   "cell_type": "markdown",
   "metadata": {},
   "source": [
    "**1.3 drop rows where sale_date or sale_price is missing**"
   ]
  },
  {
   "cell_type": "code",
   "execution_count": 6,
   "metadata": {},
   "outputs": [],
   "source": [
    "data_step13 = data_step12[data_step12['sale_date'].notna()]\n",
    "data_step13 = data_step13[data_step13['sale_price'].notna()]"
   ]
  },
  {
   "cell_type": "markdown",
   "metadata": {},
   "source": [
    "**1.4 read in data whose 'category_code_description' is 'Multi Family' or 'Single Family'**"
   ]
  },
  {
   "cell_type": "code",
   "execution_count": 7,
   "metadata": {},
   "outputs": [
    {
     "name": "stdout",
     "output_type": "stream",
     "text": [
      "(504489, 31)\n"
     ]
    }
   ],
   "source": [
    "data_step14 = data_step13.query('category_code_description == \"Multi Family\"|category_code_description == \"Single Family\"')\n",
    "print(data_step14.shape)"
   ]
  },
  {
   "cell_type": "code",
   "execution_count": 8,
   "metadata": {},
   "outputs": [
    {
     "name": "stdout",
     "output_type": "stream",
     "text": [
      "(504489, 31)\n"
     ]
    }
   ],
   "source": [
    "data_step1_final = data_step14\n",
    "print(data_step1_final.shape)"
   ]
  },
  {
   "cell_type": "markdown",
   "metadata": {},
   "source": [
    "### Step 2: recode categorical data"
   ]
  },
  {
   "cell_type": "markdown",
   "metadata": {},
   "source": [
    "**2 replace and combine category**"
   ]
  },
  {
   "cell_type": "code",
   "execution_count": 9,
   "metadata": {},
   "outputs": [],
   "source": [
    "data_step2 = data_step1_final"
   ]
  },
  {
   "cell_type": "code",
   "execution_count": 10,
   "metadata": {},
   "outputs": [
    {
     "name": "stdout",
     "output_type": "stream",
     "text": [
      "NaN        185650\n",
      "full       162826\n",
      "partial    145547\n",
      "None        10466\n",
      "Name: basements, dtype: int64\n"
     ]
    }
   ],
   "source": [
    "# feature 0: basements\n",
    "data_step2['basements'] = data_step1_final['basements'].replace({'0':'None','1':'full','2':'full','3':'full','4':'full',\n",
    "                                                        'A':'full', 'B': 'full','C': 'full','D': 'full','E':'partial',\n",
    "                                                        'F':'partial','G':'partial','H':'partial','I':'full',\n",
    "                                                        'J':'partial'})\n",
    "print(data_step2['basements'].value_counts(dropna=False))"
   ]
  },
  {
   "cell_type": "code",
   "execution_count": 11,
   "metadata": {},
   "outputs": [
    {
     "name": "stdout",
     "output_type": "stream",
     "text": [
      "Single Family    461994\n",
      "Multi Family      42495\n",
      "Name: category_code_description, dtype: int64\n"
     ]
    }
   ],
   "source": [
    "# feature 1: category_code_description\n",
    "print(data_step2.category_code_description.value_counts(dropna=False))"
   ]
  },
  {
   "cell_type": "code",
   "execution_count": 12,
   "metadata": {},
   "outputs": [
    {
     "name": "stdout",
     "output_type": "stream",
     "text": [
      "NaN    224789\n",
      "N      168264\n",
      "Y      111436\n",
      "Name: central_air, dtype: int64\n"
     ]
    }
   ],
   "source": [
    "# feature 3: central_air\n",
    "data_step2['central_air'] = data_step1_final['central_air'].replace({'0': 'N', '1': 'Y','Y': 'Y', 'N': 'N'})\n",
    "print(data_step2['central_air'].value_counts(dropna=False))"
   ]
  },
  {
   "cell_type": "code",
   "execution_count": 13,
   "metadata": {},
   "outputs": [
    {
     "name": "stdout",
     "output_type": "stream",
     "text": [
      "rehabbed         426451\n",
      "above average     41574\n",
      "average           14782\n",
      "new               13224\n",
      "vacant             5064\n",
      "below average      2587\n",
      "NaN                 436\n",
      "none                371\n",
      "Name: exterior_condition, dtype: int64\n"
     ]
    }
   ],
   "source": [
    "# feature 5: exterior_condition\n",
    "data_step2['exterior_condition'] = data_step1_final['exterior_condition'].replace({0:'none',1:'new',2:'rehabbed',\n",
    "                                                                          3:'above average',4:'rehabbed',5:'average', \n",
    "                                                                          6: 'below average',7:'vacant',8:'sealed',\n",
    "                                                                          9:'compromised'})\n",
    "print(data_step2.exterior_condition.value_counts(dropna=False))"
   ]
  },
  {
   "cell_type": "code",
   "execution_count": 14,
   "metadata": {},
   "outputs": [
    {
     "name": "stdout",
     "output_type": "stream",
     "text": [
      "none         276861\n",
      "builtin      140019\n",
      "NaN           34752\n",
      "converted     22774\n",
      "detached      18369\n",
      "attached       8434\n",
      "selfpark       2575\n",
      "attendant       705\n",
      "Name: garage_type, dtype: int64\n"
     ]
    }
   ],
   "source": [
    "# feature 9: garage_type\n",
    "data_step2['garage_type'] = data_step1_final['garage_type'].replace({'A':'builtin', 'B':'attached','C':'detached',\n",
    "                                                            'F':'converted', 'S':'selfpark', 'T':'attendant',\n",
    "                                                            '0':'none', '0.0':'none', 0.0:'none',\n",
    "                                                            '1':'builtin', '1.0':'builtin', 1.0:'builtin',\n",
    "                                                            '2':'attached', '2.0':'attached', 2.0:'attached',\n",
    "                                                            '3':'detached', '3.0':'detached', 3.0:'detached'})\n",
    "print(data_step2.garage_type.value_counts(dropna=False))"
   ]
  },
  {
   "cell_type": "code",
   "execution_count": 15,
   "metadata": {},
   "outputs": [],
   "source": [
    "# feature 11: house_number\n",
    "data_step2['house_number'] = np.where(data_step2['house_number']%2==0, 'South or West', 'North or East')"
   ]
  },
  {
   "cell_type": "code",
   "execution_count": 16,
   "metadata": {},
   "outputs": [
    {
     "data": {
      "text/plain": [
       "South or West    254510\n",
       "North or East    249979\n",
       "Name: house_number, dtype: int64"
      ]
     },
     "execution_count": 16,
     "metadata": {},
     "output_type": "execute_result"
    }
   ],
   "source": [
    "data_step2.house_number.value_counts(dropna=False)"
   ]
  },
  {
   "cell_type": "code",
   "execution_count": 17,
   "metadata": {},
   "outputs": [
    {
     "name": "stdout",
     "output_type": "stream",
     "text": [
      "rehabbed         426451\n",
      "above average     41574\n",
      "average           14782\n",
      "new               13224\n",
      "vacant             5064\n",
      "below average      2587\n",
      "NaN                 436\n",
      "none                371\n",
      "Name: exterior_condition, dtype: int64\n"
     ]
    }
   ],
   "source": [
    "# feature 12: interior_condition\n",
    "data_step2['interior_condition'] = data_step1_final['interior_condition'].replace({0:'none',1:'new',2:'new',\n",
    "                                                                          3:'above average',4:'average', \n",
    "                                                                          5:'below average',6:'vacant',7:'sealed'})\n",
    "print(data_step2.exterior_condition.value_counts(dropna=False))"
   ]
  },
  {
   "cell_type": "code",
   "execution_count": 18,
   "metadata": {},
   "outputs": [
    {
     "data": {
      "text/plain": [
       "NaN    243195\n",
       "A      235162\n",
       "B       25477\n",
       "D         380\n",
       "C         246\n",
       "E          37\n",
       "G          33\n",
       "F           4\n",
       "Name: site_type, dtype: int64"
      ]
     },
     "execution_count": 18,
     "metadata": {},
     "output_type": "execute_result"
    }
   ],
   "source": [
    "# feature 20: site_type\n",
    "data_step2['site_type'].value_counts(dropna=False)"
   ]
  },
  {
   "cell_type": "code",
   "execution_count": 20,
   "metadata": {},
   "outputs": [
    {
     "data": {
      "text/plain": [
       "ST       371808\n",
       "AVE       73012\n",
       "RD        29498\n",
       "Other      8606\n",
       "LA         7600\n",
       "PL         5819\n",
       "DR         5777\n",
       "SQ         2369\n",
       "Name: street_designation, dtype: int64"
      ]
     },
     "execution_count": 20,
     "metadata": {},
     "output_type": "execute_result"
    }
   ],
   "source": [
    "# feaure 21: street_designation\n",
    "\n",
    "data_step2['street_designation'] = data_step1_final['street_designation'].astype(\"string\")\n",
    "data_step2['street_designation'] = np.where(data_step1_final['street_designation'].str.match(\"ST\"), \"ST\",\n",
    "                                   np.where(data_step1_final['street_designation'].str.match(\"AVE\"), \"AVE\",\n",
    "                                   np.where(data_step1_final['street_designation'].str.match(\"RD\"), \"RD\",\n",
    "                                   np.where(data_step1_final['street_designation'].str.match(\"LA\"), \"LA\",\n",
    "                                   np.where(data_step1_final['street_designation'].str.match(\"DR\"), \"DR\",\n",
    "                                   np.where(data_step1_final['street_designation'].str.match(\"PL\"), \"PL\",\n",
    "                                   np.where(data_step1_final['street_designation'].str.match(\"SQ\"), \"SQ\",\"Other\")))))))\n",
    "\n",
    "\n",
    "data_step2['street_designation'].value_counts(dropna=False)"
   ]
  },
  {
   "cell_type": "code",
   "execution_count": 21,
   "metadata": {},
   "outputs": [
    {
     "data": {
      "text/plain": [
       "F       437959\n",
       "NaN      33401\n",
       "A        28190\n",
       "E         4442\n",
       "B          235\n",
       "C          158\n",
       "D          103\n",
       "None         1\n",
       "Name: topography, dtype: int64"
      ]
     },
     "execution_count": 21,
     "metadata": {},
     "output_type": "execute_result"
    }
   ],
   "source": [
    "# feature 22: topography      \n",
    "data_step2['topography'] = data_step1_final['topography'].replace({'0':'None'})\n",
    "data_step2['topography'].value_counts(dropna=False)"
   ]
  },
  {
   "cell_type": "code",
   "execution_count": 22,
   "metadata": {},
   "outputs": [
    {
     "data": {
      "text/plain": [
       "NaN     218424\n",
       "H       119560\n",
       "A        96591\n",
       "B        59212\n",
       "G         4733\n",
       "C         2913\n",
       "None      1764\n",
       "E          727\n",
       "D          565\n",
       "Name: type_heater, dtype: int64"
      ]
     },
     "execution_count": 22,
     "metadata": {},
     "output_type": "execute_result"
    }
   ],
   "source": [
    "# feature 25: type_heater  \n",
    "data_step2['type_heater'] = data_step1_final['type_heater'].replace({'0':'None'})\n",
    "data_step2['type_heater'].value_counts(dropna=False)"
   ]
  },
  {
   "cell_type": "code",
   "execution_count": 23,
   "metadata": {},
   "outputs": [
    {
     "data": {
      "text/plain": [
       "I       467576\n",
       "A        14667\n",
       "C         7514\n",
       "None      3634\n",
       "H         2658\n",
       "D         2530\n",
       "NaN       2255\n",
       "E         1911\n",
       "B         1744\n",
       "Name: view_type, dtype: int64"
      ]
     },
     "execution_count": 23,
     "metadata": {},
     "output_type": "execute_result"
    }
   ],
   "source": [
    "# feature 26: view_type \n",
    "data_step2['view_type'] = data_step1_final['view_type'].replace({'0':'None'})\n",
    "data_step2['view_type'].value_counts(dropna=False)"
   ]
  },
  {
   "cell_type": "code",
   "execution_count": 24,
   "metadata": {},
   "outputs": [
    {
     "name": "stdout",
     "output_type": "stream",
     "text": [
      "(504489, 31)\n"
     ]
    }
   ],
   "source": [
    "data_step2_final = data_step2\n",
    "print(data_step2_final.shape)"
   ]
  },
  {
   "cell_type": "markdown",
   "metadata": {},
   "source": [
    "### Step 3: recode numerical data"
   ]
  },
  {
   "cell_type": "markdown",
   "metadata": {},
   "source": [
    "**3 transform numerical data**"
   ]
  },
  {
   "cell_type": "code",
   "execution_count": 25,
   "metadata": {},
   "outputs": [],
   "source": [
    "data_step3 = data_step2_final"
   ]
  },
  {
   "cell_type": "code",
   "execution_count": 26,
   "metadata": {},
   "outputs": [],
   "source": [
    "# sale_date \n",
    "data_step3['sale_date'] = pd.to_datetime(data_step2_final['sale_date'])\n",
    "data_step3['sale_year'] = data_step2_final['sale_date'].dt.year\n",
    "data_step3['sale_month'] = data_step2_final['sale_date'].dt.month\n",
    "data_step3['sale_week'] = data_step2_final['sale_date'].dt.isocalendar().week\n",
    "data_step3['sale_week'] = data_step2_final['sale_week'].astype(int)\n",
    "data_step3['sale_day'] = data_step2_final['sale_date'].dt.day\n",
    "data_step3['sale_dow'] = data_step2_final['sale_date'].dt.dayofweek\n",
    "data_step3 = data_step3.drop(['sale_date'], axis=1)"
   ]
  },
  {
   "cell_type": "code",
   "execution_count": 27,
   "metadata": {},
   "outputs": [],
   "source": [
    "# year_built\n",
    "data_step3['year_built'] = data_step2_final['year_built'].replace('196Y', np.NaN)\n",
    "data_step3[\"year_built\"] = pd.to_numeric(data_step3[\"year_built\"])"
   ]
  },
  {
   "cell_type": "code",
   "execution_count": 28,
   "metadata": {},
   "outputs": [
    {
     "name": "stdout",
     "output_type": "stream",
     "text": [
      "(504489, 35)\n"
     ]
    }
   ],
   "source": [
    "data_step3_final = data_step3\n",
    "print(data_step3_final.shape)"
   ]
  },
  {
   "cell_type": "markdown",
   "metadata": {},
   "source": [
    "### Step 4:  drop extreme high sale price"
   ]
  },
  {
   "cell_type": "markdown",
   "metadata": {},
   "source": [
    "**4 drop rows with sales price of greater than $5 million**"
   ]
  },
  {
   "cell_type": "code",
   "execution_count": 29,
   "metadata": {},
   "outputs": [],
   "source": [
    "data_step4 = data_step3_final[(data_step3_final['sale_price']>1000)&(data_step3_final['sale_price']<5000000)]"
   ]
  },
  {
   "cell_type": "code",
   "execution_count": 30,
   "metadata": {},
   "outputs": [
    {
     "name": "stdout",
     "output_type": "stream",
     "text": [
      "(358226, 35)\n"
     ]
    }
   ],
   "source": [
    "data_step4_final = data_step4\n",
    "print(data_step4_final.shape)"
   ]
  },
  {
   "cell_type": "markdown",
   "metadata": {},
   "source": [
    "### Step 5: split into training, validation and test set"
   ]
  },
  {
   "cell_type": "markdown",
   "metadata": {},
   "source": [
    "**5 split the data into training and test sets:   \n",
    "The training and validation dataset contains all rows with house sold during the years of 2010 - 2019.    \n",
    "The test dataset contains all rows with house sold during 2020 and 2021.**"
   ]
  },
  {
   "cell_type": "code",
   "execution_count": 31,
   "metadata": {},
   "outputs": [
    {
     "data": {
      "text/plain": [
       "(180208, 35)"
      ]
     },
     "execution_count": 31,
     "metadata": {},
     "output_type": "execute_result"
    }
   ],
   "source": [
    "# first subset the data only to 2010 - 2021\n",
    "data_step5 = data_step4_final[data_step4_final['sale_year'] > 2009]\n",
    "data_step5.shape"
   ]
  },
  {
   "cell_type": "code",
   "execution_count": 32,
   "metadata": {},
   "outputs": [
    {
     "name": "stdout",
     "output_type": "stream",
     "text": [
      "(150594, 34)\n",
      "(150594,)\n"
     ]
    }
   ],
   "source": [
    "# get training plus validation set \n",
    "X_train = data_step5[data_step5['sale_year'] < 2020].drop(['sale_price'],axis=1)\n",
    "y_train = data_step5.loc[X_train.index, 'sale_price']\n",
    "print(X_train.shape)\n",
    "print(y_train.shape)"
   ]
  },
  {
   "cell_type": "code",
   "execution_count": 33,
   "metadata": {},
   "outputs": [
    {
     "name": "stdout",
     "output_type": "stream",
     "text": [
      "(29614, 34)\n",
      "(29614,)\n"
     ]
    }
   ],
   "source": [
    "# get test set \n",
    "X_test = data_step5[data_step5['sale_year'] > 2019].drop(['sale_price'],axis=1)\n",
    "y_test = data_step5.loc[X_test.index, 'sale_price']\n",
    "print(X_test.shape)\n",
    "print(y_test.shape)"
   ]
  },
  {
   "cell_type": "code",
   "execution_count": 34,
   "metadata": {},
   "outputs": [
    {
     "name": "stdout",
     "output_type": "stream",
     "text": [
      "(120475, 34)\n",
      "(30119, 34)\n",
      "(120475,)\n",
      "(30119,)\n"
     ]
    }
   ],
   "source": [
    "# get training and validation set\n",
    "X_train_train, X_train_val, y_train_train, y_train_val = train_test_split(X_train, y_train, test_size=0.2, random_state=123)\n",
    "print(X_train_train.shape)\n",
    "print(X_train_val.shape)\n",
    "print(y_train_train.shape)\n",
    "print(y_train_val.shape)"
   ]
  },
  {
   "cell_type": "code",
   "execution_count": 35,
   "metadata": {},
   "outputs": [
    {
     "name": "stdout",
     "output_type": "stream",
     "text": [
      "<class 'pandas.core.frame.DataFrame'>\n",
      "Int64Index: 180208 entries, 0 to 580978\n",
      "Data columns (total 35 columns):\n",
      " #   Column                     Non-Null Count   Dtype  \n",
      "---  ------                     --------------   -----  \n",
      " 0   basements                  121072 non-null  object \n",
      " 1   category_code_description  180208 non-null  object \n",
      " 2   census_tract               180199 non-null  float64\n",
      " 3   central_air                115196 non-null  object \n",
      " 4   depth                      179997 non-null  float64\n",
      " 5   exterior_condition         180026 non-null  object \n",
      " 6   fireplaces                 179710 non-null  float64\n",
      " 7   frontage                   179991 non-null  float64\n",
      " 8   garage_spaces              179517 non-null  float64\n",
      " 9   garage_type                156099 non-null  object \n",
      " 10  geographic_ward            180199 non-null  float64\n",
      " 11  house_number               180208 non-null  object \n",
      " 12  interior_condition         179972 non-null  object \n",
      " 13  market_value               180168 non-null  float64\n",
      " 14  number_of_bathrooms        179763 non-null  float64\n",
      " 15  number_of_bedrooms         180040 non-null  float64\n",
      " 16  number_of_rooms            158823 non-null  float64\n",
      " 17  number_stories             180039 non-null  float64\n",
      " 18  sale_price                 180208 non-null  float64\n",
      " 19  site_type                  85404 non-null   object \n",
      " 20  street_designation         180208 non-null  object \n",
      " 21  topography                 165562 non-null  object \n",
      " 22  total_area                 180055 non-null  float64\n",
      " 23  total_livable_area         180156 non-null  float64\n",
      " 24  type_heater                112825 non-null  object \n",
      " 25  view_type                  179048 non-null  object \n",
      " 26  year_built                 180156 non-null  float64\n",
      " 27  zip_code                   180199 non-null  float64\n",
      " 28  lat                        180199 non-null  float64\n",
      " 29  lng                        180199 non-null  float64\n",
      " 30  sale_year                  180208 non-null  int64  \n",
      " 31  sale_month                 180208 non-null  int64  \n",
      " 32  sale_week                  180208 non-null  int32  \n",
      " 33  sale_day                   180208 non-null  int64  \n",
      " 34  sale_dow                   180208 non-null  int64  \n",
      "dtypes: float64(18), int32(1), int64(4), object(12)\n",
      "memory usage: 52.8+ MB\n"
     ]
    }
   ],
   "source": [
    "data_step5.info()"
   ]
  },
  {
   "cell_type": "markdown",
   "metadata": {},
   "source": [
    "### Step 6: process training data "
   ]
  },
  {
   "cell_type": "markdown",
   "metadata": {},
   "source": [
    "**for training data:\\\n",
    "categorical features: fill in mode then one hot encode\\\n",
    "numercial features: fill in median then standardize**"
   ]
  },
  {
   "cell_type": "code",
   "execution_count": 36,
   "metadata": {},
   "outputs": [],
   "source": [
    "# for categorical data, fill missing values with mode and then one-hot encode\n",
    "cat_features = ['basements', 'category_code_description', 'central_air', 'exterior_condition', 'garage_type', \n",
    "                'house_number','interior_condition', 'site_type','street_designation', 'topography', \n",
    "                'type_heater', 'view_type','street_designation']\n",
    "cat_pipe = Pipeline([\n",
    "    ('imputer', SimpleImputer(strategy='most_frequent')),\n",
    "    ('encoder', OneHotEncoder(handle_unknown='ignore',sparse=False))\n",
    "])\n",
    "\n",
    "# for numerical data, fill missing values with median and then scale\n",
    "num_features = ['census_tract', 'depth', 'fireplaces', 'frontage', 'garage_spaces',\n",
    "                'geographic_ward', 'market_value', 'number_of_bathrooms','number_of_bedrooms', 'number_of_rooms',\n",
    "                'number_stories', 'total_area', 'total_livable_area','year_built', 'zip_code',\n",
    "                'lat', 'lng','sale_year','sale_month','sale_week',\n",
    "                'sale_day','sale_dow']\n",
    "num_pipe = Pipeline([\n",
    "    ('imputer', SimpleImputer(strategy='median')), \n",
    "    ('scaler', StandardScaler())\n",
    "])\n",
    "\n",
    "# Combine two transformers into single ColumnTransformer preprocessor\n",
    "preprocessor = ColumnTransformer([\n",
    "    ('cat', cat_pipe, cat_features),\n",
    "    ('num', num_pipe, num_features)\n",
    "])"
   ]
  },
  {
   "cell_type": "code",
   "execution_count": 37,
   "metadata": {
    "scrolled": true
   },
   "outputs": [],
   "source": [
    "# use pipeline to fit training data\n",
    "preprocessor_train = preprocessor.fit(X_train_train)\n",
    "\n",
    "# prepare column names\n",
    "cat_columns = preprocessor.named_transformers_['cat']['encoder'].get_feature_names(cat_features)\n",
    "columns = np.append(cat_columns, num_features)\n",
    "\n",
    "# preprocess training data\n",
    "X_train_train_final = pd.DataFrame(preprocessor_train.transform(X_train_train), index=X_train_train.index, columns=columns)\n",
    "y_train_train_final = y_train_train.fillna(y_train_train.median())"
   ]
  },
  {
   "cell_type": "markdown",
   "metadata": {},
   "source": [
    "### Step 7: process validation and test data "
   ]
  },
  {
   "cell_type": "markdown",
   "metadata": {},
   "source": [
    "**use statistical traits in training data to process validation and test data**"
   ]
  },
  {
   "cell_type": "code",
   "execution_count": 38,
   "metadata": {},
   "outputs": [],
   "source": [
    "# preprocess validation data\n",
    "X_train_val_final = pd.DataFrame(preprocessor_train.transform(X_train_val), index=X_train_val.index, columns=columns)\n",
    "y_train_val_final = y_train_val.fillna(y_train_train.median())\n",
    "\n",
    "# preprocess test data\n",
    "X_test_final = pd.DataFrame(preprocessor_train.transform(X_test), index=X_test.index, columns=columns)\n",
    "y_test_final = y_test.fillna(y_train_train.median())"
   ]
  },
  {
   "cell_type": "code",
   "execution_count": 39,
   "metadata": {
    "scrolled": false
   },
   "outputs": [
    {
     "name": "stdout",
     "output_type": "stream",
     "text": [
      "(120475, 97)\n",
      "(30119, 97)\n",
      "(29614, 97)\n",
      "(120475,)\n",
      "(30119,)\n",
      "(29614,)\n"
     ]
    }
   ],
   "source": [
    "print(X_train_train_final.shape)\n",
    "print(X_train_val_final.shape)\n",
    "print(X_test_final.shape)\n",
    "print(y_train_train_final.shape)\n",
    "print(y_train_val_final.shape)\n",
    "print(y_test_final.shape)"
   ]
  },
  {
   "cell_type": "code",
   "execution_count": 41,
   "metadata": {},
   "outputs": [],
   "source": [
    "pickle_out = open(\"housedat_Xtrain_sub.pickle\",\"wb\")\n",
    "pickle.dump(X_train_train_final, pickle_out)\n",
    "pickle_out.close()\n",
    "\n",
    "pickle_out = open(\"housedat_Xval.pickle\",\"wb\")\n",
    "pickle.dump(X_train_val_final, pickle_out)\n",
    "pickle_out.close()\n",
    "\n",
    "pickle_out = open(\"housedat_Xtest.pickle\",\"wb\")\n",
    "pickle.dump(X_test_final, pickle_out)\n",
    "pickle_out.close()\n",
    "\n",
    "pickle_out = open(\"housedat_ytrain_sub.pickle\",\"wb\")\n",
    "pickle.dump(y_train_train_final, pickle_out)\n",
    "pickle_out.close()\n",
    "\n",
    "pickle_out = open(\"housedat_yval.pickle\",\"wb\")\n",
    "pickle.dump(y_train_val_final, pickle_out)\n",
    "pickle_out.close()\n",
    "\n",
    "pickle_out = open(\"housedat_ytest.pickle\",\"wb\")\n",
    "pickle.dump(y_test_final, pickle_out)\n",
    "pickle_out.close()"
   ]
  },
  {
   "cell_type": "markdown",
   "metadata": {},
   "source": [
    "possible predictions datasets:   \n",
    "https://www.kaggle.com/datasets/harlfoxem/housesalesprediction     \n",
    "https://github.com/michellesklee/predicting_home_values    "
   ]
  }
 ],
 "metadata": {
  "kernelspec": {
   "display_name": "Python 3 (ipykernel)",
   "language": "python",
   "name": "python3"
  },
  "language_info": {
   "codemirror_mode": {
    "name": "ipython",
    "version": 3
   },
   "file_extension": ".py",
   "mimetype": "text/x-python",
   "name": "python",
   "nbconvert_exporter": "python",
   "pygments_lexer": "ipython3",
   "version": "3.9.7"
  }
 },
 "nbformat": 4,
 "nbformat_minor": 4
}
