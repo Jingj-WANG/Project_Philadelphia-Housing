{
 "cells": [
  {
   "cell_type": "code",
   "execution_count": 180,
   "metadata": {},
   "outputs": [],
   "source": [
    "#import statements\n",
    "import pandas as pd \n",
    "import numpy as np \n",
    "import pickle\n",
    "pd.set_option('display.max_columns', None)"
   ]
  },
  {
   "cell_type": "markdown",
   "metadata": {},
   "source": [
    "Read in data   \n",
    "Read in those properties that fall under \"Multi Family\" and \"Single Family\""
   ]
  },
  {
   "cell_type": "markdown",
   "metadata": {},
   "source": [
    "**Find the data codebook here**:   https://metadata.phila.gov/#home/datasetdetails/5543865f20583086178c4ee5/representationdetails/55d624fdad35c7e854cb21a4/?view_287_page=1\n",
    "\n",
    "**Columns to keep**:  'assessment_date', 'basements', 'building_code_description',\n",
    "                 'category_code_description','census_tract', 'central_air','depth',\n",
    "                 'exterior_condition', 'fireplaces', 'frontage', 'fuel', 'garage_spaces',\n",
    "                 'geographic_ward', 'house_number', \n",
    "                 'interior_condition',\n",
    "                 'market_value', 'market_value_date', 'number_of_bathrooms', \n",
    "                 'number_of_bedrooms', 'number_of_rooms','number_stories', 'quality_grade', \n",
    "                 'sale_date', 'sale_price', 'street_designation',\n",
    "                 'topography', 'total_area','total_livable_area', 'type_heater', \n",
    "                 'unfinished',  'view_type', 'year_built',\n",
    "                 'zip_code',  'lat', 'lng'"
   ]
  },
  {
   "cell_type": "code",
   "execution_count": 160,
   "metadata": {},
   "outputs": [],
   "source": [
    "#place columns of interest into a list\n",
    "cols_interest = ['assessment_date', 'basements', \n",
    "                 'category_code_description','census_tract', 'central_air','depth',\n",
    "                 'exterior_condition', 'fireplaces', 'frontage', 'fuel', 'garage_spaces',\n",
    "                 'geographic_ward', 'house_number', \n",
    "                 'interior_condition',\n",
    "                 'market_value', 'market_value_date', 'number_of_bathrooms', \n",
    "                 'number_of_bedrooms', 'number_of_rooms','number_stories', 'quality_grade', \n",
    "                 'sale_date', 'sale_price', 'street_designation',\n",
    "                 'topography', 'total_area','total_livable_area', 'type_heater', \n",
    "                 'unfinished',  'view_type', 'year_built',\n",
    "                 'zip_code',  'lat', 'lng']"
   ]
  },
  {
   "cell_type": "code",
   "execution_count": 161,
   "metadata": {},
   "outputs": [
    {
     "name": "stderr",
     "output_type": "stream",
     "text": [
      "/opt/conda/lib/python3.7/site-packages/IPython/core/interactiveshell.py:3146: DtypeWarning: Columns (67,71) have mixed types.Specify dtype option on import or set low_memory=False.\n",
      "  interactivity=interactivity, compiler=compiler, result=result)\n"
     ]
    }
   ],
   "source": [
    "#read in data using columns of interest \n",
    "#query only those multifamily and single family homes\n",
    "dat = (pd.read_csv(\"/home/jovyan/work/Philadelphia-Housing/processing/opa_properties_public.csv\", \n",
    "                 usecols = cols_interest)\n",
    "       .query('category_code_description == \"Multi Family\" | category_code_description == \"Single Family\"')\n",
    ")"
   ]
  },
  {
   "cell_type": "markdown",
   "metadata": {},
   "source": [
    "We re-code four columns of interest (basements, central_air, fuel, topography, type_heater).    "
   ]
  },
  {
   "cell_type": "code",
   "execution_count": 162,
   "metadata": {},
   "outputs": [],
   "source": [
    "dat['basements'] = dat['basements'].map({'A': 'full', 'B': 'full','C': 'full','D': 'full','I': 'full',\n",
    "                                        'E': 'partial','F': 'partial','G': 'partial','H': 'partial','J': 'partial',\n",
    "                                        '0': 'None'})\n",
    "dat['central_air'] = dat['central_air'].map({'0': 'N', '1': 'Y','Y': 'Y', 'N': 'N'})\n",
    "\n",
    "dat['fuel'] = dat['fuel'].map({'A': 'NG', 'B': 'Oil','C': 'Electric',\n",
    "                              'E': 'other', 'G': 'other','H': 'other','I':'other'})\n",
    "dat['topography'] = dat['topography'].map({'A': 'A', 'B': 'B','C': 'C',\n",
    "                              'D': 'D', 'E': 'E','F': 'F'})\n",
    "\n",
    "dat['type_heater'] = dat['type_heater'].map({'A': 'A', 'B': 'B','C': 'C',\n",
    "                              'D': 'D', 'E': 'E','G': 'G','H': 'H'})\n",
    "\n",
    "\n",
    "# dat['street_designation'] = dat['street_designation'].map({'ST': 'STAAA',\n",
    "#                                                            'AVE': 'AVE',\n",
    "#                                                            'RD': 'RD',\n",
    "#                                                            'LA': 'LA',\n",
    "#                                                            'DR': 'DR',\n",
    "#                                                            'PL': 'PL',\n",
    "#                                                            #'SQ': 'SQAAAA',\n",
    "#                                                            #'ST': 'ST',\n",
    "#                                                            #'AVE': 'AVE',\n",
    "#                                                            #'RD': 'RD',\n",
    "#                                                            #'LA': 'LA',\n",
    "#                                                            #'DR': 'DR',\n",
    "#                                                            #'PL': 'PL',\n",
    "#                                                            'PL': 'PL' })\n",
    "\n",
    "dat['street_designation'] = dat['street_designation'].astype(\"string\")\n",
    "\n",
    "# dat['street_designation'] = np.where( dat['street_designation'] == \"ST\", \"ST\",\n",
    "#                                   (np.where( dat['street_designation'] == \"AVE\", \"AVE\",\"Other\")))\n",
    "\n",
    "\n",
    "# ST      177010\n",
    "# AVE      32703\n",
    "# RD       12143\n",
    "# LA        3139\n",
    "# DR        2487\n",
    "# PL        2288\n",
    "# SQ        1288\n",
    "# BLV       1001\n",
    "# CT         775\n",
    "# TER        716\n",
    "# WAY        659\n",
    "# LN         526\n",
    "# CIR        348\n",
    "# PK         164\n",
    "# PKY        117\n",
    "# BLVD       108\n",
    "# PLZ         66\n",
    "# MEW         33\n",
    "# ALY         27\n",
    "# PIKE        25\n",
    "# WLK         14\n",
    "# PKWY         9\n",
    "# MEWS         7\n",
    "# ROW          4\n",
    "# WALK         4\n",
    "# HTS          3\n",
    "# PTH          2\n",
    "# PATH         2"
   ]
  },
  {
   "cell_type": "code",
   "execution_count": 139,
   "metadata": {},
   "outputs": [
    {
     "data": {
      "text/plain": [
       "0         ST  \n",
       "1         ST  \n",
       "2         AVE \n",
       "3         AVE \n",
       "9         ST  \n",
       "          ... \n",
       "581405    ST  \n",
       "581406    AVE \n",
       "581407    ST  \n",
       "581409    ST  \n",
       "581410    ST  \n",
       "Name: street_designation, Length: 504500, dtype: string"
      ]
     },
     "execution_count": 139,
     "metadata": {},
     "output_type": "execute_result"
    }
   ],
   "source": [
    "dat['street_designation']"
   ]
  },
  {
   "cell_type": "code",
   "execution_count": 140,
   "metadata": {},
   "outputs": [
    {
     "data": {
      "text/plain": [
       "array(['Other', 'Other', 'Other', ..., 'Other', 'Other', 'Other'],\n",
       "      dtype='<U5')"
      ]
     },
     "execution_count": 140,
     "metadata": {},
     "output_type": "execute_result"
    }
   ],
   "source": [
    "np.where( np.array(dat['street_designation']) == \"ST\", \"ST\",\n",
    "         (np.where( np.array(dat['street_designation']) == \"AVE\", \"AVE\",\"Other\")))"
   ]
  },
  {
   "cell_type": "code",
   "execution_count": 129,
   "metadata": {},
   "outputs": [
    {
     "data": {
      "text/plain": [
       "Other    504500\n",
       "Name: street_designation, dtype: int64"
      ]
     },
     "execution_count": 129,
     "metadata": {},
     "output_type": "execute_result"
    }
   ],
   "source": [
    "dat['street_designation'].value_counts()"
   ]
  },
  {
   "cell_type": "markdown",
   "metadata": {},
   "source": [
    "Below, we output the percentage missing by column:  \n",
    "Note that assessment_date, fuel, market_value_date, quality_grade, and unfinished are all over ~90% missing.   \n",
    "For these reasons, we will drop these columns from the analysis, as they will not provide robust and useful information for the analysis and prediction process.  "
   ]
  },
  {
   "cell_type": "code",
   "execution_count": 145,
   "metadata": {
    "scrolled": true
   },
   "outputs": [
    {
     "data": {
      "text/plain": [
       "assessment_date               93.949851\n",
       "basements                     36.815857\n",
       "category_code_description      0.000000\n",
       "census_tract                   0.006938\n",
       "central_air                   44.558375\n",
       "depth                          0.077899\n",
       "exterior_condition             0.088206\n",
       "fireplaces                     0.164718\n",
       "frontage                       0.079088\n",
       "fuel                          97.111992\n",
       "garage_spaces                  0.199405\n",
       "geographic_ward                0.006938\n",
       "house_number                   0.000000\n",
       "interior_condition             0.109812\n",
       "market_value                   0.018236\n",
       "market_value_date            100.000000\n",
       "number_of_bathrooms            0.143707\n",
       "number_of_bedrooms             0.083845\n",
       "number_of_rooms                5.908622\n",
       "number_stories                 0.083251\n",
       "quality_grade                 89.448167\n",
       "sale_date                      0.001586\n",
       "sale_price                     0.002180\n",
       "street_designation             0.000000\n",
       "topography                     6.621011\n",
       "total_area                     0.047572\n",
       "total_livable_area             0.038454\n",
       "type_heater                   43.646581\n",
       "unfinished                    99.647175\n",
       "view_type                      0.446977\n",
       "year_built                     0.038454\n",
       "zip_code                       0.006739\n",
       "lat                            0.006739\n",
       "lng                            0.006739\n",
       "dtype: float64"
      ]
     },
     "execution_count": 145,
     "metadata": {},
     "output_type": "execute_result"
    }
   ],
   "source": [
    "dat.isnull().sum() * 100 / len(dat)"
   ]
  },
  {
   "cell_type": "code",
   "execution_count": 163,
   "metadata": {},
   "outputs": [],
   "source": [
    "dat = dat.drop(['assessment_date', 'fuel', \n",
    "         'market_value_date', 'quality_grade', \n",
    "         'unfinished', 'central_air', 'type_heater',\n",
    "               'street_designation'], axis = 1)"
   ]
  },
  {
   "cell_type": "markdown",
   "metadata": {},
   "source": [
    "Next, we will remove those datapoints/rows that do not have values for **sale price** or **sale date**.   \n",
    "These are removed since these are our outcome variables.  \n",
    "Both the sales prices and the date which the house was sold is necessary to perform our experiment.  "
   ]
  },
  {
   "cell_type": "code",
   "execution_count": 164,
   "metadata": {},
   "outputs": [],
   "source": [
    "#drop the rows which 'sale_date' is NAN\n",
    "dat = dat[dat['sale_date'].notna()]\n",
    "#drop the rows which 'sale_price' is NAN\n",
    "dat = dat[dat['sale_price'].notna()]"
   ]
  },
  {
   "cell_type": "markdown",
   "metadata": {},
   "source": [
    "Find the percentage of homes that have a sales price of greater than $5  "
   ]
  },
  {
   "cell_type": "code",
   "execution_count": 165,
   "metadata": {},
   "outputs": [
    {
     "data": {
      "text/plain": [
       "0.2820675971131184"
      ]
     },
     "execution_count": 165,
     "metadata": {},
     "output_type": "execute_result"
    }
   ],
   "source": [
    "(dat['sale_price'] > 5_000_000).mean() *100"
   ]
  },
  {
   "cell_type": "markdown",
   "metadata": {},
   "source": [
    "*Note*: 0.28% of the data has a sale_price of greater than $5 million.   \n",
    "We remove these from the dataset since we are not interested in these homes.  "
   ]
  },
  {
   "cell_type": "code",
   "execution_count": 166,
   "metadata": {},
   "outputs": [],
   "source": [
    "dat = dat[dat['sale_price'] < 5_000_000]"
   ]
  },
  {
   "cell_type": "markdown",
   "metadata": {},
   "source": [
    "Next, we deal with dates:    \n",
    "First we coerce the dates    \n",
    "Next we will break apart the date elements into variables   "
   ]
  },
  {
   "cell_type": "code",
   "execution_count": 167,
   "metadata": {},
   "outputs": [],
   "source": [
    "#create a date variable\n",
    "dat['sale_date'] = pd.to_datetime(dat['sale_date'])\n",
    "#break apart the date to new variables:  \n",
    "dat['sale_year'] = dat['sale_date'].dt.year\n",
    "dat['sale_month'] = dat['sale_date'].dt.month\n",
    "dat['sale_week'] = dat['sale_date'].dt.isocalendar().week\n",
    "dat['sale_day'] = dat['sale_date'].dt.day\n",
    "dat['sale_dow'] = dat['sale_date'].dt.dayofweek\n",
    "#change the sale week column type to int since it is coerced originally to \n",
    "#UInt32\n",
    "dat['sale_week'] = dat['sale_week'].astype(int)"
   ]
  },
  {
   "cell_type": "markdown",
   "metadata": {},
   "source": [
    "Certain 'year_built' inputs are incorrect.    \n",
    "We ensure to change these below:   "
   ]
  },
  {
   "cell_type": "code",
   "execution_count": 168,
   "metadata": {},
   "outputs": [],
   "source": [
    "dat['year_built'] = dat['year_built'].replace('196Y', np.NaN)\n",
    "#convert to numeric\n",
    "dat[\"year_built\"] = pd.to_numeric(dat[\"year_built\"])\n",
    "#replace year 0 with NaN\n",
    "dat['year_built'] = dat['year_built'].replace(0, np.NaN)"
   ]
  },
  {
   "cell_type": "code",
   "execution_count": 169,
   "metadata": {
    "scrolled": true
   },
   "outputs": [
    {
     "data": {
      "text/plain": [
       "count    502272.000000\n",
       "mean       1937.034941\n",
       "std          27.619292\n",
       "min        1652.000000\n",
       "25%        1920.000000\n",
       "50%        1925.000000\n",
       "75%        1950.000000\n",
       "max        2022.000000\n",
       "Name: year_built, dtype: float64"
      ]
     },
     "execution_count": 169,
     "metadata": {},
     "output_type": "execute_result"
    }
   ],
   "source": [
    "dat['year_built'].describe(include = 'all')"
   ]
  },
  {
   "cell_type": "code",
   "execution_count": 170,
   "metadata": {},
   "outputs": [
    {
     "data": {
      "text/plain": [
       "0.1528702431809733"
      ]
     },
     "execution_count": 170,
     "metadata": {},
     "output_type": "execute_result"
    }
   ],
   "source": [
    "dat['year_built'].isnull().sum() * 100 / len(dat)"
   ]
  },
  {
   "cell_type": "markdown",
   "metadata": {},
   "source": [
    "We will now perform preliminary train/test processing of the data necessary for modeling    \n",
    "\n",
    "### Training / Test Split\n",
    "\n",
    "First, we will split the data into training and test sets:   \n",
    "The training dataset contains all housing prices that were sold during the years of 2010 - 2019.    \n",
    "The test dataset contains all housing prices that were sold during 2020 and 2021.  "
   ]
  },
  {
   "cell_type": "code",
   "execution_count": 171,
   "metadata": {},
   "outputs": [],
   "source": [
    "#first subset the data only to 2010 - 2021\n",
    "dat = dat[dat['sale_year'] > 2009]\n",
    "#split to the training set \n",
    "train = dat[dat['sale_year'] < 2020]\n",
    "#split to the test set \n",
    "test = dat[dat['sale_year'] > 2019]\n",
    "\n",
    "#finally, drop the date column:  \n",
    "train = train.drop(['sale_date'], axis=1)\n",
    "test = test.drop(['sale_date'], axis=1)"
   ]
  },
  {
   "cell_type": "code",
   "execution_count": 189,
   "metadata": {},
   "outputs": [
    {
     "data": {
      "text/html": [
       "<div>\n",
       "<style scoped>\n",
       "    .dataframe tbody tr th:only-of-type {\n",
       "        vertical-align: middle;\n",
       "    }\n",
       "\n",
       "    .dataframe tbody tr th {\n",
       "        vertical-align: top;\n",
       "    }\n",
       "\n",
       "    .dataframe thead th {\n",
       "        text-align: right;\n",
       "    }\n",
       "</style>\n",
       "<table border=\"1\" class=\"dataframe\">\n",
       "  <thead>\n",
       "    <tr style=\"text-align: right;\">\n",
       "      <th></th>\n",
       "      <th>basements</th>\n",
       "      <th>category_code_description</th>\n",
       "      <th>census_tract</th>\n",
       "      <th>depth</th>\n",
       "      <th>exterior_condition</th>\n",
       "      <th>fireplaces</th>\n",
       "      <th>frontage</th>\n",
       "      <th>garage_spaces</th>\n",
       "      <th>geographic_ward</th>\n",
       "      <th>house_number</th>\n",
       "      <th>interior_condition</th>\n",
       "      <th>market_value</th>\n",
       "      <th>number_of_bathrooms</th>\n",
       "      <th>number_of_bedrooms</th>\n",
       "      <th>number_of_rooms</th>\n",
       "      <th>number_stories</th>\n",
       "      <th>sale_date</th>\n",
       "      <th>sale_price</th>\n",
       "      <th>topography</th>\n",
       "      <th>total_area</th>\n",
       "      <th>total_livable_area</th>\n",
       "      <th>view_type</th>\n",
       "      <th>year_built</th>\n",
       "      <th>zip_code</th>\n",
       "      <th>lat</th>\n",
       "      <th>lng</th>\n",
       "      <th>sale_year</th>\n",
       "      <th>sale_month</th>\n",
       "      <th>sale_week</th>\n",
       "      <th>sale_day</th>\n",
       "      <th>sale_dow</th>\n",
       "    </tr>\n",
       "  </thead>\n",
       "  <tbody>\n",
       "    <tr>\n",
       "      <th>0</th>\n",
       "      <td>full</td>\n",
       "      <td>Single Family</td>\n",
       "      <td>139.0</td>\n",
       "      <td>94.0</td>\n",
       "      <td>1.0</td>\n",
       "      <td>NaN</td>\n",
       "      <td>16.0</td>\n",
       "      <td>NaN</td>\n",
       "      <td>29.0</td>\n",
       "      <td>2334</td>\n",
       "      <td>1.0</td>\n",
       "      <td>263000.0</td>\n",
       "      <td>NaN</td>\n",
       "      <td>3.0</td>\n",
       "      <td>10.0</td>\n",
       "      <td>1.0</td>\n",
       "      <td>2021-08-06</td>\n",
       "      <td>263000.0</td>\n",
       "      <td>F</td>\n",
       "      <td>1542.0</td>\n",
       "      <td>1242.0</td>\n",
       "      <td>NaN</td>\n",
       "      <td>2019.0</td>\n",
       "      <td>19121.0</td>\n",
       "      <td>-75.174210</td>\n",
       "      <td>39.979126</td>\n",
       "      <td>2021</td>\n",
       "      <td>8</td>\n",
       "      <td>31</td>\n",
       "      <td>6</td>\n",
       "      <td>4</td>\n",
       "    </tr>\n",
       "    <tr>\n",
       "      <th>1</th>\n",
       "      <td>None</td>\n",
       "      <td>Single Family</td>\n",
       "      <td>8.0</td>\n",
       "      <td>0.0</td>\n",
       "      <td>3.0</td>\n",
       "      <td>0.0</td>\n",
       "      <td>0.0</td>\n",
       "      <td>0.0</td>\n",
       "      <td>8.0</td>\n",
       "      <td>219</td>\n",
       "      <td>3.0</td>\n",
       "      <td>309800.0</td>\n",
       "      <td>0.0</td>\n",
       "      <td>0.0</td>\n",
       "      <td>NaN</td>\n",
       "      <td>1.0</td>\n",
       "      <td>2021-07-16</td>\n",
       "      <td>272500.0</td>\n",
       "      <td>F</td>\n",
       "      <td>0.0</td>\n",
       "      <td>524.0</td>\n",
       "      <td>C</td>\n",
       "      <td>1900.0</td>\n",
       "      <td>19103.0</td>\n",
       "      <td>-75.170423</td>\n",
       "      <td>39.949254</td>\n",
       "      <td>2021</td>\n",
       "      <td>7</td>\n",
       "      <td>28</td>\n",
       "      <td>16</td>\n",
       "      <td>4</td>\n",
       "    </tr>\n",
       "    <tr>\n",
       "      <th>2</th>\n",
       "      <td>NaN</td>\n",
       "      <td>Single Family</td>\n",
       "      <td>160.0</td>\n",
       "      <td>50.0</td>\n",
       "      <td>1.0</td>\n",
       "      <td>NaN</td>\n",
       "      <td>NaN</td>\n",
       "      <td>NaN</td>\n",
       "      <td>31.0</td>\n",
       "      <td>2216</td>\n",
       "      <td>1.0</td>\n",
       "      <td>660000.0</td>\n",
       "      <td>2.0</td>\n",
       "      <td>3.0</td>\n",
       "      <td>NaN</td>\n",
       "      <td>3.0</td>\n",
       "      <td>2021-07-06</td>\n",
       "      <td>655000.0</td>\n",
       "      <td>F</td>\n",
       "      <td>800.0</td>\n",
       "      <td>2499.0</td>\n",
       "      <td>I</td>\n",
       "      <td>2020.0</td>\n",
       "      <td>19125.0</td>\n",
       "      <td>-75.128893</td>\n",
       "      <td>39.978672</td>\n",
       "      <td>2021</td>\n",
       "      <td>7</td>\n",
       "      <td>27</td>\n",
       "      <td>6</td>\n",
       "      <td>1</td>\n",
       "    </tr>\n",
       "    <tr>\n",
       "      <th>3</th>\n",
       "      <td>full</td>\n",
       "      <td>Single Family</td>\n",
       "      <td>216.0</td>\n",
       "      <td>109.0</td>\n",
       "      <td>1.0</td>\n",
       "      <td>0.0</td>\n",
       "      <td>80.0</td>\n",
       "      <td>NaN</td>\n",
       "      <td>21.0</td>\n",
       "      <td>7354</td>\n",
       "      <td>1.0</td>\n",
       "      <td>570400.0</td>\n",
       "      <td>2.0</td>\n",
       "      <td>3.0</td>\n",
       "      <td>6.0</td>\n",
       "      <td>2.0</td>\n",
       "      <td>2021-08-10</td>\n",
       "      <td>605950.0</td>\n",
       "      <td>F</td>\n",
       "      <td>8219.0</td>\n",
       "      <td>2716.0</td>\n",
       "      <td>I</td>\n",
       "      <td>2021.0</td>\n",
       "      <td>19128.0</td>\n",
       "      <td>-75.235043</td>\n",
       "      <td>40.045622</td>\n",
       "      <td>2021</td>\n",
       "      <td>8</td>\n",
       "      <td>32</td>\n",
       "      <td>10</td>\n",
       "      <td>1</td>\n",
       "    </tr>\n",
       "    <tr>\n",
       "      <th>9</th>\n",
       "      <td>NaN</td>\n",
       "      <td>Multi Family</td>\n",
       "      <td>215.0</td>\n",
       "      <td>38.0</td>\n",
       "      <td>3.0</td>\n",
       "      <td>0.0</td>\n",
       "      <td>68.0</td>\n",
       "      <td>0.0</td>\n",
       "      <td>21.0</td>\n",
       "      <td>4620</td>\n",
       "      <td>3.0</td>\n",
       "      <td>202600.0</td>\n",
       "      <td>0.0</td>\n",
       "      <td>0.0</td>\n",
       "      <td>NaN</td>\n",
       "      <td>2.0</td>\n",
       "      <td>2021-11-09</td>\n",
       "      <td>1.0</td>\n",
       "      <td>F</td>\n",
       "      <td>4712.0</td>\n",
       "      <td>2356.0</td>\n",
       "      <td>I</td>\n",
       "      <td>1940.0</td>\n",
       "      <td>19127.0</td>\n",
       "      <td>-75.229891</td>\n",
       "      <td>40.029924</td>\n",
       "      <td>2021</td>\n",
       "      <td>11</td>\n",
       "      <td>45</td>\n",
       "      <td>9</td>\n",
       "      <td>1</td>\n",
       "    </tr>\n",
       "  </tbody>\n",
       "</table>\n",
       "</div>"
      ],
      "text/plain": [
       "  basements category_code_description  census_tract  depth  \\\n",
       "0      full             Single Family         139.0   94.0   \n",
       "1      None             Single Family           8.0    0.0   \n",
       "2       NaN             Single Family         160.0   50.0   \n",
       "3      full             Single Family         216.0  109.0   \n",
       "9       NaN              Multi Family         215.0   38.0   \n",
       "\n",
       "   exterior_condition  fireplaces  frontage  garage_spaces  geographic_ward  \\\n",
       "0                 1.0         NaN      16.0            NaN             29.0   \n",
       "1                 3.0         0.0       0.0            0.0              8.0   \n",
       "2                 1.0         NaN       NaN            NaN             31.0   \n",
       "3                 1.0         0.0      80.0            NaN             21.0   \n",
       "9                 3.0         0.0      68.0            0.0             21.0   \n",
       "\n",
       "   house_number  interior_condition  market_value  number_of_bathrooms  \\\n",
       "0          2334                 1.0      263000.0                  NaN   \n",
       "1           219                 3.0      309800.0                  0.0   \n",
       "2          2216                 1.0      660000.0                  2.0   \n",
       "3          7354                 1.0      570400.0                  2.0   \n",
       "9          4620                 3.0      202600.0                  0.0   \n",
       "\n",
       "   number_of_bedrooms  number_of_rooms  number_stories  sale_date  sale_price  \\\n",
       "0                 3.0             10.0             1.0 2021-08-06    263000.0   \n",
       "1                 0.0              NaN             1.0 2021-07-16    272500.0   \n",
       "2                 3.0              NaN             3.0 2021-07-06    655000.0   \n",
       "3                 3.0              6.0             2.0 2021-08-10    605950.0   \n",
       "9                 0.0              NaN             2.0 2021-11-09         1.0   \n",
       "\n",
       "  topography  total_area  total_livable_area view_type  year_built  zip_code  \\\n",
       "0          F      1542.0              1242.0       NaN      2019.0   19121.0   \n",
       "1          F         0.0               524.0         C      1900.0   19103.0   \n",
       "2          F       800.0              2499.0         I      2020.0   19125.0   \n",
       "3          F      8219.0              2716.0         I      2021.0   19128.0   \n",
       "9          F      4712.0              2356.0         I      1940.0   19127.0   \n",
       "\n",
       "         lat        lng  sale_year  sale_month  sale_week  sale_day  sale_dow  \n",
       "0 -75.174210  39.979126       2021           8         31         6         4  \n",
       "1 -75.170423  39.949254       2021           7         28        16         4  \n",
       "2 -75.128893  39.978672       2021           7         27         6         1  \n",
       "3 -75.235043  40.045622       2021           8         32        10         1  \n",
       "9 -75.229891  40.029924       2021          11         45         9         1  "
      ]
     },
     "execution_count": 189,
     "metadata": {},
     "output_type": "execute_result"
    }
   ],
   "source": [
    "dat.head()"
   ]
  },
  {
   "cell_type": "markdown",
   "metadata": {},
   "source": [
    "We pickle the training data that has not yet been processed for visualization purposes"
   ]
  },
  {
   "cell_type": "code",
   "execution_count": 36,
   "metadata": {},
   "outputs": [],
   "source": [
    "pickle_out = open(\"housedat_train_vis.pickle\",\"wb\")\n",
    "pickle.dump(train, pickle_out)\n",
    "pickle_out.close()"
   ]
  },
  {
   "cell_type": "markdown",
   "metadata": {},
   "source": [
    "#### Processing part 2\n",
    "Next, we process the training data via one hot encoding"
   ]
  },
  {
   "cell_type": "code",
   "execution_count": 173,
   "metadata": {},
   "outputs": [],
   "source": [
    "# convert categorical variables to dummy variables and add dummy variables to data frame\n",
    "cat_vars = train[['basements','category_code_description',\n",
    "               'topography', 'view_type']]\n",
    "cat_dummies = pd.get_dummies(cat_vars, drop_first=True)\n",
    "train = train.drop(['basements','category_code_description',\n",
    "               'topography', 'view_type'], axis=1)\n",
    "train = pd.concat([train, cat_dummies], axis=1)"
   ]
  },
  {
   "cell_type": "code",
   "execution_count": 174,
   "metadata": {
    "scrolled": true
   },
   "outputs": [
    {
     "data": {
      "text/html": [
       "<div>\n",
       "<style scoped>\n",
       "    .dataframe tbody tr th:only-of-type {\n",
       "        vertical-align: middle;\n",
       "    }\n",
       "\n",
       "    .dataframe tbody tr th {\n",
       "        vertical-align: top;\n",
       "    }\n",
       "\n",
       "    .dataframe thead th {\n",
       "        text-align: right;\n",
       "    }\n",
       "</style>\n",
       "<table border=\"1\" class=\"dataframe\">\n",
       "  <thead>\n",
       "    <tr style=\"text-align: right;\">\n",
       "      <th></th>\n",
       "      <th>census_tract</th>\n",
       "      <th>depth</th>\n",
       "      <th>exterior_condition</th>\n",
       "      <th>fireplaces</th>\n",
       "      <th>frontage</th>\n",
       "      <th>garage_spaces</th>\n",
       "      <th>geographic_ward</th>\n",
       "      <th>house_number</th>\n",
       "      <th>interior_condition</th>\n",
       "      <th>market_value</th>\n",
       "      <th>number_of_bathrooms</th>\n",
       "      <th>number_of_bedrooms</th>\n",
       "      <th>number_of_rooms</th>\n",
       "      <th>number_stories</th>\n",
       "      <th>sale_price</th>\n",
       "      <th>total_area</th>\n",
       "      <th>total_livable_area</th>\n",
       "      <th>year_built</th>\n",
       "      <th>zip_code</th>\n",
       "      <th>lat</th>\n",
       "      <th>lng</th>\n",
       "      <th>sale_year</th>\n",
       "      <th>sale_month</th>\n",
       "      <th>sale_week</th>\n",
       "      <th>sale_day</th>\n",
       "      <th>sale_dow</th>\n",
       "      <th>basements_full</th>\n",
       "      <th>basements_partial</th>\n",
       "      <th>category_code_description_Single Family</th>\n",
       "      <th>topography_B</th>\n",
       "      <th>topography_C</th>\n",
       "      <th>topography_D</th>\n",
       "      <th>topography_E</th>\n",
       "      <th>topography_F</th>\n",
       "      <th>view_type_A</th>\n",
       "      <th>view_type_B</th>\n",
       "      <th>view_type_C</th>\n",
       "      <th>view_type_D</th>\n",
       "      <th>view_type_E</th>\n",
       "      <th>view_type_H</th>\n",
       "      <th>view_type_I</th>\n",
       "    </tr>\n",
       "  </thead>\n",
       "  <tbody>\n",
       "    <tr>\n",
       "      <th>160</th>\n",
       "      <td>114.0</td>\n",
       "      <td>97.0</td>\n",
       "      <td>4.0</td>\n",
       "      <td>0.0</td>\n",
       "      <td>16.0</td>\n",
       "      <td>0.0</td>\n",
       "      <td>34.0</td>\n",
       "      <td>1612</td>\n",
       "      <td>4.0</td>\n",
       "      <td>77300.0</td>\n",
       "      <td>1.0</td>\n",
       "      <td>3.0</td>\n",
       "      <td>NaN</td>\n",
       "      <td>2.0</td>\n",
       "      <td>1.0</td>\n",
       "      <td>1496.0</td>\n",
       "      <td>1250.0</td>\n",
       "      <td>1925.0</td>\n",
       "      <td>19151.0</td>\n",
       "      <td>-75.244809</td>\n",
       "      <td>39.975755</td>\n",
       "      <td>2019</td>\n",
       "      <td>7</td>\n",
       "      <td>27</td>\n",
       "      <td>3</td>\n",
       "      <td>2</td>\n",
       "      <td>0</td>\n",
       "      <td>0</td>\n",
       "      <td>1</td>\n",
       "      <td>0</td>\n",
       "      <td>0</td>\n",
       "      <td>0</td>\n",
       "      <td>0</td>\n",
       "      <td>1</td>\n",
       "      <td>0</td>\n",
       "      <td>0</td>\n",
       "      <td>0</td>\n",
       "      <td>0</td>\n",
       "      <td>0</td>\n",
       "      <td>0</td>\n",
       "      <td>1</td>\n",
       "    </tr>\n",
       "    <tr>\n",
       "      <th>222</th>\n",
       "      <td>265.0</td>\n",
       "      <td>83.0</td>\n",
       "      <td>4.0</td>\n",
       "      <td>0.0</td>\n",
       "      <td>18.0</td>\n",
       "      <td>1.0</td>\n",
       "      <td>10.0</td>\n",
       "      <td>6606</td>\n",
       "      <td>4.0</td>\n",
       "      <td>116200.0</td>\n",
       "      <td>1.0</td>\n",
       "      <td>3.0</td>\n",
       "      <td>NaN</td>\n",
       "      <td>2.0</td>\n",
       "      <td>1.0</td>\n",
       "      <td>1493.0</td>\n",
       "      <td>1188.0</td>\n",
       "      <td>1920.0</td>\n",
       "      <td>19138.0</td>\n",
       "      <td>-75.158656</td>\n",
       "      <td>40.057118</td>\n",
       "      <td>2015</td>\n",
       "      <td>7</td>\n",
       "      <td>27</td>\n",
       "      <td>1</td>\n",
       "      <td>2</td>\n",
       "      <td>0</td>\n",
       "      <td>1</td>\n",
       "      <td>1</td>\n",
       "      <td>0</td>\n",
       "      <td>0</td>\n",
       "      <td>0</td>\n",
       "      <td>0</td>\n",
       "      <td>1</td>\n",
       "      <td>0</td>\n",
       "      <td>0</td>\n",
       "      <td>0</td>\n",
       "      <td>0</td>\n",
       "      <td>0</td>\n",
       "      <td>0</td>\n",
       "      <td>1</td>\n",
       "    </tr>\n",
       "    <tr>\n",
       "      <th>346</th>\n",
       "      <td>71.0</td>\n",
       "      <td>59.0</td>\n",
       "      <td>4.0</td>\n",
       "      <td>0.0</td>\n",
       "      <td>14.0</td>\n",
       "      <td>0.0</td>\n",
       "      <td>51.0</td>\n",
       "      <td>5746</td>\n",
       "      <td>4.0</td>\n",
       "      <td>58300.0</td>\n",
       "      <td>1.0</td>\n",
       "      <td>3.0</td>\n",
       "      <td>NaN</td>\n",
       "      <td>2.0</td>\n",
       "      <td>1.0</td>\n",
       "      <td>838.0</td>\n",
       "      <td>962.0</td>\n",
       "      <td>1925.0</td>\n",
       "      <td>19143.0</td>\n",
       "      <td>-75.230115</td>\n",
       "      <td>39.937673</td>\n",
       "      <td>2015</td>\n",
       "      <td>7</td>\n",
       "      <td>29</td>\n",
       "      <td>13</td>\n",
       "      <td>0</td>\n",
       "      <td>0</td>\n",
       "      <td>0</td>\n",
       "      <td>1</td>\n",
       "      <td>0</td>\n",
       "      <td>0</td>\n",
       "      <td>0</td>\n",
       "      <td>0</td>\n",
       "      <td>1</td>\n",
       "      <td>0</td>\n",
       "      <td>0</td>\n",
       "      <td>0</td>\n",
       "      <td>0</td>\n",
       "      <td>0</td>\n",
       "      <td>0</td>\n",
       "      <td>1</td>\n",
       "    </tr>\n",
       "    <tr>\n",
       "      <th>890</th>\n",
       "      <td>107.0</td>\n",
       "      <td>75.0</td>\n",
       "      <td>4.0</td>\n",
       "      <td>0.0</td>\n",
       "      <td>15.0</td>\n",
       "      <td>0.0</td>\n",
       "      <td>6.0</td>\n",
       "      <td>4220</td>\n",
       "      <td>4.0</td>\n",
       "      <td>46400.0</td>\n",
       "      <td>0.0</td>\n",
       "      <td>0.0</td>\n",
       "      <td>NaN</td>\n",
       "      <td>2.0</td>\n",
       "      <td>40000.0</td>\n",
       "      <td>1100.0</td>\n",
       "      <td>1214.0</td>\n",
       "      <td>1920.0</td>\n",
       "      <td>19104.0</td>\n",
       "      <td>-75.209270</td>\n",
       "      <td>39.971367</td>\n",
       "      <td>2018</td>\n",
       "      <td>6</td>\n",
       "      <td>24</td>\n",
       "      <td>12</td>\n",
       "      <td>1</td>\n",
       "      <td>0</td>\n",
       "      <td>0</td>\n",
       "      <td>1</td>\n",
       "      <td>0</td>\n",
       "      <td>0</td>\n",
       "      <td>0</td>\n",
       "      <td>0</td>\n",
       "      <td>1</td>\n",
       "      <td>0</td>\n",
       "      <td>0</td>\n",
       "      <td>0</td>\n",
       "      <td>0</td>\n",
       "      <td>0</td>\n",
       "      <td>0</td>\n",
       "      <td>1</td>\n",
       "    </tr>\n",
       "    <tr>\n",
       "      <th>937</th>\n",
       "      <td>312.0</td>\n",
       "      <td>68.0</td>\n",
       "      <td>4.0</td>\n",
       "      <td>0.0</td>\n",
       "      <td>19.0</td>\n",
       "      <td>1.0</td>\n",
       "      <td>54.0</td>\n",
       "      <td>1447</td>\n",
       "      <td>4.0</td>\n",
       "      <td>109900.0</td>\n",
       "      <td>1.0</td>\n",
       "      <td>3.0</td>\n",
       "      <td>NaN</td>\n",
       "      <td>2.0</td>\n",
       "      <td>1.0</td>\n",
       "      <td>1313.0</td>\n",
       "      <td>1166.0</td>\n",
       "      <td>1950.0</td>\n",
       "      <td>19149.0</td>\n",
       "      <td>-75.079455</td>\n",
       "      <td>40.035077</td>\n",
       "      <td>2017</td>\n",
       "      <td>3</td>\n",
       "      <td>12</td>\n",
       "      <td>24</td>\n",
       "      <td>4</td>\n",
       "      <td>0</td>\n",
       "      <td>1</td>\n",
       "      <td>1</td>\n",
       "      <td>0</td>\n",
       "      <td>0</td>\n",
       "      <td>0</td>\n",
       "      <td>0</td>\n",
       "      <td>1</td>\n",
       "      <td>0</td>\n",
       "      <td>0</td>\n",
       "      <td>0</td>\n",
       "      <td>0</td>\n",
       "      <td>0</td>\n",
       "      <td>0</td>\n",
       "      <td>1</td>\n",
       "    </tr>\n",
       "  </tbody>\n",
       "</table>\n",
       "</div>"
      ],
      "text/plain": [
       "     census_tract  depth  exterior_condition  fireplaces  frontage  \\\n",
       "160         114.0   97.0                 4.0         0.0      16.0   \n",
       "222         265.0   83.0                 4.0         0.0      18.0   \n",
       "346          71.0   59.0                 4.0         0.0      14.0   \n",
       "890         107.0   75.0                 4.0         0.0      15.0   \n",
       "937         312.0   68.0                 4.0         0.0      19.0   \n",
       "\n",
       "     garage_spaces  geographic_ward  house_number  interior_condition  \\\n",
       "160            0.0             34.0          1612                 4.0   \n",
       "222            1.0             10.0          6606                 4.0   \n",
       "346            0.0             51.0          5746                 4.0   \n",
       "890            0.0              6.0          4220                 4.0   \n",
       "937            1.0             54.0          1447                 4.0   \n",
       "\n",
       "     market_value  number_of_bathrooms  number_of_bedrooms  number_of_rooms  \\\n",
       "160       77300.0                  1.0                 3.0              NaN   \n",
       "222      116200.0                  1.0                 3.0              NaN   \n",
       "346       58300.0                  1.0                 3.0              NaN   \n",
       "890       46400.0                  0.0                 0.0              NaN   \n",
       "937      109900.0                  1.0                 3.0              NaN   \n",
       "\n",
       "     number_stories  sale_price  total_area  total_livable_area  year_built  \\\n",
       "160             2.0         1.0      1496.0              1250.0      1925.0   \n",
       "222             2.0         1.0      1493.0              1188.0      1920.0   \n",
       "346             2.0         1.0       838.0               962.0      1925.0   \n",
       "890             2.0     40000.0      1100.0              1214.0      1920.0   \n",
       "937             2.0         1.0      1313.0              1166.0      1950.0   \n",
       "\n",
       "     zip_code        lat        lng  sale_year  sale_month  sale_week  \\\n",
       "160   19151.0 -75.244809  39.975755       2019           7         27   \n",
       "222   19138.0 -75.158656  40.057118       2015           7         27   \n",
       "346   19143.0 -75.230115  39.937673       2015           7         29   \n",
       "890   19104.0 -75.209270  39.971367       2018           6         24   \n",
       "937   19149.0 -75.079455  40.035077       2017           3         12   \n",
       "\n",
       "     sale_day  sale_dow  basements_full  basements_partial  \\\n",
       "160         3         2               0                  0   \n",
       "222         1         2               0                  1   \n",
       "346        13         0               0                  0   \n",
       "890        12         1               0                  0   \n",
       "937        24         4               0                  1   \n",
       "\n",
       "     category_code_description_Single Family  topography_B  topography_C  \\\n",
       "160                                        1             0             0   \n",
       "222                                        1             0             0   \n",
       "346                                        1             0             0   \n",
       "890                                        1             0             0   \n",
       "937                                        1             0             0   \n",
       "\n",
       "     topography_D  topography_E  topography_F  view_type_A  view_type_B  \\\n",
       "160             0             0             1            0            0   \n",
       "222             0             0             1            0            0   \n",
       "346             0             0             1            0            0   \n",
       "890             0             0             1            0            0   \n",
       "937             0             0             1            0            0   \n",
       "\n",
       "     view_type_C  view_type_D  view_type_E  view_type_H  view_type_I  \n",
       "160            0            0            0            0            1  \n",
       "222            0            0            0            0            1  \n",
       "346            0            0            0            0            1  \n",
       "890            0            0            0            0            1  \n",
       "937            0            0            0            0            1  "
      ]
     },
     "execution_count": 174,
     "metadata": {},
     "output_type": "execute_result"
    }
   ],
   "source": [
    "train.head()"
   ]
  },
  {
   "cell_type": "code",
   "execution_count": 175,
   "metadata": {},
   "outputs": [],
   "source": [
    "train = train.fillna(train.mean())"
   ]
  },
  {
   "cell_type": "code",
   "execution_count": 176,
   "metadata": {},
   "outputs": [
    {
     "data": {
      "text/plain": [
       "0.2154793740745844"
      ]
     },
     "execution_count": 176,
     "metadata": {},
     "output_type": "execute_result"
    }
   ],
   "source": [
    "from sklearn.linear_model import LinearRegression\n",
    "reg = LinearRegression().fit(train.drop(['sale_price'], axis=1),\n",
    "           train['sale_price'])\n",
    "reg.score(train.drop(['sale_price'], axis=1),\n",
    "           train['sale_price'])"
   ]
  },
  {
   "cell_type": "code",
   "execution_count": 179,
   "metadata": {
    "scrolled": false
   },
   "outputs": [
    {
     "data": {
      "text/html": [
       "<table class=\"simpletable\">\n",
       "<caption>OLS Regression Results</caption>\n",
       "<tr>\n",
       "  <th>Dep. Variable:</th>       <td>sale_price</td>    <th>  R-squared (uncentered):</th>       <td>   0.396</td>  \n",
       "</tr>\n",
       "<tr>\n",
       "  <th>Model:</th>                   <td>OLS</td>       <th>  Adj. R-squared (uncentered):</th>  <td>   0.395</td>  \n",
       "</tr>\n",
       "<tr>\n",
       "  <th>Method:</th>             <td>Least Squares</td>  <th>  F-statistic:       </th>           <td>   3241.</td>  \n",
       "</tr>\n",
       "<tr>\n",
       "  <th>Date:</th>             <td>Wed, 06 Apr 2022</td> <th>  Prob (F-statistic):</th>            <td>  0.00</td>   \n",
       "</tr>\n",
       "<tr>\n",
       "  <th>Time:</th>                 <td>16:05:53</td>     <th>  Log-Likelihood:    </th>          <td>-2.7611e+06</td>\n",
       "</tr>\n",
       "<tr>\n",
       "  <th>No. Observations:</th>      <td>198168</td>      <th>  AIC:               </th>           <td>5.522e+06</td> \n",
       "</tr>\n",
       "<tr>\n",
       "  <th>Df Residuals:</th>          <td>198128</td>      <th>  BIC:               </th>           <td>5.523e+06</td> \n",
       "</tr>\n",
       "<tr>\n",
       "  <th>Df Model:</th>              <td>    40</td>      <th>                     </th>               <td> </td>     \n",
       "</tr>\n",
       "<tr>\n",
       "  <th>Covariance Type:</th>      <td>nonrobust</td>    <th>                     </th>               <td> </td>     \n",
       "</tr>\n",
       "</table>\n",
       "<table class=\"simpletable\">\n",
       "<tr>\n",
       "                     <td></td>                        <th>coef</th>     <th>std err</th>      <th>t</th>      <th>P>|t|</th>  <th>[0.025</th>    <th>0.975]</th>  \n",
       "</tr>\n",
       "<tr>\n",
       "  <th>census_tract</th>                            <td> -499.4182</td> <td>   10.428</td> <td>  -47.893</td> <td> 0.000</td> <td> -519.856</td> <td> -478.980</td>\n",
       "</tr>\n",
       "<tr>\n",
       "  <th>depth</th>                                   <td>   -3.2617</td> <td>    0.485</td> <td>   -6.725</td> <td> 0.000</td> <td>   -4.212</td> <td>   -2.311</td>\n",
       "</tr>\n",
       "<tr>\n",
       "  <th>exterior_condition</th>                      <td>-5588.8538</td> <td> 3290.294</td> <td>   -1.699</td> <td> 0.089</td> <td> -1.2e+04</td> <td>  860.043</td>\n",
       "</tr>\n",
       "<tr>\n",
       "  <th>fireplaces</th>                              <td> 1.201e+05</td> <td> 2327.336</td> <td>   51.597</td> <td> 0.000</td> <td> 1.16e+05</td> <td> 1.25e+05</td>\n",
       "</tr>\n",
       "<tr>\n",
       "  <th>frontage</th>                                <td>    0.3144</td> <td>    0.060</td> <td>    5.255</td> <td> 0.000</td> <td>    0.197</td> <td>    0.432</td>\n",
       "</tr>\n",
       "<tr>\n",
       "  <th>garage_spaces</th>                           <td> 1.623e+04</td> <td>  797.018</td> <td>   20.365</td> <td> 0.000</td> <td> 1.47e+04</td> <td> 1.78e+04</td>\n",
       "</tr>\n",
       "<tr>\n",
       "  <th>geographic_ward</th>                         <td>-1001.9637</td> <td>   41.187</td> <td>  -24.327</td> <td> 0.000</td> <td>-1082.689</td> <td> -921.239</td>\n",
       "</tr>\n",
       "<tr>\n",
       "  <th>house_number</th>                            <td>   -2.6794</td> <td>    0.214</td> <td>  -12.531</td> <td> 0.000</td> <td>   -3.099</td> <td>   -2.260</td>\n",
       "</tr>\n",
       "<tr>\n",
       "  <th>interior_condition</th>                      <td>-6.183e+04</td> <td> 3269.041</td> <td>  -18.913</td> <td> 0.000</td> <td>-6.82e+04</td> <td>-5.54e+04</td>\n",
       "</tr>\n",
       "<tr>\n",
       "  <th>market_value</th>                            <td>    0.0069</td> <td>    0.001</td> <td>   11.967</td> <td> 0.000</td> <td>    0.006</td> <td>    0.008</td>\n",
       "</tr>\n",
       "<tr>\n",
       "  <th>number_of_bathrooms</th>                     <td> 3.636e+04</td> <td> 1086.436</td> <td>   33.467</td> <td> 0.000</td> <td> 3.42e+04</td> <td> 3.85e+04</td>\n",
       "</tr>\n",
       "<tr>\n",
       "  <th>number_of_bedrooms</th>                      <td>-7112.0600</td> <td>  669.788</td> <td>  -10.618</td> <td> 0.000</td> <td>-8424.828</td> <td>-5799.292</td>\n",
       "</tr>\n",
       "<tr>\n",
       "  <th>number_of_rooms</th>                         <td>-8008.0953</td> <td>  330.419</td> <td>  -24.236</td> <td> 0.000</td> <td>-8655.709</td> <td>-7360.481</td>\n",
       "</tr>\n",
       "<tr>\n",
       "  <th>number_stories</th>                          <td> 1.983e+04</td> <td>  348.912</td> <td>   56.833</td> <td> 0.000</td> <td> 1.91e+04</td> <td> 2.05e+04</td>\n",
       "</tr>\n",
       "<tr>\n",
       "  <th>total_area</th>                              <td>    1.4517</td> <td>    0.087</td> <td>   16.689</td> <td> 0.000</td> <td>    1.281</td> <td>    1.622</td>\n",
       "</tr>\n",
       "<tr>\n",
       "  <th>total_livable_area</th>                      <td>   -0.3347</td> <td>    0.095</td> <td>   -3.513</td> <td> 0.000</td> <td>   -0.521</td> <td>   -0.148</td>\n",
       "</tr>\n",
       "<tr>\n",
       "  <th>year_built</th>                              <td>  360.0478</td> <td>   24.164</td> <td>   14.900</td> <td> 0.000</td> <td>  312.686</td> <td>  407.409</td>\n",
       "</tr>\n",
       "<tr>\n",
       "  <th>zip_code</th>                                <td> -954.1772</td> <td>   41.409</td> <td>  -23.043</td> <td> 0.000</td> <td>-1035.338</td> <td> -873.016</td>\n",
       "</tr>\n",
       "<tr>\n",
       "  <th>lat</th>                                     <td> 2.307e+05</td> <td> 1.15e+04</td> <td>   20.030</td> <td> 0.000</td> <td> 2.08e+05</td> <td> 2.53e+05</td>\n",
       "</tr>\n",
       "<tr>\n",
       "  <th>lng</th>                                     <td> 3.638e+05</td> <td>  1.8e+04</td> <td>   20.197</td> <td> 0.000</td> <td> 3.28e+05</td> <td> 3.99e+05</td>\n",
       "</tr>\n",
       "<tr>\n",
       "  <th>sale_year</th>                               <td> 1.037e+04</td> <td>  215.277</td> <td>   48.165</td> <td> 0.000</td> <td> 9946.849</td> <td> 1.08e+04</td>\n",
       "</tr>\n",
       "<tr>\n",
       "  <th>sale_month</th>                              <td> -508.2432</td> <td>  847.238</td> <td>   -0.600</td> <td> 0.549</td> <td>-2168.810</td> <td> 1152.324</td>\n",
       "</tr>\n",
       "<tr>\n",
       "  <th>sale_week</th>                               <td>  586.8117</td> <td>  194.357</td> <td>    3.019</td> <td> 0.003</td> <td>  205.877</td> <td>  967.746</td>\n",
       "</tr>\n",
       "<tr>\n",
       "  <th>sale_day</th>                                <td> 1190.2229</td> <td>   72.131</td> <td>   16.501</td> <td> 0.000</td> <td> 1048.847</td> <td> 1331.598</td>\n",
       "</tr>\n",
       "<tr>\n",
       "  <th>sale_dow</th>                                <td>-1120.9335</td> <td>  398.697</td> <td>   -2.811</td> <td> 0.005</td> <td>-1902.370</td> <td> -339.497</td>\n",
       "</tr>\n",
       "<tr>\n",
       "  <th>basements_full</th>                          <td>-1.251e+04</td> <td> 1579.000</td> <td>   -7.925</td> <td> 0.000</td> <td>-1.56e+04</td> <td>-9419.260</td>\n",
       "</tr>\n",
       "<tr>\n",
       "  <th>basements_partial</th>                       <td> 1.044e+04</td> <td> 1836.462</td> <td>    5.687</td> <td> 0.000</td> <td> 6845.172</td> <td>  1.4e+04</td>\n",
       "</tr>\n",
       "<tr>\n",
       "  <th>category_code_description_Single Family</th> <td>-7.784e+04</td> <td> 2242.101</td> <td>  -34.720</td> <td> 0.000</td> <td>-8.22e+04</td> <td>-7.35e+04</td>\n",
       "</tr>\n",
       "<tr>\n",
       "  <th>topography_B</th>                            <td> 2.539e+04</td> <td> 2.93e+04</td> <td>    0.866</td> <td> 0.387</td> <td>-3.21e+04</td> <td> 8.29e+04</td>\n",
       "</tr>\n",
       "<tr>\n",
       "  <th>topography_C</th>                            <td>-4.109e+04</td> <td> 3.76e+04</td> <td>   -1.092</td> <td> 0.275</td> <td>-1.15e+05</td> <td> 3.27e+04</td>\n",
       "</tr>\n",
       "<tr>\n",
       "  <th>topography_D</th>                            <td>-1.179e+05</td> <td> 4.31e+04</td> <td>   -2.735</td> <td> 0.006</td> <td>-2.02e+05</td> <td>-3.34e+04</td>\n",
       "</tr>\n",
       "<tr>\n",
       "  <th>topography_E</th>                            <td>-9.859e+04</td> <td> 6975.040</td> <td>  -14.134</td> <td> 0.000</td> <td>-1.12e+05</td> <td>-8.49e+04</td>\n",
       "</tr>\n",
       "<tr>\n",
       "  <th>topography_F</th>                            <td>-7.877e+04</td> <td> 2138.384</td> <td>  -36.837</td> <td> 0.000</td> <td> -8.3e+04</td> <td>-7.46e+04</td>\n",
       "</tr>\n",
       "<tr>\n",
       "  <th>view_type_A</th>                             <td> 1.071e+05</td> <td> 6300.300</td> <td>   17.006</td> <td> 0.000</td> <td> 9.48e+04</td> <td> 1.19e+05</td>\n",
       "</tr>\n",
       "<tr>\n",
       "  <th>view_type_B</th>                             <td> 1.178e+05</td> <td> 1.09e+04</td> <td>   10.827</td> <td> 0.000</td> <td> 9.64e+04</td> <td> 1.39e+05</td>\n",
       "</tr>\n",
       "<tr>\n",
       "  <th>view_type_C</th>                             <td> 2.344e+05</td> <td> 7183.236</td> <td>   32.637</td> <td> 0.000</td> <td>  2.2e+05</td> <td> 2.49e+05</td>\n",
       "</tr>\n",
       "<tr>\n",
       "  <th>view_type_D</th>                             <td> 7.377e+04</td> <td> 1.01e+04</td> <td>    7.271</td> <td> 0.000</td> <td> 5.39e+04</td> <td> 9.37e+04</td>\n",
       "</tr>\n",
       "<tr>\n",
       "  <th>view_type_E</th>                             <td> 7.172e+04</td> <td> 1.13e+04</td> <td>    6.355</td> <td> 0.000</td> <td> 4.96e+04</td> <td> 9.38e+04</td>\n",
       "</tr>\n",
       "<tr>\n",
       "  <th>view_type_H</th>                             <td>  7.05e+04</td> <td> 1.02e+04</td> <td>    6.907</td> <td> 0.000</td> <td> 5.05e+04</td> <td> 9.05e+04</td>\n",
       "</tr>\n",
       "<tr>\n",
       "  <th>view_type_I</th>                             <td> 8.063e+04</td> <td> 5354.626</td> <td>   15.057</td> <td> 0.000</td> <td> 7.01e+04</td> <td> 9.11e+04</td>\n",
       "</tr>\n",
       "</table>\n",
       "<table class=\"simpletable\">\n",
       "<tr>\n",
       "  <th>Omnibus:</th>       <td>247649.157</td> <th>  Durbin-Watson:     </th>   <td>   1.279</td>  \n",
       "</tr>\n",
       "<tr>\n",
       "  <th>Prob(Omnibus):</th>   <td> 0.000</td>   <th>  Jarque-Bera (JB):  </th> <td>50799777.356</td>\n",
       "</tr>\n",
       "<tr>\n",
       "  <th>Skew:</th>            <td> 6.800</td>   <th>  Prob(JB):          </th>   <td>    0.00</td>  \n",
       "</tr>\n",
       "<tr>\n",
       "  <th>Kurtosis:</th>        <td>80.249</td>   <th>  Cond. No.          </th>   <td>1.05e+08</td>  \n",
       "</tr>\n",
       "</table><br/><br/>Warnings:<br/>[1] Standard Errors assume that the covariance matrix of the errors is correctly specified.<br/>[2] The condition number is large, 1.05e+08. This might indicate that there are<br/>strong multicollinearity or other numerical problems."
      ],
      "text/plain": [
       "<class 'statsmodels.iolib.summary.Summary'>\n",
       "\"\"\"\n",
       "                                 OLS Regression Results                                \n",
       "=======================================================================================\n",
       "Dep. Variable:             sale_price   R-squared (uncentered):                   0.396\n",
       "Model:                            OLS   Adj. R-squared (uncentered):              0.395\n",
       "Method:                 Least Squares   F-statistic:                              3241.\n",
       "Date:                Wed, 06 Apr 2022   Prob (F-statistic):                        0.00\n",
       "Time:                        16:05:53   Log-Likelihood:                     -2.7611e+06\n",
       "No. Observations:              198168   AIC:                                  5.522e+06\n",
       "Df Residuals:                  198128   BIC:                                  5.523e+06\n",
       "Df Model:                          40                                                  \n",
       "Covariance Type:            nonrobust                                                  \n",
       "===========================================================================================================\n",
       "                                              coef    std err          t      P>|t|      [0.025      0.975]\n",
       "-----------------------------------------------------------------------------------------------------------\n",
       "census_tract                             -499.4182     10.428    -47.893      0.000    -519.856    -478.980\n",
       "depth                                      -3.2617      0.485     -6.725      0.000      -4.212      -2.311\n",
       "exterior_condition                      -5588.8538   3290.294     -1.699      0.089    -1.2e+04     860.043\n",
       "fireplaces                               1.201e+05   2327.336     51.597      0.000    1.16e+05    1.25e+05\n",
       "frontage                                    0.3144      0.060      5.255      0.000       0.197       0.432\n",
       "garage_spaces                            1.623e+04    797.018     20.365      0.000    1.47e+04    1.78e+04\n",
       "geographic_ward                         -1001.9637     41.187    -24.327      0.000   -1082.689    -921.239\n",
       "house_number                               -2.6794      0.214    -12.531      0.000      -3.099      -2.260\n",
       "interior_condition                      -6.183e+04   3269.041    -18.913      0.000   -6.82e+04   -5.54e+04\n",
       "market_value                                0.0069      0.001     11.967      0.000       0.006       0.008\n",
       "number_of_bathrooms                      3.636e+04   1086.436     33.467      0.000    3.42e+04    3.85e+04\n",
       "number_of_bedrooms                      -7112.0600    669.788    -10.618      0.000   -8424.828   -5799.292\n",
       "number_of_rooms                         -8008.0953    330.419    -24.236      0.000   -8655.709   -7360.481\n",
       "number_stories                           1.983e+04    348.912     56.833      0.000    1.91e+04    2.05e+04\n",
       "total_area                                  1.4517      0.087     16.689      0.000       1.281       1.622\n",
       "total_livable_area                         -0.3347      0.095     -3.513      0.000      -0.521      -0.148\n",
       "year_built                                360.0478     24.164     14.900      0.000     312.686     407.409\n",
       "zip_code                                 -954.1772     41.409    -23.043      0.000   -1035.338    -873.016\n",
       "lat                                      2.307e+05   1.15e+04     20.030      0.000    2.08e+05    2.53e+05\n",
       "lng                                      3.638e+05    1.8e+04     20.197      0.000    3.28e+05    3.99e+05\n",
       "sale_year                                1.037e+04    215.277     48.165      0.000    9946.849    1.08e+04\n",
       "sale_month                               -508.2432    847.238     -0.600      0.549   -2168.810    1152.324\n",
       "sale_week                                 586.8117    194.357      3.019      0.003     205.877     967.746\n",
       "sale_day                                 1190.2229     72.131     16.501      0.000    1048.847    1331.598\n",
       "sale_dow                                -1120.9335    398.697     -2.811      0.005   -1902.370    -339.497\n",
       "basements_full                          -1.251e+04   1579.000     -7.925      0.000   -1.56e+04   -9419.260\n",
       "basements_partial                        1.044e+04   1836.462      5.687      0.000    6845.172     1.4e+04\n",
       "category_code_description_Single Family -7.784e+04   2242.101    -34.720      0.000   -8.22e+04   -7.35e+04\n",
       "topography_B                             2.539e+04   2.93e+04      0.866      0.387   -3.21e+04    8.29e+04\n",
       "topography_C                            -4.109e+04   3.76e+04     -1.092      0.275   -1.15e+05    3.27e+04\n",
       "topography_D                            -1.179e+05   4.31e+04     -2.735      0.006   -2.02e+05   -3.34e+04\n",
       "topography_E                            -9.859e+04   6975.040    -14.134      0.000   -1.12e+05   -8.49e+04\n",
       "topography_F                            -7.877e+04   2138.384    -36.837      0.000    -8.3e+04   -7.46e+04\n",
       "view_type_A                              1.071e+05   6300.300     17.006      0.000    9.48e+04    1.19e+05\n",
       "view_type_B                              1.178e+05   1.09e+04     10.827      0.000    9.64e+04    1.39e+05\n",
       "view_type_C                              2.344e+05   7183.236     32.637      0.000     2.2e+05    2.49e+05\n",
       "view_type_D                              7.377e+04   1.01e+04      7.271      0.000    5.39e+04    9.37e+04\n",
       "view_type_E                              7.172e+04   1.13e+04      6.355      0.000    4.96e+04    9.38e+04\n",
       "view_type_H                               7.05e+04   1.02e+04      6.907      0.000    5.05e+04    9.05e+04\n",
       "view_type_I                              8.063e+04   5354.626     15.057      0.000    7.01e+04    9.11e+04\n",
       "==============================================================================\n",
       "Omnibus:                   247649.157   Durbin-Watson:                   1.279\n",
       "Prob(Omnibus):                  0.000   Jarque-Bera (JB):         50799777.356\n",
       "Skew:                           6.800   Prob(JB):                         0.00\n",
       "Kurtosis:                      80.249   Cond. No.                     1.05e+08\n",
       "==============================================================================\n",
       "\n",
       "Warnings:\n",
       "[1] Standard Errors assume that the covariance matrix of the errors is correctly specified.\n",
       "[2] The condition number is large, 1.05e+08. This might indicate that there are\n",
       "strong multicollinearity or other numerical problems.\n",
       "\"\"\""
      ]
     },
     "execution_count": 179,
     "metadata": {},
     "output_type": "execute_result"
    }
   ],
   "source": [
    "import statsmodels.api as sm\n",
    "model = sm.OLS(train['sale_price'], \n",
    "               train.drop(['sale_price'], axis=1)\n",
    "           )\n",
    "results = model.fit()\n",
    "results.summary()"
   ]
  },
  {
   "cell_type": "code",
   "execution_count": 55,
   "metadata": {},
   "outputs": [],
   "source": [
    "import sklearn\n",
    "from sklearn.linear_model import LinearRegression\n",
    "import xgboost as xgb\n",
    "\n",
    "data_dmatrix = xgb.DMatrix(train.drop(['sale_price'], axis=1),\n",
    "            train['sale_price'])\n",
    "\n",
    "xg_reg = xgb.XGBRegressor(objective ='reg:linear', colsample_bytree = 0.3, learning_rate = 0.1,\n",
    "                max_depth = 5, alpha = 10, n_estimators = 10)\n"
   ]
  },
  {
   "cell_type": "code",
   "execution_count": 57,
   "metadata": {},
   "outputs": [
    {
     "data": {
      "text/plain": [
       "RandomForestRegressor()"
      ]
     },
     "execution_count": 57,
     "metadata": {},
     "output_type": "execute_result"
    }
   ],
   "source": [
    "from sklearn import tree\n",
    "from sklearn.ensemble import RandomForestRegressor\n",
    "\n",
    "# clf = tree.DecisionTreeRegressor()\n",
    "# clf = clf.fit(train.drop(['sale_price'], axis=1),\n",
    "#             train['sale_price'])  \n",
    "\n",
    "train = train.fillna(train.mean())\n",
    "   \n",
    "    \n",
    "regr = RandomForestRegressor()\n",
    "regr.fit(train.drop(['sale_price'], axis=1),\n",
    "           train['sale_price'])"
   ]
  },
  {
   "cell_type": "code",
   "execution_count": 59,
   "metadata": {},
   "outputs": [
    {
     "data": {
      "text/plain": [
       "4659900398.913846"
      ]
     },
     "execution_count": 59,
     "metadata": {},
     "output_type": "execute_result"
    }
   ],
   "source": [
    "from sklearn.metrics import mean_squared_error\n",
    "rfpreds = regr.predict(train.drop(['sale_price'], axis=1))\n",
    "mean_squared_error(train['sale_price'], rfpreds)"
   ]
  },
  {
   "cell_type": "code",
   "execution_count": 71,
   "metadata": {
    "scrolled": false
   },
   "outputs": [
    {
     "ename": "ValueError",
     "evalue": "Number of features of the model must match the input. Model n_features is 64 and input n_features is 66 ",
     "output_type": "error",
     "traceback": [
      "\u001b[0;31m\u001b[0m",
      "\u001b[0;31mValueError\u001b[0mTraceback (most recent call last)",
      "\u001b[0;32m<ipython-input-71-9d37168e8021>\u001b[0m in \u001b[0;36m<module>\u001b[0;34m\u001b[0m\n\u001b[1;32m      7\u001b[0m \u001b[0mtest\u001b[0m \u001b[0;34m=\u001b[0m \u001b[0mpd\u001b[0m\u001b[0;34m.\u001b[0m\u001b[0mconcat\u001b[0m\u001b[0;34m(\u001b[0m\u001b[0;34m[\u001b[0m\u001b[0mtest\u001b[0m\u001b[0;34m,\u001b[0m \u001b[0mcat_dummies\u001b[0m\u001b[0;34m]\u001b[0m\u001b[0;34m,\u001b[0m \u001b[0maxis\u001b[0m\u001b[0;34m=\u001b[0m\u001b[0;36m1\u001b[0m\u001b[0;34m)\u001b[0m\u001b[0;34m\u001b[0m\u001b[0;34m\u001b[0m\u001b[0m\n\u001b[1;32m      8\u001b[0m \u001b[0mtest\u001b[0m \u001b[0;34m=\u001b[0m \u001b[0mtest\u001b[0m\u001b[0;34m.\u001b[0m\u001b[0mfillna\u001b[0m\u001b[0;34m(\u001b[0m\u001b[0mtest\u001b[0m\u001b[0;34m.\u001b[0m\u001b[0mmean\u001b[0m\u001b[0;34m(\u001b[0m\u001b[0;34m)\u001b[0m\u001b[0;34m)\u001b[0m\u001b[0;34m\u001b[0m\u001b[0;34m\u001b[0m\u001b[0m\n\u001b[0;32m----> 9\u001b[0;31m \u001b[0mrfpreds_test\u001b[0m \u001b[0;34m=\u001b[0m \u001b[0mregr\u001b[0m\u001b[0;34m.\u001b[0m\u001b[0mpredict\u001b[0m\u001b[0;34m(\u001b[0m\u001b[0mtest\u001b[0m\u001b[0;34m.\u001b[0m\u001b[0mdrop\u001b[0m\u001b[0;34m(\u001b[0m\u001b[0;34m[\u001b[0m\u001b[0;34m'sale_price'\u001b[0m\u001b[0;34m]\u001b[0m\u001b[0;34m,\u001b[0m \u001b[0maxis\u001b[0m\u001b[0;34m=\u001b[0m\u001b[0;36m1\u001b[0m\u001b[0;34m)\u001b[0m\u001b[0;34m)\u001b[0m\u001b[0;34m\u001b[0m\u001b[0;34m\u001b[0m\u001b[0m\n\u001b[0m\u001b[1;32m     10\u001b[0m \u001b[0mmean_squared_error\u001b[0m\u001b[0;34m(\u001b[0m\u001b[0mtest\u001b[0m\u001b[0;34m[\u001b[0m\u001b[0;34m'sale_price'\u001b[0m\u001b[0;34m]\u001b[0m\u001b[0;34m,\u001b[0m \u001b[0mrfpreds\u001b[0m\u001b[0;34m)\u001b[0m\u001b[0;34m\u001b[0m\u001b[0;34m\u001b[0m\u001b[0m\n",
      "\u001b[0;32m/opt/conda/lib/python3.7/site-packages/sklearn/ensemble/_forest.py\u001b[0m in \u001b[0;36mpredict\u001b[0;34m(self, X)\u001b[0m\n\u001b[1;32m    781\u001b[0m         \u001b[0mcheck_is_fitted\u001b[0m\u001b[0;34m(\u001b[0m\u001b[0mself\u001b[0m\u001b[0;34m)\u001b[0m\u001b[0;34m\u001b[0m\u001b[0;34m\u001b[0m\u001b[0m\n\u001b[1;32m    782\u001b[0m         \u001b[0;31m# Check data\u001b[0m\u001b[0;34m\u001b[0m\u001b[0;34m\u001b[0m\u001b[0;34m\u001b[0m\u001b[0m\n\u001b[0;32m--> 783\u001b[0;31m         \u001b[0mX\u001b[0m \u001b[0;34m=\u001b[0m \u001b[0mself\u001b[0m\u001b[0;34m.\u001b[0m\u001b[0m_validate_X_predict\u001b[0m\u001b[0;34m(\u001b[0m\u001b[0mX\u001b[0m\u001b[0;34m)\u001b[0m\u001b[0;34m\u001b[0m\u001b[0;34m\u001b[0m\u001b[0m\n\u001b[0m\u001b[1;32m    784\u001b[0m \u001b[0;34m\u001b[0m\u001b[0m\n\u001b[1;32m    785\u001b[0m         \u001b[0;31m# Assign chunk of trees to jobs\u001b[0m\u001b[0;34m\u001b[0m\u001b[0;34m\u001b[0m\u001b[0;34m\u001b[0m\u001b[0m\n",
      "\u001b[0;32m/opt/conda/lib/python3.7/site-packages/sklearn/ensemble/_forest.py\u001b[0m in \u001b[0;36m_validate_X_predict\u001b[0;34m(self, X)\u001b[0m\n\u001b[1;32m    419\u001b[0m         \u001b[0mcheck_is_fitted\u001b[0m\u001b[0;34m(\u001b[0m\u001b[0mself\u001b[0m\u001b[0;34m)\u001b[0m\u001b[0;34m\u001b[0m\u001b[0;34m\u001b[0m\u001b[0m\n\u001b[1;32m    420\u001b[0m \u001b[0;34m\u001b[0m\u001b[0m\n\u001b[0;32m--> 421\u001b[0;31m         \u001b[0;32mreturn\u001b[0m \u001b[0mself\u001b[0m\u001b[0;34m.\u001b[0m\u001b[0mestimators_\u001b[0m\u001b[0;34m[\u001b[0m\u001b[0;36m0\u001b[0m\u001b[0;34m]\u001b[0m\u001b[0;34m.\u001b[0m\u001b[0m_validate_X_predict\u001b[0m\u001b[0;34m(\u001b[0m\u001b[0mX\u001b[0m\u001b[0;34m,\u001b[0m \u001b[0mcheck_input\u001b[0m\u001b[0;34m=\u001b[0m\u001b[0;32mTrue\u001b[0m\u001b[0;34m)\u001b[0m\u001b[0;34m\u001b[0m\u001b[0;34m\u001b[0m\u001b[0m\n\u001b[0m\u001b[1;32m    422\u001b[0m \u001b[0;34m\u001b[0m\u001b[0m\n\u001b[1;32m    423\u001b[0m     \u001b[0;34m@\u001b[0m\u001b[0mproperty\u001b[0m\u001b[0;34m\u001b[0m\u001b[0;34m\u001b[0m\u001b[0m\n",
      "\u001b[0;32m/opt/conda/lib/python3.7/site-packages/sklearn/tree/_classes.py\u001b[0m in \u001b[0;36m_validate_X_predict\u001b[0;34m(self, X, check_input)\u001b[0m\n\u001b[1;32m    397\u001b[0m                              \u001b[0;34m\"match the input. Model n_features is %s and \"\u001b[0m\u001b[0;34m\u001b[0m\u001b[0;34m\u001b[0m\u001b[0m\n\u001b[1;32m    398\u001b[0m                              \u001b[0;34m\"input n_features is %s \"\u001b[0m\u001b[0;34m\u001b[0m\u001b[0;34m\u001b[0m\u001b[0m\n\u001b[0;32m--> 399\u001b[0;31m                              % (self.n_features_, n_features))\n\u001b[0m\u001b[1;32m    400\u001b[0m \u001b[0;34m\u001b[0m\u001b[0m\n\u001b[1;32m    401\u001b[0m         \u001b[0;32mreturn\u001b[0m \u001b[0mX\u001b[0m\u001b[0;34m\u001b[0m\u001b[0;34m\u001b[0m\u001b[0m\n",
      "\u001b[0;31mValueError\u001b[0m: Number of features of the model must match the input. Model n_features is 64 and input n_features is 66 "
     ]
    }
   ],
   "source": [
    "# convert categorical variables to dummy variables and add dummy variables to data frame\n",
    "cat_vars = test[['basements','category_code_description','street_designation',\n",
    "               'topography', 'view_type']]\n",
    "cat_dummies = pd.get_dummies(cat_vars, drop_first=True)\n",
    "test = test.drop(['basements','category_code_description','street_designation',\n",
    "               'topography', 'view_type'], axis=1)\n",
    "test = pd.concat([test, cat_dummies], axis=1)\n",
    "test = test.fillna(test.mean())\n",
    "rfpreds_test = regr.predict(test.drop(['sale_price'], axis=1))\n",
    "mean_squared_error(test['sale_price'], rfpreds)"
   ]
  },
  {
   "cell_type": "code",
   "execution_count": 75,
   "metadata": {},
   "outputs": [
    {
     "data": {
      "text/plain": [
       "ST      177010\n",
       "AVE      32703\n",
       "RD       12143\n",
       "LA        3139\n",
       "DR        2487\n",
       "PL        2288\n",
       "SQ        1288\n",
       "BLV       1001\n",
       "CT         775\n",
       "TER        716\n",
       "WAY        659\n",
       "LN         526\n",
       "CIR        348\n",
       "PK         164\n",
       "PKY        117\n",
       "BLVD       108\n",
       "PLZ         66\n",
       "MEW         33\n",
       "ALY         27\n",
       "PIKE        25\n",
       "WLK         14\n",
       "PKWY         9\n",
       "MEWS         7\n",
       "ROW          4\n",
       "WALK         4\n",
       "HTS          3\n",
       "PTH          2\n",
       "PATH         2\n",
       "Name: street_designation, dtype: int64"
      ]
     },
     "execution_count": 75,
     "metadata": {},
     "output_type": "execute_result"
    }
   ],
   "source": [
    "dat['street_designation'].value_counts()"
   ]
  },
  {
   "cell_type": "code",
   "execution_count": 72,
   "metadata": {},
   "outputs": [
    {
     "data": {
      "text/plain": [
       "(37500, 67)"
      ]
     },
     "execution_count": 72,
     "metadata": {},
     "output_type": "execute_result"
    }
   ],
   "source": [
    "test.shape"
   ]
  },
  {
   "cell_type": "code",
   "execution_count": 73,
   "metadata": {},
   "outputs": [
    {
     "data": {
      "text/plain": [
       "(198168, 65)"
      ]
     },
     "execution_count": 73,
     "metadata": {},
     "output_type": "execute_result"
    }
   ],
   "source": [
    "train.shape"
   ]
  },
  {
   "cell_type": "code",
   "execution_count": 74,
   "metadata": {},
   "outputs": [
    {
     "data": {
      "text/html": [
       "<div>\n",
       "<style scoped>\n",
       "    .dataframe tbody tr th:only-of-type {\n",
       "        vertical-align: middle;\n",
       "    }\n",
       "\n",
       "    .dataframe tbody tr th {\n",
       "        vertical-align: top;\n",
       "    }\n",
       "\n",
       "    .dataframe thead th {\n",
       "        text-align: right;\n",
       "    }\n",
       "</style>\n",
       "<table border=\"1\" class=\"dataframe\">\n",
       "  <thead>\n",
       "    <tr style=\"text-align: right;\">\n",
       "      <th></th>\n",
       "      <th>street_designation_MEWS</th>\n",
       "      <th>street_designation_PATH</th>\n",
       "      <th>street_designation_PIKE</th>\n",
       "    </tr>\n",
       "  </thead>\n",
       "  <tbody>\n",
       "    <tr>\n",
       "      <th>0</th>\n",
       "      <td>0</td>\n",
       "      <td>0</td>\n",
       "      <td>0</td>\n",
       "    </tr>\n",
       "    <tr>\n",
       "      <th>1</th>\n",
       "      <td>0</td>\n",
       "      <td>0</td>\n",
       "      <td>0</td>\n",
       "    </tr>\n",
       "    <tr>\n",
       "      <th>2</th>\n",
       "      <td>0</td>\n",
       "      <td>0</td>\n",
       "      <td>0</td>\n",
       "    </tr>\n",
       "    <tr>\n",
       "      <th>3</th>\n",
       "      <td>0</td>\n",
       "      <td>0</td>\n",
       "      <td>0</td>\n",
       "    </tr>\n",
       "    <tr>\n",
       "      <th>9</th>\n",
       "      <td>0</td>\n",
       "      <td>0</td>\n",
       "      <td>0</td>\n",
       "    </tr>\n",
       "    <tr>\n",
       "      <th>...</th>\n",
       "      <td>...</td>\n",
       "      <td>...</td>\n",
       "      <td>...</td>\n",
       "    </tr>\n",
       "    <tr>\n",
       "      <th>580547</th>\n",
       "      <td>0</td>\n",
       "      <td>0</td>\n",
       "      <td>0</td>\n",
       "    </tr>\n",
       "    <tr>\n",
       "      <th>580637</th>\n",
       "      <td>0</td>\n",
       "      <td>0</td>\n",
       "      <td>0</td>\n",
       "    </tr>\n",
       "    <tr>\n",
       "      <th>580840</th>\n",
       "      <td>0</td>\n",
       "      <td>0</td>\n",
       "      <td>0</td>\n",
       "    </tr>\n",
       "    <tr>\n",
       "      <th>580978</th>\n",
       "      <td>0</td>\n",
       "      <td>0</td>\n",
       "      <td>0</td>\n",
       "    </tr>\n",
       "    <tr>\n",
       "      <th>581178</th>\n",
       "      <td>0</td>\n",
       "      <td>0</td>\n",
       "      <td>0</td>\n",
       "    </tr>\n",
       "  </tbody>\n",
       "</table>\n",
       "<p>37500 rows × 3 columns</p>\n",
       "</div>"
      ],
      "text/plain": [
       "        street_designation_MEWS  street_designation_PATH  \\\n",
       "0                             0                        0   \n",
       "1                             0                        0   \n",
       "2                             0                        0   \n",
       "3                             0                        0   \n",
       "9                             0                        0   \n",
       "...                         ...                      ...   \n",
       "580547                        0                        0   \n",
       "580637                        0                        0   \n",
       "580840                        0                        0   \n",
       "580978                        0                        0   \n",
       "581178                        0                        0   \n",
       "\n",
       "        street_designation_PIKE  \n",
       "0                             0  \n",
       "1                             0  \n",
       "2                             0  \n",
       "3                             0  \n",
       "9                             0  \n",
       "...                         ...  \n",
       "580547                        0  \n",
       "580637                        0  \n",
       "580840                        0  \n",
       "580978                        0  \n",
       "581178                        0  \n",
       "\n",
       "[37500 rows x 3 columns]"
      ]
     },
     "execution_count": 74,
     "metadata": {},
     "output_type": "execute_result"
    }
   ],
   "source": [
    "test[test.columns.difference(train.columns)]"
   ]
  },
  {
   "cell_type": "code",
   "execution_count": 46,
   "metadata": {},
   "outputs": [
    {
     "name": "stdout",
     "output_type": "stream",
     "text": [
      "[14:49:50] WARNING: /workspace/src/objective/regression_obj.cu:170: reg:linear is now deprecated in favor of reg:squarederror.\n",
      "[14:49:50] WARNING: /workspace/src/objective/regression_obj.cu:170: reg:linear is now deprecated in favor of reg:squarederror.\n"
     ]
    }
   ],
   "source": [
    "xg_reg.fit(train.drop(['sale_price'], axis=1),\n",
    "            train['sale_price'])\n",
    "\n",
    "preds = xg_reg.predict(train.drop(['sale_price'], axis=1))"
   ]
  },
  {
   "cell_type": "code",
   "execution_count": 47,
   "metadata": {},
   "outputs": [
    {
     "data": {
      "text/plain": [
       "66349189183.271286"
      ]
     },
     "execution_count": 47,
     "metadata": {},
     "output_type": "execute_result"
    }
   ],
   "source": [
    "from sklearn.metrics import mean_squared_error\n",
    "mean_squared_error(train['sale_price'], preds)"
   ]
  },
  {
   "cell_type": "markdown",
   "metadata": {},
   "source": [
    "We then pickle the dataset for later use and easy loading:    "
   ]
  },
  {
   "cell_type": "code",
   "execution_count": null,
   "metadata": {},
   "outputs": [],
   "source": [
    "pickle_out = open(\"housedat.pickle\",\"wb\")\n",
    "pickle.dump(dat, pickle_out)\n",
    "pickle_out.close()"
   ]
  },
  {
   "cell_type": "markdown",
   "metadata": {},
   "source": [
    "possible predictions datasets:   \n",
    "https://www.kaggle.com/datasets/harlfoxem/housesalesprediction     \n",
    "https://github.com/michellesklee/predicting_home_values    "
   ]
  }
 ],
 "metadata": {
  "kernelspec": {
   "display_name": "Python 3",
   "language": "python",
   "name": "python3"
  },
  "language_info": {
   "codemirror_mode": {
    "name": "ipython",
    "version": 3
   },
   "file_extension": ".py",
   "mimetype": "text/x-python",
   "name": "python",
   "nbconvert_exporter": "python",
   "pygments_lexer": "ipython3",
   "version": "3.7.8"
  }
 },
 "nbformat": 4,
 "nbformat_minor": 4
}
